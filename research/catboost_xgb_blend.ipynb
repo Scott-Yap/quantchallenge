{
 "cells": [
  {
   "cell_type": "code",
   "execution_count": null,
   "id": "664c1251",
   "metadata": {},
   "outputs": [],
   "source": [
    "import sys, xgboost as xgb, sklearn\n",
    "print(\"Python:\", sys.executable)\n",
    "print(\"xgboost:\", xgb.__version__)\n",
    "print(\"scikit-learn:\", sklearn.__version__)"
   ]
  },
  {
   "cell_type": "code",
   "execution_count": null,
   "id": "b6297f24",
   "metadata": {},
   "outputs": [],
   "source": [
    "# Run these in a notebook cell (so it targets the active kernel)\n",
    "%pip install -U \"xgboost>=2.0.0\" \"scikit-learn>=1.3\" \"numpy>=1.23\" \"scipy>=1.7\""
   ]
  },
  {
   "cell_type": "code",
   "execution_count": null,
   "id": "09365180",
   "metadata": {},
   "outputs": [],
   "source": [
    "import xgboost as xgb, sklearn, inspect\n",
    "print(\"xgboost:\", xgb.__version__)\n",
    "print(\"scikit-learn:\", sklearn.__version__)\n",
    "print(\"early_stopping_rounds in XGBRegressor.fit:\",\n",
    "      'early_stopping_rounds' in inspect.signature(xgb.XGBRegressor.fit).parameters)\n",
    "print(\"eval_metric in XGBRegressor.__init__:\",\n",
    "      'eval_metric' in inspect.signature(xgb.XGBRegressor.__init__).parameters)"
   ]
  },
  {
   "cell_type": "code",
   "execution_count": null,
   "id": "c5dc8f73",
   "metadata": {},
   "outputs": [],
   "source": [
    "# %pip install optuna\n",
    "%pip install -U scikit-learn"
   ]
  },
  {
   "cell_type": "code",
   "execution_count": null,
   "id": "92a1bb21",
   "metadata": {},
   "outputs": [],
   "source": [
    "%pip install nbformat"
   ]
  },
  {
   "cell_type": "code",
   "execution_count": 3,
   "id": "cc3e283c",
   "metadata": {},
   "outputs": [],
   "source": [
    "import warnings, json\n",
    "warnings.filterwarnings(\"ignore\")\n",
    "\n",
    "import numpy as np\n",
    "import pandas as pd\n",
    "\n",
    "from sklearn.linear_model import Ridge\n",
    "from sklearn.model_selection import KFold, TimeSeriesSplit\n",
    "from sklearn.metrics import r2_score, mean_squared_error\n",
    "from catboost import CatBoostRegressor, Pool\n",
    "\n",
    "import optuna\n",
    "import xgboost as xgb\n",
    "from xgboost.callback import EarlyStopping as XgbEarlyStopping\n",
    "\n",
    "import optuna.visualization as vis\n"
   ]
  },
  {
   "cell_type": "code",
   "execution_count": 4,
   "id": "d343a9ba",
   "metadata": {},
   "outputs": [],
   "source": [
    "# Config\n",
    "\n",
    "RANDOM_STATE = 42\n",
    "N_SPLITS = 5\n",
    "EARLY_STOP = 200\n",
    "VERBOSE_TUNE = 0\n",
    "\n",
    "CV_KIND = 'timeseries'\n",
    "SHUFFLE = False\n",
    "\n",
    "np.random.seed(RANDOM_STATE)"
   ]
  },
  {
   "cell_type": "code",
   "execution_count": 5,
   "id": "40c98fd0",
   "metadata": {},
   "outputs": [],
   "source": [
    "TRAIN_PATH = \"./data/train_combined.csv\"\n",
    "TEST_PATH = \"./data/test_combined.csv\"\n",
    "ID_COL = \"id\"\n",
    "\n",
    "TARGETS = [\"Y1\", \"Y2\"]\n",
    "DROP_COLS = [ID_COL]\n"
   ]
  },
  {
   "cell_type": "code",
   "execution_count": 6,
   "id": "85a40aa6",
   "metadata": {},
   "outputs": [],
   "source": [
    "df_train = pd.read_csv(TRAIN_PATH)\n",
    "df_test = pd.read_csv(TEST_PATH)\n",
    "\n",
    "feature_cols = [c for c in df_train.columns if c not in set(TARGETS + DROP_COLS)]\n",
    "cat_cols = []\n",
    "num_cols = [c for c in feature_cols]\n",
    "\n",
    "X = df_train[feature_cols].reset_index(drop=True)\n",
    "test_X = df_test[feature_cols].reset_index(drop=True)\n",
    "Y = {t: df_train[t].reset_index(drop=True) for t in TARGETS}\n",
    "cat_idx = []"
   ]
  },
  {
   "cell_type": "code",
   "execution_count": 7,
   "id": "040150eb",
   "metadata": {},
   "outputs": [],
   "source": [
    "def get_cv():\n",
    "    if CV_KIND == \"timeseries\":\n",
    "        return TimeSeriesSplit(n_splits=N_SPLITS)\n",
    "    return KFold(n_splits=N_SPLITS, shuffle=SHUFFLE, random_state=RANDOM_STATE)\n",
    "\n",
    "cv = get_cv()"
   ]
  },
  {
   "cell_type": "code",
   "execution_count": 8,
   "id": "4a54f165",
   "metadata": {},
   "outputs": [],
   "source": [
    "def tune_catboost_for_target(y_col, n_trials=60, use_gpu=False):\n",
    "    y = Y[y_col]\n",
    "\n",
    "    def objective(trial):\n",
    "        params = {\n",
    "            \"loss_function\": \"RMSE\",\n",
    "            \"eval_metric\": \"R2\",\n",
    "            \"depth\": trial.suggest_int(\"depth\", 4, 10),\n",
    "            \"learning_rate\": trial.suggest_float(\"learning_rate\", 0.01, 0.3, log=True),\n",
    "            \"l2_leaf_reg\": trial.suggest_float(\"l2_leaf_reg\", 1.0, 20.0, log=True),\n",
    "            \"bagging_temperature\": trial.suggest_float(\"bagging_temperature\", 0.0, 5.0),\n",
    "            \"random_strength\": trial.suggest_float(\"random_strength\", 0.0, 2.0),\n",
    "            \"min_data_in_leaf\": trial.suggest_int(\"min_data_in_leaf\", 1, 64),\n",
    "            \"n_estimators\": trial.suggest_int(\"n_estimators\", 800, 2500, step=100),\n",
    "            \"allow_writing_files\": False,\n",
    "            \"random_state\": RANDOM_STATE,\n",
    "            \"verbose\": VERBOSE_TUNE\n",
    "        }\n",
    "        if use_gpu:\n",
    "            params[\"task_type\"] = \"GPU\"\n",
    "\n",
    "        scores = []\n",
    "        for fold, (tr_idx, va_idx) in enumerate(cv.split(X, y)):\n",
    "            X_tr, X_va = X.iloc[tr_idx], X.iloc[va_idx]\n",
    "            y_tr, y_va = y.iloc[tr_idx], y.iloc[va_idx]\n",
    "\n",
    "            model = CatBoostRegressor(**params)\n",
    "            model.fit(\n",
    "                X_tr, y_tr,\n",
    "                cat_features=[],\n",
    "                eval_set=(X_va, y_va),\n",
    "                early_stopping_rounds=EARLY_STOP,\n",
    "            )\n",
    "            pred = model.predict(X_va)\n",
    "            scores.append(r2_score(y_va, pred))\n",
    "\n",
    "            trial.report(float(np.mean(scores)), step=fold)\n",
    "            if trial.should_prune():\n",
    "                raise optuna.TrialPruned()\n",
    "        return float(np.mean(scores))\n",
    "\n",
    "    study = optuna.create_study(direction=\"maximize\", sampler=optuna.samplers.TPESampler(seed=RANDOM_STATE), pruner=optuna.pruners.MedianPruner(n_warmup_steps=1))\n",
    "\n",
    "    study.optimize(objective, n_trials=n_trials, n_jobs=1, show_progress_bar=True)\n",
    "\n",
    "    return study\n"
   ]
  },
  {
   "cell_type": "code",
   "execution_count": 9,
   "id": "51b43e7b",
   "metadata": {},
   "outputs": [
    {
     "name": "stderr",
     "output_type": "stream",
     "text": [
      "[I 2025-09-22 21:12:20,055] A new study created in memory with name: no-name-8e61c97f-583b-426d-b0d8-2280bfd7ab19\n"
     ]
    },
    {
     "name": "stdout",
     "output_type": "stream",
     "text": [
      "=== Tuning CatBoost for Y1 ===\n"
     ]
    },
    {
     "name": "stderr",
     "output_type": "stream",
     "text": [
      "Best trial: 0. Best value: 0.723339:   0%|          | 1/200 [00:02<09:28,  2.86s/it]"
     ]
    },
    {
     "name": "stdout",
     "output_type": "stream",
     "text": [
      "[I 2025-09-22 21:12:22,929] Trial 0 finished with value: 0.7233392515965729 and parameters: {'depth': 6, 'learning_rate': 0.2536999076681771, 'l2_leaf_reg': 8.960785365368121, 'bagging_temperature': 2.993292420985183, 'random_strength': 0.31203728088487304, 'min_data_in_leaf': 10, 'n_estimators': 900}. Best is trial 0 with value: 0.7233392515965729.\n"
     ]
    },
    {
     "name": "stderr",
     "output_type": "stream",
     "text": [
      "Best trial: 1. Best value: 0.727075:   1%|          | 2/200 [00:18<34:14, 10.38s/it]"
     ]
    },
    {
     "name": "stdout",
     "output_type": "stream",
     "text": [
      "[I 2025-09-22 21:12:38,570] Trial 1 finished with value: 0.7270747995790477 and parameters: {'depth': 10, 'learning_rate': 0.07725378389307355, 'l2_leaf_reg': 8.341106432362084, 'bagging_temperature': 0.10292247147901223, 'random_strength': 1.9398197043239886, 'min_data_in_leaf': 54, 'n_estimators': 1100}. Best is trial 1 with value: 0.7270747995790477.\n"
     ]
    },
    {
     "name": "stderr",
     "output_type": "stream",
     "text": [
      "Best trial: 1. Best value: 0.727075:   2%|▏         | 3/200 [00:24<27:21,  8.33s/it]"
     ]
    },
    {
     "name": "stdout",
     "output_type": "stream",
     "text": [
      "[I 2025-09-22 21:12:44,475] Trial 2 finished with value: 0.7268974058363451 and parameters: {'depth': 5, 'learning_rate': 0.018659959624904923, 'l2_leaf_reg': 2.4878734419814426, 'bagging_temperature': 2.6237821581611893, 'random_strength': 0.8638900372842315, 'min_data_in_leaf': 19, 'n_estimators': 1900}. Best is trial 1 with value: 0.7270747995790477.\n"
     ]
    },
    {
     "name": "stderr",
     "output_type": "stream",
     "text": [
      "Best trial: 1. Best value: 0.727075:   2%|▏         | 4/200 [00:29<22:29,  6.89s/it]"
     ]
    },
    {
     "name": "stdout",
     "output_type": "stream",
     "text": [
      "[I 2025-09-22 21:12:49,142] Trial 3 finished with value: 0.727059763232272 and parameters: {'depth': 4, 'learning_rate': 0.027010527749605478, 'l2_leaf_reg': 2.9967309097101573, 'bagging_temperature': 2.28034992108518, 'random_strength': 1.5703519227860272, 'min_data_in_leaf': 13, 'n_estimators': 1700}. Best is trial 1 with value: 0.7270747995790477.\n"
     ]
    },
    {
     "name": "stderr",
     "output_type": "stream",
     "text": [
      "Best trial: 4. Best value: 0.729431:   2%|▎         | 5/200 [00:43<31:06,  9.57s/it]"
     ]
    },
    {
     "name": "stdout",
     "output_type": "stream",
     "text": [
      "[I 2025-09-22 21:13:03,482] Trial 4 finished with value: 0.7294313225236095 and parameters: {'depth': 8, 'learning_rate': 0.011711509955524094, 'l2_leaf_reg': 6.172115948107071, 'bagging_temperature': 0.8526206184364576, 'random_strength': 0.13010318597055903, 'min_data_in_leaf': 61, 'n_estimators': 2500}. Best is trial 4 with value: 0.7294313225236095.\n"
     ]
    },
    {
     "name": "stderr",
     "output_type": "stream",
     "text": [
      "Best trial: 4. Best value: 0.729431:   3%|▎         | 6/200 [00:51<29:39,  9.17s/it]"
     ]
    },
    {
     "name": "stdout",
     "output_type": "stream",
     "text": [
      "[I 2025-09-22 21:13:11,874] Trial 5 pruned. \n"
     ]
    },
    {
     "name": "stderr",
     "output_type": "stream",
     "text": [
      "Best trial: 4. Best value: 0.729431:   4%|▎         | 7/200 [00:52<20:47,  6.46s/it]"
     ]
    },
    {
     "name": "stdout",
     "output_type": "stream",
     "text": [
      "[I 2025-09-22 21:13:12,755] Trial 6 pruned. \n"
     ]
    },
    {
     "name": "stderr",
     "output_type": "stream",
     "text": [
      "Best trial: 4. Best value: 0.729431:   4%|▍         | 8/200 [00:53<14:42,  4.60s/it]"
     ]
    },
    {
     "name": "stdout",
     "output_type": "stream",
     "text": [
      "[I 2025-09-22 21:13:13,364] Trial 7 pruned. \n"
     ]
    },
    {
     "name": "stderr",
     "output_type": "stream",
     "text": [
      "Best trial: 4. Best value: 0.729431:   4%|▍         | 9/200 [00:54<11:43,  3.69s/it]"
     ]
    },
    {
     "name": "stdout",
     "output_type": "stream",
     "text": [
      "[I 2025-09-22 21:13:15,042] Trial 8 pruned. \n"
     ]
    },
    {
     "name": "stderr",
     "output_type": "stream",
     "text": [
      "Best trial: 9. Best value: 0.729942:   5%|▌         | 10/200 [01:02<15:20,  4.85s/it]"
     ]
    },
    {
     "name": "stdout",
     "output_type": "stream",
     "text": [
      "[I 2025-09-22 21:13:22,483] Trial 9 finished with value: 0.7299420341745597 and parameters: {'depth': 6, 'learning_rate': 0.026000059117302653, 'l2_leaf_reg': 5.0823419597214565, 'bagging_temperature': 0.7046211248738132, 'random_strength': 1.6043939615080793, 'min_data_in_leaf': 5, 'n_estimators': 2500}. Best is trial 9 with value: 0.7299420341745597.\n"
     ]
    },
    {
     "name": "stderr",
     "output_type": "stream",
     "text": [
      "Best trial: 9. Best value: 0.729942:   6%|▌         | 11/200 [01:08<16:50,  5.34s/it]"
     ]
    },
    {
     "name": "stdout",
     "output_type": "stream",
     "text": [
      "[I 2025-09-22 21:13:28,958] Trial 10 finished with value: 0.7295174312733061 and parameters: {'depth': 7, 'learning_rate': 0.06663408467875924, 'l2_leaf_reg': 18.255631599020624, 'bagging_temperature': 0.08980937807409806, 'random_strength': 1.3662144854358937, 'min_data_in_leaf': 3, 'n_estimators': 1300}. Best is trial 9 with value: 0.7299420341745597.\n"
     ]
    },
    {
     "name": "stderr",
     "output_type": "stream",
     "text": [
      "Best trial: 11. Best value: 0.729944:   6%|▌         | 12/200 [01:16<18:31,  5.91s/it]"
     ]
    },
    {
     "name": "stdout",
     "output_type": "stream",
     "text": [
      "[I 2025-09-22 21:13:36,164] Trial 11 finished with value: 0.7299441286134861 and parameters: {'depth': 7, 'learning_rate': 0.06962550818742679, 'l2_leaf_reg': 19.76772754504441, 'bagging_temperature': 0.043736834843053324, 'random_strength': 1.3544088294878818, 'min_data_in_leaf': 2, 'n_estimators': 1300}. Best is trial 11 with value: 0.7299441286134861.\n"
     ]
    },
    {
     "name": "stderr",
     "output_type": "stream",
     "text": [
      "Best trial: 11. Best value: 0.729944:   6%|▋         | 13/200 [01:20<16:35,  5.32s/it]"
     ]
    },
    {
     "name": "stdout",
     "output_type": "stream",
     "text": [
      "[I 2025-09-22 21:13:40,137] Trial 12 finished with value: 0.7283563070417203 and parameters: {'depth': 7, 'learning_rate': 0.11283053549456079, 'l2_leaf_reg': 19.501130710783073, 'bagging_temperature': 1.0892679191816859, 'random_strength': 1.2964237434180388, 'min_data_in_leaf': 1, 'n_estimators': 1300}. Best is trial 11 with value: 0.7299441286134861.\n"
     ]
    },
    {
     "name": "stderr",
     "output_type": "stream",
     "text": [
      "Best trial: 11. Best value: 0.729944:   7%|▋         | 14/200 [01:21<13:01,  4.20s/it]"
     ]
    },
    {
     "name": "stdout",
     "output_type": "stream",
     "text": [
      "[I 2025-09-22 21:13:41,750] Trial 13 pruned. \n"
     ]
    },
    {
     "name": "stderr",
     "output_type": "stream",
     "text": [
      "Best trial: 11. Best value: 0.729944:   8%|▊         | 15/200 [01:23<11:11,  3.63s/it]"
     ]
    },
    {
     "name": "stdout",
     "output_type": "stream",
     "text": [
      "[I 2025-09-22 21:13:44,047] Trial 14 pruned. \n"
     ]
    },
    {
     "name": "stderr",
     "output_type": "stream",
     "text": [
      "Best trial: 11. Best value: 0.729944:   8%|▊         | 16/200 [01:27<11:26,  3.73s/it]"
     ]
    },
    {
     "name": "stdout",
     "output_type": "stream",
     "text": [
      "[I 2025-09-22 21:13:48,023] Trial 15 finished with value: 0.7287007155333313 and parameters: {'depth': 6, 'learning_rate': 0.05212654945824021, 'l2_leaf_reg': 5.081012266841248, 'bagging_temperature': 1.6384059530757775, 'random_strength': 1.1685950933555842, 'min_data_in_leaf': 24, 'n_estimators': 800}. Best is trial 11 with value: 0.7299441286134861.\n"
     ]
    },
    {
     "name": "stderr",
     "output_type": "stream",
     "text": [
      "Best trial: 11. Best value: 0.729944:   8%|▊         | 17/200 [01:30<10:27,  3.43s/it]"
     ]
    },
    {
     "name": "stdout",
     "output_type": "stream",
     "text": [
      "[I 2025-09-22 21:13:50,751] Trial 16 pruned. \n"
     ]
    },
    {
     "name": "stderr",
     "output_type": "stream",
     "text": [
      "Best trial: 11. Best value: 0.729944:   9%|▉         | 18/200 [01:32<08:48,  2.91s/it]"
     ]
    },
    {
     "name": "stdout",
     "output_type": "stream",
     "text": [
      "[I 2025-09-22 21:13:52,433] Trial 17 pruned. \n"
     ]
    },
    {
     "name": "stderr",
     "output_type": "stream",
     "text": [
      "Best trial: 11. Best value: 0.729944:  10%|▉         | 19/200 [01:34<08:20,  2.77s/it]"
     ]
    },
    {
     "name": "stdout",
     "output_type": "stream",
     "text": [
      "[I 2025-09-22 21:13:54,873] Trial 18 pruned. \n"
     ]
    },
    {
     "name": "stderr",
     "output_type": "stream",
     "text": [
      "Best trial: 11. Best value: 0.729944:  10%|█         | 20/200 [01:38<08:58,  2.99s/it]"
     ]
    },
    {
     "name": "stdout",
     "output_type": "stream",
     "text": [
      "[I 2025-09-22 21:13:58,391] Trial 19 pruned. \n"
     ]
    },
    {
     "name": "stderr",
     "output_type": "stream",
     "text": [
      "Best trial: 20. Best value: 0.730526:  10%|█         | 21/200 [01:48<14:55,  5.00s/it]"
     ]
    },
    {
     "name": "stdout",
     "output_type": "stream",
     "text": [
      "[I 2025-09-22 21:14:08,082] Trial 20 finished with value: 0.7305264176652801 and parameters: {'depth': 6, 'learning_rate': 0.017848400429127685, 'l2_leaf_reg': 13.161734855583566, 'bagging_temperature': 0.4427465699008106, 'random_strength': 1.733339201119998, 'min_data_in_leaf': 48, 'n_estimators': 1800}. Best is trial 20 with value: 0.7305264176652801.\n"
     ]
    },
    {
     "name": "stderr",
     "output_type": "stream",
     "text": [
      "Best trial: 20. Best value: 0.730526:  11%|█         | 22/200 [01:57<19:06,  6.44s/it]"
     ]
    },
    {
     "name": "stdout",
     "output_type": "stream",
     "text": [
      "[I 2025-09-22 21:14:17,886] Trial 21 finished with value: 0.7296818974282496 and parameters: {'depth': 6, 'learning_rate': 0.015646775363714505, 'l2_leaf_reg': 14.555594200324766, 'bagging_temperature': 0.5576685409590393, 'random_strength': 1.7349899841754342, 'min_data_in_leaf': 50, 'n_estimators': 1100}. Best is trial 20 with value: 0.7305264176652801.\n"
     ]
    },
    {
     "name": "stderr",
     "output_type": "stream",
     "text": [
      "Best trial: 20. Best value: 0.730526:  12%|█▏        | 23/200 [02:00<15:18,  5.19s/it]"
     ]
    },
    {
     "name": "stdout",
     "output_type": "stream",
     "text": [
      "[I 2025-09-22 21:14:20,148] Trial 22 pruned. \n"
     ]
    },
    {
     "name": "stderr",
     "output_type": "stream",
     "text": [
      "Best trial: 23. Best value: 0.730908:  12%|█▏        | 24/200 [02:09<18:43,  6.38s/it]"
     ]
    },
    {
     "name": "stdout",
     "output_type": "stream",
     "text": [
      "[I 2025-09-22 21:14:29,310] Trial 23 finished with value: 0.7309080346808304 and parameters: {'depth': 7, 'learning_rate': 0.04143777138102744, 'l2_leaf_reg': 18.090927498363513, 'bagging_temperature': 0.626026192463662, 'random_strength': 1.3992004639212332, 'min_data_in_leaf': 61, 'n_estimators': 1800}. Best is trial 23 with value: 0.7309080346808304.\n"
     ]
    },
    {
     "name": "stderr",
     "output_type": "stream",
     "text": [
      "Best trial: 23. Best value: 0.730908:  12%|█▎        | 25/200 [02:18<20:49,  7.14s/it]"
     ]
    },
    {
     "name": "stdout",
     "output_type": "stream",
     "text": [
      "[I 2025-09-22 21:14:38,215] Trial 24 finished with value: 0.7304764082369388 and parameters: {'depth': 7, 'learning_rate': 0.04245785786482569, 'l2_leaf_reg': 17.10029145637962, 'bagging_temperature': 0.3307307039986457, 'random_strength': 1.3853543218826398, 'min_data_in_leaf': 63, 'n_estimators': 1800}. Best is trial 23 with value: 0.7309080346808304.\n"
     ]
    },
    {
     "name": "stderr",
     "output_type": "stream",
     "text": [
      "Best trial: 23. Best value: 0.730908:  13%|█▎        | 26/200 [02:29<24:30,  8.45s/it]"
     ]
    },
    {
     "name": "stdout",
     "output_type": "stream",
     "text": [
      "[I 2025-09-22 21:14:49,724] Trial 25 finished with value: 0.7306748424062369 and parameters: {'depth': 8, 'learning_rate': 0.03821947113494184, 'l2_leaf_reg': 14.395480518745263, 'bagging_temperature': 0.4798034001205508, 'random_strength': 1.0364303865581361, 'min_data_in_leaf': 64, 'n_estimators': 1800}. Best is trial 23 with value: 0.7309080346808304.\n"
     ]
    },
    {
     "name": "stderr",
     "output_type": "stream",
     "text": [
      "Best trial: 23. Best value: 0.730908:  14%|█▎        | 27/200 [02:36<22:54,  7.95s/it]"
     ]
    },
    {
     "name": "stdout",
     "output_type": "stream",
     "text": [
      "[I 2025-09-22 21:14:56,493] Trial 26 pruned. \n"
     ]
    },
    {
     "name": "stderr",
     "output_type": "stream",
     "text": [
      "Best trial: 23. Best value: 0.730908:  14%|█▍        | 28/200 [02:50<28:01,  9.78s/it]"
     ]
    },
    {
     "name": "stdout",
     "output_type": "stream",
     "text": [
      "[I 2025-09-22 21:15:10,542] Trial 27 finished with value: 0.7306837519468183 and parameters: {'depth': 8, 'learning_rate': 0.02215972744023152, 'l2_leaf_reg': 10.386739678825956, 'bagging_temperature': 2.049200328156022, 'random_strength': 1.0599044862943452, 'min_data_in_leaf': 56, 'n_estimators': 1600}. Best is trial 23 with value: 0.7309080346808304.\n"
     ]
    },
    {
     "name": "stderr",
     "output_type": "stream",
     "text": [
      "Best trial: 28. Best value: 0.730911:  14%|█▍        | 29/200 [03:00<28:22,  9.96s/it]"
     ]
    },
    {
     "name": "stdout",
     "output_type": "stream",
     "text": [
      "[I 2025-09-22 21:15:20,923] Trial 28 finished with value: 0.7309105859802081 and parameters: {'depth': 8, 'learning_rate': 0.034821602807385374, 'l2_leaf_reg': 10.46835487975114, 'bagging_temperature': 1.972248821194833, 'random_strength': 1.0537368580549678, 'min_data_in_leaf': 57, 'n_estimators': 1500}. Best is trial 28 with value: 0.7309105859802081.\n"
     ]
    },
    {
     "name": "stderr",
     "output_type": "stream",
     "text": [
      "Best trial: 28. Best value: 0.730911:  15%|█▌        | 30/200 [03:15<32:07, 11.34s/it]"
     ]
    },
    {
     "name": "stdout",
     "output_type": "stream",
     "text": [
      "[I 2025-09-22 21:15:35,471] Trial 29 pruned. \n"
     ]
    },
    {
     "name": "stderr",
     "output_type": "stream",
     "text": [
      "Best trial: 30. Best value: 0.731061:  16%|█▌        | 31/200 [03:27<32:34, 11.56s/it]"
     ]
    },
    {
     "name": "stdout",
     "output_type": "stream",
     "text": [
      "[I 2025-09-22 21:15:47,571] Trial 30 finished with value: 0.7310606472843048 and parameters: {'depth': 8, 'learning_rate': 0.022229048368986634, 'l2_leaf_reg': 10.578712421390701, 'bagging_temperature': 1.9758416264288048, 'random_strength': 0.40336356250088445, 'min_data_in_leaf': 58, 'n_estimators': 1600}. Best is trial 30 with value: 0.7310606472843048.\n"
     ]
    },
    {
     "name": "stderr",
     "output_type": "stream",
     "text": [
      "Best trial: 30. Best value: 0.731061:  16%|█▌        | 32/200 [03:31<25:49,  9.22s/it]"
     ]
    },
    {
     "name": "stdout",
     "output_type": "stream",
     "text": [
      "[I 2025-09-22 21:15:51,324] Trial 31 pruned. \n"
     ]
    },
    {
     "name": "stderr",
     "output_type": "stream",
     "text": [
      "Best trial: 30. Best value: 0.731061:  16%|█▋        | 33/200 [03:42<27:01,  9.71s/it]"
     ]
    },
    {
     "name": "stdout",
     "output_type": "stream",
     "text": [
      "[I 2025-09-22 21:16:02,169] Trial 32 finished with value: 0.7304667326706935 and parameters: {'depth': 9, 'learning_rate': 0.035025314439588714, 'l2_leaf_reg': 8.29161454969242, 'bagging_temperature': 3.1315270416062204, 'random_strength': 0.38671422055592847, 'min_data_in_leaf': 53, 'n_estimators': 1500}. Best is trial 30 with value: 0.7310606472843048.\n"
     ]
    },
    {
     "name": "stderr",
     "output_type": "stream",
     "text": [
      "Best trial: 30. Best value: 0.731061:  17%|█▋        | 34/200 [03:49<25:12,  9.11s/it]"
     ]
    },
    {
     "name": "stdout",
     "output_type": "stream",
     "text": [
      "[I 2025-09-22 21:16:09,880] Trial 33 finished with value: 0.7304713860786187 and parameters: {'depth': 8, 'learning_rate': 0.03193621400775802, 'l2_leaf_reg': 8.459625071960756, 'bagging_temperature': 1.8743805126082893, 'random_strength': 0.8929344173352048, 'min_data_in_leaf': 59, 'n_estimators': 1400}. Best is trial 30 with value: 0.7310606472843048.\n"
     ]
    },
    {
     "name": "stderr",
     "output_type": "stream",
     "text": [
      "Best trial: 30. Best value: 0.731061:  18%|█▊        | 35/200 [04:08<33:16, 12.10s/it]"
     ]
    },
    {
     "name": "stdout",
     "output_type": "stream",
     "text": [
      "[I 2025-09-22 21:16:28,954] Trial 34 finished with value: 0.7306688380378232 and parameters: {'depth': 9, 'learning_rate': 0.020693168561606162, 'l2_leaf_reg': 15.383680984053573, 'bagging_temperature': 2.462263264250129, 'random_strength': 1.174315753050144, 'min_data_in_leaf': 44, 'n_estimators': 1700}. Best is trial 30 with value: 0.7310606472843048.\n"
     ]
    },
    {
     "name": "stderr",
     "output_type": "stream",
     "text": [
      "Best trial: 30. Best value: 0.731061:  18%|█▊        | 36/200 [04:12<26:17,  9.62s/it]"
     ]
    },
    {
     "name": "stdout",
     "output_type": "stream",
     "text": [
      "[I 2025-09-22 21:16:32,783] Trial 35 pruned. \n"
     ]
    },
    {
     "name": "stderr",
     "output_type": "stream",
     "text": [
      "Best trial: 30. Best value: 0.731061:  18%|█▊        | 37/200 [04:15<20:25,  7.52s/it]"
     ]
    },
    {
     "name": "stdout",
     "output_type": "stream",
     "text": [
      "[I 2025-09-22 21:16:35,410] Trial 36 pruned. \n"
     ]
    },
    {
     "name": "stderr",
     "output_type": "stream",
     "text": [
      "Best trial: 30. Best value: 0.731061:  19%|█▉        | 38/200 [04:36<31:37, 11.71s/it]"
     ]
    },
    {
     "name": "stdout",
     "output_type": "stream",
     "text": [
      "[I 2025-09-22 21:16:56,905] Trial 37 pruned. \n"
     ]
    },
    {
     "name": "stderr",
     "output_type": "stream",
     "text": [
      "Best trial: 30. Best value: 0.731061:  20%|█▉        | 39/200 [04:42<26:32,  9.89s/it]"
     ]
    },
    {
     "name": "stdout",
     "output_type": "stream",
     "text": [
      "[I 2025-09-22 21:17:02,540] Trial 38 pruned. \n"
     ]
    },
    {
     "name": "stderr",
     "output_type": "stream",
     "text": [
      "Best trial: 30. Best value: 0.731061:  20%|██        | 40/200 [04:45<20:34,  7.71s/it]"
     ]
    },
    {
     "name": "stdout",
     "output_type": "stream",
     "text": [
      "[I 2025-09-22 21:17:05,175] Trial 39 pruned. \n"
     ]
    },
    {
     "name": "stderr",
     "output_type": "stream",
     "text": [
      "Best trial: 30. Best value: 0.731061:  20%|██        | 41/200 [05:02<28:07, 10.61s/it]"
     ]
    },
    {
     "name": "stdout",
     "output_type": "stream",
     "text": [
      "[I 2025-09-22 21:17:22,551] Trial 40 finished with value: 0.7305113642431171 and parameters: {'depth': 9, 'learning_rate': 0.024113968760893882, 'l2_leaf_reg': 16.60908611811804, 'bagging_temperature': 2.4440887531389315, 'random_strength': 0.4870291089575435, 'min_data_in_leaf': 61, 'n_estimators': 1400}. Best is trial 30 with value: 0.7310606472843048.\n"
     ]
    },
    {
     "name": "stderr",
     "output_type": "stream",
     "text": [
      "Best trial: 30. Best value: 0.731061:  21%|██        | 42/200 [05:09<25:08,  9.54s/it]"
     ]
    },
    {
     "name": "stdout",
     "output_type": "stream",
     "text": [
      "[I 2025-09-22 21:17:29,604] Trial 41 pruned. \n"
     ]
    },
    {
     "name": "stderr",
     "output_type": "stream",
     "text": [
      "Best trial: 42. Best value: 0.73145:  22%|██▏       | 43/200 [05:19<25:35,  9.78s/it] "
     ]
    },
    {
     "name": "stdout",
     "output_type": "stream",
     "text": [
      "[I 2025-09-22 21:17:39,929] Trial 42 finished with value: 0.7314502489275118 and parameters: {'depth': 8, 'learning_rate': 0.03521457847202722, 'l2_leaf_reg': 11.953878609717396, 'bagging_temperature': 1.476927676906118, 'random_strength': 0.8271063095824431, 'min_data_in_leaf': 63, 'n_estimators': 1600}. Best is trial 42 with value: 0.7314502489275118.\n"
     ]
    },
    {
     "name": "stderr",
     "output_type": "stream",
     "text": [
      "Best trial: 42. Best value: 0.73145:  22%|██▏       | 44/200 [05:24<21:38,  8.32s/it]"
     ]
    },
    {
     "name": "stdout",
     "output_type": "stream",
     "text": [
      "[I 2025-09-22 21:17:44,862] Trial 43 pruned. \n"
     ]
    },
    {
     "name": "stderr",
     "output_type": "stream",
     "text": [
      "Best trial: 42. Best value: 0.73145:  22%|██▎       | 45/200 [05:28<17:45,  6.88s/it]"
     ]
    },
    {
     "name": "stdout",
     "output_type": "stream",
     "text": [
      "[I 2025-09-22 21:17:48,360] Trial 44 pruned. \n"
     ]
    },
    {
     "name": "stderr",
     "output_type": "stream",
     "text": [
      "Best trial: 42. Best value: 0.73145:  23%|██▎       | 46/200 [05:30<14:25,  5.62s/it]"
     ]
    },
    {
     "name": "stdout",
     "output_type": "stream",
     "text": [
      "[I 2025-09-22 21:17:51,042] Trial 45 pruned. \n"
     ]
    },
    {
     "name": "stderr",
     "output_type": "stream",
     "text": [
      "Best trial: 42. Best value: 0.73145:  24%|██▎       | 47/200 [05:43<19:58,  7.83s/it]"
     ]
    },
    {
     "name": "stdout",
     "output_type": "stream",
     "text": [
      "[I 2025-09-22 21:18:04,046] Trial 46 finished with value: 0.731257020431235 and parameters: {'depth': 8, 'learning_rate': 0.03509174633318045, 'l2_leaf_reg': 18.416095386738768, 'bagging_temperature': 1.1659793985596643, 'random_strength': 0.2595688833746519, 'min_data_in_leaf': 52, 'n_estimators': 1700}. Best is trial 42 with value: 0.7314502489275118.\n"
     ]
    },
    {
     "name": "stderr",
     "output_type": "stream",
     "text": [
      "Best trial: 42. Best value: 0.73145:  24%|██▍       | 48/200 [05:51<19:35,  7.73s/it]"
     ]
    },
    {
     "name": "stdout",
     "output_type": "stream",
     "text": [
      "[I 2025-09-22 21:18:11,541] Trial 47 finished with value: 0.7306641771220107 and parameters: {'depth': 7, 'learning_rate': 0.04641863935347574, 'l2_leaf_reg': 17.788751262342576, 'bagging_temperature': 0.8233159719036809, 'random_strength': 0.23474085673735537, 'min_data_in_leaf': 52, 'n_estimators': 1700}. Best is trial 42 with value: 0.7314502489275118.\n"
     ]
    },
    {
     "name": "stderr",
     "output_type": "stream",
     "text": [
      "Best trial: 48. Best value: 0.731769:  24%|██▍       | 49/200 [06:03<22:29,  8.94s/it]"
     ]
    },
    {
     "name": "stdout",
     "output_type": "stream",
     "text": [
      "[I 2025-09-22 21:18:23,285] Trial 48 finished with value: 0.7317694464185809 and parameters: {'depth': 8, 'learning_rate': 0.03407417338071732, 'l2_leaf_reg': 19.217500522643466, 'bagging_temperature': 1.1193073332456267, 'random_strength': 0.03619783482364208, 'min_data_in_leaf': 47, 'n_estimators': 2100}. Best is trial 48 with value: 0.7317694464185809.\n"
     ]
    },
    {
     "name": "stderr",
     "output_type": "stream",
     "text": [
      "Best trial: 48. Best value: 0.731769:  25%|██▌       | 50/200 [06:06<18:27,  7.39s/it]"
     ]
    },
    {
     "name": "stdout",
     "output_type": "stream",
     "text": [
      "[I 2025-09-22 21:18:27,054] Trial 49 pruned. \n"
     ]
    },
    {
     "name": "stderr",
     "output_type": "stream",
     "text": [
      "Best trial: 48. Best value: 0.731769:  26%|██▌       | 51/200 [06:20<22:52,  9.21s/it]"
     ]
    },
    {
     "name": "stdout",
     "output_type": "stream",
     "text": [
      "[I 2025-09-22 21:18:40,523] Trial 50 finished with value: 0.7314916613980504 and parameters: {'depth': 8, 'learning_rate': 0.026273933508591297, 'l2_leaf_reg': 19.641148083488144, 'bagging_temperature': 1.4893999043911366, 'random_strength': 0.150705262739952, 'min_data_in_leaf': 36, 'n_estimators': 2000}. Best is trial 48 with value: 0.7317694464185809.\n"
     ]
    },
    {
     "name": "stderr",
     "output_type": "stream",
     "text": [
      "Best trial: 48. Best value: 0.731769:  26%|██▌       | 52/200 [06:33<25:27, 10.32s/it]"
     ]
    },
    {
     "name": "stdout",
     "output_type": "stream",
     "text": [
      "[I 2025-09-22 21:18:53,430] Trial 51 finished with value: 0.7314202339925362 and parameters: {'depth': 8, 'learning_rate': 0.027481585497296297, 'l2_leaf_reg': 19.2183147888226, 'bagging_temperature': 1.5330472599985792, 'random_strength': 0.19044088426461173, 'min_data_in_leaf': 32, 'n_estimators': 2000}. Best is trial 48 with value: 0.7317694464185809.\n"
     ]
    },
    {
     "name": "stderr",
     "output_type": "stream",
     "text": [
      "Best trial: 52. Best value: 0.731965:  26%|██▋       | 53/200 [06:47<27:52, 11.38s/it]"
     ]
    },
    {
     "name": "stdout",
     "output_type": "stream",
     "text": [
      "[I 2025-09-22 21:19:07,277] Trial 52 finished with value: 0.7319648404316226 and parameters: {'depth': 8, 'learning_rate': 0.027182545092556656, 'l2_leaf_reg': 19.95448551072834, 'bagging_temperature': 1.4859400048066111, 'random_strength': 0.19825652788077663, 'min_data_in_leaf': 33, 'n_estimators': 2100}. Best is trial 52 with value: 0.7319648404316226.\n"
     ]
    },
    {
     "name": "stderr",
     "output_type": "stream",
     "text": [
      "Best trial: 52. Best value: 0.731965:  27%|██▋       | 54/200 [07:01<30:07, 12.38s/it]"
     ]
    },
    {
     "name": "stdout",
     "output_type": "stream",
     "text": [
      "[I 2025-09-22 21:19:22,001] Trial 53 finished with value: 0.7312450002671806 and parameters: {'depth': 8, 'learning_rate': 0.02601274537461842, 'l2_leaf_reg': 19.864078551677476, 'bagging_temperature': 1.481505819226964, 'random_strength': 0.17245131738749248, 'min_data_in_leaf': 32, 'n_estimators': 2100}. Best is trial 52 with value: 0.7319648404316226.\n"
     ]
    },
    {
     "name": "stderr",
     "output_type": "stream",
     "text": [
      "Best trial: 52. Best value: 0.731965:  28%|██▊       | 55/200 [07:13<29:12, 12.09s/it]"
     ]
    },
    {
     "name": "stdout",
     "output_type": "stream",
     "text": [
      "[I 2025-09-22 21:19:33,408] Trial 54 finished with value: 0.73092733082502 and parameters: {'depth': 8, 'learning_rate': 0.027434807004336592, 'l2_leaf_reg': 15.625197380423254, 'bagging_temperature': 1.655103160951667, 'random_strength': 0.11224597042063904, 'min_data_in_leaf': 34, 'n_estimators': 2100}. Best is trial 52 with value: 0.7319648404316226.\n"
     ]
    },
    {
     "name": "stderr",
     "output_type": "stream",
     "text": [
      "Best trial: 52. Best value: 0.731965:  28%|██▊       | 56/200 [07:26<29:54, 12.46s/it]"
     ]
    },
    {
     "name": "stdout",
     "output_type": "stream",
     "text": [
      "[I 2025-09-22 21:19:46,728] Trial 55 pruned. \n"
     ]
    },
    {
     "name": "stderr",
     "output_type": "stream",
     "text": [
      "Best trial: 52. Best value: 0.731965:  28%|██▊       | 57/200 [07:36<27:43, 11.63s/it]"
     ]
    },
    {
     "name": "stdout",
     "output_type": "stream",
     "text": [
      "[I 2025-09-22 21:19:56,434] Trial 56 pruned. \n"
     ]
    },
    {
     "name": "stderr",
     "output_type": "stream",
     "text": [
      "Best trial: 52. Best value: 0.731965:  29%|██▉       | 58/200 [07:52<30:29, 12.88s/it]"
     ]
    },
    {
     "name": "stdout",
     "output_type": "stream",
     "text": [
      "[I 2025-09-22 21:20:12,226] Trial 57 finished with value: 0.7315777987381258 and parameters: {'depth': 8, 'learning_rate': 0.02979913173079141, 'l2_leaf_reg': 17.858675533712194, 'bagging_temperature': 0.8808731983392792, 'random_strength': 0.13542797516832344, 'min_data_in_leaf': 22, 'n_estimators': 2200}. Best is trial 52 with value: 0.7319648404316226.\n"
     ]
    },
    {
     "name": "stderr",
     "output_type": "stream",
     "text": [
      "Best trial: 52. Best value: 0.731965:  30%|██▉       | 59/200 [07:57<24:45, 10.54s/it]"
     ]
    },
    {
     "name": "stdout",
     "output_type": "stream",
     "text": [
      "[I 2025-09-22 21:20:17,301] Trial 58 pruned. \n"
     ]
    },
    {
     "name": "stderr",
     "output_type": "stream",
     "text": [
      "Best trial: 52. Best value: 0.731965:  30%|███       | 60/200 [08:01<20:10,  8.65s/it]"
     ]
    },
    {
     "name": "stdout",
     "output_type": "stream",
     "text": [
      "[I 2025-09-22 21:20:21,535] Trial 59 pruned. \n"
     ]
    },
    {
     "name": "stderr",
     "output_type": "stream",
     "text": [
      "Best trial: 52. Best value: 0.731965:  30%|███       | 61/200 [08:13<22:30,  9.72s/it]"
     ]
    },
    {
     "name": "stdout",
     "output_type": "stream",
     "text": [
      "[I 2025-09-22 21:20:33,743] Trial 60 finished with value: 0.7315113496097787 and parameters: {'depth': 7, 'learning_rate': 0.024479241882855548, 'l2_leaf_reg': 14.348174980528556, 'bagging_temperature': 1.6425209087510897, 'random_strength': 0.47101166605112427, 'min_data_in_leaf': 29, 'n_estimators': 2300}. Best is trial 52 with value: 0.7319648404316226.\n"
     ]
    },
    {
     "name": "stderr",
     "output_type": "stream",
     "text": [
      "Best trial: 52. Best value: 0.731965:  31%|███       | 62/200 [08:23<22:29,  9.78s/it]"
     ]
    },
    {
     "name": "stdout",
     "output_type": "stream",
     "text": [
      "[I 2025-09-22 21:20:43,661] Trial 61 finished with value: 0.7314047219404072 and parameters: {'depth': 7, 'learning_rate': 0.02663006856771314, 'l2_leaf_reg': 13.960198995987735, 'bagging_temperature': 1.6481844893923423, 'random_strength': 0.47138648404841343, 'min_data_in_leaf': 29, 'n_estimators': 2400}. Best is trial 52 with value: 0.7319648404316226.\n"
     ]
    },
    {
     "name": "stderr",
     "output_type": "stream",
     "text": [
      "Best trial: 52. Best value: 0.731965:  32%|███▏      | 63/200 [08:25<16:38,  7.29s/it]"
     ]
    },
    {
     "name": "stdout",
     "output_type": "stream",
     "text": [
      "[I 2025-09-22 21:20:45,153] Trial 62 pruned. \n"
     ]
    },
    {
     "name": "stderr",
     "output_type": "stream",
     "text": [
      "Best trial: 52. Best value: 0.731965:  32%|███▏      | 64/200 [08:28<14:05,  6.22s/it]"
     ]
    },
    {
     "name": "stdout",
     "output_type": "stream",
     "text": [
      "[I 2025-09-22 21:20:48,869] Trial 63 pruned. \n"
     ]
    },
    {
     "name": "stderr",
     "output_type": "stream",
     "text": [
      "Best trial: 52. Best value: 0.731965:  32%|███▎      | 65/200 [08:38<16:03,  7.14s/it]"
     ]
    },
    {
     "name": "stdout",
     "output_type": "stream",
     "text": [
      "[I 2025-09-22 21:20:58,147] Trial 64 pruned. \n"
     ]
    },
    {
     "name": "stderr",
     "output_type": "stream",
     "text": [
      "Best trial: 52. Best value: 0.731965:  33%|███▎      | 66/200 [08:50<19:14,  8.62s/it]"
     ]
    },
    {
     "name": "stdout",
     "output_type": "stream",
     "text": [
      "[I 2025-09-22 21:21:10,212] Trial 65 finished with value: 0.7310777829483002 and parameters: {'depth': 8, 'learning_rate': 0.030520024161472457, 'l2_leaf_reg': 14.68046418122928, 'bagging_temperature': 1.2455472728013774, 'random_strength': 0.31541806364314395, 'min_data_in_leaf': 27, 'n_estimators': 2100}. Best is trial 52 with value: 0.7319648404316226.\n"
     ]
    },
    {
     "name": "stderr",
     "output_type": "stream",
     "text": [
      "Best trial: 52. Best value: 0.731965:  34%|███▎      | 67/200 [08:52<15:15,  6.88s/it]"
     ]
    },
    {
     "name": "stdout",
     "output_type": "stream",
     "text": [
      "[I 2025-09-22 21:21:13,054] Trial 66 pruned. \n"
     ]
    },
    {
     "name": "stderr",
     "output_type": "stream",
     "text": [
      "Best trial: 52. Best value: 0.731965:  34%|███▍      | 68/200 [09:10<22:15, 10.12s/it]"
     ]
    },
    {
     "name": "stdout",
     "output_type": "stream",
     "text": [
      "[I 2025-09-22 21:21:30,726] Trial 67 finished with value: 0.7315739274408035 and parameters: {'depth': 8, 'learning_rate': 0.019389681519427562, 'l2_leaf_reg': 16.243488865246274, 'bagging_temperature': 1.5025391634740988, 'random_strength': 0.4723665346619484, 'min_data_in_leaf': 16, 'n_estimators': 2500}. Best is trial 52 with value: 0.7319648404316226.\n"
     ]
    },
    {
     "name": "stderr",
     "output_type": "stream",
     "text": [
      "Best trial: 52. Best value: 0.731965:  34%|███▍      | 69/200 [09:15<18:35,  8.52s/it]"
     ]
    },
    {
     "name": "stdout",
     "output_type": "stream",
     "text": [
      "[I 2025-09-22 21:21:35,503] Trial 68 pruned. \n"
     ]
    },
    {
     "name": "stderr",
     "output_type": "stream",
     "text": [
      "Best trial: 52. Best value: 0.731965:  35%|███▌      | 70/200 [09:18<15:03,  6.95s/it]"
     ]
    },
    {
     "name": "stdout",
     "output_type": "stream",
     "text": [
      "[I 2025-09-22 21:21:38,802] Trial 69 pruned. \n"
     ]
    },
    {
     "name": "stderr",
     "output_type": "stream",
     "text": [
      "Best trial: 52. Best value: 0.731965:  36%|███▌      | 71/200 [09:20<11:33,  5.38s/it]"
     ]
    },
    {
     "name": "stdout",
     "output_type": "stream",
     "text": [
      "[I 2025-09-22 21:21:40,510] Trial 70 pruned. \n"
     ]
    },
    {
     "name": "stderr",
     "output_type": "stream",
     "text": [
      "Best trial: 52. Best value: 0.731965:  36%|███▌      | 72/200 [09:35<17:24,  8.16s/it]"
     ]
    },
    {
     "name": "stdout",
     "output_type": "stream",
     "text": [
      "[I 2025-09-22 21:21:55,159] Trial 71 finished with value: 0.7309437398158873 and parameters: {'depth': 8, 'learning_rate': 0.025273966272863355, 'l2_leaf_reg': 18.227103997453113, 'bagging_temperature': 1.515720293442794, 'random_strength': 0.19161327170975398, 'min_data_in_leaf': 25, 'n_estimators': 2200}. Best is trial 52 with value: 0.7319648404316226.\n"
     ]
    },
    {
     "name": "stderr",
     "output_type": "stream",
     "text": [
      "Best trial: 52. Best value: 0.731965:  36%|███▋      | 73/200 [09:42<17:00,  8.03s/it]"
     ]
    },
    {
     "name": "stdout",
     "output_type": "stream",
     "text": [
      "[I 2025-09-22 21:22:02,894] Trial 72 finished with value: 0.7310333959344966 and parameters: {'depth': 8, 'learning_rate': 0.03799323758619721, 'l2_leaf_reg': 14.819263537792656, 'bagging_temperature': 0.7601406484253078, 'random_strength': 0.43597160740104607, 'min_data_in_leaf': 34, 'n_estimators': 2500}. Best is trial 52 with value: 0.7319648404316226.\n"
     ]
    },
    {
     "name": "stderr",
     "output_type": "stream",
     "text": [
      "Best trial: 52. Best value: 0.731965:  37%|███▋      | 74/200 [10:04<25:10, 11.99s/it]"
     ]
    },
    {
     "name": "stdout",
     "output_type": "stream",
     "text": [
      "[I 2025-09-22 21:22:24,104] Trial 73 finished with value: 0.7303786637115744 and parameters: {'depth': 9, 'learning_rate': 0.016635133638826734, 'l2_leaf_reg': 12.10215338122647, 'bagging_temperature': 4.989516455010891, 'random_strength': 0.3035610952121767, 'min_data_in_leaf': 41, 'n_estimators': 2000}. Best is trial 52 with value: 0.7319648404316226.\n"
     ]
    },
    {
     "name": "stderr",
     "output_type": "stream",
     "text": [
      "Best trial: 52. Best value: 0.731965:  38%|███▊      | 75/200 [10:16<25:16, 12.13s/it]"
     ]
    },
    {
     "name": "stdout",
     "output_type": "stream",
     "text": [
      "[I 2025-09-22 21:22:36,573] Trial 74 finished with value: 0.7312047665364887 and parameters: {'depth': 8, 'learning_rate': 0.029010235695500552, 'l2_leaf_reg': 19.86635058077668, 'bagging_temperature': 1.6724807584647345, 'random_strength': 0.3756615832666332, 'min_data_in_leaf': 27, 'n_estimators': 2100}. Best is trial 52 with value: 0.7319648404316226.\n"
     ]
    },
    {
     "name": "stderr",
     "output_type": "stream",
     "text": [
      "Best trial: 52. Best value: 0.731965:  38%|███▊      | 76/200 [10:19<19:28,  9.42s/it]"
     ]
    },
    {
     "name": "stdout",
     "output_type": "stream",
     "text": [
      "[I 2025-09-22 21:22:39,680] Trial 75 pruned. \n"
     ]
    },
    {
     "name": "stderr",
     "output_type": "stream",
     "text": [
      "Best trial: 52. Best value: 0.731965:  38%|███▊      | 77/200 [10:28<18:59,  9.26s/it]"
     ]
    },
    {
     "name": "stdout",
     "output_type": "stream",
     "text": [
      "[I 2025-09-22 21:22:48,560] Trial 76 pruned. \n"
     ]
    },
    {
     "name": "stderr",
     "output_type": "stream",
     "text": [
      "Best trial: 52. Best value: 0.731965:  39%|███▉      | 78/200 [10:32<15:34,  7.66s/it]"
     ]
    },
    {
     "name": "stdout",
     "output_type": "stream",
     "text": [
      "[I 2025-09-22 21:22:52,471] Trial 77 pruned. \n"
     ]
    },
    {
     "name": "stderr",
     "output_type": "stream",
     "text": [
      "Best trial: 52. Best value: 0.731965:  40%|███▉      | 79/200 [10:49<20:52, 10.35s/it]"
     ]
    },
    {
     "name": "stdout",
     "output_type": "stream",
     "text": [
      "[I 2025-09-22 21:23:09,102] Trial 78 finished with value: 0.7312423035926277 and parameters: {'depth': 8, 'learning_rate': 0.01956106063184114, 'l2_leaf_reg': 18.162679241551025, 'bagging_temperature': 1.8891985716646784, 'random_strength': 0.3357527392560468, 'min_data_in_leaf': 23, 'n_estimators': 2200}. Best is trial 52 with value: 0.7319648404316226.\n"
     ]
    },
    {
     "name": "stderr",
     "output_type": "stream",
     "text": [
      "Best trial: 52. Best value: 0.731965:  40%|████      | 80/200 [10:50<15:37,  7.81s/it]"
     ]
    },
    {
     "name": "stdout",
     "output_type": "stream",
     "text": [
      "[I 2025-09-22 21:23:11,003] Trial 79 pruned. \n"
     ]
    },
    {
     "name": "stderr",
     "output_type": "stream",
     "text": [
      "Best trial: 52. Best value: 0.731965:  40%|████      | 81/200 [10:59<15:51,  8.00s/it]"
     ]
    },
    {
     "name": "stdout",
     "output_type": "stream",
     "text": [
      "[I 2025-09-22 21:23:19,431] Trial 80 finished with value: 0.731023854665333 and parameters: {'depth': 7, 'learning_rate': 0.03909708146877931, 'l2_leaf_reg': 14.315381152943571, 'bagging_temperature': 0.42102384287158684, 'random_strength': 0.6909625581773318, 'min_data_in_leaf': 10, 'n_estimators': 2300}. Best is trial 52 with value: 0.7319648404316226.\n"
     ]
    },
    {
     "name": "stderr",
     "output_type": "stream",
     "text": [
      "Best trial: 52. Best value: 0.731965:  41%|████      | 82/200 [11:09<16:48,  8.55s/it]"
     ]
    },
    {
     "name": "stdout",
     "output_type": "stream",
     "text": [
      "[I 2025-09-22 21:23:29,262] Trial 81 finished with value: 0.731272993627099 and parameters: {'depth': 7, 'learning_rate': 0.028329743291913744, 'l2_leaf_reg': 13.723064618617553, 'bagging_temperature': 1.6565337227705539, 'random_strength': 0.44451431341220665, 'min_data_in_leaf': 29, 'n_estimators': 2400}. Best is trial 52 with value: 0.7319648404316226.\n"
     ]
    },
    {
     "name": "stderr",
     "output_type": "stream",
     "text": [
      "Best trial: 52. Best value: 0.731965:  42%|████▏     | 83/200 [11:20<18:16,  9.37s/it]"
     ]
    },
    {
     "name": "stdout",
     "output_type": "stream",
     "text": [
      "[I 2025-09-22 21:23:40,563] Trial 82 finished with value: 0.7312789584171617 and parameters: {'depth': 7, 'learning_rate': 0.025620430401068383, 'l2_leaf_reg': 15.21049606595496, 'bagging_temperature': 1.7423819953341417, 'random_strength': 0.4906762659760758, 'min_data_in_leaf': 36, 'n_estimators': 2400}. Best is trial 52 with value: 0.7319648404316226.\n"
     ]
    },
    {
     "name": "stderr",
     "output_type": "stream",
     "text": [
      "Best trial: 52. Best value: 0.731965:  42%|████▏     | 84/200 [11:37<22:29, 11.64s/it]"
     ]
    },
    {
     "name": "stdout",
     "output_type": "stream",
     "text": [
      "[I 2025-09-22 21:23:57,477] Trial 83 finished with value: 0.7312776889473069 and parameters: {'depth': 8, 'learning_rate': 0.02154190350425845, 'l2_leaf_reg': 17.076340831114987, 'bagging_temperature': 1.4277430234552442, 'random_strength': 0.24049973430249322, 'min_data_in_leaf': 29, 'n_estimators': 2400}. Best is trial 52 with value: 0.7319648404316226.\n"
     ]
    },
    {
     "name": "stderr",
     "output_type": "stream",
     "text": [
      "Best trial: 52. Best value: 0.731965:  42%|████▎     | 85/200 [11:48<21:44, 11.34s/it]"
     ]
    },
    {
     "name": "stdout",
     "output_type": "stream",
     "text": [
      "[I 2025-09-22 21:24:08,129] Trial 84 finished with value: 0.7311579936800343 and parameters: {'depth': 7, 'learning_rate': 0.023618983030874945, 'l2_leaf_reg': 11.371174367505466, 'bagging_temperature': 1.2219244223658303, 'random_strength': 0.44050621550690783, 'min_data_in_leaf': 26, 'n_estimators': 2200}. Best is trial 52 with value: 0.7319648404316226.\n"
     ]
    },
    {
     "name": "stderr",
     "output_type": "stream",
     "text": [
      "Best trial: 52. Best value: 0.731965:  43%|████▎     | 86/200 [12:00<22:16, 11.72s/it]"
     ]
    },
    {
     "name": "stdout",
     "output_type": "stream",
     "text": [
      "[I 2025-09-22 21:24:20,733] Trial 85 finished with value: 0.7315979095098012 and parameters: {'depth': 8, 'learning_rate': 0.03182317396598454, 'l2_leaf_reg': 18.545401170292976, 'bagging_temperature': 1.9714710203056276, 'random_strength': 0.1280061370755543, 'min_data_in_leaf': 45, 'n_estimators': 2300}. Best is trial 52 with value: 0.7319648404316226.\n"
     ]
    },
    {
     "name": "stderr",
     "output_type": "stream",
     "text": [
      "Best trial: 52. Best value: 0.731965:  44%|████▎     | 87/200 [12:15<23:44, 12.60s/it]"
     ]
    },
    {
     "name": "stdout",
     "output_type": "stream",
     "text": [
      "[I 2025-09-22 21:24:35,396] Trial 86 finished with value: 0.7314623981749578 and parameters: {'depth': 8, 'learning_rate': 0.032888192740394076, 'l2_leaf_reg': 18.599473279738728, 'bagging_temperature': 1.5838417558047544, 'random_strength': 0.1340937401975399, 'min_data_in_leaf': 41, 'n_estimators': 2000}. Best is trial 52 with value: 0.7319648404316226.\n"
     ]
    },
    {
     "name": "stderr",
     "output_type": "stream",
     "text": [
      "Best trial: 52. Best value: 0.731965:  44%|████▍     | 88/200 [12:29<24:26, 13.09s/it]"
     ]
    },
    {
     "name": "stdout",
     "output_type": "stream",
     "text": [
      "[I 2025-09-22 21:24:49,622] Trial 87 finished with value: 0.7319558461531747 and parameters: {'depth': 8, 'learning_rate': 0.032472594022531234, 'l2_leaf_reg': 17.488779330873363, 'bagging_temperature': 2.233257245760243, 'random_strength': 0.13602233304115988, 'min_data_in_leaf': 45, 'n_estimators': 2100}. Best is trial 52 with value: 0.7319648404316226.\n"
     ]
    },
    {
     "name": "stderr",
     "output_type": "stream",
     "text": [
      "Best trial: 52. Best value: 0.731965:  44%|████▍     | 89/200 [12:42<24:05, 13.03s/it]"
     ]
    },
    {
     "name": "stdout",
     "output_type": "stream",
     "text": [
      "[I 2025-09-22 21:25:02,499] Trial 88 finished with value: 0.7315364753293598 and parameters: {'depth': 8, 'learning_rate': 0.03158220312192619, 'l2_leaf_reg': 18.51362844019012, 'bagging_temperature': 1.9416777011068094, 'random_strength': 0.07613194147112143, 'min_data_in_leaf': 44, 'n_estimators': 2100}. Best is trial 52 with value: 0.7319648404316226.\n"
     ]
    },
    {
     "name": "stderr",
     "output_type": "stream",
     "text": [
      "Best trial: 52. Best value: 0.731965:  45%|████▌     | 90/200 [12:53<22:41, 12.37s/it]"
     ]
    },
    {
     "name": "stdout",
     "output_type": "stream",
     "text": [
      "[I 2025-09-22 21:25:13,350] Trial 89 pruned. \n"
     ]
    },
    {
     "name": "stderr",
     "output_type": "stream",
     "text": [
      "Best trial: 52. Best value: 0.731965:  46%|████▌     | 91/200 [12:56<17:15,  9.50s/it]"
     ]
    },
    {
     "name": "stdout",
     "output_type": "stream",
     "text": [
      "[I 2025-09-22 21:25:16,146] Trial 90 pruned. \n"
     ]
    },
    {
     "name": "stderr",
     "output_type": "stream",
     "text": [
      "Best trial: 52. Best value: 0.731965:  46%|████▌     | 92/200 [13:08<18:47, 10.44s/it]"
     ]
    },
    {
     "name": "stdout",
     "output_type": "stream",
     "text": [
      "[I 2025-09-22 21:25:28,784] Trial 91 finished with value: 0.7316292995692063 and parameters: {'depth': 8, 'learning_rate': 0.03281772765291817, 'l2_leaf_reg': 18.690034957360705, 'bagging_temperature': 2.164325628270559, 'random_strength': 0.11531644321130283, 'min_data_in_leaf': 41, 'n_estimators': 2200}. Best is trial 52 with value: 0.7319648404316226.\n"
     ]
    },
    {
     "name": "stderr",
     "output_type": "stream",
     "text": [
      "Best trial: 52. Best value: 0.731965:  46%|████▋     | 93/200 [13:19<18:50, 10.57s/it]"
     ]
    },
    {
     "name": "stdout",
     "output_type": "stream",
     "text": [
      "[I 2025-09-22 21:25:39,639] Trial 92 finished with value: 0.7318951110165447 and parameters: {'depth': 8, 'learning_rate': 0.03701627563022631, 'l2_leaf_reg': 17.457714515822094, 'bagging_temperature': 2.6349095536460414, 'random_strength': 0.1459834597124513, 'min_data_in_leaf': 49, 'n_estimators': 2200}. Best is trial 52 with value: 0.7319648404316226.\n"
     ]
    },
    {
     "name": "stderr",
     "output_type": "stream",
     "text": [
      "Best trial: 52. Best value: 0.731965:  47%|████▋     | 94/200 [13:30<18:42, 10.59s/it]"
     ]
    },
    {
     "name": "stdout",
     "output_type": "stream",
     "text": [
      "[I 2025-09-22 21:25:50,274] Trial 93 finished with value: 0.7318068123117337 and parameters: {'depth': 8, 'learning_rate': 0.03735583899554702, 'l2_leaf_reg': 16.181255166626002, 'bagging_temperature': 2.595116339563086, 'random_strength': 0.08980831027464728, 'min_data_in_leaf': 49, 'n_estimators': 2200}. Best is trial 52 with value: 0.7319648404316226.\n"
     ]
    },
    {
     "name": "stderr",
     "output_type": "stream",
     "text": [
      "Best trial: 52. Best value: 0.731965:  48%|████▊     | 95/200 [13:40<18:18, 10.46s/it]"
     ]
    },
    {
     "name": "stdout",
     "output_type": "stream",
     "text": [
      "[I 2025-09-22 21:26:00,455] Trial 94 finished with value: 0.7317755140493958 and parameters: {'depth': 8, 'learning_rate': 0.042597256871788336, 'l2_leaf_reg': 17.3986060288374, 'bagging_temperature': 2.579885905392376, 'random_strength': 0.07003673911378028, 'min_data_in_leaf': 49, 'n_estimators': 2200}. Best is trial 52 with value: 0.7319648404316226.\n"
     ]
    },
    {
     "name": "stderr",
     "output_type": "stream",
     "text": [
      "Best trial: 52. Best value: 0.731965:  48%|████▊     | 96/200 [13:43<14:21,  8.28s/it]"
     ]
    },
    {
     "name": "stdout",
     "output_type": "stream",
     "text": [
      "[I 2025-09-22 21:26:03,642] Trial 95 pruned. \n"
     ]
    },
    {
     "name": "stderr",
     "output_type": "stream",
     "text": [
      "Best trial: 52. Best value: 0.731965:  48%|████▊     | 97/200 [13:52<14:47,  8.62s/it]"
     ]
    },
    {
     "name": "stdout",
     "output_type": "stream",
     "text": [
      "[I 2025-09-22 21:26:13,050] Trial 96 finished with value: 0.731103684695172 and parameters: {'depth': 8, 'learning_rate': 0.049494585145779146, 'l2_leaf_reg': 16.153574127072716, 'bagging_temperature': 2.570098549179574, 'random_strength': 0.11776292008356909, 'min_data_in_leaf': 50, 'n_estimators': 2200}. Best is trial 52 with value: 0.7319648404316226.\n"
     ]
    },
    {
     "name": "stderr",
     "output_type": "stream",
     "text": [
      "Best trial: 52. Best value: 0.731965:  49%|████▉     | 98/200 [14:02<15:17,  8.99s/it]"
     ]
    },
    {
     "name": "stdout",
     "output_type": "stream",
     "text": [
      "[I 2025-09-22 21:26:22,909] Trial 97 pruned. \n"
     ]
    },
    {
     "name": "stderr",
     "output_type": "stream",
     "text": [
      "Best trial: 52. Best value: 0.731965:  50%|████▉     | 99/200 [14:05<12:07,  7.21s/it]"
     ]
    },
    {
     "name": "stdout",
     "output_type": "stream",
     "text": [
      "[I 2025-09-22 21:26:25,950] Trial 98 pruned. \n"
     ]
    },
    {
     "name": "stderr",
     "output_type": "stream",
     "text": [
      "Best trial: 52. Best value: 0.731965:  50%|█████     | 100/200 [14:15<13:16,  7.97s/it]"
     ]
    },
    {
     "name": "stdout",
     "output_type": "stream",
     "text": [
      "[I 2025-09-22 21:26:35,689] Trial 99 pruned. \n"
     ]
    },
    {
     "name": "stderr",
     "output_type": "stream",
     "text": [
      "Best trial: 52. Best value: 0.731965:  50%|█████     | 101/200 [14:18<10:52,  6.59s/it]"
     ]
    },
    {
     "name": "stdout",
     "output_type": "stream",
     "text": [
      "[I 2025-09-22 21:26:39,066] Trial 100 pruned. \n"
     ]
    },
    {
     "name": "stderr",
     "output_type": "stream",
     "text": [
      "Best trial: 52. Best value: 0.731965:  51%|█████     | 102/200 [14:28<12:21,  7.56s/it]"
     ]
    },
    {
     "name": "stdout",
     "output_type": "stream",
     "text": [
      "[I 2025-09-22 21:26:48,901] Trial 101 pruned. \n"
     ]
    },
    {
     "name": "stderr",
     "output_type": "stream",
     "text": [
      "Best trial: 52. Best value: 0.731965:  52%|█████▏    | 103/200 [14:41<14:37,  9.05s/it]"
     ]
    },
    {
     "name": "stdout",
     "output_type": "stream",
     "text": [
      "[I 2025-09-22 21:27:01,417] Trial 102 finished with value: 0.7319007952904178 and parameters: {'depth': 8, 'learning_rate': 0.036086256537813374, 'l2_leaf_reg': 19.92547029963495, 'bagging_temperature': 2.3520725518444126, 'random_strength': 0.1367843119343789, 'min_data_in_leaf': 43, 'n_estimators': 2200}. Best is trial 52 with value: 0.7319648404316226.\n"
     ]
    },
    {
     "name": "stderr",
     "output_type": "stream",
     "text": [
      "Best trial: 52. Best value: 0.731965:  52%|█████▏    | 104/200 [14:49<14:12,  8.88s/it]"
     ]
    },
    {
     "name": "stdout",
     "output_type": "stream",
     "text": [
      "[I 2025-09-22 21:27:09,887] Trial 103 pruned. \n"
     ]
    },
    {
     "name": "stderr",
     "output_type": "stream",
     "text": [
      "Best trial: 52. Best value: 0.731965:  52%|█████▎    | 105/200 [15:00<14:46,  9.33s/it]"
     ]
    },
    {
     "name": "stdout",
     "output_type": "stream",
     "text": [
      "[I 2025-09-22 21:27:20,286] Trial 104 finished with value: 0.7312109125337722 and parameters: {'depth': 8, 'learning_rate': 0.03644395392160598, 'l2_leaf_reg': 16.429229041079232, 'bagging_temperature': 2.183189087017762, 'random_strength': 0.20091035485341138, 'min_data_in_leaf': 40, 'n_estimators': 2300}. Best is trial 52 with value: 0.7319648404316226.\n"
     ]
    },
    {
     "name": "stderr",
     "output_type": "stream",
     "text": [
      "Best trial: 52. Best value: 0.731965:  53%|█████▎    | 106/200 [15:13<16:16, 10.38s/it]"
     ]
    },
    {
     "name": "stdout",
     "output_type": "stream",
     "text": [
      "[I 2025-09-22 21:27:33,123] Trial 105 finished with value: 0.7316947562623858 and parameters: {'depth': 8, 'learning_rate': 0.03438933815615578, 'l2_leaf_reg': 18.766454588077035, 'bagging_temperature': 2.8410726130488153, 'random_strength': 0.25730379301333606, 'min_data_in_leaf': 43, 'n_estimators': 2200}. Best is trial 52 with value: 0.7319648404316226.\n"
     ]
    },
    {
     "name": "stderr",
     "output_type": "stream",
     "text": [
      "Best trial: 52. Best value: 0.731965:  54%|█████▎    | 107/200 [15:27<18:01, 11.63s/it]"
     ]
    },
    {
     "name": "stdout",
     "output_type": "stream",
     "text": [
      "[I 2025-09-22 21:27:47,652] Trial 106 finished with value: 0.7316053861573675 and parameters: {'depth': 8, 'learning_rate': 0.03346761479117667, 'l2_leaf_reg': 18.98351294467572, 'bagging_temperature': 3.5793869554507847, 'random_strength': 0.27166317812265844, 'min_data_in_leaf': 42, 'n_estimators': 2200}. Best is trial 52 with value: 0.7319648404316226.\n"
     ]
    },
    {
     "name": "stderr",
     "output_type": "stream",
     "text": [
      "Best trial: 52. Best value: 0.731965:  54%|█████▍    | 108/200 [15:30<13:48,  9.00s/it]"
     ]
    },
    {
     "name": "stdout",
     "output_type": "stream",
     "text": [
      "[I 2025-09-22 21:27:50,527] Trial 107 pruned. \n"
     ]
    },
    {
     "name": "stderr",
     "output_type": "stream",
     "text": [
      "Best trial: 52. Best value: 0.731965:  55%|█████▍    | 109/200 [15:40<14:10,  9.35s/it]"
     ]
    },
    {
     "name": "stdout",
     "output_type": "stream",
     "text": [
      "[I 2025-09-22 21:28:00,685] Trial 108 finished with value: 0.7316079740313529 and parameters: {'depth': 8, 'learning_rate': 0.04015780513387466, 'l2_leaf_reg': 18.72162043595229, 'bagging_temperature': 3.7908366810858967, 'random_strength': 0.3509290154297604, 'min_data_in_leaf': 42, 'n_estimators': 2200}. Best is trial 52 with value: 0.7319648404316226.\n"
     ]
    },
    {
     "name": "stderr",
     "output_type": "stream",
     "text": [
      "Best trial: 52. Best value: 0.731965:  55%|█████▌    | 110/200 [15:54<15:55, 10.61s/it]"
     ]
    },
    {
     "name": "stdout",
     "output_type": "stream",
     "text": [
      "[I 2025-09-22 21:28:14,255] Trial 109 pruned. \n"
     ]
    },
    {
     "name": "stderr",
     "output_type": "stream",
     "text": [
      "Best trial: 52. Best value: 0.731965:  56%|█████▌    | 111/200 [15:57<12:27,  8.39s/it]"
     ]
    },
    {
     "name": "stdout",
     "output_type": "stream",
     "text": [
      "[I 2025-09-22 21:28:17,469] Trial 110 pruned. \n"
     ]
    },
    {
     "name": "stderr",
     "output_type": "stream",
     "text": [
      "Best trial: 52. Best value: 0.731965:  56%|█████▌    | 112/200 [16:09<13:56,  9.50s/it]"
     ]
    },
    {
     "name": "stdout",
     "output_type": "stream",
     "text": [
      "[I 2025-09-22 21:28:29,550] Trial 111 finished with value: 0.7315402747953161 and parameters: {'depth': 8, 'learning_rate': 0.03743090892844626, 'l2_leaf_reg': 17.76592568464274, 'bagging_temperature': 3.497752583633921, 'random_strength': 0.36198715540417725, 'min_data_in_leaf': 51, 'n_estimators': 2300}. Best is trial 52 with value: 0.7319648404316226.\n"
     ]
    },
    {
     "name": "stderr",
     "output_type": "stream",
     "text": [
      "Best trial: 52. Best value: 0.731965:  56%|█████▋    | 113/200 [16:16<12:54,  8.91s/it]"
     ]
    },
    {
     "name": "stdout",
     "output_type": "stream",
     "text": [
      "[I 2025-09-22 21:28:37,070] Trial 112 pruned. \n"
     ]
    },
    {
     "name": "stderr",
     "output_type": "stream",
     "text": [
      "Best trial: 52. Best value: 0.731965:  57%|█████▋    | 114/200 [16:20<10:29,  7.32s/it]"
     ]
    },
    {
     "name": "stdout",
     "output_type": "stream",
     "text": [
      "[I 2025-09-22 21:28:40,677] Trial 113 pruned. \n"
     ]
    },
    {
     "name": "stderr",
     "output_type": "stream",
     "text": [
      "Best trial: 52. Best value: 0.731965:  57%|█████▊    | 115/200 [16:29<11:01,  7.78s/it]"
     ]
    },
    {
     "name": "stdout",
     "output_type": "stream",
     "text": [
      "[I 2025-09-22 21:28:49,528] Trial 114 pruned. \n"
     ]
    },
    {
     "name": "stderr",
     "output_type": "stream",
     "text": [
      "Best trial: 52. Best value: 0.731965:  58%|█████▊    | 116/200 [16:40<12:14,  8.74s/it]"
     ]
    },
    {
     "name": "stdout",
     "output_type": "stream",
     "text": [
      "[I 2025-09-22 21:29:00,531] Trial 115 finished with value: 0.731811539573868 and parameters: {'depth': 8, 'learning_rate': 0.04519455392657854, 'l2_leaf_reg': 18.81535738923406, 'bagging_temperature': 3.7787163903841843, 'random_strength': 0.1653861153802081, 'min_data_in_leaf': 54, 'n_estimators': 2300}. Best is trial 52 with value: 0.7319648404316226.\n"
     ]
    },
    {
     "name": "stderr",
     "output_type": "stream",
     "text": [
      "Best trial: 52. Best value: 0.731965:  58%|█████▊    | 117/200 [16:43<09:46,  7.07s/it]"
     ]
    },
    {
     "name": "stdout",
     "output_type": "stream",
     "text": [
      "[I 2025-09-22 21:29:03,681] Trial 116 pruned. \n"
     ]
    },
    {
     "name": "stderr",
     "output_type": "stream",
     "text": [
      "Best trial: 52. Best value: 0.731965:  59%|█████▉    | 118/200 [16:51<09:59,  7.31s/it]"
     ]
    },
    {
     "name": "stdout",
     "output_type": "stream",
     "text": [
      "[I 2025-09-22 21:29:11,562] Trial 117 finished with value: 0.7315707768473777 and parameters: {'depth': 8, 'learning_rate': 0.07346676776616454, 'l2_leaf_reg': 17.53995554739377, 'bagging_temperature': 4.285106349689976, 'random_strength': 0.29858113092340033, 'min_data_in_leaf': 52, 'n_estimators': 2300}. Best is trial 52 with value: 0.7319648404316226.\n"
     ]
    },
    {
     "name": "stderr",
     "output_type": "stream",
     "text": [
      "Best trial: 52. Best value: 0.731965:  60%|█████▉    | 119/200 [17:03<11:54,  8.82s/it]"
     ]
    },
    {
     "name": "stdout",
     "output_type": "stream",
     "text": [
      "[I 2025-09-22 21:29:23,914] Trial 118 finished with value: 0.7315104261611729 and parameters: {'depth': 8, 'learning_rate': 0.036438861689419434, 'l2_leaf_reg': 19.988862455799488, 'bagging_temperature': 3.710771482424774, 'random_strength': 0.22892209727526544, 'min_data_in_leaf': 50, 'n_estimators': 2100}. Best is trial 52 with value: 0.7319648404316226.\n"
     ]
    },
    {
     "name": "stderr",
     "output_type": "stream",
     "text": [
      "Best trial: 52. Best value: 0.731965:  60%|██████    | 120/200 [17:18<14:07, 10.60s/it]"
     ]
    },
    {
     "name": "stdout",
     "output_type": "stream",
     "text": [
      "[I 2025-09-22 21:29:38,655] Trial 119 pruned. \n"
     ]
    },
    {
     "name": "stderr",
     "output_type": "stream",
     "text": [
      "Best trial: 120. Best value: 0.731996:  60%|██████    | 121/200 [17:25<12:39,  9.61s/it]"
     ]
    },
    {
     "name": "stdout",
     "output_type": "stream",
     "text": [
      "[I 2025-09-22 21:29:45,975] Trial 120 finished with value: 0.7319960277594775 and parameters: {'depth': 8, 'learning_rate': 0.06565455664384891, 'l2_leaf_reg': 16.644455159936996, 'bagging_temperature': 3.0864837815505455, 'random_strength': 0.09169163150634435, 'min_data_in_leaf': 38, 'n_estimators': 2200}. Best is trial 120 with value: 0.7319960277594775.\n"
     ]
    },
    {
     "name": "stderr",
     "output_type": "stream",
     "text": [
      "Best trial: 120. Best value: 0.731996:  61%|██████    | 122/200 [17:29<10:01,  7.71s/it]"
     ]
    },
    {
     "name": "stdout",
     "output_type": "stream",
     "text": [
      "[I 2025-09-22 21:29:49,223] Trial 121 pruned. \n"
     ]
    },
    {
     "name": "stderr",
     "output_type": "stream",
     "text": [
      "Best trial: 120. Best value: 0.731996:  62%|██████▏   | 123/200 [17:31<07:56,  6.19s/it]"
     ]
    },
    {
     "name": "stdout",
     "output_type": "stream",
     "text": [
      "[I 2025-09-22 21:29:51,888] Trial 122 pruned. \n"
     ]
    },
    {
     "name": "stderr",
     "output_type": "stream",
     "text": [
      "Best trial: 120. Best value: 0.731996:  62%|██████▏   | 124/200 [17:35<06:46,  5.35s/it]"
     ]
    },
    {
     "name": "stdout",
     "output_type": "stream",
     "text": [
      "[I 2025-09-22 21:29:55,267] Trial 123 pruned. \n"
     ]
    },
    {
     "name": "stderr",
     "output_type": "stream",
     "text": [
      "Best trial: 120. Best value: 0.731996:  62%|██████▎   | 125/200 [17:45<08:28,  6.78s/it]"
     ]
    },
    {
     "name": "stdout",
     "output_type": "stream",
     "text": [
      "[I 2025-09-22 21:30:05,386] Trial 124 finished with value: 0.731923690106706 and parameters: {'depth': 8, 'learning_rate': 0.04583150637666121, 'l2_leaf_reg': 14.757544222731232, 'bagging_temperature': 4.2615602097232905, 'random_strength': 0.1478760084399621, 'min_data_in_leaf': 39, 'n_estimators': 2100}. Best is trial 120 with value: 0.7319960277594775.\n"
     ]
    },
    {
     "name": "stderr",
     "output_type": "stream",
     "text": [
      "Best trial: 120. Best value: 0.731996:  63%|██████▎   | 126/200 [17:52<08:36,  6.98s/it]"
     ]
    },
    {
     "name": "stdout",
     "output_type": "stream",
     "text": [
      "[I 2025-09-22 21:30:12,829] Trial 125 pruned. \n"
     ]
    },
    {
     "name": "stderr",
     "output_type": "stream",
     "text": [
      "Best trial: 120. Best value: 0.731996:  64%|██████▎   | 127/200 [17:55<06:58,  5.74s/it]"
     ]
    },
    {
     "name": "stdout",
     "output_type": "stream",
     "text": [
      "[I 2025-09-22 21:30:15,673] Trial 126 pruned. \n"
     ]
    },
    {
     "name": "stderr",
     "output_type": "stream",
     "text": [
      "Best trial: 120. Best value: 0.731996:  64%|██████▍   | 128/200 [18:02<07:11,  6.00s/it]"
     ]
    },
    {
     "name": "stdout",
     "output_type": "stream",
     "text": [
      "[I 2025-09-22 21:30:22,281] Trial 127 pruned. \n"
     ]
    },
    {
     "name": "stderr",
     "output_type": "stream",
     "text": [
      "Best trial: 120. Best value: 0.731996:  64%|██████▍   | 129/200 [18:12<08:28,  7.16s/it]"
     ]
    },
    {
     "name": "stdout",
     "output_type": "stream",
     "text": [
      "[I 2025-09-22 21:30:32,156] Trial 128 pruned. \n"
     ]
    },
    {
     "name": "stderr",
     "output_type": "stream",
     "text": [
      "Best trial: 120. Best value: 0.731996:  65%|██████▌   | 130/200 [18:15<06:53,  5.91s/it]"
     ]
    },
    {
     "name": "stdout",
     "output_type": "stream",
     "text": [
      "[I 2025-09-22 21:30:35,134] Trial 129 pruned. \n"
     ]
    },
    {
     "name": "stderr",
     "output_type": "stream",
     "text": [
      "Best trial: 120. Best value: 0.731996:  66%|██████▌   | 131/200 [18:28<09:26,  8.21s/it]"
     ]
    },
    {
     "name": "stdout",
     "output_type": "stream",
     "text": [
      "[I 2025-09-22 21:30:48,716] Trial 130 pruned. \n"
     ]
    },
    {
     "name": "stderr",
     "output_type": "stream",
     "text": [
      "Best trial: 120. Best value: 0.731996:  66%|██████▌   | 132/200 [18:32<07:46,  6.86s/it]"
     ]
    },
    {
     "name": "stdout",
     "output_type": "stream",
     "text": [
      "[I 2025-09-22 21:30:52,435] Trial 131 pruned. \n"
     ]
    },
    {
     "name": "stderr",
     "output_type": "stream",
     "text": [
      "Best trial: 120. Best value: 0.731996:  66%|██████▋   | 133/200 [18:45<09:39,  8.65s/it]"
     ]
    },
    {
     "name": "stdout",
     "output_type": "stream",
     "text": [
      "[I 2025-09-22 21:31:05,271] Trial 132 finished with value: 0.7315153128014986 and parameters: {'depth': 8, 'learning_rate': 0.03376497871854136, 'l2_leaf_reg': 17.991580108223346, 'bagging_temperature': 3.304753661669629, 'random_strength': 0.09831115139751188, 'min_data_in_leaf': 40, 'n_estimators': 2200}. Best is trial 120 with value: 0.7319960277594775.\n"
     ]
    },
    {
     "name": "stderr",
     "output_type": "stream",
     "text": [
      "Best trial: 120. Best value: 0.731996:  67%|██████▋   | 134/200 [18:47<07:31,  6.83s/it]"
     ]
    },
    {
     "name": "stdout",
     "output_type": "stream",
     "text": [
      "[I 2025-09-22 21:31:07,859] Trial 133 pruned. \n"
     ]
    },
    {
     "name": "stderr",
     "output_type": "stream",
     "text": [
      "Best trial: 120. Best value: 0.731996:  68%|██████▊   | 135/200 [18:50<05:59,  5.53s/it]"
     ]
    },
    {
     "name": "stdout",
     "output_type": "stream",
     "text": [
      "[I 2025-09-22 21:31:10,349] Trial 134 pruned. \n"
     ]
    },
    {
     "name": "stderr",
     "output_type": "stream",
     "text": [
      "Best trial: 120. Best value: 0.731996:  68%|██████▊   | 136/200 [19:01<07:52,  7.38s/it]"
     ]
    },
    {
     "name": "stdout",
     "output_type": "stream",
     "text": [
      "[I 2025-09-22 21:31:22,038] Trial 135 finished with value: 0.7318305623336814 and parameters: {'depth': 8, 'learning_rate': 0.03660380791690388, 'l2_leaf_reg': 19.994331263215308, 'bagging_temperature': 2.932575341430664, 'random_strength': 0.25950088557411555, 'min_data_in_leaf': 47, 'n_estimators': 2100}. Best is trial 120 with value: 0.7319960277594775.\n"
     ]
    },
    {
     "name": "stderr",
     "output_type": "stream",
     "text": [
      "Best trial: 136. Best value: 0.732333:  68%|██████▊   | 137/200 [19:14<09:18,  8.86s/it]"
     ]
    },
    {
     "name": "stdout",
     "output_type": "stream",
     "text": [
      "[I 2025-09-22 21:31:34,368] Trial 136 finished with value: 0.7323334473493507 and parameters: {'depth': 8, 'learning_rate': 0.037770406084566416, 'l2_leaf_reg': 19.89034552682187, 'bagging_temperature': 2.9239327111077285, 'random_strength': 0.18761743934840397, 'min_data_in_leaf': 50, 'n_estimators': 2100}. Best is trial 136 with value: 0.7323334473493507.\n"
     ]
    },
    {
     "name": "stderr",
     "output_type": "stream",
     "text": [
      "Best trial: 136. Best value: 0.732333:  69%|██████▉   | 138/200 [19:23<09:24,  9.10s/it]"
     ]
    },
    {
     "name": "stdout",
     "output_type": "stream",
     "text": [
      "[I 2025-09-22 21:31:44,033] Trial 137 pruned. \n"
     ]
    },
    {
     "name": "stderr",
     "output_type": "stream",
     "text": [
      "Best trial: 136. Best value: 0.732333:  70%|██████▉   | 139/200 [19:26<07:21,  7.24s/it]"
     ]
    },
    {
     "name": "stdout",
     "output_type": "stream",
     "text": [
      "[I 2025-09-22 21:31:46,915] Trial 138 pruned. \n"
     ]
    },
    {
     "name": "stderr",
     "output_type": "stream",
     "text": [
      "Best trial: 136. Best value: 0.732333:  70%|███████   | 140/200 [19:29<05:44,  5.73s/it]"
     ]
    },
    {
     "name": "stdout",
     "output_type": "stream",
     "text": [
      "[I 2025-09-22 21:31:49,139] Trial 139 pruned. \n"
     ]
    },
    {
     "name": "stderr",
     "output_type": "stream",
     "text": [
      "Best trial: 136. Best value: 0.732333:  70%|███████   | 141/200 [19:43<08:07,  8.26s/it]"
     ]
    },
    {
     "name": "stdout",
     "output_type": "stream",
     "text": [
      "[I 2025-09-22 21:32:03,303] Trial 140 finished with value: 0.7315539112102057 and parameters: {'depth': 8, 'learning_rate': 0.027849574456475974, 'l2_leaf_reg': 17.369445868153825, 'bagging_temperature': 2.6527834253169655, 'random_strength': 0.1973987628640837, 'min_data_in_leaf': 47, 'n_estimators': 2100}. Best is trial 136 with value: 0.7323334473493507.\n"
     ]
    },
    {
     "name": "stderr",
     "output_type": "stream",
     "text": [
      "Best trial: 136. Best value: 0.732333:  71%|███████   | 142/200 [19:54<08:52,  9.18s/it]"
     ]
    },
    {
     "name": "stdout",
     "output_type": "stream",
     "text": [
      "[I 2025-09-22 21:32:14,612] Trial 141 finished with value: 0.7319695558209671 and parameters: {'depth': 8, 'learning_rate': 0.042341675846519926, 'l2_leaf_reg': 18.711542221696348, 'bagging_temperature': 2.7791463970654267, 'random_strength': 0.24113922120225242, 'min_data_in_leaf': 49, 'n_estimators': 2100}. Best is trial 136 with value: 0.7323334473493507.\n"
     ]
    },
    {
     "name": "stderr",
     "output_type": "stream",
     "text": [
      "Best trial: 136. Best value: 0.732333:  72%|███████▏  | 143/200 [20:03<08:45,  9.22s/it]"
     ]
    },
    {
     "name": "stdout",
     "output_type": "stream",
     "text": [
      "[I 2025-09-22 21:32:23,937] Trial 142 finished with value: 0.7316106293804864 and parameters: {'depth': 8, 'learning_rate': 0.04422041434726703, 'l2_leaf_reg': 18.253002145405492, 'bagging_temperature': 2.7607023177534247, 'random_strength': 0.24381575512407602, 'min_data_in_leaf': 48, 'n_estimators': 2100}. Best is trial 136 with value: 0.7323334473493507.\n"
     ]
    },
    {
     "name": "stderr",
     "output_type": "stream",
     "text": [
      "Best trial: 136. Best value: 0.732333:  72%|███████▏  | 144/200 [20:15<09:25, 10.09s/it]"
     ]
    },
    {
     "name": "stdout",
     "output_type": "stream",
     "text": [
      "[I 2025-09-22 21:32:36,067] Trial 143 finished with value: 0.7317601612233983 and parameters: {'depth': 8, 'learning_rate': 0.035188227627472014, 'l2_leaf_reg': 19.473977344680844, 'bagging_temperature': 3.1853842446484633, 'random_strength': 0.18240276269933736, 'min_data_in_leaf': 53, 'n_estimators': 2000}. Best is trial 136 with value: 0.7323334473493507.\n"
     ]
    },
    {
     "name": "stderr",
     "output_type": "stream",
     "text": [
      "Best trial: 136. Best value: 0.732333:  72%|███████▎  | 145/200 [20:23<08:31,  9.31s/it]"
     ]
    },
    {
     "name": "stdout",
     "output_type": "stream",
     "text": [
      "[I 2025-09-22 21:32:43,533] Trial 144 pruned. \n"
     ]
    },
    {
     "name": "stderr",
     "output_type": "stream",
     "text": [
      "Best trial: 136. Best value: 0.732333:  73%|███████▎  | 146/200 [20:35<09:13, 10.26s/it]"
     ]
    },
    {
     "name": "stdout",
     "output_type": "stream",
     "text": [
      "[I 2025-09-22 21:32:56,014] Trial 145 finished with value: 0.7315895381683752 and parameters: {'depth': 8, 'learning_rate': 0.035985269124399866, 'l2_leaf_reg': 17.684636677991556, 'bagging_temperature': 3.1870311363814086, 'random_strength': 0.4020405163653794, 'min_data_in_leaf': 50, 'n_estimators': 1900}. Best is trial 136 with value: 0.7323334473493507.\n"
     ]
    },
    {
     "name": "stderr",
     "output_type": "stream",
     "text": [
      "Best trial: 136. Best value: 0.732333:  74%|███████▎  | 147/200 [20:44<08:33,  9.70s/it]"
     ]
    },
    {
     "name": "stdout",
     "output_type": "stream",
     "text": [
      "[I 2025-09-22 21:33:04,398] Trial 146 pruned. \n"
     ]
    },
    {
     "name": "stderr",
     "output_type": "stream",
     "text": [
      "Best trial: 136. Best value: 0.732333:  74%|███████▍  | 148/200 [20:58<09:38, 11.13s/it]"
     ]
    },
    {
     "name": "stdout",
     "output_type": "stream",
     "text": [
      "[I 2025-09-22 21:33:18,865] Trial 147 finished with value: 0.7315855793643855 and parameters: {'depth': 8, 'learning_rate': 0.030422515641353634, 'l2_leaf_reg': 19.97703084023307, 'bagging_temperature': 3.0381076350308334, 'random_strength': 0.14138878567599633, 'min_data_in_leaf': 55, 'n_estimators': 2100}. Best is trial 136 with value: 0.7323334473493507.\n"
     ]
    },
    {
     "name": "stderr",
     "output_type": "stream",
     "text": [
      "Best trial: 136. Best value: 0.732333:  74%|███████▍  | 149/200 [21:07<08:56, 10.51s/it]"
     ]
    },
    {
     "name": "stdout",
     "output_type": "stream",
     "text": [
      "[I 2025-09-22 21:33:27,949] Trial 148 pruned. \n"
     ]
    },
    {
     "name": "stderr",
     "output_type": "stream",
     "text": [
      "Best trial: 136. Best value: 0.732333:  75%|███████▌  | 150/200 [21:10<06:52,  8.24s/it]"
     ]
    },
    {
     "name": "stdout",
     "output_type": "stream",
     "text": [
      "[I 2025-09-22 21:33:30,891] Trial 149 pruned. \n"
     ]
    },
    {
     "name": "stderr",
     "output_type": "stream",
     "text": [
      "Best trial: 136. Best value: 0.732333:  76%|███████▌  | 151/200 [21:14<05:30,  6.74s/it]"
     ]
    },
    {
     "name": "stdout",
     "output_type": "stream",
     "text": [
      "[I 2025-09-22 21:33:34,121] Trial 150 pruned. \n"
     ]
    },
    {
     "name": "stderr",
     "output_type": "stream",
     "text": [
      "Best trial: 136. Best value: 0.732333:  76%|███████▌  | 152/200 [21:27<06:53,  8.62s/it]"
     ]
    },
    {
     "name": "stdout",
     "output_type": "stream",
     "text": [
      "[I 2025-09-22 21:33:47,130] Trial 151 finished with value: 0.7319509836069268 and parameters: {'depth': 8, 'learning_rate': 0.03151884536747792, 'l2_leaf_reg': 18.87512764007545, 'bagging_temperature': 2.4538309461597017, 'random_strength': 0.11381986692330011, 'min_data_in_leaf': 44, 'n_estimators': 2200}. Best is trial 136 with value: 0.7323334473493507.\n"
     ]
    },
    {
     "name": "stderr",
     "output_type": "stream",
     "text": [
      "Best trial: 136. Best value: 0.732333:  76%|███████▋  | 153/200 [21:37<07:12,  9.20s/it]"
     ]
    },
    {
     "name": "stdout",
     "output_type": "stream",
     "text": [
      "[I 2025-09-22 21:33:57,667] Trial 152 pruned. \n"
     ]
    },
    {
     "name": "stderr",
     "output_type": "stream",
     "text": [
      "Best trial: 136. Best value: 0.732333:  77%|███████▋  | 154/200 [21:46<06:56,  9.05s/it]"
     ]
    },
    {
     "name": "stdout",
     "output_type": "stream",
     "text": [
      "[I 2025-09-22 21:34:06,369] Trial 153 pruned. \n"
     ]
    },
    {
     "name": "stderr",
     "output_type": "stream",
     "text": [
      "Best trial: 136. Best value: 0.732333:  78%|███████▊  | 155/200 [21:51<05:52,  7.84s/it]"
     ]
    },
    {
     "name": "stdout",
     "output_type": "stream",
     "text": [
      "[I 2025-09-22 21:34:11,404] Trial 154 pruned. \n"
     ]
    },
    {
     "name": "stderr",
     "output_type": "stream",
     "text": [
      "Best trial: 136. Best value: 0.732333:  78%|███████▊  | 156/200 [21:54<04:46,  6.50s/it]"
     ]
    },
    {
     "name": "stdout",
     "output_type": "stream",
     "text": [
      "[I 2025-09-22 21:34:14,777] Trial 155 pruned. \n"
     ]
    },
    {
     "name": "stderr",
     "output_type": "stream",
     "text": [
      "Best trial: 136. Best value: 0.732333:  78%|███████▊  | 157/200 [21:58<04:04,  5.68s/it]"
     ]
    },
    {
     "name": "stdout",
     "output_type": "stream",
     "text": [
      "[I 2025-09-22 21:34:18,534] Trial 156 pruned. \n"
     ]
    },
    {
     "name": "stderr",
     "output_type": "stream",
     "text": [
      "Best trial: 136. Best value: 0.732333:  79%|███████▉  | 158/200 [22:10<05:20,  7.63s/it]"
     ]
    },
    {
     "name": "stdout",
     "output_type": "stream",
     "text": [
      "[I 2025-09-22 21:34:30,726] Trial 157 finished with value: 0.7320154824421401 and parameters: {'depth': 8, 'learning_rate': 0.03524188645637179, 'l2_leaf_reg': 19.186866465535267, 'bagging_temperature': 2.826789273116911, 'random_strength': 0.19835524365136803, 'min_data_in_leaf': 45, 'n_estimators': 2200}. Best is trial 136 with value: 0.7323334473493507.\n"
     ]
    },
    {
     "name": "stderr",
     "output_type": "stream",
     "text": [
      "Best trial: 136. Best value: 0.732333:  80%|███████▉  | 159/200 [22:20<05:42,  8.34s/it]"
     ]
    },
    {
     "name": "stdout",
     "output_type": "stream",
     "text": [
      "[I 2025-09-22 21:34:40,730] Trial 158 finished with value: 0.731644266222036 and parameters: {'depth': 8, 'learning_rate': 0.0449879554359851, 'l2_leaf_reg': 19.256449973740597, 'bagging_temperature': 2.6069065873693176, 'random_strength': 0.2027414380189801, 'min_data_in_leaf': 45, 'n_estimators': 2100}. Best is trial 136 with value: 0.7323334473493507.\n"
     ]
    },
    {
     "name": "stderr",
     "output_type": "stream",
     "text": [
      "Best trial: 136. Best value: 0.732333:  80%|████████  | 160/200 [22:23<04:23,  6.60s/it]"
     ]
    },
    {
     "name": "stdout",
     "output_type": "stream",
     "text": [
      "[I 2025-09-22 21:34:43,243] Trial 159 pruned. \n"
     ]
    },
    {
     "name": "stderr",
     "output_type": "stream",
     "text": [
      "Best trial: 136. Best value: 0.732333:  80%|████████  | 161/200 [22:37<05:45,  8.85s/it]"
     ]
    },
    {
     "name": "stdout",
     "output_type": "stream",
     "text": [
      "[I 2025-09-22 21:34:57,353] Trial 160 pruned. \n"
     ]
    },
    {
     "name": "stderr",
     "output_type": "stream",
     "text": [
      "Best trial: 136. Best value: 0.732333:  81%|████████  | 162/200 [22:46<05:41,  8.99s/it]"
     ]
    },
    {
     "name": "stdout",
     "output_type": "stream",
     "text": [
      "[I 2025-09-22 21:35:06,684] Trial 161 pruned. \n"
     ]
    },
    {
     "name": "stderr",
     "output_type": "stream",
     "text": [
      "Best trial: 136. Best value: 0.732333:  82%|████████▏ | 163/200 [22:56<05:46,  9.36s/it]"
     ]
    },
    {
     "name": "stdout",
     "output_type": "stream",
     "text": [
      "[I 2025-09-22 21:35:16,893] Trial 162 pruned. \n"
     ]
    },
    {
     "name": "stderr",
     "output_type": "stream",
     "text": [
      "Best trial: 136. Best value: 0.732333:  82%|████████▏ | 164/200 [23:00<04:37,  7.70s/it]"
     ]
    },
    {
     "name": "stdout",
     "output_type": "stream",
     "text": [
      "[I 2025-09-22 21:35:20,739] Trial 163 pruned. \n"
     ]
    },
    {
     "name": "stderr",
     "output_type": "stream",
     "text": [
      "Best trial: 136. Best value: 0.732333:  82%|████████▎ | 165/200 [23:04<03:51,  6.63s/it]"
     ]
    },
    {
     "name": "stdout",
     "output_type": "stream",
     "text": [
      "[I 2025-09-22 21:35:24,857] Trial 164 pruned. \n"
     ]
    },
    {
     "name": "stderr",
     "output_type": "stream",
     "text": [
      "Best trial: 136. Best value: 0.732333:  83%|████████▎ | 166/200 [23:08<03:19,  5.85s/it]"
     ]
    },
    {
     "name": "stdout",
     "output_type": "stream",
     "text": [
      "[I 2025-09-22 21:35:28,905] Trial 165 pruned. \n"
     ]
    },
    {
     "name": "stderr",
     "output_type": "stream",
     "text": [
      "Best trial: 136. Best value: 0.732333:  84%|████████▎ | 167/200 [23:18<03:52,  7.05s/it]"
     ]
    },
    {
     "name": "stdout",
     "output_type": "stream",
     "text": [
      "[I 2025-09-22 21:35:38,738] Trial 166 pruned. \n"
     ]
    },
    {
     "name": "stderr",
     "output_type": "stream",
     "text": [
      "Best trial: 136. Best value: 0.732333:  84%|████████▍ | 168/200 [23:30<04:32,  8.51s/it]"
     ]
    },
    {
     "name": "stdout",
     "output_type": "stream",
     "text": [
      "[I 2025-09-22 21:35:50,651] Trial 167 finished with value: 0.7316791350791932 and parameters: {'depth': 8, 'learning_rate': 0.03261980407409849, 'l2_leaf_reg': 18.76730633186556, 'bagging_temperature': 2.6075107915628264, 'random_strength': 0.1492543370268285, 'min_data_in_leaf': 54, 'n_estimators': 2300}. Best is trial 136 with value: 0.7323334473493507.\n"
     ]
    },
    {
     "name": "stderr",
     "output_type": "stream",
     "text": [
      "Best trial: 136. Best value: 0.732333:  84%|████████▍ | 169/200 [23:49<06:04, 11.75s/it]"
     ]
    },
    {
     "name": "stdout",
     "output_type": "stream",
     "text": [
      "[I 2025-09-22 21:36:09,979] Trial 168 pruned. \n"
     ]
    },
    {
     "name": "stderr",
     "output_type": "stream",
     "text": [
      "Best trial: 136. Best value: 0.732333:  85%|████████▌ | 170/200 [23:57<05:12, 10.42s/it]"
     ]
    },
    {
     "name": "stdout",
     "output_type": "stream",
     "text": [
      "[I 2025-09-22 21:36:17,289] Trial 169 finished with value: 0.7311372310118923 and parameters: {'depth': 8, 'learning_rate': 0.0704558185803082, 'l2_leaf_reg': 16.604304913446278, 'bagging_temperature': 2.836589626193399, 'random_strength': 0.17630047824217943, 'min_data_in_leaf': 50, 'n_estimators': 2200}. Best is trial 136 with value: 0.7323334473493507.\n"
     ]
    },
    {
     "name": "stderr",
     "output_type": "stream",
     "text": [
      "Best trial: 136. Best value: 0.732333:  86%|████████▌ | 171/200 [24:06<04:53, 10.12s/it]"
     ]
    },
    {
     "name": "stdout",
     "output_type": "stream",
     "text": [
      "[I 2025-09-22 21:36:26,724] Trial 170 finished with value: 0.7316662020247614 and parameters: {'depth': 8, 'learning_rate': 0.04093113309064419, 'l2_leaf_reg': 14.126903258684012, 'bagging_temperature': 2.4634476004252237, 'random_strength': 0.26585774453566924, 'min_data_in_leaf': 46, 'n_estimators': 2100}. Best is trial 136 with value: 0.7323334473493507.\n"
     ]
    },
    {
     "name": "stderr",
     "output_type": "stream",
     "text": [
      "Best trial: 136. Best value: 0.732333:  86%|████████▌ | 172/200 [24:16<04:43, 10.11s/it]"
     ]
    },
    {
     "name": "stdout",
     "output_type": "stream",
     "text": [
      "[I 2025-09-22 21:36:36,804] Trial 171 pruned. \n"
     ]
    },
    {
     "name": "stderr",
     "output_type": "stream",
     "text": [
      "Best trial: 136. Best value: 0.732333:  86%|████████▋ | 173/200 [24:30<05:05, 11.33s/it]"
     ]
    },
    {
     "name": "stdout",
     "output_type": "stream",
     "text": [
      "[I 2025-09-22 21:36:50,975] Trial 172 finished with value: 0.7319418016075672 and parameters: {'depth': 8, 'learning_rate': 0.03017839941334911, 'l2_leaf_reg': 18.112275789262117, 'bagging_temperature': 2.5577244588889116, 'random_strength': 0.31823239240591894, 'min_data_in_leaf': 56, 'n_estimators': 2200}. Best is trial 136 with value: 0.7323334473493507.\n"
     ]
    },
    {
     "name": "stderr",
     "output_type": "stream",
     "text": [
      "Best trial: 136. Best value: 0.732333:  87%|████████▋ | 174/200 [24:35<03:58,  9.16s/it]"
     ]
    },
    {
     "name": "stdout",
     "output_type": "stream",
     "text": [
      "[I 2025-09-22 21:36:55,074] Trial 173 pruned. \n"
     ]
    },
    {
     "name": "stderr",
     "output_type": "stream",
     "text": [
      "Best trial: 136. Best value: 0.732333:  88%|████████▊ | 175/200 [24:46<04:04,  9.76s/it]"
     ]
    },
    {
     "name": "stdout",
     "output_type": "stream",
     "text": [
      "[I 2025-09-22 21:37:06,246] Trial 174 pruned. \n"
     ]
    },
    {
     "name": "stderr",
     "output_type": "stream",
     "text": [
      "Best trial: 136. Best value: 0.732333:  88%|████████▊ | 176/200 [24:57<04:05, 10.24s/it]"
     ]
    },
    {
     "name": "stdout",
     "output_type": "stream",
     "text": [
      "[I 2025-09-22 21:37:17,593] Trial 175 finished with value: 0.7317736584056521 and parameters: {'depth': 8, 'learning_rate': 0.03662022037581709, 'l2_leaf_reg': 17.27676703066415, 'bagging_temperature': 2.5250035136784637, 'random_strength': 0.31218936317564405, 'min_data_in_leaf': 48, 'n_estimators': 2200}. Best is trial 136 with value: 0.7323334473493507.\n"
     ]
    },
    {
     "name": "stderr",
     "output_type": "stream",
     "text": [
      "Best trial: 136. Best value: 0.732333:  88%|████████▊ | 177/200 [25:04<03:33,  9.28s/it]"
     ]
    },
    {
     "name": "stdout",
     "output_type": "stream",
     "text": [
      "[I 2025-09-22 21:37:24,637] Trial 176 pruned. \n"
     ]
    },
    {
     "name": "stderr",
     "output_type": "stream",
     "text": [
      "Best trial: 136. Best value: 0.732333:  89%|████████▉ | 178/200 [25:07<02:44,  7.47s/it]"
     ]
    },
    {
     "name": "stdout",
     "output_type": "stream",
     "text": [
      "[I 2025-09-22 21:37:27,876] Trial 177 pruned. \n"
     ]
    },
    {
     "name": "stderr",
     "output_type": "stream",
     "text": [
      "Best trial: 136. Best value: 0.732333:  90%|████████▉ | 179/200 [25:11<02:10,  6.20s/it]"
     ]
    },
    {
     "name": "stdout",
     "output_type": "stream",
     "text": [
      "[I 2025-09-22 21:37:31,133] Trial 178 pruned. \n"
     ]
    },
    {
     "name": "stderr",
     "output_type": "stream",
     "text": [
      "Best trial: 136. Best value: 0.732333:  90%|█████████ | 180/200 [25:14<01:46,  5.34s/it]"
     ]
    },
    {
     "name": "stdout",
     "output_type": "stream",
     "text": [
      "[I 2025-09-22 21:37:34,439] Trial 179 pruned. \n"
     ]
    },
    {
     "name": "stderr",
     "output_type": "stream",
     "text": [
      "Best trial: 136. Best value: 0.732333:  90%|█████████ | 181/200 [25:26<02:20,  7.42s/it]"
     ]
    },
    {
     "name": "stdout",
     "output_type": "stream",
     "text": [
      "[I 2025-09-22 21:37:46,723] Trial 180 finished with value: 0.7320874029668494 and parameters: {'depth': 8, 'learning_rate': 0.036338053769698564, 'l2_leaf_reg': 17.306342960979947, 'bagging_temperature': 2.2569601571866014, 'random_strength': 0.19476179614408512, 'min_data_in_leaf': 33, 'n_estimators': 2200}. Best is trial 136 with value: 0.7323334473493507.\n"
     ]
    },
    {
     "name": "stderr",
     "output_type": "stream",
     "text": [
      "Best trial: 136. Best value: 0.732333:  91%|█████████ | 182/200 [25:38<02:36,  8.67s/it]"
     ]
    },
    {
     "name": "stdout",
     "output_type": "stream",
     "text": [
      "[I 2025-09-22 21:37:58,316] Trial 181 finished with value: 0.7315404282749545 and parameters: {'depth': 8, 'learning_rate': 0.03668395730132073, 'l2_leaf_reg': 17.550094794883996, 'bagging_temperature': 2.2586931764456186, 'random_strength': 0.19596133791539022, 'min_data_in_leaf': 32, 'n_estimators': 2200}. Best is trial 136 with value: 0.7323334473493507.\n"
     ]
    },
    {
     "name": "stderr",
     "output_type": "stream",
     "text": [
      "Best trial: 136. Best value: 0.732333:  92%|█████████▏| 183/200 [25:50<02:44,  9.67s/it]"
     ]
    },
    {
     "name": "stdout",
     "output_type": "stream",
     "text": [
      "[I 2025-09-22 21:38:10,322] Trial 182 pruned. \n"
     ]
    },
    {
     "name": "stderr",
     "output_type": "stream",
     "text": [
      "Best trial: 136. Best value: 0.732333:  92%|█████████▏| 184/200 [25:54<02:07,  8.00s/it]"
     ]
    },
    {
     "name": "stdout",
     "output_type": "stream",
     "text": [
      "[I 2025-09-22 21:38:14,409] Trial 183 pruned. \n"
     ]
    },
    {
     "name": "stderr",
     "output_type": "stream",
     "text": [
      "Best trial: 136. Best value: 0.732333:  92%|█████████▎| 185/200 [26:07<02:22,  9.49s/it]"
     ]
    },
    {
     "name": "stdout",
     "output_type": "stream",
     "text": [
      "[I 2025-09-22 21:38:27,398] Trial 184 finished with value: 0.7316310711277247 and parameters: {'depth': 8, 'learning_rate': 0.03585755647990765, 'l2_leaf_reg': 19.848557915600242, 'bagging_temperature': 2.027630107883724, 'random_strength': 0.3219112240883439, 'min_data_in_leaf': 35, 'n_estimators': 2300}. Best is trial 136 with value: 0.7323334473493507.\n"
     ]
    },
    {
     "name": "stderr",
     "output_type": "stream",
     "text": [
      "Best trial: 136. Best value: 0.732333:  93%|█████████▎| 186/200 [26:10<01:46,  7.61s/it]"
     ]
    },
    {
     "name": "stdout",
     "output_type": "stream",
     "text": [
      "[I 2025-09-22 21:38:30,618] Trial 185 pruned. \n"
     ]
    },
    {
     "name": "stderr",
     "output_type": "stream",
     "text": [
      "Best trial: 136. Best value: 0.732333:  94%|█████████▎| 187/200 [26:17<01:35,  7.34s/it]"
     ]
    },
    {
     "name": "stdout",
     "output_type": "stream",
     "text": [
      "[I 2025-09-22 21:38:37,323] Trial 186 pruned. \n"
     ]
    },
    {
     "name": "stderr",
     "output_type": "stream",
     "text": [
      "Best trial: 136. Best value: 0.732333:  94%|█████████▍| 188/200 [26:20<01:14,  6.20s/it]"
     ]
    },
    {
     "name": "stdout",
     "output_type": "stream",
     "text": [
      "[I 2025-09-22 21:38:40,870] Trial 187 pruned. \n"
     ]
    },
    {
     "name": "stderr",
     "output_type": "stream",
     "text": [
      "Best trial: 136. Best value: 0.732333:  94%|█████████▍| 189/200 [26:32<01:27,  7.98s/it]"
     ]
    },
    {
     "name": "stdout",
     "output_type": "stream",
     "text": [
      "[I 2025-09-22 21:38:53,013] Trial 188 finished with value: 0.7315655691105027 and parameters: {'depth': 8, 'learning_rate': 0.033318254657706096, 'l2_leaf_reg': 18.52578802800281, 'bagging_temperature': 3.1168074309049136, 'random_strength': 0.11974775398607107, 'min_data_in_leaf': 45, 'n_estimators': 2200}. Best is trial 136 with value: 0.7323334473493507.\n"
     ]
    },
    {
     "name": "stderr",
     "output_type": "stream",
     "text": [
      "Best trial: 136. Best value: 0.732333:  95%|█████████▌| 190/200 [26:35<01:04,  6.42s/it]"
     ]
    },
    {
     "name": "stdout",
     "output_type": "stream",
     "text": [
      "[I 2025-09-22 21:38:55,785] Trial 189 pruned. \n"
     ]
    },
    {
     "name": "stderr",
     "output_type": "stream",
     "text": [
      "Best trial: 136. Best value: 0.732333:  96%|█████████▌| 191/200 [26:38<00:49,  5.47s/it]"
     ]
    },
    {
     "name": "stdout",
     "output_type": "stream",
     "text": [
      "[I 2025-09-22 21:38:59,044] Trial 190 pruned. \n"
     ]
    },
    {
     "name": "stderr",
     "output_type": "stream",
     "text": [
      "Best trial: 136. Best value: 0.732333:  96%|█████████▌| 192/200 [26:48<00:53,  6.65s/it]"
     ]
    },
    {
     "name": "stdout",
     "output_type": "stream",
     "text": [
      "[I 2025-09-22 21:39:08,429] Trial 191 pruned. \n"
     ]
    },
    {
     "name": "stderr",
     "output_type": "stream",
     "text": [
      "Best trial: 136. Best value: 0.732333:  96%|█████████▋| 193/200 [27:00<00:58,  8.29s/it]"
     ]
    },
    {
     "name": "stdout",
     "output_type": "stream",
     "text": [
      "[I 2025-09-22 21:39:20,562] Trial 192 finished with value: 0.7319651877571023 and parameters: {'depth': 8, 'learning_rate': 0.03209315976040581, 'l2_leaf_reg': 18.93013513641375, 'bagging_temperature': 2.7888222326352827, 'random_strength': 0.21906635422676077, 'min_data_in_leaf': 44, 'n_estimators': 2200}. Best is trial 136 with value: 0.7323334473493507.\n"
     ]
    },
    {
     "name": "stderr",
     "output_type": "stream",
     "text": [
      "Best trial: 136. Best value: 0.732333:  97%|█████████▋| 194/200 [27:09<00:51,  8.58s/it]"
     ]
    },
    {
     "name": "stdout",
     "output_type": "stream",
     "text": [
      "[I 2025-09-22 21:39:29,803] Trial 193 pruned. \n"
     ]
    },
    {
     "name": "stderr",
     "output_type": "stream",
     "text": [
      "Best trial: 136. Best value: 0.732333:  98%|█████████▊| 195/200 [27:22<00:49,  9.82s/it]"
     ]
    },
    {
     "name": "stdout",
     "output_type": "stream",
     "text": [
      "[I 2025-09-22 21:39:42,528] Trial 194 finished with value: 0.7320222881956313 and parameters: {'depth': 8, 'learning_rate': 0.030741924330531682, 'l2_leaf_reg': 19.94004340252149, 'bagging_temperature': 2.9943756344582884, 'random_strength': 0.16622482485438178, 'min_data_in_leaf': 47, 'n_estimators': 2300}. Best is trial 136 with value: 0.7323334473493507.\n"
     ]
    },
    {
     "name": "stderr",
     "output_type": "stream",
     "text": [
      "Best trial: 136. Best value: 0.732333:  98%|█████████▊| 196/200 [27:36<00:44, 11.05s/it]"
     ]
    },
    {
     "name": "stdout",
     "output_type": "stream",
     "text": [
      "[I 2025-09-22 21:39:56,434] Trial 195 finished with value: 0.7322816804876886 and parameters: {'depth': 8, 'learning_rate': 0.030468108408650198, 'l2_leaf_reg': 19.927636583337925, 'bagging_temperature': 3.0234403268905625, 'random_strength': 0.10663537967033435, 'min_data_in_leaf': 48, 'n_estimators': 2400}. Best is trial 136 with value: 0.7323334473493507.\n"
     ]
    },
    {
     "name": "stderr",
     "output_type": "stream",
     "text": [
      "Best trial: 136. Best value: 0.732333:  98%|█████████▊| 197/200 [27:51<00:36, 12.13s/it]"
     ]
    },
    {
     "name": "stdout",
     "output_type": "stream",
     "text": [
      "[I 2025-09-22 21:40:11,096] Trial 196 finished with value: 0.7321953997541181 and parameters: {'depth': 8, 'learning_rate': 0.027179640474256403, 'l2_leaf_reg': 19.790967178416537, 'bagging_temperature': 3.025221476057954, 'random_strength': 0.14200578553040608, 'min_data_in_leaf': 31, 'n_estimators': 2400}. Best is trial 136 with value: 0.7323334473493507.\n"
     ]
    },
    {
     "name": "stderr",
     "output_type": "stream",
     "text": [
      "Best trial: 136. Best value: 0.732333:  99%|█████████▉| 198/200 [28:03<00:24, 12.11s/it]"
     ]
    },
    {
     "name": "stdout",
     "output_type": "stream",
     "text": [
      "[I 2025-09-22 21:40:23,151] Trial 197 pruned. \n"
     ]
    },
    {
     "name": "stderr",
     "output_type": "stream",
     "text": [
      "Best trial: 136. Best value: 0.732333: 100%|█████████▉| 199/200 [28:17<00:12, 12.83s/it]"
     ]
    },
    {
     "name": "stdout",
     "output_type": "stream",
     "text": [
      "[I 2025-09-22 21:40:37,667] Trial 198 finished with value: 0.7317329033967809 and parameters: {'depth': 8, 'learning_rate': 0.027542694933068122, 'l2_leaf_reg': 18.802799371647843, 'bagging_temperature': 3.022151978341341, 'random_strength': 0.14543494214402247, 'min_data_in_leaf': 35, 'n_estimators': 2400}. Best is trial 136 with value: 0.7323334473493507.\n"
     ]
    },
    {
     "name": "stderr",
     "output_type": "stream",
     "text": [
      "Best trial: 136. Best value: 0.732333: 100%|██████████| 200/200 [28:33<00:00,  8.57s/it]\n",
      "[I 2025-09-22 21:40:53,228] A new study created in memory with name: no-name-f678a2cd-07eb-4bc9-bbc8-93e6208807c3\n"
     ]
    },
    {
     "name": "stdout",
     "output_type": "stream",
     "text": [
      "[I 2025-09-22 21:40:53,225] Trial 199 finished with value: 0.7313695574007462 and parameters: {'depth': 8, 'learning_rate': 0.023502032629002148, 'l2_leaf_reg': 17.996618119932382, 'bagging_temperature': 2.8848915074438284, 'random_strength': 0.9236726145309971, 'min_data_in_leaf': 30, 'n_estimators': 2400}. Best is trial 136 with value: 0.7323334473493507.\n",
      "[Y1] Best CV R2: 0.73233\n",
      "[Y1] Best Params: {'depth': 8, 'learning_rate': 0.037770406084566416, 'l2_leaf_reg': 19.89034552682187, 'bagging_temperature': 2.9239327111077285, 'random_strength': 0.18761743934840397, 'min_data_in_leaf': 50, 'n_estimators': 2100}\n",
      "\n",
      "=== Tuning CatBoost for Y2 ===\n"
     ]
    },
    {
     "name": "stderr",
     "output_type": "stream",
     "text": [
      "Best trial: 0. Best value: 0.668809:   0%|          | 1/200 [00:02<09:18,  2.80s/it]"
     ]
    },
    {
     "name": "stdout",
     "output_type": "stream",
     "text": [
      "[I 2025-09-22 21:40:56,032] Trial 0 finished with value: 0.6688087228896336 and parameters: {'depth': 6, 'learning_rate': 0.2536999076681771, 'l2_leaf_reg': 8.960785365368121, 'bagging_temperature': 2.993292420985183, 'random_strength': 0.31203728088487304, 'min_data_in_leaf': 10, 'n_estimators': 900}. Best is trial 0 with value: 0.6688087228896336.\n"
     ]
    },
    {
     "name": "stderr",
     "output_type": "stream",
     "text": [
      "Best trial: 1. Best value: 0.67314:   1%|          | 2/200 [00:17<32:45,  9.93s/it] "
     ]
    },
    {
     "name": "stdout",
     "output_type": "stream",
     "text": [
      "[I 2025-09-22 21:41:10,943] Trial 1 finished with value: 0.6731396197923132 and parameters: {'depth': 10, 'learning_rate': 0.07725378389307355, 'l2_leaf_reg': 8.341106432362084, 'bagging_temperature': 0.10292247147901223, 'random_strength': 1.9398197043239886, 'min_data_in_leaf': 54, 'n_estimators': 1100}. Best is trial 1 with value: 0.6731396197923132.\n"
     ]
    },
    {
     "name": "stderr",
     "output_type": "stream",
     "text": [
      "Best trial: 1. Best value: 0.67314:   2%|▏         | 3/200 [00:24<28:18,  8.62s/it]"
     ]
    },
    {
     "name": "stdout",
     "output_type": "stream",
     "text": [
      "[I 2025-09-22 21:41:18,014] Trial 2 finished with value: 0.6707877605759724 and parameters: {'depth': 5, 'learning_rate': 0.018659959624904923, 'l2_leaf_reg': 2.4878734419814426, 'bagging_temperature': 2.6237821581611893, 'random_strength': 0.8638900372842315, 'min_data_in_leaf': 19, 'n_estimators': 1900}. Best is trial 1 with value: 0.6731396197923132.\n"
     ]
    },
    {
     "name": "stderr",
     "output_type": "stream",
     "text": [
      "Best trial: 1. Best value: 0.67314:   2%|▏         | 4/200 [00:30<24:40,  7.55s/it]"
     ]
    },
    {
     "name": "stdout",
     "output_type": "stream",
     "text": [
      "[I 2025-09-22 21:41:23,932] Trial 3 finished with value: 0.6638958442352982 and parameters: {'depth': 4, 'learning_rate': 0.027010527749605478, 'l2_leaf_reg': 2.9967309097101573, 'bagging_temperature': 2.28034992108518, 'random_strength': 1.5703519227860272, 'min_data_in_leaf': 13, 'n_estimators': 1700}. Best is trial 1 with value: 0.6731396197923132.\n"
     ]
    },
    {
     "name": "stderr",
     "output_type": "stream",
     "text": [
      "Best trial: 4. Best value: 0.673523:   2%|▎         | 5/200 [00:51<40:37, 12.50s/it]"
     ]
    },
    {
     "name": "stdout",
     "output_type": "stream",
     "text": [
      "[I 2025-09-22 21:41:45,206] Trial 4 finished with value: 0.6735225727227029 and parameters: {'depth': 8, 'learning_rate': 0.011711509955524094, 'l2_leaf_reg': 6.172115948107071, 'bagging_temperature': 0.8526206184364576, 'random_strength': 0.13010318597055903, 'min_data_in_leaf': 61, 'n_estimators': 2500}. Best is trial 4 with value: 0.6735225727227029.\n"
     ]
    },
    {
     "name": "stderr",
     "output_type": "stream",
     "text": [
      "Best trial: 5. Best value: 0.673948:   3%|▎         | 6/200 [01:03<39:22, 12.18s/it]"
     ]
    },
    {
     "name": "stdout",
     "output_type": "stream",
     "text": [
      "[I 2025-09-22 21:41:56,758] Trial 5 finished with value: 0.6739482947849396 and parameters: {'depth': 9, 'learning_rate': 0.028180680291847244, 'l2_leaf_reg': 1.3399060561509786, 'bagging_temperature': 3.4211651325607844, 'random_strength': 0.8803049874792026, 'min_data_in_leaf': 8, 'n_estimators': 1600}. Best is trial 5 with value: 0.6739482947849396.\n"
     ]
    },
    {
     "name": "stderr",
     "output_type": "stream",
     "text": [
      "Best trial: 5. Best value: 0.673948:   4%|▎         | 7/200 [01:04<27:04,  8.42s/it]"
     ]
    },
    {
     "name": "stdout",
     "output_type": "stream",
     "text": [
      "[I 2025-09-22 21:41:57,436] Trial 6 pruned. \n"
     ]
    },
    {
     "name": "stderr",
     "output_type": "stream",
     "text": [
      "Best trial: 5. Best value: 0.673948:   4%|▍         | 8/200 [01:04<19:05,  5.97s/it]"
     ]
    },
    {
     "name": "stdout",
     "output_type": "stream",
     "text": [
      "[I 2025-09-22 21:41:58,153] Trial 7 pruned. \n"
     ]
    },
    {
     "name": "stderr",
     "output_type": "stream",
     "text": [
      "Best trial: 5. Best value: 0.673948:   4%|▍         | 9/200 [01:05<14:07,  4.44s/it]"
     ]
    },
    {
     "name": "stdout",
     "output_type": "stream",
     "text": [
      "[I 2025-09-22 21:41:59,223] Trial 8 pruned. \n"
     ]
    },
    {
     "name": "stderr",
     "output_type": "stream",
     "text": [
      "Best trial: 5. Best value: 0.673948:   5%|▌         | 10/200 [01:07<10:52,  3.44s/it]"
     ]
    },
    {
     "name": "stdout",
     "output_type": "stream",
     "text": [
      "[I 2025-09-22 21:42:00,416] Trial 9 pruned. \n"
     ]
    },
    {
     "name": "stderr",
     "output_type": "stream",
     "text": [
      "Best trial: 10. Best value: 0.675471:   6%|▌         | 11/200 [01:19<19:17,  6.12s/it]"
     ]
    },
    {
     "name": "stdout",
     "output_type": "stream",
     "text": [
      "[I 2025-09-22 21:42:12,634] Trial 10 finished with value: 0.6754709808984112 and parameters: {'depth': 9, 'learning_rate': 0.06690992453172911, 'l2_leaf_reg': 18.255631599020624, 'bagging_temperature': 4.352468198873464, 'random_strength': 1.2801770049351124, 'min_data_in_leaf': 27, 'n_estimators': 1300}. Best is trial 10 with value: 0.6754709808984112.\n"
     ]
    },
    {
     "name": "stderr",
     "output_type": "stream",
     "text": [
      "Best trial: 10. Best value: 0.675471:   6%|▌         | 12/200 [01:32<25:35,  8.17s/it]"
     ]
    },
    {
     "name": "stdout",
     "output_type": "stream",
     "text": [
      "[I 2025-09-22 21:42:25,472] Trial 11 finished with value: 0.6733011751572405 and parameters: {'depth': 9, 'learning_rate': 0.0643887384371274, 'l2_leaf_reg': 19.749893471346702, 'bagging_temperature': 4.294632818743329, 'random_strength': 1.234908945986042, 'min_data_in_leaf': 24, 'n_estimators': 1300}. Best is trial 10 with value: 0.6754709808984112.\n"
     ]
    },
    {
     "name": "stderr",
     "output_type": "stream",
     "text": [
      "Best trial: 10. Best value: 0.675471:   6%|▋         | 13/200 [01:33<18:51,  6.05s/it]"
     ]
    },
    {
     "name": "stdout",
     "output_type": "stream",
     "text": [
      "[I 2025-09-22 21:42:26,664] Trial 12 pruned. \n"
     ]
    },
    {
     "name": "stderr",
     "output_type": "stream",
     "text": [
      "Best trial: 10. Best value: 0.675471:   7%|▋         | 14/200 [01:58<36:49, 11.88s/it]"
     ]
    },
    {
     "name": "stdout",
     "output_type": "stream",
     "text": [
      "[I 2025-09-22 21:42:52,010] Trial 13 finished with value: 0.6718452729744432 and parameters: {'depth': 10, 'learning_rate': 0.04264682529953519, 'l2_leaf_reg': 15.775582201515741, 'bagging_temperature': 4.934602292841435, 'random_strength': 1.3780384236719279, 'min_data_in_leaf': 28, 'n_estimators': 1400}. Best is trial 10 with value: 0.6754709808984112.\n"
     ]
    },
    {
     "name": "stderr",
     "output_type": "stream",
     "text": [
      "Best trial: 10. Best value: 0.675471:   8%|▊         | 15/200 [01:59<26:39,  8.64s/it]"
     ]
    },
    {
     "name": "stdout",
     "output_type": "stream",
     "text": [
      "[I 2025-09-22 21:42:53,155] Trial 14 pruned. \n"
     ]
    },
    {
     "name": "stderr",
     "output_type": "stream",
     "text": [
      "Best trial: 10. Best value: 0.675471:   8%|▊         | 16/200 [02:10<28:33,  9.31s/it]"
     ]
    },
    {
     "name": "stdout",
     "output_type": "stream",
     "text": [
      "[I 2025-09-22 21:43:04,016] Trial 15 finished with value: 0.6750767144788126 and parameters: {'depth': 9, 'learning_rate': 0.03684791481883605, 'l2_leaf_reg': 3.331049250917974, 'bagging_temperature': 4.1719819625812775, 'random_strength': 1.0089541880348425, 'min_data_in_leaf': 45, 'n_estimators': 800}. Best is trial 10 with value: 0.6754709808984112.\n"
     ]
    },
    {
     "name": "stderr",
     "output_type": "stream",
     "text": [
      "Best trial: 10. Best value: 0.675471:   8%|▊         | 17/200 [02:12<21:47,  7.14s/it]"
     ]
    },
    {
     "name": "stdout",
     "output_type": "stream",
     "text": [
      "[I 2025-09-22 21:43:06,117] Trial 16 pruned. \n"
     ]
    },
    {
     "name": "stderr",
     "output_type": "stream",
     "text": [
      "Best trial: 10. Best value: 0.675471:   9%|▉         | 18/200 [02:13<16:05,  5.30s/it]"
     ]
    },
    {
     "name": "stdout",
     "output_type": "stream",
     "text": [
      "[I 2025-09-22 21:43:07,135] Trial 17 pruned. \n"
     ]
    },
    {
     "name": "stderr",
     "output_type": "stream",
     "text": [
      "Best trial: 18. Best value: 0.676024:  10%|▉         | 19/200 [02:36<31:50, 10.55s/it]"
     ]
    },
    {
     "name": "stdout",
     "output_type": "stream",
     "text": [
      "[I 2025-09-22 21:43:29,920] Trial 18 finished with value: 0.6760237845252604 and parameters: {'depth': 10, 'learning_rate': 0.04584727462143051, 'l2_leaf_reg': 6.588331932770165, 'bagging_temperature': 1.951968596826017, 'random_strength': 0.9961904153856183, 'min_data_in_leaf': 36, 'n_estimators': 1000}. Best is trial 18 with value: 0.6760237845252604.\n"
     ]
    },
    {
     "name": "stderr",
     "output_type": "stream",
     "text": [
      "Best trial: 18. Best value: 0.676024:  10%|█         | 20/200 [02:48<32:30, 10.84s/it]"
     ]
    },
    {
     "name": "stdout",
     "output_type": "stream",
     "text": [
      "[I 2025-09-22 21:43:41,419] Trial 19 pruned. \n"
     ]
    },
    {
     "name": "stderr",
     "output_type": "stream",
     "text": [
      "Best trial: 20. Best value: 0.677438:  10%|█         | 21/200 [02:59<33:06, 11.10s/it]"
     ]
    },
    {
     "name": "stdout",
     "output_type": "stream",
     "text": [
      "[I 2025-09-22 21:43:53,128] Trial 20 finished with value: 0.6774375965630057 and parameters: {'depth': 10, 'learning_rate': 0.1618722756484738, 'l2_leaf_reg': 12.455276217112957, 'bagging_temperature': 1.4922835322201697, 'random_strength': 0.59202453237273, 'min_data_in_leaf': 28, 'n_estimators': 1200}. Best is trial 20 with value: 0.6774375965630057.\n"
     ]
    },
    {
     "name": "stderr",
     "output_type": "stream",
     "text": [
      "Best trial: 20. Best value: 0.677438:  11%|█         | 22/200 [03:12<34:18, 11.57s/it]"
     ]
    },
    {
     "name": "stdout",
     "output_type": "stream",
     "text": [
      "[I 2025-09-22 21:44:05,780] Trial 21 finished with value: 0.6746328056048333 and parameters: {'depth': 10, 'learning_rate': 0.1619582695853621, 'l2_leaf_reg': 13.01643844205706, 'bagging_temperature': 1.7119968482647252, 'random_strength': 0.6348007700044584, 'min_data_in_leaf': 28, 'n_estimators': 1200}. Best is trial 20 with value: 0.6774375965630057.\n"
     ]
    },
    {
     "name": "stderr",
     "output_type": "stream",
     "text": [
      "Best trial: 20. Best value: 0.677438:  12%|█▏        | 23/200 [03:24<34:09, 11.58s/it]"
     ]
    },
    {
     "name": "stdout",
     "output_type": "stream",
     "text": [
      "[I 2025-09-22 21:44:17,390] Trial 22 finished with value: 0.6741886987166905 and parameters: {'depth': 10, 'learning_rate': 0.17486793862850014, 'l2_leaf_reg': 19.924703153731542, 'bagging_temperature': 1.020914931801977, 'random_strength': 0.392032852297893, 'min_data_in_leaf': 27, 'n_estimators': 1000}. Best is trial 20 with value: 0.6774375965630057.\n"
     ]
    },
    {
     "name": "stderr",
     "output_type": "stream",
     "text": [
      "Best trial: 23. Best value: 0.677884:  12%|█▏        | 24/200 [03:36<34:44, 11.84s/it]"
     ]
    },
    {
     "name": "stdout",
     "output_type": "stream",
     "text": [
      "[I 2025-09-22 21:44:29,851] Trial 23 finished with value: 0.6778838419103982 and parameters: {'depth': 9, 'learning_rate': 0.054767874541998544, 'l2_leaf_reg': 10.607030968876222, 'bagging_temperature': 2.3811546079417183, 'random_strength': 0.6601084024019439, 'min_data_in_leaf': 21, 'n_estimators': 1500}. Best is trial 23 with value: 0.6778838419103982.\n"
     ]
    },
    {
     "name": "stderr",
     "output_type": "stream",
     "text": [
      "Best trial: 23. Best value: 0.677884:  12%|█▎        | 25/200 [03:38<25:29,  8.74s/it]"
     ]
    },
    {
     "name": "stdout",
     "output_type": "stream",
     "text": [
      "[I 2025-09-22 21:44:31,358] Trial 24 pruned. \n"
     ]
    },
    {
     "name": "stderr",
     "output_type": "stream",
     "text": [
      "Best trial: 23. Best value: 0.677884:  13%|█▎        | 26/200 [03:41<20:33,  7.09s/it]"
     ]
    },
    {
     "name": "stdout",
     "output_type": "stream",
     "text": [
      "[I 2025-09-22 21:44:34,599] Trial 25 pruned. \n"
     ]
    },
    {
     "name": "stderr",
     "output_type": "stream",
     "text": [
      "Best trial: 26. Best value: 0.678209:  14%|█▎        | 27/200 [03:57<28:40,  9.94s/it]"
     ]
    },
    {
     "name": "stdout",
     "output_type": "stream",
     "text": [
      "[I 2025-09-22 21:44:51,194] Trial 26 finished with value: 0.6782088564029332 and parameters: {'depth': 9, 'learning_rate': 0.047099063902989416, 'l2_leaf_reg': 12.562485584099718, 'bagging_temperature': 2.5256579868376705, 'random_strength': 0.7783056822199744, 'min_data_in_leaf': 31, 'n_estimators': 1000}. Best is trial 26 with value: 0.6782088564029332.\n"
     ]
    },
    {
     "name": "stderr",
     "output_type": "stream",
     "text": [
      "Best trial: 27. Best value: 0.680126:  14%|█▍        | 28/200 [04:20<38:56, 13.58s/it]"
     ]
    },
    {
     "name": "stdout",
     "output_type": "stream",
     "text": [
      "[I 2025-09-22 21:45:13,267] Trial 27 finished with value: 0.6801261285805019 and parameters: {'depth': 9, 'learning_rate': 0.03434052126821694, 'l2_leaf_reg': 12.81668955050137, 'bagging_temperature': 2.631020485494992, 'random_strength': 0.3080327514913379, 'min_data_in_leaf': 21, 'n_estimators': 1900}. Best is trial 27 with value: 0.6801261285805019.\n"
     ]
    },
    {
     "name": "stderr",
     "output_type": "stream",
     "text": [
      "Best trial: 27. Best value: 0.680126:  14%|█▍        | 29/200 [04:28<34:14, 12.01s/it]"
     ]
    },
    {
     "name": "stdout",
     "output_type": "stream",
     "text": [
      "[I 2025-09-22 21:45:21,617] Trial 28 finished with value: 0.6780122475446468 and parameters: {'depth': 7, 'learning_rate': 0.03345272197945051, 'l2_leaf_reg': 15.254198262567542, 'bagging_temperature': 2.847359693896352, 'random_strength': 0.3860313389844725, 'min_data_in_leaf': 15, 'n_estimators': 2000}. Best is trial 27 with value: 0.6801261285805019.\n"
     ]
    },
    {
     "name": "stderr",
     "output_type": "stream",
     "text": [
      "Best trial: 27. Best value: 0.680126:  15%|█▌        | 30/200 [04:30<25:13,  8.90s/it]"
     ]
    },
    {
     "name": "stdout",
     "output_type": "stream",
     "text": [
      "[I 2025-09-22 21:45:23,261] Trial 29 pruned. \n"
     ]
    },
    {
     "name": "stderr",
     "output_type": "stream",
     "text": [
      "Best trial: 27. Best value: 0.680126:  16%|█▌        | 31/200 [04:31<18:22,  6.53s/it]"
     ]
    },
    {
     "name": "stdout",
     "output_type": "stream",
     "text": [
      "[I 2025-09-22 21:45:24,242] Trial 30 pruned. \n"
     ]
    },
    {
     "name": "stderr",
     "output_type": "stream",
     "text": [
      "Best trial: 27. Best value: 0.680126:  16%|█▌        | 32/200 [04:37<18:14,  6.51s/it]"
     ]
    },
    {
     "name": "stdout",
     "output_type": "stream",
     "text": [
      "[I 2025-09-22 21:45:30,724] Trial 31 finished with value: 0.6783617452726982 and parameters: {'depth': 7, 'learning_rate': 0.05166299170898676, 'l2_leaf_reg': 10.334966966364425, 'bagging_temperature': 2.2219290905005016, 'random_strength': 0.3251425896312634, 'min_data_in_leaf': 22, 'n_estimators': 2100}. Best is trial 27 with value: 0.6801261285805019.\n"
     ]
    },
    {
     "name": "stderr",
     "output_type": "stream",
     "text": [
      "Best trial: 27. Best value: 0.680126:  16%|█▋        | 33/200 [04:38<13:40,  4.91s/it]"
     ]
    },
    {
     "name": "stdout",
     "output_type": "stream",
     "text": [
      "[I 2025-09-22 21:45:31,911] Trial 32 pruned. \n"
     ]
    },
    {
     "name": "stderr",
     "output_type": "stream",
     "text": [
      "Best trial: 27. Best value: 0.680126:  17%|█▋        | 34/200 [04:40<10:48,  3.91s/it]"
     ]
    },
    {
     "name": "stdout",
     "output_type": "stream",
     "text": [
      "[I 2025-09-22 21:45:33,463] Trial 33 pruned. \n"
     ]
    },
    {
     "name": "stderr",
     "output_type": "stream",
     "text": [
      "Best trial: 27. Best value: 0.680126:  18%|█▊        | 35/200 [04:41<08:47,  3.20s/it]"
     ]
    },
    {
     "name": "stdout",
     "output_type": "stream",
     "text": [
      "[I 2025-09-22 21:45:35,005] Trial 34 pruned. \n"
     ]
    },
    {
     "name": "stderr",
     "output_type": "stream",
     "text": [
      "Best trial: 27. Best value: 0.680126:  18%|█▊        | 36/200 [04:52<14:53,  5.45s/it]"
     ]
    },
    {
     "name": "stdout",
     "output_type": "stream",
     "text": [
      "[I 2025-09-22 21:45:45,698] Trial 35 finished with value: 0.6786700443336653 and parameters: {'depth': 8, 'learning_rate': 0.03024808858198019, 'l2_leaf_reg': 4.999573506464806, 'bagging_temperature': 2.6083186062097092, 'random_strength': 0.4714299230213794, 'min_data_in_leaf': 10, 'n_estimators': 2000}. Best is trial 27 with value: 0.6801261285805019.\n"
     ]
    },
    {
     "name": "stderr",
     "output_type": "stream",
     "text": [
      "Best trial: 27. Best value: 0.680126:  18%|█▊        | 37/200 [04:53<11:22,  4.18s/it]"
     ]
    },
    {
     "name": "stdout",
     "output_type": "stream",
     "text": [
      "[I 2025-09-22 21:45:46,940] Trial 36 pruned. \n"
     ]
    },
    {
     "name": "stderr",
     "output_type": "stream",
     "text": [
      "Best trial: 27. Best value: 0.680126:  19%|█▉        | 38/200 [04:55<09:15,  3.43s/it]"
     ]
    },
    {
     "name": "stdout",
     "output_type": "stream",
     "text": [
      "[I 2025-09-22 21:45:48,616] Trial 37 pruned. \n"
     ]
    },
    {
     "name": "stderr",
     "output_type": "stream",
     "text": [
      "Best trial: 27. Best value: 0.680126:  20%|█▉        | 39/200 [04:58<08:47,  3.28s/it]"
     ]
    },
    {
     "name": "stdout",
     "output_type": "stream",
     "text": [
      "[I 2025-09-22 21:45:51,531] Trial 38 pruned. \n"
     ]
    },
    {
     "name": "stderr",
     "output_type": "stream",
     "text": [
      "Best trial: 27. Best value: 0.680126:  20%|██        | 40/200 [05:00<07:43,  2.90s/it]"
     ]
    },
    {
     "name": "stdout",
     "output_type": "stream",
     "text": [
      "[I 2025-09-22 21:45:53,551] Trial 39 pruned. \n"
     ]
    },
    {
     "name": "stderr",
     "output_type": "stream",
     "text": [
      "Best trial: 27. Best value: 0.680126:  20%|██        | 41/200 [05:01<06:29,  2.45s/it]"
     ]
    },
    {
     "name": "stdout",
     "output_type": "stream",
     "text": [
      "[I 2025-09-22 21:45:54,949] Trial 40 pruned. \n"
     ]
    },
    {
     "name": "stderr",
     "output_type": "stream",
     "text": [
      "Best trial: 27. Best value: 0.680126:  21%|██        | 42/200 [05:03<05:32,  2.11s/it]"
     ]
    },
    {
     "name": "stdout",
     "output_type": "stream",
     "text": [
      "[I 2025-09-22 21:45:56,259] Trial 41 pruned. \n"
     ]
    },
    {
     "name": "stderr",
     "output_type": "stream",
     "text": [
      "Best trial: 27. Best value: 0.680126:  22%|██▏       | 43/200 [05:15<13:55,  5.32s/it]"
     ]
    },
    {
     "name": "stdout",
     "output_type": "stream",
     "text": [
      "[I 2025-09-22 21:46:09,076] Trial 42 finished with value: 0.6767148510207648 and parameters: {'depth': 8, 'learning_rate': 0.03754804710414639, 'l2_leaf_reg': 14.603427859832845, 'bagging_temperature': 2.2012938025907918, 'random_strength': 0.054253522022536416, 'min_data_in_leaf': 1, 'n_estimators': 2000}. Best is trial 27 with value: 0.6801261285805019.\n"
     ]
    },
    {
     "name": "stderr",
     "output_type": "stream",
     "text": [
      "Best trial: 27. Best value: 0.680126:  22%|██▏       | 44/200 [05:16<10:20,  3.98s/it]"
     ]
    },
    {
     "name": "stdout",
     "output_type": "stream",
     "text": [
      "[I 2025-09-22 21:46:09,920] Trial 43 pruned. \n"
     ]
    },
    {
     "name": "stderr",
     "output_type": "stream",
     "text": [
      "Best trial: 27. Best value: 0.680126:  22%|██▎       | 45/200 [05:18<08:16,  3.21s/it]"
     ]
    },
    {
     "name": "stdout",
     "output_type": "stream",
     "text": [
      "[I 2025-09-22 21:46:11,325] Trial 44 pruned. \n"
     ]
    },
    {
     "name": "stderr",
     "output_type": "stream",
     "text": [
      "Best trial: 27. Best value: 0.680126:  23%|██▎       | 46/200 [05:20<07:25,  2.89s/it]"
     ]
    },
    {
     "name": "stdout",
     "output_type": "stream",
     "text": [
      "[I 2025-09-22 21:46:13,477] Trial 45 pruned. \n"
     ]
    },
    {
     "name": "stderr",
     "output_type": "stream",
     "text": [
      "Best trial: 27. Best value: 0.680126:  24%|██▎       | 47/200 [05:21<05:56,  2.33s/it]"
     ]
    },
    {
     "name": "stdout",
     "output_type": "stream",
     "text": [
      "[I 2025-09-22 21:46:14,504] Trial 46 pruned. \n"
     ]
    },
    {
     "name": "stderr",
     "output_type": "stream",
     "text": [
      "Best trial: 27. Best value: 0.680126:  24%|██▍       | 48/200 [05:37<16:12,  6.40s/it]"
     ]
    },
    {
     "name": "stdout",
     "output_type": "stream",
     "text": [
      "[I 2025-09-22 21:46:30,387] Trial 47 finished with value: 0.6778918883102897 and parameters: {'depth': 8, 'learning_rate': 0.031063703926239746, 'l2_leaf_reg': 17.41039219787371, 'bagging_temperature': 3.4217390058832264, 'random_strength': 0.559445990590832, 'min_data_in_leaf': 21, 'n_estimators': 2400}. Best is trial 27 with value: 0.6801261285805019.\n"
     ]
    },
    {
     "name": "stderr",
     "output_type": "stream",
     "text": [
      "Best trial: 27. Best value: 0.680126:  24%|██▍       | 49/200 [05:38<12:12,  4.85s/it]"
     ]
    },
    {
     "name": "stdout",
     "output_type": "stream",
     "text": [
      "[I 2025-09-22 21:46:31,640] Trial 48 pruned. \n"
     ]
    },
    {
     "name": "stderr",
     "output_type": "stream",
     "text": [
      "Best trial: 27. Best value: 0.680126:  25%|██▌       | 50/200 [05:41<10:28,  4.19s/it]"
     ]
    },
    {
     "name": "stdout",
     "output_type": "stream",
     "text": [
      "[I 2025-09-22 21:46:34,291] Trial 49 pruned. \n"
     ]
    },
    {
     "name": "stderr",
     "output_type": "stream",
     "text": [
      "Best trial: 27. Best value: 0.680126:  26%|██▌       | 51/200 [05:42<08:24,  3.38s/it]"
     ]
    },
    {
     "name": "stdout",
     "output_type": "stream",
     "text": [
      "[I 2025-09-22 21:46:35,791] Trial 50 pruned. \n"
     ]
    },
    {
     "name": "stderr",
     "output_type": "stream",
     "text": [
      "Best trial: 27. Best value: 0.680126:  26%|██▌       | 52/200 [05:56<16:13,  6.58s/it]"
     ]
    },
    {
     "name": "stdout",
     "output_type": "stream",
     "text": [
      "[I 2025-09-22 21:46:49,822] Trial 51 finished with value: 0.6778383745858392 and parameters: {'depth': 8, 'learning_rate': 0.03134236553007819, 'l2_leaf_reg': 17.152691657455243, 'bagging_temperature': 3.393853767607812, 'random_strength': 0.500256212262696, 'min_data_in_leaf': 21, 'n_estimators': 2500}. Best is trial 27 with value: 0.6801261285805019.\n"
     ]
    },
    {
     "name": "stderr",
     "output_type": "stream",
     "text": [
      "Best trial: 27. Best value: 0.680126:  26%|██▋       | 53/200 [06:16<26:05, 10.65s/it]"
     ]
    },
    {
     "name": "stdout",
     "output_type": "stream",
     "text": [
      "[I 2025-09-22 21:47:09,966] Trial 52 finished with value: 0.6784335398236989 and parameters: {'depth': 9, 'learning_rate': 0.029027606680643393, 'l2_leaf_reg': 17.933914606662967, 'bagging_temperature': 3.6238447980331108, 'random_strength': 0.5529140755249433, 'min_data_in_leaf': 19, 'n_estimators': 2400}. Best is trial 27 with value: 0.6801261285805019.\n"
     ]
    },
    {
     "name": "stderr",
     "output_type": "stream",
     "text": [
      "Best trial: 27. Best value: 0.680126:  27%|██▋       | 54/200 [06:19<20:02,  8.24s/it]"
     ]
    },
    {
     "name": "stdout",
     "output_type": "stream",
     "text": [
      "[I 2025-09-22 21:47:12,573] Trial 53 pruned. \n"
     ]
    },
    {
     "name": "stderr",
     "output_type": "stream",
     "text": [
      "Best trial: 27. Best value: 0.680126:  28%|██▊       | 55/200 [06:21<15:42,  6.50s/it]"
     ]
    },
    {
     "name": "stdout",
     "output_type": "stream",
     "text": [
      "[I 2025-09-22 21:47:15,032] Trial 54 pruned. \n"
     ]
    },
    {
     "name": "stderr",
     "output_type": "stream",
     "text": [
      "Best trial: 27. Best value: 0.680126:  28%|██▊       | 56/200 [06:23<11:54,  4.96s/it]"
     ]
    },
    {
     "name": "stdout",
     "output_type": "stream",
     "text": [
      "[I 2025-09-22 21:47:16,392] Trial 55 pruned. \n"
     ]
    },
    {
     "name": "stderr",
     "output_type": "stream",
     "text": [
      "Best trial: 27. Best value: 0.680126:  28%|██▊       | 57/200 [06:26<10:39,  4.47s/it]"
     ]
    },
    {
     "name": "stdout",
     "output_type": "stream",
     "text": [
      "[I 2025-09-22 21:47:19,727] Trial 56 pruned. \n"
     ]
    },
    {
     "name": "stderr",
     "output_type": "stream",
     "text": [
      "Best trial: 27. Best value: 0.680126:  29%|██▉       | 58/200 [06:28<08:40,  3.66s/it]"
     ]
    },
    {
     "name": "stdout",
     "output_type": "stream",
     "text": [
      "[I 2025-09-22 21:47:21,503] Trial 57 pruned. \n"
     ]
    },
    {
     "name": "stderr",
     "output_type": "stream",
     "text": [
      "Best trial: 27. Best value: 0.680126:  30%|██▉       | 59/200 [06:33<09:33,  4.07s/it]"
     ]
    },
    {
     "name": "stdout",
     "output_type": "stream",
     "text": [
      "[I 2025-09-22 21:47:26,520] Trial 58 pruned. \n"
     ]
    },
    {
     "name": "stderr",
     "output_type": "stream",
     "text": [
      "Best trial: 27. Best value: 0.680126:  30%|███       | 60/200 [06:34<07:26,  3.19s/it]"
     ]
    },
    {
     "name": "stdout",
     "output_type": "stream",
     "text": [
      "[I 2025-09-22 21:47:27,667] Trial 59 pruned. \n"
     ]
    },
    {
     "name": "stderr",
     "output_type": "stream",
     "text": [
      "Best trial: 27. Best value: 0.680126:  30%|███       | 61/200 [07:00<22:58,  9.92s/it]"
     ]
    },
    {
     "name": "stdout",
     "output_type": "stream",
     "text": [
      "[I 2025-09-22 21:47:53,286] Trial 60 finished with value: 0.6766990631160998 and parameters: {'depth': 10, 'learning_rate': 0.05229848464158849, 'l2_leaf_reg': 17.961236233075134, 'bagging_temperature': 1.3024141887302847, 'random_strength': 0.35346081902968784, 'min_data_in_leaf': 13, 'n_estimators': 900}. Best is trial 27 with value: 0.6801261285805019.\n"
     ]
    },
    {
     "name": "stderr",
     "output_type": "stream",
     "text": [
      "Best trial: 27. Best value: 0.680126:  31%|███       | 62/200 [07:01<17:16,  7.51s/it]"
     ]
    },
    {
     "name": "stdout",
     "output_type": "stream",
     "text": [
      "[I 2025-09-22 21:47:55,178] Trial 61 pruned. \n"
     ]
    },
    {
     "name": "stderr",
     "output_type": "stream",
     "text": [
      "Best trial: 27. Best value: 0.680126:  32%|███▏      | 63/200 [07:04<13:45,  6.03s/it]"
     ]
    },
    {
     "name": "stdout",
     "output_type": "stream",
     "text": [
      "[I 2025-09-22 21:47:57,735] Trial 62 pruned. \n"
     ]
    },
    {
     "name": "stderr",
     "output_type": "stream",
     "text": [
      "Best trial: 27. Best value: 0.680126:  32%|███▏      | 64/200 [07:06<11:03,  4.88s/it]"
     ]
    },
    {
     "name": "stdout",
     "output_type": "stream",
     "text": [
      "[I 2025-09-22 21:47:59,941] Trial 63 pruned. \n"
     ]
    },
    {
     "name": "stderr",
     "output_type": "stream",
     "text": [
      "Best trial: 27. Best value: 0.680126:  32%|███▎      | 65/200 [07:07<08:29,  3.78s/it]"
     ]
    },
    {
     "name": "stdout",
     "output_type": "stream",
     "text": [
      "[I 2025-09-22 21:48:01,147] Trial 64 pruned. \n"
     ]
    },
    {
     "name": "stderr",
     "output_type": "stream",
     "text": [
      "Best trial: 27. Best value: 0.680126:  33%|███▎      | 66/200 [07:27<18:55,  8.47s/it]"
     ]
    },
    {
     "name": "stdout",
     "output_type": "stream",
     "text": [
      "[I 2025-09-22 21:48:20,572] Trial 65 finished with value: 0.67788436498434 and parameters: {'depth': 9, 'learning_rate': 0.0394039134754112, 'l2_leaf_reg': 19.078189528941685, 'bagging_temperature': 3.9850922784047436, 'random_strength': 0.46282787772714484, 'min_data_in_leaf': 20, 'n_estimators': 2200}. Best is trial 27 with value: 0.6801261285805019.\n"
     ]
    },
    {
     "name": "stderr",
     "output_type": "stream",
     "text": [
      "Best trial: 66. Best value: 0.680445:  34%|███▎      | 67/200 [07:44<24:49, 11.20s/it]"
     ]
    },
    {
     "name": "stdout",
     "output_type": "stream",
     "text": [
      "[I 2025-09-22 21:48:38,138] Trial 66 finished with value: 0.6804453240774828 and parameters: {'depth': 8, 'learning_rate': 0.020529984415428425, 'l2_leaf_reg': 9.629473181102382, 'bagging_temperature': 2.369894626277828, 'random_strength': 1.0987868179982383, 'min_data_in_leaf': 17, 'n_estimators': 2100}. Best is trial 66 with value: 0.6804453240774828.\n"
     ]
    },
    {
     "name": "stderr",
     "output_type": "stream",
     "text": [
      "Best trial: 66. Best value: 0.680445:  34%|███▍      | 68/200 [07:47<18:41,  8.50s/it]"
     ]
    },
    {
     "name": "stdout",
     "output_type": "stream",
     "text": [
      "[I 2025-09-22 21:48:40,337] Trial 67 pruned. \n"
     ]
    },
    {
     "name": "stderr",
     "output_type": "stream",
     "text": [
      "Best trial: 66. Best value: 0.680445:  34%|███▍      | 69/200 [07:49<14:14,  6.52s/it]"
     ]
    },
    {
     "name": "stdout",
     "output_type": "stream",
     "text": [
      "[I 2025-09-22 21:48:42,245] Trial 68 pruned. \n"
     ]
    },
    {
     "name": "stderr",
     "output_type": "stream",
     "text": [
      "Best trial: 66. Best value: 0.680445:  35%|███▌      | 70/200 [07:51<11:47,  5.45s/it]"
     ]
    },
    {
     "name": "stdout",
     "output_type": "stream",
     "text": [
      "[I 2025-09-22 21:48:45,177] Trial 69 pruned. \n"
     ]
    },
    {
     "name": "stderr",
     "output_type": "stream",
     "text": [
      "Best trial: 66. Best value: 0.680445:  36%|███▌      | 71/200 [07:56<11:13,  5.22s/it]"
     ]
    },
    {
     "name": "stdout",
     "output_type": "stream",
     "text": [
      "[I 2025-09-22 21:48:49,881] Trial 70 pruned. \n"
     ]
    },
    {
     "name": "stderr",
     "output_type": "stream",
     "text": [
      "Best trial: 66. Best value: 0.680445:  36%|███▌      | 72/200 [07:58<09:02,  4.24s/it]"
     ]
    },
    {
     "name": "stdout",
     "output_type": "stream",
     "text": [
      "[I 2025-09-22 21:48:51,826] Trial 71 pruned. \n"
     ]
    },
    {
     "name": "stderr",
     "output_type": "stream",
     "text": [
      "Best trial: 66. Best value: 0.680445:  36%|███▋      | 73/200 [08:00<07:20,  3.47s/it]"
     ]
    },
    {
     "name": "stdout",
     "output_type": "stream",
     "text": [
      "[I 2025-09-22 21:48:53,506] Trial 72 pruned. \n"
     ]
    },
    {
     "name": "stderr",
     "output_type": "stream",
     "text": [
      "Best trial: 66. Best value: 0.680445:  37%|███▋      | 74/200 [08:02<06:16,  2.98s/it]"
     ]
    },
    {
     "name": "stdout",
     "output_type": "stream",
     "text": [
      "[I 2025-09-22 21:48:55,353] Trial 73 pruned. \n"
     ]
    },
    {
     "name": "stderr",
     "output_type": "stream",
     "text": [
      "Best trial: 66. Best value: 0.680445:  38%|███▊      | 75/200 [08:17<13:53,  6.67s/it]"
     ]
    },
    {
     "name": "stdout",
     "output_type": "stream",
     "text": [
      "[I 2025-09-22 21:49:10,609] Trial 74 finished with value: 0.6782657022103976 and parameters: {'depth': 8, 'learning_rate': 0.03690199070087915, 'l2_leaf_reg': 14.537239628498092, 'bagging_temperature': 2.720471404414362, 'random_strength': 0.10931674027683924, 'min_data_in_leaf': 15, 'n_estimators': 2000}. Best is trial 66 with value: 0.6804453240774828.\n"
     ]
    },
    {
     "name": "stderr",
     "output_type": "stream",
     "text": [
      "Best trial: 66. Best value: 0.680445:  38%|███▊      | 76/200 [08:19<11:11,  5.42s/it]"
     ]
    },
    {
     "name": "stdout",
     "output_type": "stream",
     "text": [
      "[I 2025-09-22 21:49:13,118] Trial 75 pruned. \n"
     ]
    },
    {
     "name": "stderr",
     "output_type": "stream",
     "text": [
      "Best trial: 66. Best value: 0.680445:  38%|███▊      | 77/200 [08:20<08:20,  4.07s/it]"
     ]
    },
    {
     "name": "stdout",
     "output_type": "stream",
     "text": [
      "[I 2025-09-22 21:49:14,036] Trial 76 pruned. \n"
     ]
    },
    {
     "name": "stderr",
     "output_type": "stream",
     "text": [
      "Best trial: 66. Best value: 0.680445:  39%|███▉      | 78/200 [08:22<06:50,  3.37s/it]"
     ]
    },
    {
     "name": "stdout",
     "output_type": "stream",
     "text": [
      "[I 2025-09-22 21:49:15,762] Trial 77 pruned. \n"
     ]
    },
    {
     "name": "stderr",
     "output_type": "stream",
     "text": [
      "Best trial: 66. Best value: 0.680445:  40%|███▉      | 79/200 [08:46<19:09,  9.50s/it]"
     ]
    },
    {
     "name": "stdout",
     "output_type": "stream",
     "text": [
      "[I 2025-09-22 21:49:39,577] Trial 78 finished with value: 0.6786888967947151 and parameters: {'depth': 9, 'learning_rate': 0.028676169895953476, 'l2_leaf_reg': 10.04152873622836, 'bagging_temperature': 1.8038651133383745, 'random_strength': 0.024678207375736894, 'min_data_in_leaf': 29, 'n_estimators': 2100}. Best is trial 66 with value: 0.6804453240774828.\n"
     ]
    },
    {
     "name": "stderr",
     "output_type": "stream",
     "text": [
      "Best trial: 66. Best value: 0.680445:  40%|████      | 80/200 [08:49<15:06,  7.55s/it]"
     ]
    },
    {
     "name": "stdout",
     "output_type": "stream",
     "text": [
      "[I 2025-09-22 21:49:42,592] Trial 79 pruned. \n"
     ]
    },
    {
     "name": "stderr",
     "output_type": "stream",
     "text": [
      "Best trial: 66. Best value: 0.680445:  40%|████      | 81/200 [08:51<12:01,  6.07s/it]"
     ]
    },
    {
     "name": "stdout",
     "output_type": "stream",
     "text": [
      "[I 2025-09-22 21:49:45,187] Trial 80 pruned. \n"
     ]
    },
    {
     "name": "stderr",
     "output_type": "stream",
     "text": [
      "Best trial: 66. Best value: 0.680445:  41%|████      | 82/200 [08:54<09:45,  4.96s/it]"
     ]
    },
    {
     "name": "stdout",
     "output_type": "stream",
     "text": [
      "[I 2025-09-22 21:49:47,574] Trial 81 pruned. \n"
     ]
    },
    {
     "name": "stderr",
     "output_type": "stream",
     "text": [
      "Best trial: 66. Best value: 0.680445:  42%|████▏     | 83/200 [08:55<07:25,  3.81s/it]"
     ]
    },
    {
     "name": "stdout",
     "output_type": "stream",
     "text": [
      "[I 2025-09-22 21:49:48,694] Trial 82 pruned. \n"
     ]
    },
    {
     "name": "stderr",
     "output_type": "stream",
     "text": [
      "Best trial: 66. Best value: 0.680445:  42%|████▏     | 84/200 [09:19<18:53,  9.77s/it]"
     ]
    },
    {
     "name": "stdout",
     "output_type": "stream",
     "text": [
      "[I 2025-09-22 21:50:12,370] Trial 83 pruned. \n"
     ]
    },
    {
     "name": "stderr",
     "output_type": "stream",
     "text": [
      "Best trial: 66. Best value: 0.680445:  42%|████▎     | 85/200 [09:30<19:23, 10.12s/it]"
     ]
    },
    {
     "name": "stdout",
     "output_type": "stream",
     "text": [
      "[I 2025-09-22 21:50:23,302] Trial 84 finished with value: 0.6793870795491067 and parameters: {'depth': 8, 'learning_rate': 0.03636610986578091, 'l2_leaf_reg': 14.030831703879079, 'bagging_temperature': 1.642460914488044, 'random_strength': 0.3611996196157028, 'min_data_in_leaf': 27, 'n_estimators': 1900}. Best is trial 66 with value: 0.6804453240774828.\n"
     ]
    },
    {
     "name": "stderr",
     "output_type": "stream",
     "text": [
      "Best trial: 66. Best value: 0.680445:  43%|████▎     | 86/200 [09:31<14:13,  7.49s/it]"
     ]
    },
    {
     "name": "stdout",
     "output_type": "stream",
     "text": [
      "[I 2025-09-22 21:50:24,650] Trial 85 pruned. \n"
     ]
    },
    {
     "name": "stderr",
     "output_type": "stream",
     "text": [
      "Best trial: 66. Best value: 0.680445:  44%|████▎     | 87/200 [09:48<19:45, 10.49s/it]"
     ]
    },
    {
     "name": "stdout",
     "output_type": "stream",
     "text": [
      "[I 2025-09-22 21:50:42,146] Trial 86 finished with value: 0.6771049634963374 and parameters: {'depth': 9, 'learning_rate': 0.03756695704386198, 'l2_leaf_reg': 10.950448970413659, 'bagging_temperature': 1.4956089116624998, 'random_strength': 0.3146865541253133, 'min_data_in_leaf': 32, 'n_estimators': 1800}. Best is trial 66 with value: 0.6804453240774828.\n"
     ]
    },
    {
     "name": "stderr",
     "output_type": "stream",
     "text": [
      "Best trial: 66. Best value: 0.680445:  44%|████▍     | 88/200 [09:50<14:22,  7.71s/it]"
     ]
    },
    {
     "name": "stdout",
     "output_type": "stream",
     "text": [
      "[I 2025-09-22 21:50:43,354] Trial 87 pruned. \n"
     ]
    },
    {
     "name": "stderr",
     "output_type": "stream",
     "text": [
      "Best trial: 66. Best value: 0.680445:  44%|████▍     | 89/200 [09:51<10:35,  5.73s/it]"
     ]
    },
    {
     "name": "stdout",
     "output_type": "stream",
     "text": [
      "[I 2025-09-22 21:50:44,470] Trial 88 pruned. \n"
     ]
    },
    {
     "name": "stderr",
     "output_type": "stream",
     "text": [
      "Best trial: 66. Best value: 0.680445:  45%|████▌     | 90/200 [09:52<07:51,  4.29s/it]"
     ]
    },
    {
     "name": "stdout",
     "output_type": "stream",
     "text": [
      "[I 2025-09-22 21:50:45,389] Trial 89 pruned. \n"
     ]
    },
    {
     "name": "stderr",
     "output_type": "stream",
     "text": [
      "Best trial: 66. Best value: 0.680445:  46%|████▌     | 91/200 [10:04<12:03,  6.64s/it]"
     ]
    },
    {
     "name": "stdout",
     "output_type": "stream",
     "text": [
      "[I 2025-09-22 21:50:57,528] Trial 90 finished with value: 0.6790919652369753 and parameters: {'depth': 9, 'learning_rate': 0.05059512830793146, 'l2_leaf_reg': 8.89818249968047, 'bagging_temperature': 1.873126554366733, 'random_strength': 0.6353530771135101, 'min_data_in_leaf': 27, 'n_estimators': 1400}. Best is trial 66 with value: 0.6804453240774828.\n"
     ]
    },
    {
     "name": "stderr",
     "output_type": "stream",
     "text": [
      "Best trial: 66. Best value: 0.680445:  46%|████▌     | 92/200 [10:06<09:26,  5.25s/it]"
     ]
    },
    {
     "name": "stdout",
     "output_type": "stream",
     "text": [
      "[I 2025-09-22 21:50:59,523] Trial 91 pruned. \n"
     ]
    },
    {
     "name": "stderr",
     "output_type": "stream",
     "text": [
      "Best trial: 66. Best value: 0.680445:  46%|████▋     | 93/200 [10:08<07:42,  4.32s/it]"
     ]
    },
    {
     "name": "stdout",
     "output_type": "stream",
     "text": [
      "[I 2025-09-22 21:51:01,688] Trial 92 pruned. \n"
     ]
    },
    {
     "name": "stderr",
     "output_type": "stream",
     "text": [
      "Best trial: 93. Best value: 0.681587:  47%|████▋     | 94/200 [10:20<11:43,  6.63s/it]"
     ]
    },
    {
     "name": "stdout",
     "output_type": "stream",
     "text": [
      "[I 2025-09-22 21:51:13,714] Trial 93 finished with value: 0.6815865116761021 and parameters: {'depth': 9, 'learning_rate': 0.08118847058148534, 'l2_leaf_reg': 12.3736493880134, 'bagging_temperature': 1.897544946509327, 'random_strength': 0.2317303901949318, 'min_data_in_leaf': 27, 'n_estimators': 1500}. Best is trial 93 with value: 0.6815865116761021.\n"
     ]
    },
    {
     "name": "stderr",
     "output_type": "stream",
     "text": [
      "Best trial: 93. Best value: 0.681587:  48%|████▊     | 95/200 [10:23<09:44,  5.57s/it]"
     ]
    },
    {
     "name": "stdout",
     "output_type": "stream",
     "text": [
      "[I 2025-09-22 21:51:16,798] Trial 94 pruned. \n"
     ]
    },
    {
     "name": "stderr",
     "output_type": "stream",
     "text": [
      "Best trial: 93. Best value: 0.681587:  48%|████▊     | 96/200 [10:31<10:58,  6.33s/it]"
     ]
    },
    {
     "name": "stdout",
     "output_type": "stream",
     "text": [
      "[I 2025-09-22 21:51:24,894] Trial 95 finished with value: 0.6782090692822171 and parameters: {'depth': 9, 'learning_rate': 0.12596628969093313, 'l2_leaf_reg': 12.182688937177074, 'bagging_temperature': 1.85964634485397, 'random_strength': 0.3758127173100747, 'min_data_in_leaf': 27, 'n_estimators': 1500}. Best is trial 93 with value: 0.6815865116761021.\n"
     ]
    },
    {
     "name": "stderr",
     "output_type": "stream",
     "text": [
      "Best trial: 93. Best value: 0.681587:  48%|████▊     | 97/200 [10:32<08:13,  4.79s/it]"
     ]
    },
    {
     "name": "stdout",
     "output_type": "stream",
     "text": [
      "[I 2025-09-22 21:51:26,100] Trial 96 pruned. \n"
     ]
    },
    {
     "name": "stderr",
     "output_type": "stream",
     "text": [
      "Best trial: 93. Best value: 0.681587:  49%|████▉     | 98/200 [10:41<10:03,  5.91s/it]"
     ]
    },
    {
     "name": "stdout",
     "output_type": "stream",
     "text": [
      "[I 2025-09-22 21:51:34,632] Trial 97 finished with value: 0.680879062312345 and parameters: {'depth': 8, 'learning_rate': 0.10051093634446269, 'l2_leaf_reg': 14.341132556051887, 'bagging_temperature': 1.40211893352333, 'random_strength': 0.31180456751788743, 'min_data_in_leaf': 26, 'n_estimators': 1400}. Best is trial 93 with value: 0.6815865116761021.\n"
     ]
    },
    {
     "name": "stderr",
     "output_type": "stream",
     "text": [
      "Best trial: 93. Best value: 0.681587:  50%|████▉     | 99/200 [10:43<07:55,  4.71s/it]"
     ]
    },
    {
     "name": "stdout",
     "output_type": "stream",
     "text": [
      "[I 2025-09-22 21:51:36,542] Trial 98 pruned. \n"
     ]
    },
    {
     "name": "stderr",
     "output_type": "stream",
     "text": [
      "Best trial: 93. Best value: 0.681587:  50%|█████     | 100/200 [10:45<06:25,  3.85s/it]"
     ]
    },
    {
     "name": "stdout",
     "output_type": "stream",
     "text": [
      "[I 2025-09-22 21:51:38,383] Trial 99 pruned. \n"
     ]
    },
    {
     "name": "stderr",
     "output_type": "stream",
     "text": [
      "Best trial: 93. Best value: 0.681587:  50%|█████     | 101/200 [10:46<05:02,  3.05s/it]"
     ]
    },
    {
     "name": "stdout",
     "output_type": "stream",
     "text": [
      "[I 2025-09-22 21:51:39,567] Trial 100 pruned. \n"
     ]
    },
    {
     "name": "stderr",
     "output_type": "stream",
     "text": [
      "Best trial: 93. Best value: 0.681587:  51%|█████     | 102/200 [10:50<05:39,  3.47s/it]"
     ]
    },
    {
     "name": "stdout",
     "output_type": "stream",
     "text": [
      "[I 2025-09-22 21:51:44,012] Trial 101 pruned. \n"
     ]
    },
    {
     "name": "stderr",
     "output_type": "stream",
     "text": [
      "Best trial: 93. Best value: 0.681587:  52%|█████▏    | 103/200 [10:53<05:22,  3.33s/it]"
     ]
    },
    {
     "name": "stdout",
     "output_type": "stream",
     "text": [
      "[I 2025-09-22 21:51:47,009] Trial 102 pruned. \n"
     ]
    },
    {
     "name": "stderr",
     "output_type": "stream",
     "text": [
      "Best trial: 93. Best value: 0.681587:  52%|█████▏    | 104/200 [10:55<04:36,  2.88s/it]"
     ]
    },
    {
     "name": "stdout",
     "output_type": "stream",
     "text": [
      "[I 2025-09-22 21:51:48,835] Trial 103 pruned. \n"
     ]
    },
    {
     "name": "stderr",
     "output_type": "stream",
     "text": [
      "Best trial: 93. Best value: 0.681587:  52%|█████▎    | 105/200 [11:17<13:31,  8.54s/it]"
     ]
    },
    {
     "name": "stdout",
     "output_type": "stream",
     "text": [
      "[I 2025-09-22 21:52:10,580] Trial 104 finished with value: 0.6792203110044752 and parameters: {'depth': 9, 'learning_rate': 0.036299468897265846, 'l2_leaf_reg': 14.238820998684005, 'bagging_temperature': 2.3349484900428004, 'random_strength': 0.4804632540562388, 'min_data_in_leaf': 33, 'n_estimators': 1700}. Best is trial 93 with value: 0.6815865116761021.\n"
     ]
    },
    {
     "name": "stderr",
     "output_type": "stream",
     "text": [
      "Best trial: 93. Best value: 0.681587:  53%|█████▎    | 106/200 [11:19<10:16,  6.56s/it]"
     ]
    },
    {
     "name": "stdout",
     "output_type": "stream",
     "text": [
      "[I 2025-09-22 21:52:12,517] Trial 105 pruned. \n"
     ]
    },
    {
     "name": "stderr",
     "output_type": "stream",
     "text": [
      "Best trial: 93. Best value: 0.681587:  54%|█████▎    | 107/200 [11:31<12:42,  8.20s/it]"
     ]
    },
    {
     "name": "stdout",
     "output_type": "stream",
     "text": [
      "[I 2025-09-22 21:52:24,540] Trial 106 finished with value: 0.6783025675527288 and parameters: {'depth': 10, 'learning_rate': 0.18668782573942477, 'l2_leaf_reg': 11.474448685362717, 'bagging_temperature': 1.4226546013435541, 'random_strength': 0.518901263885096, 'min_data_in_leaf': 34, 'n_estimators': 1700}. Best is trial 93 with value: 0.6815865116761021.\n"
     ]
    },
    {
     "name": "stderr",
     "output_type": "stream",
     "text": [
      "Best trial: 93. Best value: 0.681587:  54%|█████▍    | 108/200 [11:33<09:43,  6.34s/it]"
     ]
    },
    {
     "name": "stdout",
     "output_type": "stream",
     "text": [
      "[I 2025-09-22 21:52:26,543] Trial 107 pruned. \n"
     ]
    },
    {
     "name": "stderr",
     "output_type": "stream",
     "text": [
      "Best trial: 93. Best value: 0.681587:  55%|█████▍    | 109/200 [11:54<16:20, 10.78s/it]"
     ]
    },
    {
     "name": "stdout",
     "output_type": "stream",
     "text": [
      "[I 2025-09-22 21:52:47,671] Trial 108 finished with value: 0.6783625693095663 and parameters: {'depth': 9, 'learning_rate': 0.0315770720771884, 'l2_leaf_reg': 16.58901718878346, 'bagging_temperature': 1.606532071997865, 'random_strength': 0.35606572509060386, 'min_data_in_leaf': 27, 'n_estimators': 2200}. Best is trial 93 with value: 0.6815865116761021.\n"
     ]
    },
    {
     "name": "stderr",
     "output_type": "stream",
     "text": [
      "Best trial: 93. Best value: 0.681587:  55%|█████▌    | 110/200 [11:57<12:28,  8.32s/it]"
     ]
    },
    {
     "name": "stdout",
     "output_type": "stream",
     "text": [
      "[I 2025-09-22 21:52:50,247] Trial 109 pruned. \n"
     ]
    },
    {
     "name": "stderr",
     "output_type": "stream",
     "text": [
      "Best trial: 93. Best value: 0.681587:  56%|█████▌    | 111/200 [11:59<09:55,  6.69s/it]"
     ]
    },
    {
     "name": "stdout",
     "output_type": "stream",
     "text": [
      "[I 2025-09-22 21:52:53,134] Trial 110 pruned. \n"
     ]
    },
    {
     "name": "stderr",
     "output_type": "stream",
     "text": [
      "Best trial: 93. Best value: 0.681587:  56%|█████▌    | 112/200 [12:02<07:50,  5.34s/it]"
     ]
    },
    {
     "name": "stdout",
     "output_type": "stream",
     "text": [
      "[I 2025-09-22 21:52:55,343] Trial 111 pruned. \n"
     ]
    },
    {
     "name": "stderr",
     "output_type": "stream",
     "text": [
      "Best trial: 93. Best value: 0.681587:  56%|█████▋    | 113/200 [12:20<13:13,  9.12s/it]"
     ]
    },
    {
     "name": "stdout",
     "output_type": "stream",
     "text": [
      "[I 2025-09-22 21:53:13,272] Trial 112 finished with value: 0.6792384650523754 and parameters: {'depth': 9, 'learning_rate': 0.02920375897251717, 'l2_leaf_reg': 13.7467071042712, 'bagging_temperature': 1.6453952914233796, 'random_strength': 0.4826681503045924, 'min_data_in_leaf': 25, 'n_estimators': 2100}. Best is trial 93 with value: 0.6815865116761021.\n"
     ]
    },
    {
     "name": "stderr",
     "output_type": "stream",
     "text": [
      "Best trial: 93. Best value: 0.681587:  57%|█████▋    | 114/200 [12:22<10:10,  7.09s/it]"
     ]
    },
    {
     "name": "stdout",
     "output_type": "stream",
     "text": [
      "[I 2025-09-22 21:53:15,640] Trial 113 pruned. \n"
     ]
    },
    {
     "name": "stderr",
     "output_type": "stream",
     "text": [
      "Best trial: 93. Best value: 0.681587:  57%|█████▊    | 115/200 [12:24<07:59,  5.64s/it]"
     ]
    },
    {
     "name": "stdout",
     "output_type": "stream",
     "text": [
      "[I 2025-09-22 21:53:17,889] Trial 114 pruned. \n"
     ]
    },
    {
     "name": "stderr",
     "output_type": "stream",
     "text": [
      "Best trial: 93. Best value: 0.681587:  58%|█████▊    | 116/200 [12:27<06:33,  4.68s/it]"
     ]
    },
    {
     "name": "stdout",
     "output_type": "stream",
     "text": [
      "[I 2025-09-22 21:53:20,327] Trial 115 pruned. \n"
     ]
    },
    {
     "name": "stderr",
     "output_type": "stream",
     "text": [
      "Best trial: 93. Best value: 0.681587:  58%|█████▊    | 117/200 [12:31<06:32,  4.73s/it]"
     ]
    },
    {
     "name": "stdout",
     "output_type": "stream",
     "text": [
      "[I 2025-09-22 21:53:25,184] Trial 116 pruned. \n"
     ]
    },
    {
     "name": "stderr",
     "output_type": "stream",
     "text": [
      "Best trial: 93. Best value: 0.681587:  59%|█████▉    | 118/200 [12:53<13:11,  9.66s/it]"
     ]
    },
    {
     "name": "stdout",
     "output_type": "stream",
     "text": [
      "[I 2025-09-22 21:53:46,335] Trial 117 finished with value: 0.678985446521488 and parameters: {'depth': 9, 'learning_rate': 0.02864520945834515, 'l2_leaf_reg': 15.45629265593012, 'bagging_temperature': 1.4151283906927794, 'random_strength': 0.44390556619049815, 'min_data_in_leaf': 27, 'n_estimators': 2000}. Best is trial 93 with value: 0.6815865116761021.\n"
     ]
    },
    {
     "name": "stderr",
     "output_type": "stream",
     "text": [
      "Best trial: 93. Best value: 0.681587:  60%|█████▉    | 119/200 [12:55<10:16,  7.61s/it]"
     ]
    },
    {
     "name": "stdout",
     "output_type": "stream",
     "text": [
      "[I 2025-09-22 21:53:49,180] Trial 118 pruned. \n"
     ]
    },
    {
     "name": "stderr",
     "output_type": "stream",
     "text": [
      "Best trial: 93. Best value: 0.681587:  60%|██████    | 120/200 [12:58<08:09,  6.12s/it]"
     ]
    },
    {
     "name": "stdout",
     "output_type": "stream",
     "text": [
      "[I 2025-09-22 21:53:51,822] Trial 119 pruned. \n"
     ]
    },
    {
     "name": "stderr",
     "output_type": "stream",
     "text": [
      "Best trial: 93. Best value: 0.681587:  60%|██████    | 121/200 [13:01<06:49,  5.18s/it]"
     ]
    },
    {
     "name": "stdout",
     "output_type": "stream",
     "text": [
      "[I 2025-09-22 21:53:54,801] Trial 120 pruned. \n"
     ]
    },
    {
     "name": "stderr",
     "output_type": "stream",
     "text": [
      "Best trial: 93. Best value: 0.681587:  61%|██████    | 122/200 [13:28<15:03, 11.59s/it]"
     ]
    },
    {
     "name": "stdout",
     "output_type": "stream",
     "text": [
      "[I 2025-09-22 21:54:21,338] Trial 121 finished with value: 0.6789786381925513 and parameters: {'depth': 9, 'learning_rate': 0.030085508843142022, 'l2_leaf_reg': 16.533137222858556, 'bagging_temperature': 1.9392264124572285, 'random_strength': 0.46753029938355517, 'min_data_in_leaf': 27, 'n_estimators': 2100}. Best is trial 93 with value: 0.6815865116761021.\n"
     ]
    },
    {
     "name": "stderr",
     "output_type": "stream",
     "text": [
      "Best trial: 93. Best value: 0.681587:  62%|██████▏   | 123/200 [13:31<11:38,  9.07s/it]"
     ]
    },
    {
     "name": "stdout",
     "output_type": "stream",
     "text": [
      "[I 2025-09-22 21:54:24,527] Trial 122 pruned. \n"
     ]
    },
    {
     "name": "stderr",
     "output_type": "stream",
     "text": [
      "Best trial: 93. Best value: 0.681587:  62%|██████▏   | 124/200 [13:34<09:09,  7.23s/it]"
     ]
    },
    {
     "name": "stdout",
     "output_type": "stream",
     "text": [
      "[I 2025-09-22 21:54:27,475] Trial 123 pruned. \n"
     ]
    },
    {
     "name": "stderr",
     "output_type": "stream",
     "text": [
      "Best trial: 93. Best value: 0.681587:  62%|██████▏   | 124/200 [13:44<08:25,  6.65s/it]\n"
     ]
    },
    {
     "name": "stdout",
     "output_type": "stream",
     "text": [
      "[W 2025-09-22 21:54:37,433] Trial 124 failed with parameters: {'depth': 9, 'learning_rate': 0.02877272080493742, 'l2_leaf_reg': 14.547307603415014, 'bagging_temperature': 2.1370405510512716, 'random_strength': 0.44449468281733195, 'min_data_in_leaf': 3, 'n_estimators': 2000} because of the following error: KeyboardInterrupt('').\n",
      "Traceback (most recent call last):\n",
      "  File \"/Library/Frameworks/Python.framework/Versions/3.12/lib/python3.12/site-packages/optuna/study/_optimize.py\", line 201, in _run_trial\n",
      "    value_or_values = func(trial)\n",
      "                      ^^^^^^^^^^^\n",
      "  File \"/var/folders/6v/1zrv_7_d0zzd8j18ssjr64ch0000gn/T/ipykernel_9557/344047055.py\", line 28, in objective\n",
      "    model.fit(\n",
      "  File \"/Library/Frameworks/Python.framework/Versions/3.12/lib/python3.12/site-packages/catboost/core.py\", line 5873, in fit\n",
      "    return self._fit(X, y, cat_features, text_features, embedding_features, None, graph, sample_weight, None, None, None, None, baseline,\n",
      "           ^^^^^^^^^^^^^^^^^^^^^^^^^^^^^^^^^^^^^^^^^^^^^^^^^^^^^^^^^^^^^^^^^^^^^^^^^^^^^^^^^^^^^^^^^^^^^^^^^^^^^^^^^^^^^^^^^^^^^^^^^^^^^^\n",
      "  File \"/Library/Frameworks/Python.framework/Versions/3.12/lib/python3.12/site-packages/catboost/core.py\", line 2410, in _fit\n",
      "    self._train(\n",
      "  File \"/Library/Frameworks/Python.framework/Versions/3.12/lib/python3.12/site-packages/catboost/core.py\", line 1790, in _train\n",
      "    self._object._train(train_pool, test_pool, params, allow_clear_pool, init_model._object if init_model else None)\n",
      "  File \"_catboost.pyx\", line 5023, in _catboost._CatBoost._train\n",
      "  File \"_catboost.pyx\", line 5072, in _catboost._CatBoost._train\n",
      "KeyboardInterrupt\n",
      "[W 2025-09-22 21:54:37,436] Trial 124 failed with value None.\n"
     ]
    },
    {
     "ename": "KeyboardInterrupt",
     "evalue": "",
     "output_type": "error",
     "traceback": [
      "\u001b[0;31m---------------------------------------------------------------------------\u001b[0m",
      "\u001b[0;31mKeyboardInterrupt\u001b[0m                         Traceback (most recent call last)",
      "Cell \u001b[0;32mIn[9], line 5\u001b[0m\n\u001b[1;32m      3\u001b[0m \u001b[38;5;28;01mfor\u001b[39;00m tgt \u001b[38;5;129;01min\u001b[39;00m TARGETS:\n\u001b[1;32m      4\u001b[0m     \u001b[38;5;28mprint\u001b[39m(\u001b[38;5;124mf\u001b[39m\u001b[38;5;124m\"\u001b[39m\u001b[38;5;124m=== Tuning CatBoost for \u001b[39m\u001b[38;5;132;01m{\u001b[39;00mtgt\u001b[38;5;132;01m}\u001b[39;00m\u001b[38;5;124m ===\u001b[39m\u001b[38;5;124m\"\u001b[39m)\n\u001b[0;32m----> 5\u001b[0m     st \u001b[38;5;241m=\u001b[39m \u001b[43mtune_catboost_for_target\u001b[49m\u001b[43m(\u001b[49m\u001b[43mtgt\u001b[49m\u001b[43m,\u001b[49m\u001b[43m \u001b[49m\u001b[43mn_trials\u001b[49m\u001b[38;5;241;43m=\u001b[39;49m\u001b[43mN_TRIALS_CAT\u001b[49m\u001b[43m,\u001b[49m\u001b[43m \u001b[49m\u001b[43muse_gpu\u001b[49m\u001b[38;5;241;43m=\u001b[39;49m\u001b[38;5;28;43;01mFalse\u001b[39;49;00m\u001b[43m)\u001b[49m\n\u001b[1;32m      6\u001b[0m     \u001b[38;5;28mprint\u001b[39m(\u001b[38;5;124mf\u001b[39m\u001b[38;5;124m\"\u001b[39m\u001b[38;5;124m[\u001b[39m\u001b[38;5;132;01m{\u001b[39;00mtgt\u001b[38;5;132;01m}\u001b[39;00m\u001b[38;5;124m] Best CV R2: \u001b[39m\u001b[38;5;132;01m{\u001b[39;00mst\u001b[38;5;241m.\u001b[39mbest_value\u001b[38;5;132;01m:\u001b[39;00m\u001b[38;5;124m.5f\u001b[39m\u001b[38;5;132;01m}\u001b[39;00m\u001b[38;5;124m\"\u001b[39m)\n\u001b[1;32m      7\u001b[0m     \u001b[38;5;28mprint\u001b[39m(\u001b[38;5;124mf\u001b[39m\u001b[38;5;124m\"\u001b[39m\u001b[38;5;124m[\u001b[39m\u001b[38;5;132;01m{\u001b[39;00mtgt\u001b[38;5;132;01m}\u001b[39;00m\u001b[38;5;124m] Best Params: \u001b[39m\u001b[38;5;132;01m{\u001b[39;00mst\u001b[38;5;241m.\u001b[39mbest_trial\u001b[38;5;241m.\u001b[39mparams\u001b[38;5;132;01m}\u001b[39;00m\u001b[38;5;130;01m\\n\u001b[39;00m\u001b[38;5;124m\"\u001b[39m)\n",
      "Cell \u001b[0;32mIn[8], line 44\u001b[0m, in \u001b[0;36mtune_catboost_for_target\u001b[0;34m(y_col, n_trials, use_gpu)\u001b[0m\n\u001b[1;32m     40\u001b[0m     \u001b[38;5;28;01mreturn\u001b[39;00m \u001b[38;5;28mfloat\u001b[39m(np\u001b[38;5;241m.\u001b[39mmean(scores))\n\u001b[1;32m     42\u001b[0m study \u001b[38;5;241m=\u001b[39m optuna\u001b[38;5;241m.\u001b[39mcreate_study(direction\u001b[38;5;241m=\u001b[39m\u001b[38;5;124m\"\u001b[39m\u001b[38;5;124mmaximize\u001b[39m\u001b[38;5;124m\"\u001b[39m, sampler\u001b[38;5;241m=\u001b[39moptuna\u001b[38;5;241m.\u001b[39msamplers\u001b[38;5;241m.\u001b[39mTPESampler(seed\u001b[38;5;241m=\u001b[39mRANDOM_STATE), pruner\u001b[38;5;241m=\u001b[39moptuna\u001b[38;5;241m.\u001b[39mpruners\u001b[38;5;241m.\u001b[39mMedianPruner(n_warmup_steps\u001b[38;5;241m=\u001b[39m\u001b[38;5;241m1\u001b[39m))\n\u001b[0;32m---> 44\u001b[0m \u001b[43mstudy\u001b[49m\u001b[38;5;241;43m.\u001b[39;49m\u001b[43moptimize\u001b[49m\u001b[43m(\u001b[49m\u001b[43mobjective\u001b[49m\u001b[43m,\u001b[49m\u001b[43m \u001b[49m\u001b[43mn_trials\u001b[49m\u001b[38;5;241;43m=\u001b[39;49m\u001b[43mn_trials\u001b[49m\u001b[43m,\u001b[49m\u001b[43m \u001b[49m\u001b[43mn_jobs\u001b[49m\u001b[38;5;241;43m=\u001b[39;49m\u001b[38;5;241;43m1\u001b[39;49m\u001b[43m,\u001b[49m\u001b[43m \u001b[49m\u001b[43mshow_progress_bar\u001b[49m\u001b[38;5;241;43m=\u001b[39;49m\u001b[38;5;28;43;01mTrue\u001b[39;49;00m\u001b[43m)\u001b[49m\n\u001b[1;32m     46\u001b[0m \u001b[38;5;28;01mreturn\u001b[39;00m study\n",
      "File \u001b[0;32m/Library/Frameworks/Python.framework/Versions/3.12/lib/python3.12/site-packages/optuna/study/study.py:490\u001b[0m, in \u001b[0;36mStudy.optimize\u001b[0;34m(self, func, n_trials, timeout, n_jobs, catch, callbacks, gc_after_trial, show_progress_bar)\u001b[0m\n\u001b[1;32m    388\u001b[0m \u001b[38;5;28;01mdef\u001b[39;00m\u001b[38;5;250m \u001b[39m\u001b[38;5;21moptimize\u001b[39m(\n\u001b[1;32m    389\u001b[0m     \u001b[38;5;28mself\u001b[39m,\n\u001b[1;32m    390\u001b[0m     func: ObjectiveFuncType,\n\u001b[0;32m   (...)\u001b[0m\n\u001b[1;32m    397\u001b[0m     show_progress_bar: \u001b[38;5;28mbool\u001b[39m \u001b[38;5;241m=\u001b[39m \u001b[38;5;28;01mFalse\u001b[39;00m,\n\u001b[1;32m    398\u001b[0m ) \u001b[38;5;241m-\u001b[39m\u001b[38;5;241m>\u001b[39m \u001b[38;5;28;01mNone\u001b[39;00m:\n\u001b[1;32m    399\u001b[0m \u001b[38;5;250m    \u001b[39m\u001b[38;5;124;03m\"\"\"Optimize an objective function.\u001b[39;00m\n\u001b[1;32m    400\u001b[0m \n\u001b[1;32m    401\u001b[0m \u001b[38;5;124;03m    Optimization is done by choosing a suitable set of hyperparameter values from a given\u001b[39;00m\n\u001b[0;32m   (...)\u001b[0m\n\u001b[1;32m    488\u001b[0m \u001b[38;5;124;03m            If nested invocation of this method occurs.\u001b[39;00m\n\u001b[1;32m    489\u001b[0m \u001b[38;5;124;03m    \"\"\"\u001b[39;00m\n\u001b[0;32m--> 490\u001b[0m     \u001b[43m_optimize\u001b[49m\u001b[43m(\u001b[49m\n\u001b[1;32m    491\u001b[0m \u001b[43m        \u001b[49m\u001b[43mstudy\u001b[49m\u001b[38;5;241;43m=\u001b[39;49m\u001b[38;5;28;43mself\u001b[39;49m\u001b[43m,\u001b[49m\n\u001b[1;32m    492\u001b[0m \u001b[43m        \u001b[49m\u001b[43mfunc\u001b[49m\u001b[38;5;241;43m=\u001b[39;49m\u001b[43mfunc\u001b[49m\u001b[43m,\u001b[49m\n\u001b[1;32m    493\u001b[0m \u001b[43m        \u001b[49m\u001b[43mn_trials\u001b[49m\u001b[38;5;241;43m=\u001b[39;49m\u001b[43mn_trials\u001b[49m\u001b[43m,\u001b[49m\n\u001b[1;32m    494\u001b[0m \u001b[43m        \u001b[49m\u001b[43mtimeout\u001b[49m\u001b[38;5;241;43m=\u001b[39;49m\u001b[43mtimeout\u001b[49m\u001b[43m,\u001b[49m\n\u001b[1;32m    495\u001b[0m \u001b[43m        \u001b[49m\u001b[43mn_jobs\u001b[49m\u001b[38;5;241;43m=\u001b[39;49m\u001b[43mn_jobs\u001b[49m\u001b[43m,\u001b[49m\n\u001b[1;32m    496\u001b[0m \u001b[43m        \u001b[49m\u001b[43mcatch\u001b[49m\u001b[38;5;241;43m=\u001b[39;49m\u001b[38;5;28;43mtuple\u001b[39;49m\u001b[43m(\u001b[49m\u001b[43mcatch\u001b[49m\u001b[43m)\u001b[49m\u001b[43m \u001b[49m\u001b[38;5;28;43;01mif\u001b[39;49;00m\u001b[43m \u001b[49m\u001b[38;5;28;43misinstance\u001b[39;49m\u001b[43m(\u001b[49m\u001b[43mcatch\u001b[49m\u001b[43m,\u001b[49m\u001b[43m \u001b[49m\u001b[43mIterable\u001b[49m\u001b[43m)\u001b[49m\u001b[43m \u001b[49m\u001b[38;5;28;43;01melse\u001b[39;49;00m\u001b[43m \u001b[49m\u001b[43m(\u001b[49m\u001b[43mcatch\u001b[49m\u001b[43m,\u001b[49m\u001b[43m)\u001b[49m\u001b[43m,\u001b[49m\n\u001b[1;32m    497\u001b[0m \u001b[43m        \u001b[49m\u001b[43mcallbacks\u001b[49m\u001b[38;5;241;43m=\u001b[39;49m\u001b[43mcallbacks\u001b[49m\u001b[43m,\u001b[49m\n\u001b[1;32m    498\u001b[0m \u001b[43m        \u001b[49m\u001b[43mgc_after_trial\u001b[49m\u001b[38;5;241;43m=\u001b[39;49m\u001b[43mgc_after_trial\u001b[49m\u001b[43m,\u001b[49m\n\u001b[1;32m    499\u001b[0m \u001b[43m        \u001b[49m\u001b[43mshow_progress_bar\u001b[49m\u001b[38;5;241;43m=\u001b[39;49m\u001b[43mshow_progress_bar\u001b[49m\u001b[43m,\u001b[49m\n\u001b[1;32m    500\u001b[0m \u001b[43m    \u001b[49m\u001b[43m)\u001b[49m\n",
      "File \u001b[0;32m/Library/Frameworks/Python.framework/Versions/3.12/lib/python3.12/site-packages/optuna/study/_optimize.py:63\u001b[0m, in \u001b[0;36m_optimize\u001b[0;34m(study, func, n_trials, timeout, n_jobs, catch, callbacks, gc_after_trial, show_progress_bar)\u001b[0m\n\u001b[1;32m     61\u001b[0m \u001b[38;5;28;01mtry\u001b[39;00m:\n\u001b[1;32m     62\u001b[0m     \u001b[38;5;28;01mif\u001b[39;00m n_jobs \u001b[38;5;241m==\u001b[39m \u001b[38;5;241m1\u001b[39m:\n\u001b[0;32m---> 63\u001b[0m         \u001b[43m_optimize_sequential\u001b[49m\u001b[43m(\u001b[49m\n\u001b[1;32m     64\u001b[0m \u001b[43m            \u001b[49m\u001b[43mstudy\u001b[49m\u001b[43m,\u001b[49m\n\u001b[1;32m     65\u001b[0m \u001b[43m            \u001b[49m\u001b[43mfunc\u001b[49m\u001b[43m,\u001b[49m\n\u001b[1;32m     66\u001b[0m \u001b[43m            \u001b[49m\u001b[43mn_trials\u001b[49m\u001b[43m,\u001b[49m\n\u001b[1;32m     67\u001b[0m \u001b[43m            \u001b[49m\u001b[43mtimeout\u001b[49m\u001b[43m,\u001b[49m\n\u001b[1;32m     68\u001b[0m \u001b[43m            \u001b[49m\u001b[43mcatch\u001b[49m\u001b[43m,\u001b[49m\n\u001b[1;32m     69\u001b[0m \u001b[43m            \u001b[49m\u001b[43mcallbacks\u001b[49m\u001b[43m,\u001b[49m\n\u001b[1;32m     70\u001b[0m \u001b[43m            \u001b[49m\u001b[43mgc_after_trial\u001b[49m\u001b[43m,\u001b[49m\n\u001b[1;32m     71\u001b[0m \u001b[43m            \u001b[49m\u001b[43mreseed_sampler_rng\u001b[49m\u001b[38;5;241;43m=\u001b[39;49m\u001b[38;5;28;43;01mFalse\u001b[39;49;00m\u001b[43m,\u001b[49m\n\u001b[1;32m     72\u001b[0m \u001b[43m            \u001b[49m\u001b[43mtime_start\u001b[49m\u001b[38;5;241;43m=\u001b[39;49m\u001b[38;5;28;43;01mNone\u001b[39;49;00m\u001b[43m,\u001b[49m\n\u001b[1;32m     73\u001b[0m \u001b[43m            \u001b[49m\u001b[43mprogress_bar\u001b[49m\u001b[38;5;241;43m=\u001b[39;49m\u001b[43mprogress_bar\u001b[49m\u001b[43m,\u001b[49m\n\u001b[1;32m     74\u001b[0m \u001b[43m        \u001b[49m\u001b[43m)\u001b[49m\n\u001b[1;32m     75\u001b[0m     \u001b[38;5;28;01melse\u001b[39;00m:\n\u001b[1;32m     76\u001b[0m         \u001b[38;5;28;01mif\u001b[39;00m n_jobs \u001b[38;5;241m==\u001b[39m \u001b[38;5;241m-\u001b[39m\u001b[38;5;241m1\u001b[39m:\n",
      "File \u001b[0;32m/Library/Frameworks/Python.framework/Versions/3.12/lib/python3.12/site-packages/optuna/study/_optimize.py:160\u001b[0m, in \u001b[0;36m_optimize_sequential\u001b[0;34m(study, func, n_trials, timeout, catch, callbacks, gc_after_trial, reseed_sampler_rng, time_start, progress_bar)\u001b[0m\n\u001b[1;32m    157\u001b[0m         \u001b[38;5;28;01mbreak\u001b[39;00m\n\u001b[1;32m    159\u001b[0m \u001b[38;5;28;01mtry\u001b[39;00m:\n\u001b[0;32m--> 160\u001b[0m     frozen_trial_id \u001b[38;5;241m=\u001b[39m \u001b[43m_run_trial\u001b[49m\u001b[43m(\u001b[49m\u001b[43mstudy\u001b[49m\u001b[43m,\u001b[49m\u001b[43m \u001b[49m\u001b[43mfunc\u001b[49m\u001b[43m,\u001b[49m\u001b[43m \u001b[49m\u001b[43mcatch\u001b[49m\u001b[43m)\u001b[49m\n\u001b[1;32m    161\u001b[0m \u001b[38;5;28;01mfinally\u001b[39;00m:\n\u001b[1;32m    162\u001b[0m     \u001b[38;5;66;03m# The following line mitigates memory problems that can be occurred in some\u001b[39;00m\n\u001b[1;32m    163\u001b[0m     \u001b[38;5;66;03m# environments (e.g., services that use computing containers such as GitHub Actions).\u001b[39;00m\n\u001b[1;32m    164\u001b[0m     \u001b[38;5;66;03m# Please refer to the following PR for further details:\u001b[39;00m\n\u001b[1;32m    165\u001b[0m     \u001b[38;5;66;03m# https://github.com/optuna/optuna/pull/325.\u001b[39;00m\n\u001b[1;32m    166\u001b[0m     \u001b[38;5;28;01mif\u001b[39;00m gc_after_trial:\n",
      "File \u001b[0;32m/Library/Frameworks/Python.framework/Versions/3.12/lib/python3.12/site-packages/optuna/study/_optimize.py:258\u001b[0m, in \u001b[0;36m_run_trial\u001b[0;34m(study, func, catch)\u001b[0m\n\u001b[1;32m    251\u001b[0m         \u001b[38;5;28;01massert\u001b[39;00m \u001b[38;5;28;01mFalse\u001b[39;00m, \u001b[38;5;124m\"\u001b[39m\u001b[38;5;124mShould not reach.\u001b[39m\u001b[38;5;124m\"\u001b[39m\n\u001b[1;32m    253\u001b[0m \u001b[38;5;28;01mif\u001b[39;00m (\n\u001b[1;32m    254\u001b[0m     updated_state \u001b[38;5;241m==\u001b[39m TrialState\u001b[38;5;241m.\u001b[39mFAIL\n\u001b[1;32m    255\u001b[0m     \u001b[38;5;129;01mand\u001b[39;00m func_err \u001b[38;5;129;01mis\u001b[39;00m \u001b[38;5;129;01mnot\u001b[39;00m \u001b[38;5;28;01mNone\u001b[39;00m\n\u001b[1;32m    256\u001b[0m     \u001b[38;5;129;01mand\u001b[39;00m \u001b[38;5;129;01mnot\u001b[39;00m \u001b[38;5;28misinstance\u001b[39m(func_err, catch)\n\u001b[1;32m    257\u001b[0m ):\n\u001b[0;32m--> 258\u001b[0m     \u001b[38;5;28;01mraise\u001b[39;00m func_err\n\u001b[1;32m    259\u001b[0m \u001b[38;5;28;01mreturn\u001b[39;00m trial\u001b[38;5;241m.\u001b[39m_trial_id\n",
      "File \u001b[0;32m/Library/Frameworks/Python.framework/Versions/3.12/lib/python3.12/site-packages/optuna/study/_optimize.py:201\u001b[0m, in \u001b[0;36m_run_trial\u001b[0;34m(study, func, catch)\u001b[0m\n\u001b[1;32m    199\u001b[0m \u001b[38;5;28;01mwith\u001b[39;00m get_heartbeat_thread(trial\u001b[38;5;241m.\u001b[39m_trial_id, study\u001b[38;5;241m.\u001b[39m_storage):\n\u001b[1;32m    200\u001b[0m     \u001b[38;5;28;01mtry\u001b[39;00m:\n\u001b[0;32m--> 201\u001b[0m         value_or_values \u001b[38;5;241m=\u001b[39m \u001b[43mfunc\u001b[49m\u001b[43m(\u001b[49m\u001b[43mtrial\u001b[49m\u001b[43m)\u001b[49m\n\u001b[1;32m    202\u001b[0m     \u001b[38;5;28;01mexcept\u001b[39;00m exceptions\u001b[38;5;241m.\u001b[39mTrialPruned \u001b[38;5;28;01mas\u001b[39;00m e:\n\u001b[1;32m    203\u001b[0m         \u001b[38;5;66;03m# TODO(mamu): Handle multi-objective cases.\u001b[39;00m\n\u001b[1;32m    204\u001b[0m         state \u001b[38;5;241m=\u001b[39m TrialState\u001b[38;5;241m.\u001b[39mPRUNED\n",
      "Cell \u001b[0;32mIn[8], line 28\u001b[0m, in \u001b[0;36mtune_catboost_for_target.<locals>.objective\u001b[0;34m(trial)\u001b[0m\n\u001b[1;32m     25\u001b[0m y_tr, y_va \u001b[38;5;241m=\u001b[39m y\u001b[38;5;241m.\u001b[39miloc[tr_idx], y\u001b[38;5;241m.\u001b[39miloc[va_idx]\n\u001b[1;32m     27\u001b[0m model \u001b[38;5;241m=\u001b[39m CatBoostRegressor(\u001b[38;5;241m*\u001b[39m\u001b[38;5;241m*\u001b[39mparams)\n\u001b[0;32m---> 28\u001b[0m \u001b[43mmodel\u001b[49m\u001b[38;5;241;43m.\u001b[39;49m\u001b[43mfit\u001b[49m\u001b[43m(\u001b[49m\n\u001b[1;32m     29\u001b[0m \u001b[43m    \u001b[49m\u001b[43mX_tr\u001b[49m\u001b[43m,\u001b[49m\u001b[43m \u001b[49m\u001b[43my_tr\u001b[49m\u001b[43m,\u001b[49m\n\u001b[1;32m     30\u001b[0m \u001b[43m    \u001b[49m\u001b[43mcat_features\u001b[49m\u001b[38;5;241;43m=\u001b[39;49m\u001b[43m[\u001b[49m\u001b[43m]\u001b[49m\u001b[43m,\u001b[49m\n\u001b[1;32m     31\u001b[0m \u001b[43m    \u001b[49m\u001b[43meval_set\u001b[49m\u001b[38;5;241;43m=\u001b[39;49m\u001b[43m(\u001b[49m\u001b[43mX_va\u001b[49m\u001b[43m,\u001b[49m\u001b[43m \u001b[49m\u001b[43my_va\u001b[49m\u001b[43m)\u001b[49m\u001b[43m,\u001b[49m\n\u001b[1;32m     32\u001b[0m \u001b[43m    \u001b[49m\u001b[43mearly_stopping_rounds\u001b[49m\u001b[38;5;241;43m=\u001b[39;49m\u001b[43mEARLY_STOP\u001b[49m\u001b[43m,\u001b[49m\n\u001b[1;32m     33\u001b[0m \u001b[43m\u001b[49m\u001b[43m)\u001b[49m\n\u001b[1;32m     34\u001b[0m pred \u001b[38;5;241m=\u001b[39m model\u001b[38;5;241m.\u001b[39mpredict(X_va)\n\u001b[1;32m     35\u001b[0m scores\u001b[38;5;241m.\u001b[39mappend(r2_score(y_va, pred))\n",
      "File \u001b[0;32m/Library/Frameworks/Python.framework/Versions/3.12/lib/python3.12/site-packages/catboost/core.py:5873\u001b[0m, in \u001b[0;36mCatBoostRegressor.fit\u001b[0;34m(self, X, y, cat_features, text_features, embedding_features, graph, sample_weight, baseline, use_best_model, eval_set, verbose, logging_level, plot, plot_file, column_description, verbose_eval, metric_period, silent, early_stopping_rounds, save_snapshot, snapshot_file, snapshot_interval, init_model, callbacks, log_cout, log_cerr)\u001b[0m\n\u001b[1;32m   5871\u001b[0m \u001b[38;5;28;01mif\u001b[39;00m \u001b[38;5;124m'\u001b[39m\u001b[38;5;124mloss_function\u001b[39m\u001b[38;5;124m'\u001b[39m \u001b[38;5;129;01min\u001b[39;00m params:\n\u001b[1;32m   5872\u001b[0m     CatBoostRegressor\u001b[38;5;241m.\u001b[39m_check_is_compatible_loss(params[\u001b[38;5;124m'\u001b[39m\u001b[38;5;124mloss_function\u001b[39m\u001b[38;5;124m'\u001b[39m])\n\u001b[0;32m-> 5873\u001b[0m \u001b[38;5;28;01mreturn\u001b[39;00m \u001b[38;5;28;43mself\u001b[39;49m\u001b[38;5;241;43m.\u001b[39;49m\u001b[43m_fit\u001b[49m\u001b[43m(\u001b[49m\u001b[43mX\u001b[49m\u001b[43m,\u001b[49m\u001b[43m \u001b[49m\u001b[43my\u001b[49m\u001b[43m,\u001b[49m\u001b[43m \u001b[49m\u001b[43mcat_features\u001b[49m\u001b[43m,\u001b[49m\u001b[43m \u001b[49m\u001b[43mtext_features\u001b[49m\u001b[43m,\u001b[49m\u001b[43m \u001b[49m\u001b[43membedding_features\u001b[49m\u001b[43m,\u001b[49m\u001b[43m \u001b[49m\u001b[38;5;28;43;01mNone\u001b[39;49;00m\u001b[43m,\u001b[49m\u001b[43m \u001b[49m\u001b[43mgraph\u001b[49m\u001b[43m,\u001b[49m\u001b[43m \u001b[49m\u001b[43msample_weight\u001b[49m\u001b[43m,\u001b[49m\u001b[43m \u001b[49m\u001b[38;5;28;43;01mNone\u001b[39;49;00m\u001b[43m,\u001b[49m\u001b[43m \u001b[49m\u001b[38;5;28;43;01mNone\u001b[39;49;00m\u001b[43m,\u001b[49m\u001b[43m \u001b[49m\u001b[38;5;28;43;01mNone\u001b[39;49;00m\u001b[43m,\u001b[49m\u001b[43m \u001b[49m\u001b[38;5;28;43;01mNone\u001b[39;49;00m\u001b[43m,\u001b[49m\u001b[43m \u001b[49m\u001b[43mbaseline\u001b[49m\u001b[43m,\u001b[49m\n\u001b[1;32m   5874\u001b[0m \u001b[43m                 \u001b[49m\u001b[43muse_best_model\u001b[49m\u001b[43m,\u001b[49m\u001b[43m \u001b[49m\u001b[43meval_set\u001b[49m\u001b[43m,\u001b[49m\u001b[43m \u001b[49m\u001b[43mverbose\u001b[49m\u001b[43m,\u001b[49m\u001b[43m \u001b[49m\u001b[43mlogging_level\u001b[49m\u001b[43m,\u001b[49m\u001b[43m \u001b[49m\u001b[43mplot\u001b[49m\u001b[43m,\u001b[49m\u001b[43m \u001b[49m\u001b[43mplot_file\u001b[49m\u001b[43m,\u001b[49m\u001b[43m \u001b[49m\u001b[43mcolumn_description\u001b[49m\u001b[43m,\u001b[49m\n\u001b[1;32m   5875\u001b[0m \u001b[43m                 \u001b[49m\u001b[43mverbose_eval\u001b[49m\u001b[43m,\u001b[49m\u001b[43m \u001b[49m\u001b[43mmetric_period\u001b[49m\u001b[43m,\u001b[49m\u001b[43m \u001b[49m\u001b[43msilent\u001b[49m\u001b[43m,\u001b[49m\u001b[43m \u001b[49m\u001b[43mearly_stopping_rounds\u001b[49m\u001b[43m,\u001b[49m\n\u001b[1;32m   5876\u001b[0m \u001b[43m                 \u001b[49m\u001b[43msave_snapshot\u001b[49m\u001b[43m,\u001b[49m\u001b[43m \u001b[49m\u001b[43msnapshot_file\u001b[49m\u001b[43m,\u001b[49m\u001b[43m \u001b[49m\u001b[43msnapshot_interval\u001b[49m\u001b[43m,\u001b[49m\u001b[43m \u001b[49m\u001b[43minit_model\u001b[49m\u001b[43m,\u001b[49m\u001b[43m \u001b[49m\u001b[43mcallbacks\u001b[49m\u001b[43m,\u001b[49m\u001b[43m \u001b[49m\u001b[43mlog_cout\u001b[49m\u001b[43m,\u001b[49m\u001b[43m \u001b[49m\u001b[43mlog_cerr\u001b[49m\u001b[43m)\u001b[49m\n",
      "File \u001b[0;32m/Library/Frameworks/Python.framework/Versions/3.12/lib/python3.12/site-packages/catboost/core.py:2410\u001b[0m, in \u001b[0;36mCatBoost._fit\u001b[0;34m(self, X, y, cat_features, text_features, embedding_features, pairs, graph, sample_weight, group_id, group_weight, subgroup_id, pairs_weight, baseline, use_best_model, eval_set, verbose, logging_level, plot, plot_file, column_description, verbose_eval, metric_period, silent, early_stopping_rounds, save_snapshot, snapshot_file, snapshot_interval, init_model, callbacks, log_cout, log_cerr)\u001b[0m\n\u001b[1;32m   2407\u001b[0m allow_clear_pool \u001b[38;5;241m=\u001b[39m train_params[\u001b[38;5;124m\"\u001b[39m\u001b[38;5;124mallow_clear_pool\u001b[39m\u001b[38;5;124m\"\u001b[39m]\n\u001b[1;32m   2409\u001b[0m \u001b[38;5;28;01mwith\u001b[39;00m plot_wrapper(plot, plot_file, \u001b[38;5;124m'\u001b[39m\u001b[38;5;124mTraining plots\u001b[39m\u001b[38;5;124m'\u001b[39m, [_get_train_dir(\u001b[38;5;28mself\u001b[39m\u001b[38;5;241m.\u001b[39mget_params())]):\n\u001b[0;32m-> 2410\u001b[0m     \u001b[38;5;28;43mself\u001b[39;49m\u001b[38;5;241;43m.\u001b[39;49m\u001b[43m_train\u001b[49m\u001b[43m(\u001b[49m\n\u001b[1;32m   2411\u001b[0m \u001b[43m        \u001b[49m\u001b[43mtrain_pool\u001b[49m\u001b[43m,\u001b[49m\n\u001b[1;32m   2412\u001b[0m \u001b[43m        \u001b[49m\u001b[43mtrain_params\u001b[49m\u001b[43m[\u001b[49m\u001b[38;5;124;43m\"\u001b[39;49m\u001b[38;5;124;43meval_sets\u001b[39;49m\u001b[38;5;124;43m\"\u001b[39;49m\u001b[43m]\u001b[49m\u001b[43m,\u001b[49m\n\u001b[1;32m   2413\u001b[0m \u001b[43m        \u001b[49m\u001b[43mparams\u001b[49m\u001b[43m,\u001b[49m\n\u001b[1;32m   2414\u001b[0m \u001b[43m        \u001b[49m\u001b[43mallow_clear_pool\u001b[49m\u001b[43m,\u001b[49m\n\u001b[1;32m   2415\u001b[0m \u001b[43m        \u001b[49m\u001b[43mtrain_params\u001b[49m\u001b[43m[\u001b[49m\u001b[38;5;124;43m\"\u001b[39;49m\u001b[38;5;124;43minit_model\u001b[39;49m\u001b[38;5;124;43m\"\u001b[39;49m\u001b[43m]\u001b[49m\n\u001b[1;32m   2416\u001b[0m \u001b[43m    \u001b[49m\u001b[43m)\u001b[49m\n\u001b[1;32m   2418\u001b[0m \u001b[38;5;66;03m# Have property feature_importance possibly set\u001b[39;00m\n\u001b[1;32m   2419\u001b[0m loss \u001b[38;5;241m=\u001b[39m \u001b[38;5;28mself\u001b[39m\u001b[38;5;241m.\u001b[39m_object\u001b[38;5;241m.\u001b[39m_get_loss_function_name()\n",
      "File \u001b[0;32m/Library/Frameworks/Python.framework/Versions/3.12/lib/python3.12/site-packages/catboost/core.py:1790\u001b[0m, in \u001b[0;36m_CatBoostBase._train\u001b[0;34m(self, train_pool, test_pool, params, allow_clear_pool, init_model)\u001b[0m\n\u001b[1;32m   1789\u001b[0m \u001b[38;5;28;01mdef\u001b[39;00m\u001b[38;5;250m \u001b[39m\u001b[38;5;21m_train\u001b[39m(\u001b[38;5;28mself\u001b[39m, train_pool, test_pool, params, allow_clear_pool, init_model):\n\u001b[0;32m-> 1790\u001b[0m     \u001b[38;5;28;43mself\u001b[39;49m\u001b[38;5;241;43m.\u001b[39;49m\u001b[43m_object\u001b[49m\u001b[38;5;241;43m.\u001b[39;49m\u001b[43m_train\u001b[49m\u001b[43m(\u001b[49m\u001b[43mtrain_pool\u001b[49m\u001b[43m,\u001b[49m\u001b[43m \u001b[49m\u001b[43mtest_pool\u001b[49m\u001b[43m,\u001b[49m\u001b[43m \u001b[49m\u001b[43mparams\u001b[49m\u001b[43m,\u001b[49m\u001b[43m \u001b[49m\u001b[43mallow_clear_pool\u001b[49m\u001b[43m,\u001b[49m\u001b[43m \u001b[49m\u001b[43minit_model\u001b[49m\u001b[38;5;241;43m.\u001b[39;49m\u001b[43m_object\u001b[49m\u001b[43m \u001b[49m\u001b[38;5;28;43;01mif\u001b[39;49;00m\u001b[43m \u001b[49m\u001b[43minit_model\u001b[49m\u001b[43m \u001b[49m\u001b[38;5;28;43;01melse\u001b[39;49;00m\u001b[43m \u001b[49m\u001b[38;5;28;43;01mNone\u001b[39;49;00m\u001b[43m)\u001b[49m\n\u001b[1;32m   1791\u001b[0m     \u001b[38;5;28mself\u001b[39m\u001b[38;5;241m.\u001b[39m_set_trained_model_attributes()\n",
      "File \u001b[0;32m_catboost.pyx:5023\u001b[0m, in \u001b[0;36m_catboost._CatBoost._train\u001b[0;34m()\u001b[0m\n",
      "File \u001b[0;32m_catboost.pyx:5072\u001b[0m, in \u001b[0;36m_catboost._CatBoost._train\u001b[0;34m()\u001b[0m\n",
      "\u001b[0;31mKeyboardInterrupt\u001b[0m: "
     ]
    }
   ],
   "source": [
    "N_TRIALS_CAT = 200\n",
    "studies = {}\n",
    "for tgt in TARGETS:\n",
    "    print(f\"=== Tuning CatBoost for {tgt} ===\")\n",
    "    st = tune_catboost_for_target(tgt, n_trials=N_TRIALS_CAT, use_gpu=False)\n",
    "    print(f\"[{tgt}] Best CV R2: {st.best_value:.5f}\")\n",
    "    print(f\"[{tgt}] Best Params: {st.best_trial.params}\\n\")\n",
    "    studies[tgt] = st"
   ]
  },
  {
   "cell_type": "code",
   "execution_count": null,
   "id": "9ac653da",
   "metadata": {},
   "outputs": [],
   "source": [
    "fig = vis.plot_optimization_history(st)\n",
    "    fig.show()\n"
   ]
  },
  {
   "cell_type": "code",
   "execution_count": null,
   "id": "94aa2bca",
   "metadata": {},
   "outputs": [],
   "source": [
    "# print(studies[\"Y1\"].best_trial.params)\n",
    "# print(studies[\"Y2\"].best_trial.params)\n",
    "\n",
    "cat_best_params = {\"Y1\": {'depth': 8, 'learning_rate': 0.040727522856511406, 'l2_leaf_reg': 1.0333160687802394, 'bagging_temperature': 3.8381299885039564, 'random_strength': 1.177785615607334, 'min_data_in_leaf': 1, 'n_estimators': 1400},\n",
    "                   \"Y2\": {'depth': 8, 'learning_rate': 0.04557837932439958, 'l2_leaf_reg': 1.003216622307434, 'bagging_temperature': 2.8629839499568, 'random_strength': 0.30214757243346213, 'min_data_in_leaf': 34, 'n_estimators': 1300}\n",
    "                   }\n",
    "\"\"\"\n",
    "{'depth': 8, 'learning_rate': 0.040727522856511406, 'l2_leaf_reg': 1.0333160687802394, 'bagging_temperature': 3.8381299885039564, 'random_strength': 1.177785615607334, 'min_data_in_leaf': 1, 'n_estimators': 1400}\n",
    "{'depth': 8, 'learning_rate': 0.04557837932439958, 'l2_leaf_reg': 1.003216622307434, 'bagging_temperature': 2.8629839499568, 'random_strength': 0.30214757243346213, 'min_data_in_leaf': 34, 'n_estimators': 1300}\n",
    "\"\"\""
   ]
  },
  {
   "cell_type": "code",
   "execution_count": 13,
   "id": "06f95a41",
   "metadata": {},
   "outputs": [],
   "source": [
    "def train_oof_catboost(y_col, params, use_gpu=False):\n",
    "    y = Y[y_col].values\n",
    "    oof = np.zeros(len(X))\n",
    "    test_pred = np.zeros(len(test_X))\n",
    "    models = []\n",
    "\n",
    "    p = dict(params)\n",
    "    p.update({\n",
    "        \"loss_function\": \"RMSE\",\n",
    "        \"eval_metric\": \"R2\",\n",
    "        \"allow_writing_files\": False,\n",
    "        \"verbose\": 0\n",
    "    })\n",
    "    if use_gpu:\n",
    "        p[\"task_type\"] = \"GPU\"\n",
    "    \n",
    "    for fold, (tr_idx, va_idx) in enumerate(get_cv().split(X, y)):\n",
    "        X_tr, X_va = X.iloc[tr_idx], X.iloc[va_idx]\n",
    "        y_tr, y_va = y[tr_idx], y[va_idx]\n",
    "\n",
    "        model = CatBoostRegressor(**p, random_state=RANDOM_STATE + fold)\n",
    "        model.fit(\n",
    "            X_tr, y_tr,\n",
    "            cat_features = [],\n",
    "            eval_set = (X_va, y_va),\n",
    "            early_stopping_rounds=EARLY_STOP,\n",
    "        )\n",
    "        oof[va_idx] = model.predict(X_va)\n",
    "        test_pred += model.predict(test_X) / N_SPLITS\n",
    "        models.append(model)\n",
    "        print(f\"[{y_col}] Fold {fold+1}/{N_SPLITS} complete.\")\n",
    "\n",
    "    cv_r2 = r2_score(Y[y_col], oof)\n",
    "    mse  = mean_squared_error(Y[y_col], oof)\n",
    "    rmse = float(np.sqrt(mse))\n",
    "    print(f\"[OOF] {y_col}: R2={cv_r2:.5f} | RMSE={rmse:.5f}\")\n",
    "    return models, oof, test_pred, cv_r2"
   ]
  },
  {
   "cell_type": "code",
   "execution_count": 14,
   "id": "bc9c1fe8",
   "metadata": {},
   "outputs": [
    {
     "name": "stdout",
     "output_type": "stream",
     "text": [
      "[Y1] Fold 1/5 complete.\n",
      "[Y1] Fold 2/5 complete.\n",
      "[Y1] Fold 3/5 complete.\n",
      "[Y1] Fold 4/5 complete.\n",
      "[Y1] Fold 5/5 complete.\n",
      "[OOF] Y1: R2=0.63650 | RMSE=0.58521\n"
     ]
    },
    {
     "data": {
      "text/plain": [
       "([<catboost.core.CatBoostRegressor at 0x13fe12840>,\n",
       "  <catboost.core.CatBoostRegressor at 0x13eab3f20>,\n",
       "  <catboost.core.CatBoostRegressor at 0x13ed1f140>,\n",
       "  <catboost.core.CatBoostRegressor at 0x13fe382c0>,\n",
       "  <catboost.core.CatBoostRegressor at 0x13fe315b0>],\n",
       " array([ 0.        ,  0.        ,  0.        , ..., -0.19933465,\n",
       "        -0.56869217, -0.55460385], shape=(80000,)),\n",
       " array([ 0.40238588, -0.18884709, -0.16702734, ...,  0.24241503,\n",
       "         0.26853415,  0.27010785], shape=(15996,)),\n",
       " 0.6365043697560494)"
      ]
     },
     "execution_count": 14,
     "metadata": {},
     "output_type": "execute_result"
    }
   ],
   "source": [
    "train_oof_catboost(\"Y1\", {'depth': 8, 'learning_rate': 0.037770406084566416, 'l2_leaf_reg': 19.89034552682187, 'bagging_temperature': 2.9239327111077285, 'random_strength': 0.18761743934840397, 'min_data_in_leaf': 50, 'n_estimators': 2100}\n",
    ", use_gpu=False)\n"
   ]
  },
  {
   "cell_type": "code",
   "execution_count": null,
   "id": "41b3acb6",
   "metadata": {},
   "outputs": [],
   "source": [
    "cat_models = {}\n",
    "oof_preds = {}\n",
    "test_preds = {}\n",
    "cv_scores = {}\n",
    "\n",
    "for tgt in TARGETS:\n",
    "    best_params = cat_best_params[tgt]\n",
    "    models, oof, test_p, r2cv = train_oof_catboost(tgt, best_params, use_gpu=False)\n",
    "    cat_models[tgt] = models\n",
    "    oof_preds[tgt] = oof\n",
    "    test_preds[tgt] = test_p\n",
    "    cv_scores[tgt] = r2cv\n",
    "\n",
    "print(\"CV Scores:\", cv_scores)"
   ]
  },
  {
   "cell_type": "code",
   "execution_count": null,
   "id": "1684d481",
   "metadata": {},
   "outputs": [],
   "source": [
    "submission = pd.DataFrame()\n",
    "submission[ID_COL] = df_test[ID_COL]\n",
    "for tgt in TARGETS:\n",
    "    submission[tgt] = test_preds[tgt]\n",
    "\n",
    "OUT_PATH = \"submission_catboost_optuna.csv\"\n",
    "submission.to_csv(OUT_PATH, index=False)\n",
    "print(\"Saved:\", OUT_PATH)\n",
    "submission.head()"
   ]
  },
  {
   "cell_type": "markdown",
   "id": "a85c85c9",
   "metadata": {},
   "source": [
    "now test xgb boost and blend both together  "
   ]
  },
  {
   "cell_type": "code",
   "execution_count": 10,
   "id": "98c44137",
   "metadata": {},
   "outputs": [],
   "source": [
    "def _get_best_iteration(bst):\n",
    "    # Works across xgboost 1.x/2.x/3.x\n",
    "    bi = getattr(bst, \"best_iteration\", None)\n",
    "    if bi is None:\n",
    "        # some builds store it in attributes dict\n",
    "        try:\n",
    "            bi = int(bst.attributes().get(\"best_iteration\"))\n",
    "        except Exception:\n",
    "            bi = None\n",
    "    return bi\n",
    "\n",
    "def _predict_best(bst, dmatrix):\n",
    "    bi = _get_best_iteration(bst)\n",
    "    if bi is not None:\n",
    "        # in 3.x use iteration_range instead of ntree_limit\n",
    "        return bst.predict(dmatrix, iteration_range=(0, bi + 1))\n",
    "    # fallback: use all trees\n",
    "    return bst.predict(dmatrix)\n",
    "    \n",
    "def tune_xgb_for_target(y_col, n_trials=60, use_gpu=False):\n",
    "    y = Y[y_col]\n",
    "\n",
    "    def objective(trial):\n",
    "        num_boost_round = trial.suggest_int(\"num_boost_round\", 800, 2500, step=100)\n",
    "        params = {\n",
    "            \"objective\": \"reg:squarederror\",\n",
    "            \"eval_metric\": \"rmse\",\n",
    "            \"learning_rate\": trial.suggest_float(\"learning_rate\", 0.01, 0.3, log=True),\n",
    "            \"max_depth\": trial.suggest_int(\"max_depth\", 3, 10),\n",
    "            \"subsample\": trial.suggest_float(\"subsample\", 0.5, 1.0),\n",
    "            \"colsample_bytree\": trial.suggest_float(\"colsample_bytree\", 0.5, 1.0),\n",
    "            \"min_child_weight\": trial.suggest_float(\"min_child_weight\", 1.0, 20.0, log=True),\n",
    "            \"alpha\": trial.suggest_float(\"reg_alpha\", 1e-8, 1.0, log=True),\n",
    "            \"lambda\": trial.suggest_float(\"reg_lambda\", 1e-8, 10.0, log=True),\n",
    "            \"gamma\": trial.suggest_float(\"gamma\", 0.0, 5.0),\n",
    "            \"tree_method\": \"gpu_hist\" if use_gpu else \"hist\",\n",
    "            \"seed\": RANDOM_STATE,\n",
    "        }\n",
    "        \n",
    "        scores = []\n",
    "        for fold, (tr_idx, va_idx) in enumerate(get_cv().split(X, y)):\n",
    "            X_tr, X_va = X.iloc[tr_idx], X.iloc[va_idx]\n",
    "            y_tr, y_va = y.iloc[tr_idx], y.iloc[va_idx]\n",
    "\n",
    "            dtr = xgb.DMatrix(X_tr, label=y_tr)\n",
    "            dva = xgb.DMatrix(X_va, label=y_va)\n",
    "\n",
    "            bst = xgb.train(\n",
    "                params=params,\n",
    "                dtrain=dtr,\n",
    "                num_boost_round=num_boost_round,\n",
    "                evals=[(dva, \"valid\")],\n",
    "                early_stopping_rounds=EARLY_STOP,\n",
    "                verbose_eval=False,\n",
    "            )\n",
    "\n",
    "            pred = _predict_best(bst, dva)\n",
    "            scores.append(r2_score(y_va, pred))\n",
    "\n",
    "            trial.report(float(np.mean(scores)), step=fold)\n",
    "            if trial.should_prune():\n",
    "                raise optuna.TrialPruned()\n",
    "            \n",
    "        return float(np.mean(scores))\n",
    "    \n",
    "    study = optuna.create_study(direction=\"maximize\", sampler=optuna.samplers.TPESampler(seed=RANDOM_STATE), pruner=optuna.pruners.MedianPruner(n_warmup_steps=1),)\n",
    "    study.optimize(objective, n_trials=n_trials, n_jobs=1, show_progress_bar=True)\n",
    "    return study"
   ]
  },
  {
   "cell_type": "code",
   "execution_count": 11,
   "id": "82626c36",
   "metadata": {},
   "outputs": [
    {
     "name": "stderr",
     "output_type": "stream",
     "text": [
      "[I 2025-09-22 21:55:17,035] A new study created in memory with name: no-name-1ab0a6ee-3436-478f-b0aa-263c63c0884f\n"
     ]
    },
    {
     "name": "stdout",
     "output_type": "stream",
     "text": [
      "=== Tuning XGBoost for Y1 ===\n"
     ]
    },
    {
     "name": "stderr",
     "output_type": "stream",
     "text": [
      "Best trial: 0. Best value: 0.710878:   0%|          | 1/200 [00:01<04:09,  1.25s/it]"
     ]
    },
    {
     "name": "stdout",
     "output_type": "stream",
     "text": [
      "[I 2025-09-22 21:55:18,287] Trial 0 finished with value: 0.7108779217530772 and parameters: {'num_boost_round': 1400, 'learning_rate': 0.2536999076681771, 'max_depth': 8, 'subsample': 0.7993292420985183, 'colsample_bytree': 0.5780093202212182, 'min_child_weight': 1.5957084694148351, 'reg_alpha': 2.9152036385288193e-08, 'reg_lambda': 0.6245760287469887, 'gamma': 3.005575058716044}. Best is trial 0 with value: 0.7108779217530772.\n"
     ]
    },
    {
     "name": "stderr",
     "output_type": "stream",
     "text": [
      "Best trial: 1. Best value: 0.725204:   1%|          | 2/200 [00:11<20:52,  6.33s/it]"
     ]
    },
    {
     "name": "stdout",
     "output_type": "stream",
     "text": [
      "[I 2025-09-22 21:55:28,166] Trial 1 finished with value: 0.7252043398883493 and parameters: {'num_boost_round': 2000, 'learning_rate': 0.010725209743171997, 'max_depth': 10, 'subsample': 0.9162213204002109, 'colsample_bytree': 0.6061695553391381, 'min_child_weight': 1.7240892195821529, 'reg_alpha': 2.9324868872723725e-07, 'reg_lambda': 5.472429642032189e-06, 'gamma': 2.6237821581611893}. Best is trial 1 with value: 0.7252043398883493.\n"
     ]
    },
    {
     "name": "stderr",
     "output_type": "stream",
     "text": [
      "Best trial: 2. Best value: 0.732855:   2%|▏         | 3/200 [00:16<18:37,  5.67s/it]"
     ]
    },
    {
     "name": "stdout",
     "output_type": "stream",
     "text": [
      "[I 2025-09-22 21:55:33,061] Trial 2 finished with value: 0.7328551885513123 and parameters: {'num_boost_round': 1500, 'learning_rate': 0.02692655251486473, 'max_depth': 7, 'subsample': 0.569746930326021, 'colsample_bytree': 0.6460723242676091, 'min_child_weight': 2.9967309097101573, 'reg_alpha': 4.452048365748842e-05, 'reg_lambda': 0.11656915613247415, 'gamma': 0.9983689107917987}. Best is trial 2 with value: 0.7328551885513123.\n"
     ]
    },
    {
     "name": "stderr",
     "output_type": "stream",
     "text": [
      "Best trial: 2. Best value: 0.732855:   2%|▏         | 4/200 [00:19<15:48,  4.84s/it]"
     ]
    },
    {
     "name": "stdout",
     "output_type": "stream",
     "text": [
      "[I 2025-09-22 21:55:36,619] Trial 3 finished with value: 0.7321720592607918 and parameters: {'num_boost_round': 1700, 'learning_rate': 0.07500118950416987, 'max_depth': 3, 'subsample': 0.8037724259507192, 'colsample_bytree': 0.5852620618436457, 'min_child_weight': 1.2151617026673374, 'reg_alpha': 0.3900176830802197, 'reg_lambda': 4.905556676028766, 'gamma': 4.041986740582305}. Best is trial 2 with value: 0.7328551885513123.\n"
     ]
    },
    {
     "name": "stderr",
     "output_type": "stream",
     "text": [
      "Best trial: 4. Best value: 0.73665:   2%|▎         | 5/200 [00:28<20:07,  6.19s/it] "
     ]
    },
    {
     "name": "stdout",
     "output_type": "stream",
     "text": [
      "[I 2025-09-22 21:55:45,208] Trial 4 finished with value: 0.7366497832186644 and parameters: {'num_boost_round': 1300, 'learning_rate': 0.013940346079873234, 'max_depth': 8, 'subsample': 0.7200762468698007, 'colsample_bytree': 0.5610191174223894, 'min_child_weight': 4.407984038169241, 'reg_alpha': 1.8841183049085085e-08, 'reg_lambda': 1.5271567592511939, 'gamma': 1.2938999080000846}. Best is trial 4 with value: 0.7366497832186644.\n"
     ]
    },
    {
     "name": "stderr",
     "output_type": "stream",
     "text": [
      "Best trial: 4. Best value: 0.73665:   3%|▎         | 6/200 [00:32<17:44,  5.49s/it]"
     ]
    },
    {
     "name": "stdout",
     "output_type": "stream",
     "text": [
      "[I 2025-09-22 21:55:49,331] Trial 5 finished with value: 0.7350810481307959 and parameters: {'num_boost_round': 1900, 'learning_rate': 0.028869220380495747, 'max_depth': 7, 'subsample': 0.7733551396716398, 'colsample_bytree': 0.5924272277627636, 'min_child_weight': 18.258230439200236, 'reg_alpha': 0.015887756931672537, 'reg_lambda': 2.8542399074977594, 'gamma': 4.474136752138244}. Best is trial 4 with value: 0.7366497832186644.\n"
     ]
    },
    {
     "name": "stderr",
     "output_type": "stream",
     "text": [
      "Best trial: 4. Best value: 0.73665:   4%|▎         | 7/200 [00:32<12:36,  3.92s/it]"
     ]
    },
    {
     "name": "stdout",
     "output_type": "stream",
     "text": [
      "[I 2025-09-22 21:55:50,017] Trial 6 pruned. \n"
     ]
    },
    {
     "name": "stderr",
     "output_type": "stream",
     "text": [
      "Best trial: 4. Best value: 0.73665:   4%|▍         | 8/200 [00:36<12:21,  3.86s/it]"
     ]
    },
    {
     "name": "stdout",
     "output_type": "stream",
     "text": [
      "[I 2025-09-22 21:55:53,756] Trial 7 pruned. \n"
     ]
    },
    {
     "name": "stderr",
     "output_type": "stream",
     "text": [
      "Best trial: 4. Best value: 0.73665:   4%|▍         | 9/200 [00:37<09:11,  2.89s/it]"
     ]
    },
    {
     "name": "stdout",
     "output_type": "stream",
     "text": [
      "[I 2025-09-22 21:55:54,508] Trial 8 pruned. \n"
     ]
    },
    {
     "name": "stderr",
     "output_type": "stream",
     "text": [
      "Best trial: 4. Best value: 0.73665:   5%|▌         | 10/200 [00:41<09:46,  3.09s/it]"
     ]
    },
    {
     "name": "stdout",
     "output_type": "stream",
     "text": [
      "[I 2025-09-22 21:55:58,046] Trial 9 finished with value: 0.731846880991418 and parameters: {'num_boost_round': 1900, 'learning_rate': 0.030816017044468066, 'max_depth': 3, 'subsample': 0.6554911608578311, 'colsample_bytree': 0.6625916610133735, 'min_child_weight': 8.89691667259267, 'reg_alpha': 0.0012602588933700119, 'reg_lambda': 0.9658611176861261, 'gamma': 2.3610746258097466}. Best is trial 4 with value: 0.7366497832186644.\n"
     ]
    },
    {
     "name": "stderr",
     "output_type": "stream",
     "text": [
      "Best trial: 4. Best value: 0.73665:   6%|▌         | 11/200 [00:48<14:23,  4.57s/it]"
     ]
    },
    {
     "name": "stdout",
     "output_type": "stream",
     "text": [
      "[I 2025-09-22 21:56:05,964] Trial 10 finished with value: 0.7346595362014133 and parameters: {'num_boost_round': 2500, 'learning_rate': 0.010206070557577017, 'max_depth': 5, 'subsample': 0.6889757749826013, 'colsample_bytree': 0.7680942943488798, 'min_child_weight': 6.1690739925402, 'reg_alpha': 1.3213398327413753e-08, 'reg_lambda': 0.003327054963436227, 'gamma': 0.23696217751263204}. Best is trial 4 with value: 0.7366497832186644.\n"
     ]
    },
    {
     "name": "stderr",
     "output_type": "stream",
     "text": [
      "Best trial: 4. Best value: 0.73665:   6%|▌         | 12/200 [00:54<15:20,  4.90s/it]"
     ]
    },
    {
     "name": "stdout",
     "output_type": "stream",
     "text": [
      "[I 2025-09-22 21:56:11,615] Trial 11 finished with value: 0.7352252385742736 and parameters: {'num_boost_round': 1000, 'learning_rate': 0.01784561132579875, 'max_depth': 10, 'subsample': 0.7311722932108227, 'colsample_bytree': 0.7518138484340006, 'min_child_weight': 17.77566972597263, 'reg_alpha': 0.005806165633303254, 'reg_lambda': 0.0029151336209232927, 'gamma': 4.99049756664965}. Best is trial 4 with value: 0.7366497832186644.\n"
     ]
    },
    {
     "name": "stderr",
     "output_type": "stream",
     "text": [
      "Best trial: 4. Best value: 0.73665:   6%|▋         | 13/200 [01:02<17:47,  5.71s/it]"
     ]
    },
    {
     "name": "stdout",
     "output_type": "stream",
     "text": [
      "[I 2025-09-22 21:56:19,197] Trial 12 finished with value: 0.7353322857382533 and parameters: {'num_boost_round': 900, 'learning_rate': 0.01632451450705125, 'max_depth': 10, 'subsample': 0.9929294675046496, 'colsample_bytree': 0.7841455550226555, 'min_child_weight': 13.622756644495823, 'reg_alpha': 0.0010498894267673938, 'reg_lambda': 0.001431125518241818, 'gamma': 1.6921629101016427}. Best is trial 4 with value: 0.7366497832186644.\n"
     ]
    },
    {
     "name": "stderr",
     "output_type": "stream",
     "text": [
      "Best trial: 4. Best value: 0.73665:   7%|▋         | 14/200 [01:04<14:15,  4.60s/it]"
     ]
    },
    {
     "name": "stdout",
     "output_type": "stream",
     "text": [
      "[I 2025-09-22 21:56:21,221] Trial 13 pruned. \n"
     ]
    },
    {
     "name": "stderr",
     "output_type": "stream",
     "text": [
      "Best trial: 4. Best value: 0.73665:   8%|▊         | 15/200 [01:09<14:23,  4.67s/it]"
     ]
    },
    {
     "name": "stdout",
     "output_type": "stream",
     "text": [
      "[I 2025-09-22 21:56:26,052] Trial 14 pruned. \n"
     ]
    },
    {
     "name": "stderr",
     "output_type": "stream",
     "text": [
      "Best trial: 4. Best value: 0.73665:   8%|▊         | 16/200 [01:11<12:37,  4.12s/it]"
     ]
    },
    {
     "name": "stdout",
     "output_type": "stream",
     "text": [
      "[I 2025-09-22 21:56:28,893] Trial 15 finished with value: 0.7347369977970851 and parameters: {'num_boost_round': 800, 'learning_rate': 0.09495434662127901, 'max_depth': 5, 'subsample': 0.5054945946218856, 'colsample_bytree': 0.6982014285095889, 'min_child_weight': 10.744288313433142, 'reg_alpha': 6.809914823961662e-07, 'reg_lambda': 0.010836930382935862, 'gamma': 0.2910054682539276}. Best is trial 4 with value: 0.7366497832186644.\n"
     ]
    },
    {
     "name": "stderr",
     "output_type": "stream",
     "text": [
      "Best trial: 4. Best value: 0.73665:   8%|▊         | 17/200 [01:16<13:09,  4.32s/it]"
     ]
    },
    {
     "name": "stdout",
     "output_type": "stream",
     "text": [
      "[I 2025-09-22 21:56:33,669] Trial 16 pruned. \n"
     ]
    },
    {
     "name": "stderr",
     "output_type": "stream",
     "text": [
      "Best trial: 4. Best value: 0.73665:   9%|▉         | 18/200 [01:19<12:07,  4.00s/it]"
     ]
    },
    {
     "name": "stdout",
     "output_type": "stream",
     "text": [
      "[I 2025-09-22 21:56:36,933] Trial 17 finished with value: 0.7354199845184188 and parameters: {'num_boost_round': 1200, 'learning_rate': 0.044088914536090144, 'max_depth': 10, 'subsample': 0.8515234777545337, 'colsample_bytree': 0.8338519417099195, 'min_child_weight': 12.23132262071654, 'reg_alpha': 0.00018307318310399905, 'reg_lambda': 9.89503798689999e-06, 'gamma': 3.35618483675276}. Best is trial 4 with value: 0.7366497832186644.\n"
     ]
    },
    {
     "name": "stderr",
     "output_type": "stream",
     "text": [
      "Best trial: 4. Best value: 0.73665:  10%|▉         | 19/200 [01:21<09:56,  3.30s/it]"
     ]
    },
    {
     "name": "stdout",
     "output_type": "stream",
     "text": [
      "[I 2025-09-22 21:56:38,598] Trial 18 pruned. \n"
     ]
    },
    {
     "name": "stderr",
     "output_type": "stream",
     "text": [
      "Best trial: 4. Best value: 0.73665:  10%|█         | 20/200 [01:23<08:36,  2.87s/it]"
     ]
    },
    {
     "name": "stdout",
     "output_type": "stream",
     "text": [
      "[I 2025-09-22 21:56:40,462] Trial 19 finished with value: 0.7251219084800772 and parameters: {'num_boost_round': 2200, 'learning_rate': 0.10992612129279312, 'max_depth': 8, 'subsample': 0.7159288929998384, 'colsample_bytree': 0.9547579816359439, 'min_child_weight': 4.971344185964042, 'reg_alpha': 9.674759908515095e-05, 'reg_lambda': 3.3591837789878337e-07, 'gamma': 3.484894664805075}. Best is trial 4 with value: 0.7366497832186644.\n"
     ]
    },
    {
     "name": "stderr",
     "output_type": "stream",
     "text": [
      "Best trial: 4. Best value: 0.73665:  10%|█         | 21/200 [01:26<08:55,  2.99s/it]"
     ]
    },
    {
     "name": "stdout",
     "output_type": "stream",
     "text": [
      "[I 2025-09-22 21:56:43,741] Trial 20 finished with value: 0.7353387463247743 and parameters: {'num_boost_round': 1600, 'learning_rate': 0.04625285263811208, 'max_depth': 6, 'subsample': 0.6497344862907584, 'colsample_bytree': 0.7083302046085005, 'min_child_weight': 12.331812923646897, 'reg_alpha': 3.59449015780105e-06, 'reg_lambda': 5.53266800420351e-05, 'gamma': 2.363598131193653}. Best is trial 4 with value: 0.7366497832186644.\n"
     ]
    },
    {
     "name": "stderr",
     "output_type": "stream",
     "text": [
      "Best trial: 4. Best value: 0.73665:  11%|█         | 22/200 [01:29<09:07,  3.08s/it]"
     ]
    },
    {
     "name": "stdout",
     "output_type": "stream",
     "text": [
      "[I 2025-09-22 21:56:47,015] Trial 21 finished with value: 0.7356242032782669 and parameters: {'num_boost_round': 1600, 'learning_rate': 0.04687909349056308, 'max_depth': 6, 'subsample': 0.6452283293977984, 'colsample_bytree': 0.7101949657098399, 'min_child_weight': 12.106124889479954, 'reg_alpha': 3.6142240360279788e-06, 'reg_lambda': 2.7217278948375043e-05, 'gamma': 2.345413177146108}. Best is trial 4 with value: 0.7366497832186644.\n"
     ]
    },
    {
     "name": "stderr",
     "output_type": "stream",
     "text": [
      "Best trial: 4. Best value: 0.73665:  12%|█▏        | 23/200 [01:31<07:53,  2.68s/it]"
     ]
    },
    {
     "name": "stdout",
     "output_type": "stream",
     "text": [
      "[I 2025-09-22 21:56:48,761] Trial 22 pruned. \n"
     ]
    },
    {
     "name": "stderr",
     "output_type": "stream",
     "text": [
      "Best trial: 4. Best value: 0.73665:  12%|█▏        | 24/200 [01:35<08:38,  2.95s/it]"
     ]
    },
    {
     "name": "stdout",
     "output_type": "stream",
     "text": [
      "[I 2025-09-22 21:56:52,337] Trial 23 finished with value: 0.7352712136707327 and parameters: {'num_boost_round': 1600, 'learning_rate': 0.03757348249811843, 'max_depth': 6, 'subsample': 0.7629218386634635, 'colsample_bytree': 0.8408403455837244, 'min_child_weight': 9.83969404483763, 'reg_alpha': 2.0736432996084303e-05, 'reg_lambda': 2.472266291873601e-05, 'gamma': 1.0090663851498713}. Best is trial 4 with value: 0.7366497832186644.\n"
     ]
    },
    {
     "name": "stderr",
     "output_type": "stream",
     "text": [
      "Best trial: 4. Best value: 0.73665:  12%|█▎        | 25/200 [01:36<06:56,  2.38s/it]"
     ]
    },
    {
     "name": "stdout",
     "output_type": "stream",
     "text": [
      "[I 2025-09-22 21:56:53,400] Trial 24 pruned. \n"
     ]
    },
    {
     "name": "stderr",
     "output_type": "stream",
     "text": [
      "Best trial: 4. Best value: 0.73665:  13%|█▎        | 26/200 [01:38<06:40,  2.30s/it]"
     ]
    },
    {
     "name": "stdout",
     "output_type": "stream",
     "text": [
      "[I 2025-09-22 21:56:55,524] Trial 25 pruned. \n"
     ]
    },
    {
     "name": "stderr",
     "output_type": "stream",
     "text": [
      "Best trial: 26. Best value: 0.73715:  14%|█▎        | 27/200 [01:45<10:18,  3.58s/it]"
     ]
    },
    {
     "name": "stdout",
     "output_type": "stream",
     "text": [
      "[I 2025-09-22 21:57:02,069] Trial 26 finished with value: 0.7371504790604282 and parameters: {'num_boost_round': 1000, 'learning_rate': 0.019388808299566067, 'max_depth': 8, 'subsample': 0.6115441561293566, 'colsample_bytree': 0.5340896311953696, 'min_child_weight': 5.754404949945996, 'reg_alpha': 2.0767937261842873e-06, 'reg_lambda': 0.019103486825964324, 'gamma': 0.6737957218967112}. Best is trial 26 with value: 0.7371504790604282.\n"
     ]
    },
    {
     "name": "stderr",
     "output_type": "stream",
     "text": [
      "Best trial: 26. Best value: 0.73715:  14%|█▍        | 28/200 [01:51<12:37,  4.40s/it]"
     ]
    },
    {
     "name": "stdout",
     "output_type": "stream",
     "text": [
      "[I 2025-09-22 21:57:08,405] Trial 27 finished with value: 0.7369025211451937 and parameters: {'num_boost_round': 1000, 'learning_rate': 0.020637019824487207, 'max_depth': 8, 'subsample': 0.6033034620906373, 'colsample_bytree': 0.5295716509674251, 'min_child_weight': 5.688814456596472, 'reg_alpha': 1.325288140561246e-06, 'reg_lambda': 0.021793202309392724, 'gamma': 0.6574398394416624}. Best is trial 26 with value: 0.7371504790604282.\n"
     ]
    },
    {
     "name": "stderr",
     "output_type": "stream",
     "text": [
      "Best trial: 26. Best value: 0.73715:  14%|█▍        | 29/200 [02:00<16:24,  5.76s/it]"
     ]
    },
    {
     "name": "stdout",
     "output_type": "stream",
     "text": [
      "[I 2025-09-22 21:57:17,326] Trial 28 finished with value: 0.7361000984513565 and parameters: {'num_boost_round': 1000, 'learning_rate': 0.012706094689401983, 'max_depth': 8, 'subsample': 0.5106534812391548, 'colsample_bytree': 0.5426596446974128, 'min_child_weight': 3.4359154234565836, 'reg_alpha': 1.2951113719019182e-07, 'reg_lambda': 0.04520670796132151, 'gamma': 0.5918414749288721}. Best is trial 26 with value: 0.7371504790604282.\n"
     ]
    },
    {
     "name": "stderr",
     "output_type": "stream",
     "text": [
      "Best trial: 26. Best value: 0.73715:  15%|█▌        | 30/200 [02:03<14:26,  5.10s/it]"
     ]
    },
    {
     "name": "stdout",
     "output_type": "stream",
     "text": [
      "[I 2025-09-22 21:57:20,874] Trial 29 pruned. \n"
     ]
    },
    {
     "name": "stderr",
     "output_type": "stream",
     "text": [
      "Best trial: 30. Best value: 0.738153:  16%|█▌        | 31/200 [02:11<16:40,  5.92s/it]"
     ]
    },
    {
     "name": "stdout",
     "output_type": "stream",
     "text": [
      "[I 2025-09-22 21:57:28,717] Trial 30 finished with value: 0.738153100978742 and parameters: {'num_boost_round': 900, 'learning_rate': 0.013025379218615416, 'max_depth': 8, 'subsample': 0.540456523215285, 'colsample_bytree': 0.624281096861529, 'min_child_weight': 5.855622179323885, 'reg_alpha': 1.0325977607087896e-08, 'reg_lambda': 0.018833038543987764, 'gamma': 1.3052217894731053}. Best is trial 30 with value: 0.738153100978742.\n"
     ]
    },
    {
     "name": "stderr",
     "output_type": "stream",
     "text": [
      "Best trial: 31. Best value: 0.738897:  16%|█▌        | 32/200 [02:19<18:24,  6.58s/it]"
     ]
    },
    {
     "name": "stdout",
     "output_type": "stream",
     "text": [
      "[I 2025-09-22 21:57:36,826] Trial 31 finished with value: 0.7388971801333891 and parameters: {'num_boost_round': 900, 'learning_rate': 0.013698256838794477, 'max_depth': 8, 'subsample': 0.5451421805342256, 'colsample_bytree': 0.6276339257662077, 'min_child_weight': 6.036650197457239, 'reg_alpha': 1.0500495614517659e-08, 'reg_lambda': 0.020130164228766935, 'gamma': 0.6336349371918423}. Best is trial 31 with value: 0.7388971801333891.\n"
     ]
    },
    {
     "name": "stderr",
     "output_type": "stream",
     "text": [
      "Best trial: 31. Best value: 0.738897:  16%|█▋        | 33/200 [02:25<17:34,  6.31s/it]"
     ]
    },
    {
     "name": "stdout",
     "output_type": "stream",
     "text": [
      "[I 2025-09-22 21:57:42,530] Trial 32 finished with value: 0.7378972192763941 and parameters: {'num_boost_round': 900, 'learning_rate': 0.021082600527713474, 'max_depth': 7, 'subsample': 0.5471661863835688, 'colsample_bytree': 0.6222220075870118, 'min_child_weight': 6.109587834847559, 'reg_alpha': 1.046024087097459e-06, 'reg_lambda': 0.015019819615566461, 'gamma': 0.6468044215920121}. Best is trial 31 with value: 0.7388971801333891.\n"
     ]
    },
    {
     "name": "stderr",
     "output_type": "stream",
     "text": [
      "Best trial: 31. Best value: 0.738897:  17%|█▋        | 34/200 [02:33<18:58,  6.86s/it]"
     ]
    },
    {
     "name": "stdout",
     "output_type": "stream",
     "text": [
      "[I 2025-09-22 21:57:50,664] Trial 33 finished with value: 0.7383993454587481 and parameters: {'num_boost_round': 800, 'learning_rate': 0.01227422193867959, 'max_depth': 7, 'subsample': 0.5413700405501902, 'colsample_bytree': 0.6310012891173078, 'min_child_weight': 6.259384525290594, 'reg_alpha': 2.1522216018658811e-07, 'reg_lambda': 0.2065489402076617, 'gamma': 0.6571092235939733}. Best is trial 31 with value: 0.7388971801333891.\n"
     ]
    },
    {
     "name": "stderr",
     "output_type": "stream",
     "text": [
      "Best trial: 31. Best value: 0.738897:  18%|█▊        | 35/200 [02:41<19:33,  7.11s/it]"
     ]
    },
    {
     "name": "stdout",
     "output_type": "stream",
     "text": [
      "[I 2025-09-22 21:57:58,370] Trial 34 finished with value: 0.738873474330897 and parameters: {'num_boost_round': 800, 'learning_rate': 0.012633522630765864, 'max_depth': 7, 'subsample': 0.5508772466746913, 'colsample_bytree': 0.6372246281294276, 'min_child_weight': 7.825399985879019, 'reg_alpha': 2.1130754764678044e-07, 'reg_lambda': 0.19401776777206883, 'gamma': 1.2724507906843803}. Best is trial 31 with value: 0.7388971801333891.\n"
     ]
    },
    {
     "name": "stderr",
     "output_type": "stream",
     "text": [
      "Best trial: 31. Best value: 0.738897:  18%|█▊        | 36/200 [02:49<20:06,  7.36s/it]"
     ]
    },
    {
     "name": "stdout",
     "output_type": "stream",
     "text": [
      "[I 2025-09-22 21:58:06,294] Trial 35 finished with value: 0.7385983429666003 and parameters: {'num_boost_round': 800, 'learning_rate': 0.012255881338689155, 'max_depth': 7, 'subsample': 0.5384757558682182, 'colsample_bytree': 0.6445134876323114, 'min_child_weight': 7.987074415153936, 'reg_alpha': 5.0605087827968585e-08, 'reg_lambda': 0.2111591121160489, 'gamma': 1.3272199199555086}. Best is trial 31 with value: 0.7388971801333891.\n"
     ]
    },
    {
     "name": "stderr",
     "output_type": "stream",
     "text": [
      "Best trial: 31. Best value: 0.738897:  18%|█▊        | 37/200 [02:57<20:36,  7.58s/it]"
     ]
    },
    {
     "name": "stdout",
     "output_type": "stream",
     "text": [
      "[I 2025-09-22 21:58:14,405] Trial 36 finished with value: 0.7384167337554344 and parameters: {'num_boost_round': 800, 'learning_rate': 0.011483513873366689, 'max_depth': 7, 'subsample': 0.5381553041641013, 'colsample_bytree': 0.6725801974874759, 'min_child_weight': 7.791683193248827, 'reg_alpha': 5.654838031841675e-08, 'reg_lambda': 0.2878313828616275, 'gamma': 1.300598420816288}. Best is trial 31 with value: 0.7388971801333891.\n"
     ]
    },
    {
     "name": "stderr",
     "output_type": "stream",
     "text": [
      "Best trial: 31. Best value: 0.738897:  19%|█▉        | 38/200 [03:07<22:44,  8.42s/it]"
     ]
    },
    {
     "name": "stdout",
     "output_type": "stream",
     "text": [
      "[I 2025-09-22 21:58:24,779] Trial 37 finished with value: 0.7384908436984434 and parameters: {'num_boost_round': 800, 'learning_rate': 0.01005432333144519, 'max_depth': 7, 'subsample': 0.5633862729668965, 'colsample_bytree': 0.6701650209242781, 'min_child_weight': 8.152027729434566, 'reg_alpha': 5.904648496357831e-08, 'reg_lambda': 6.8657275946606875, 'gamma': 1.2612710867520858}. Best is trial 31 with value: 0.7388971801333891.\n"
     ]
    },
    {
     "name": "stderr",
     "output_type": "stream",
     "text": [
      "Best trial: 31. Best value: 0.738897:  20%|█▉        | 39/200 [03:18<24:27,  9.11s/it]"
     ]
    },
    {
     "name": "stdout",
     "output_type": "stream",
     "text": [
      "[I 2025-09-22 21:58:35,505] Trial 38 finished with value: 0.738219458050191 and parameters: {'num_boost_round': 900, 'learning_rate': 0.010751594096501242, 'max_depth': 7, 'subsample': 0.577758453660492, 'colsample_bytree': 0.5806746828907995, 'min_child_weight': 8.717471215283632, 'reg_alpha': 5.932013958623302e-08, 'reg_lambda': 7.564891026909796, 'gamma': 1.0302449794699986}. Best is trial 31 with value: 0.7388971801333891.\n"
     ]
    },
    {
     "name": "stderr",
     "output_type": "stream",
     "text": [
      "Best trial: 31. Best value: 0.738897:  20%|██        | 40/200 [03:25<22:18,  8.36s/it]"
     ]
    },
    {
     "name": "stdout",
     "output_type": "stream",
     "text": [
      "[I 2025-09-22 21:58:42,123] Trial 39 finished with value: 0.7380686843796216 and parameters: {'num_boost_round': 1100, 'learning_rate': 0.013697747400140596, 'max_depth': 6, 'subsample': 0.5766908034203452, 'colsample_bytree': 0.6735576353226944, 'min_child_weight': 7.171413567122263, 'reg_alpha': 3.534772522909059e-07, 'reg_lambda': 1.7948677320396758, 'gamma': 1.3731085706641724}. Best is trial 31 with value: 0.7388971801333891.\n"
     ]
    },
    {
     "name": "stderr",
     "output_type": "stream",
     "text": [
      "Best trial: 31. Best value: 0.738897:  20%|██        | 41/200 [03:30<19:37,  7.41s/it]"
     ]
    },
    {
     "name": "stdout",
     "output_type": "stream",
     "text": [
      "[I 2025-09-22 21:58:47,292] Trial 40 finished with value: 0.7377933497377788 and parameters: {'num_boost_round': 800, 'learning_rate': 0.024857555226756013, 'max_depth': 7, 'subsample': 0.5006732130792366, 'colsample_bytree': 0.6010937779492729, 'min_child_weight': 9.546421152182695, 'reg_alpha': 3.6522678206512805e-08, 'reg_lambda': 0.7652416786145088, 'gamma': 1.9030962679175891}. Best is trial 31 with value: 0.7388971801333891.\n"
     ]
    },
    {
     "name": "stderr",
     "output_type": "stream",
     "text": [
      "Best trial: 31. Best value: 0.738897:  21%|██        | 42/200 [03:39<21:12,  8.05s/it]"
     ]
    },
    {
     "name": "stdout",
     "output_type": "stream",
     "text": [
      "[I 2025-09-22 21:58:56,856] Trial 41 finished with value: 0.738424400263862 and parameters: {'num_boost_round': 800, 'learning_rate': 0.010167744274091053, 'max_depth': 7, 'subsample': 0.5326654375918736, 'colsample_bytree': 0.6705653375646483, 'min_child_weight': 8.263151000577194, 'reg_alpha': 3.77727407560439e-08, 'reg_lambda': 0.10845232267225002, 'gamma': 1.1179614164404987}. Best is trial 31 with value: 0.7388971801333891.\n"
     ]
    },
    {
     "name": "stderr",
     "output_type": "stream",
     "text": [
      "Best trial: 42. Best value: 0.739215:  22%|██▏       | 43/200 [03:46<20:22,  7.79s/it]"
     ]
    },
    {
     "name": "stdout",
     "output_type": "stream",
     "text": [
      "[I 2025-09-22 21:59:04,020] Trial 42 finished with value: 0.7392145375979371 and parameters: {'num_boost_round': 900, 'learning_rate': 0.015044633148424932, 'max_depth': 7, 'subsample': 0.524009615551184, 'colsample_bytree': 0.654117777689683, 'min_child_weight': 8.462250230137606, 'reg_alpha': 2.209294839604441e-07, 'reg_lambda': 0.07954171393852245, 'gamma': 1.0643317610507796}. Best is trial 42 with value: 0.7392145375979371.\n"
     ]
    },
    {
     "name": "stderr",
     "output_type": "stream",
     "text": [
      "Best trial: 42. Best value: 0.739215:  22%|██▏       | 44/200 [03:55<20:53,  8.04s/it]"
     ]
    },
    {
     "name": "stdout",
     "output_type": "stream",
     "text": [
      "[I 2025-09-22 21:59:12,646] Trial 43 finished with value: 0.73908208396136 and parameters: {'num_boost_round': 900, 'learning_rate': 0.014811429726423369, 'max_depth': 7, 'subsample': 0.5643791603760917, 'colsample_bytree': 0.6438753881132073, 'min_child_weight': 6.947199787718546, 'reg_alpha': 2.026231693876739e-07, 'reg_lambda': 3.4948791557551466, 'gamma': 0.38073093271140324}. Best is trial 42 with value: 0.7392145375979371.\n"
     ]
    },
    {
     "name": "stderr",
     "output_type": "stream",
     "text": [
      "Best trial: 42. Best value: 0.739215:  22%|██▎       | 45/200 [04:02<19:58,  7.73s/it]"
     ]
    },
    {
     "name": "stdout",
     "output_type": "stream",
     "text": [
      "[I 2025-09-22 21:59:19,654] Trial 44 finished with value: 0.7381311229147881 and parameters: {'num_boost_round': 900, 'learning_rate': 0.01488509939390534, 'max_depth': 6, 'subsample': 0.6256576356879952, 'colsample_bytree': 0.6475897113329946, 'min_child_weight': 6.778610660197166, 'reg_alpha': 1.7617678570967784e-07, 'reg_lambda': 2.678856091757578, 'gamma': 0.33700354128464316}. Best is trial 42 with value: 0.7392145375979371.\n"
     ]
    },
    {
     "name": "stderr",
     "output_type": "stream",
     "text": [
      "Best trial: 42. Best value: 0.739215:  23%|██▎       | 46/200 [04:05<16:13,  6.32s/it]"
     ]
    },
    {
     "name": "stdout",
     "output_type": "stream",
     "text": [
      "[I 2025-09-22 21:59:22,700] Trial 45 pruned. \n"
     ]
    },
    {
     "name": "stderr",
     "output_type": "stream",
     "text": [
      "Best trial: 42. Best value: 0.739215:  24%|██▎       | 47/200 [04:08<13:16,  5.21s/it]"
     ]
    },
    {
     "name": "stdout",
     "output_type": "stream",
     "text": [
      "[I 2025-09-22 21:59:25,301] Trial 46 pruned. \n"
     ]
    },
    {
     "name": "stderr",
     "output_type": "stream",
     "text": [
      "Best trial: 42. Best value: 0.739215:  24%|██▍       | 48/200 [04:17<16:28,  6.50s/it]"
     ]
    },
    {
     "name": "stdout",
     "output_type": "stream",
     "text": [
      "[I 2025-09-22 21:59:34,827] Trial 47 finished with value: 0.7384430848075616 and parameters: {'num_boost_round': 2500, 'learning_rate': 0.014286022541841314, 'max_depth': 9, 'subsample': 0.5574912776608175, 'colsample_bytree': 0.5690616004538264, 'min_child_weight': 10.634586452398365, 'reg_alpha': 1.1287615669585131e-08, 'reg_lambda': 0.0053385193401556, 'gamma': 0.31494518613039196}. Best is trial 42 with value: 0.7392145375979371.\n"
     ]
    },
    {
     "name": "stderr",
     "output_type": "stream",
     "text": [
      "Best trial: 42. Best value: 0.739215:  24%|██▍       | 49/200 [04:22<14:45,  5.86s/it]"
     ]
    },
    {
     "name": "stdout",
     "output_type": "stream",
     "text": [
      "[I 2025-09-22 21:59:39,191] Trial 48 pruned. \n"
     ]
    },
    {
     "name": "stderr",
     "output_type": "stream",
     "text": [
      "Best trial: 42. Best value: 0.739215:  25%|██▌       | 50/200 [04:26<13:28,  5.39s/it]"
     ]
    },
    {
     "name": "stdout",
     "output_type": "stream",
     "text": [
      "[I 2025-09-22 21:59:43,488] Trial 49 pruned. \n"
     ]
    },
    {
     "name": "stderr",
     "output_type": "stream",
     "text": [
      "Best trial: 42. Best value: 0.739215:  26%|██▌       | 51/200 [04:36<16:44,  6.74s/it]"
     ]
    },
    {
     "name": "stdout",
     "output_type": "stream",
     "text": [
      "[I 2025-09-22 21:59:53,384] Trial 50 finished with value: 0.7390550131349136 and parameters: {'num_boost_round': 1100, 'learning_rate': 0.011854992164728165, 'max_depth': 8, 'subsample': 0.5231491872968301, 'colsample_bytree': 0.7368104971708642, 'min_child_weight': 6.769393635437992, 'reg_alpha': 1.4480454279413342e-07, 'reg_lambda': 3.406423891429483, 'gamma': 2.0327660000674164}. Best is trial 42 with value: 0.7392145375979371.\n"
     ]
    },
    {
     "name": "stderr",
     "output_type": "stream",
     "text": [
      "Best trial: 42. Best value: 0.739215:  26%|██▌       | 52/200 [04:45<18:13,  7.39s/it]"
     ]
    },
    {
     "name": "stdout",
     "output_type": "stream",
     "text": [
      "[I 2025-09-22 22:00:02,285] Trial 51 finished with value: 0.738755414747921 and parameters: {'num_boost_round': 900, 'learning_rate': 0.011765068508362422, 'max_depth': 8, 'subsample': 0.5208210799587447, 'colsample_bytree': 0.7337713767552383, 'min_child_weight': 9.253015820403423, 'reg_alpha': 1.466631876301222e-07, 'reg_lambda': 1.5561368737093675, 'gamma': 1.479674637473343}. Best is trial 42 with value: 0.7392145375979371.\n"
     ]
    },
    {
     "name": "stderr",
     "output_type": "stream",
     "text": [
      "Best trial: 52. Best value: 0.739545:  26%|██▋       | 53/200 [04:52<18:00,  7.35s/it]"
     ]
    },
    {
     "name": "stdout",
     "output_type": "stream",
     "text": [
      "[I 2025-09-22 22:00:09,533] Trial 52 finished with value: 0.7395451963301184 and parameters: {'num_boost_round': 1100, 'learning_rate': 0.01839181195904678, 'max_depth': 8, 'subsample': 0.5166880421615355, 'colsample_bytree': 0.7382245963173916, 'min_child_weight': 6.87214608408269, 'reg_alpha': 1.7791284505898653e-07, 'reg_lambda': 3.3566211602958886, 'gamma': 2.044242375541979}. Best is trial 52 with value: 0.7395451963301184.\n"
     ]
    },
    {
     "name": "stderr",
     "output_type": "stream",
     "text": [
      "Best trial: 52. Best value: 0.739545:  27%|██▋       | 54/200 [04:53<13:12,  5.43s/it]"
     ]
    },
    {
     "name": "stdout",
     "output_type": "stream",
     "text": [
      "[I 2025-09-22 22:00:10,482] Trial 53 pruned. \n"
     ]
    },
    {
     "name": "stderr",
     "output_type": "stream",
     "text": [
      "Best trial: 52. Best value: 0.739545:  28%|██▊       | 55/200 [04:59<13:54,  5.75s/it]"
     ]
    },
    {
     "name": "stdout",
     "output_type": "stream",
     "text": [
      "[I 2025-09-22 22:00:16,990] Trial 54 finished with value: 0.7388298560994002 and parameters: {'num_boost_round': 1200, 'learning_rate': 0.018021349829343225, 'max_depth': 8, 'subsample': 0.518227492177766, 'colsample_bytree': 0.7514726351360366, 'min_child_weight': 6.8709292260560115, 'reg_alpha': 5.5053579531878635e-06, 'reg_lambda': 0.9994884036891487, 'gamma': 2.105308015688667}. Best is trial 52 with value: 0.7395451963301184.\n"
     ]
    },
    {
     "name": "stderr",
     "output_type": "stream",
     "text": [
      "Best trial: 52. Best value: 0.739545:  28%|██▊       | 56/200 [05:00<10:22,  4.33s/it]"
     ]
    },
    {
     "name": "stdout",
     "output_type": "stream",
     "text": [
      "[I 2025-09-22 22:00:17,989] Trial 55 pruned. \n"
     ]
    },
    {
     "name": "stderr",
     "output_type": "stream",
     "text": [
      "Best trial: 52. Best value: 0.739545:  28%|██▊       | 57/200 [05:11<14:52,  6.24s/it]"
     ]
    },
    {
     "name": "stdout",
     "output_type": "stream",
     "text": [
      "[I 2025-09-22 22:00:28,701] Trial 56 finished with value: 0.7381345181837713 and parameters: {'num_boost_round': 1100, 'learning_rate': 0.014833154757170702, 'max_depth': 9, 'subsample': 0.5546577268599175, 'colsample_bytree': 0.6883219311967359, 'min_child_weight': 10.088329754226033, 'reg_alpha': 0.07671656197806923, 'reg_lambda': 4.0151837514098965, 'gamma': 0.3957598449985592}. Best is trial 52 with value: 0.7395451963301184.\n"
     ]
    },
    {
     "name": "stderr",
     "output_type": "stream",
     "text": [
      "Best trial: 52. Best value: 0.739545:  29%|██▉       | 58/200 [05:15<13:24,  5.66s/it]"
     ]
    },
    {
     "name": "stdout",
     "output_type": "stream",
     "text": [
      "[I 2025-09-22 22:00:33,017] Trial 57 pruned. \n"
     ]
    },
    {
     "name": "stderr",
     "output_type": "stream",
     "text": [
      "Best trial: 52. Best value: 0.739545:  30%|██▉       | 59/200 [05:17<10:25,  4.44s/it]"
     ]
    },
    {
     "name": "stdout",
     "output_type": "stream",
     "text": [
      "[I 2025-09-22 22:00:34,595] Trial 58 pruned. \n"
     ]
    },
    {
     "name": "stderr",
     "output_type": "stream",
     "text": [
      "Best trial: 52. Best value: 0.739545:  30%|███       | 60/200 [05:22<11:00,  4.72s/it]"
     ]
    },
    {
     "name": "stdout",
     "output_type": "stream",
     "text": [
      "[I 2025-09-22 22:00:39,967] Trial 59 finished with value: 0.7381042239969715 and parameters: {'num_boost_round': 1000, 'learning_rate': 0.027953142801144724, 'max_depth': 7, 'subsample': 0.5266296087461798, 'colsample_bytree': 0.7857529873087554, 'min_child_weight': 11.287295833065345, 'reg_alpha': 1.1141257590368574e-06, 'reg_lambda': 1.9145735631765886, 'gamma': 0.8717006827983388}. Best is trial 52 with value: 0.7395451963301184.\n"
     ]
    },
    {
     "name": "stderr",
     "output_type": "stream",
     "text": [
      "Best trial: 52. Best value: 0.739545:  30%|███       | 61/200 [05:26<10:09,  4.39s/it]"
     ]
    },
    {
     "name": "stdout",
     "output_type": "stream",
     "text": [
      "[I 2025-09-22 22:00:43,581] Trial 60 pruned. \n"
     ]
    },
    {
     "name": "stderr",
     "output_type": "stream",
     "text": [
      "Best trial: 52. Best value: 0.739545:  31%|███       | 62/200 [05:32<11:19,  4.92s/it]"
     ]
    },
    {
     "name": "stdout",
     "output_type": "stream",
     "text": [
      "[I 2025-09-22 22:00:49,757] Trial 61 finished with value: 0.738836460049285 and parameters: {'num_boost_round': 1200, 'learning_rate': 0.018856672527515307, 'max_depth': 8, 'subsample': 0.5196367067629085, 'colsample_bytree': 0.7577891895348069, 'min_child_weight': 7.0269037839752695, 'reg_alpha': 5.157000425448306e-06, 'reg_lambda': 0.8901097075961928, 'gamma': 2.1566414106349687}. Best is trial 52 with value: 0.7395451963301184.\n"
     ]
    },
    {
     "name": "stderr",
     "output_type": "stream",
     "text": [
      "Best trial: 52. Best value: 0.739545:  32%|███▏      | 63/200 [05:39<12:28,  5.47s/it]"
     ]
    },
    {
     "name": "stdout",
     "output_type": "stream",
     "text": [
      "[I 2025-09-22 22:00:56,489] Trial 62 finished with value: 0.7386056948390485 and parameters: {'num_boost_round': 1200, 'learning_rate': 0.01913119535107617, 'max_depth': 9, 'subsample': 0.5184222552739013, 'colsample_bytree': 0.7732309684803119, 'min_child_weight': 8.769723237130957, 'reg_alpha': 2.1762117131212774e-06, 'reg_lambda': 1.269554418482167, 'gamma': 2.577390960609049}. Best is trial 52 with value: 0.7395451963301184.\n"
     ]
    },
    {
     "name": "stderr",
     "output_type": "stream",
     "text": [
      "Best trial: 52. Best value: 0.739545:  32%|███▏      | 64/200 [05:47<14:22,  6.34s/it]"
     ]
    },
    {
     "name": "stdout",
     "output_type": "stream",
     "text": [
      "[I 2025-09-22 22:01:04,884] Trial 63 finished with value: 0.7389763496600251 and parameters: {'num_boost_round': 900, 'learning_rate': 0.015850075191262043, 'max_depth': 8, 'subsample': 0.5555694933454839, 'colsample_bytree': 0.8077078945096813, 'min_child_weight': 7.513746014560247, 'reg_alpha': 7.138583718822967e-07, 'reg_lambda': 3.521899240641639, 'gamma': 2.2153171457913854}. Best is trial 52 with value: 0.7395451963301184.\n"
     ]
    },
    {
     "name": "stderr",
     "output_type": "stream",
     "text": [
      "Best trial: 52. Best value: 0.739545:  32%|███▎      | 65/200 [05:56<15:56,  7.08s/it]"
     ]
    },
    {
     "name": "stdout",
     "output_type": "stream",
     "text": [
      "[I 2025-09-22 22:01:13,694] Trial 64 finished with value: 0.7387720997556664 and parameters: {'num_boost_round': 900, 'learning_rate': 0.0142144392876517, 'max_depth': 9, 'subsample': 0.5543324716310133, 'colsample_bytree': 0.8069077161386219, 'min_child_weight': 5.106329018355747, 'reg_alpha': 9.59738574534413e-07, 'reg_lambda': 3.2265907407588013, 'gamma': 1.7904538959850484}. Best is trial 52 with value: 0.7395451963301184.\n"
     ]
    },
    {
     "name": "stderr",
     "output_type": "stream",
     "text": [
      "Best trial: 52. Best value: 0.739545:  33%|███▎      | 66/200 [06:00<13:58,  6.26s/it]"
     ]
    },
    {
     "name": "stdout",
     "output_type": "stream",
     "text": [
      "[I 2025-09-22 22:01:18,015] Trial 65 pruned. \n"
     ]
    },
    {
     "name": "stderr",
     "output_type": "stream",
     "text": [
      "Best trial: 52. Best value: 0.739545:  34%|███▎      | 67/200 [06:07<14:03,  6.34s/it]"
     ]
    },
    {
     "name": "stdout",
     "output_type": "stream",
     "text": [
      "[I 2025-09-22 22:01:24,554] Trial 66 pruned. \n"
     ]
    },
    {
     "name": "stderr",
     "output_type": "stream",
     "text": [
      "Best trial: 52. Best value: 0.739545:  34%|███▍      | 68/200 [06:11<12:33,  5.71s/it]"
     ]
    },
    {
     "name": "stdout",
     "output_type": "stream",
     "text": [
      "[I 2025-09-22 22:01:28,796] Trial 67 pruned. \n"
     ]
    },
    {
     "name": "stderr",
     "output_type": "stream",
     "text": [
      "Best trial: 52. Best value: 0.739545:  34%|███▍      | 69/200 [06:16<11:34,  5.30s/it]"
     ]
    },
    {
     "name": "stdout",
     "output_type": "stream",
     "text": [
      "[I 2025-09-22 22:01:33,131] Trial 68 pruned. \n"
     ]
    },
    {
     "name": "stderr",
     "output_type": "stream",
     "text": [
      "Best trial: 52. Best value: 0.739545:  35%|███▌      | 70/200 [06:21<11:14,  5.19s/it]"
     ]
    },
    {
     "name": "stdout",
     "output_type": "stream",
     "text": [
      "[I 2025-09-22 22:01:38,076] Trial 69 pruned. \n"
     ]
    },
    {
     "name": "stderr",
     "output_type": "stream",
     "text": [
      "Best trial: 52. Best value: 0.739545:  36%|███▌      | 71/200 [06:26<11:08,  5.18s/it]"
     ]
    },
    {
     "name": "stdout",
     "output_type": "stream",
     "text": [
      "[I 2025-09-22 22:01:43,240] Trial 70 pruned. \n"
     ]
    },
    {
     "name": "stderr",
     "output_type": "stream",
     "text": [
      "Best trial: 52. Best value: 0.739545:  36%|███▌      | 72/200 [06:32<11:58,  5.61s/it]"
     ]
    },
    {
     "name": "stdout",
     "output_type": "stream",
     "text": [
      "[I 2025-09-22 22:01:49,846] Trial 71 finished with value: 0.7395430217453995 and parameters: {'num_boost_round': 1200, 'learning_rate': 0.019615892629633026, 'max_depth': 8, 'subsample': 0.5314216521908036, 'colsample_bytree': 0.7453829724124584, 'min_child_weight': 5.685730368614893, 'reg_alpha': 5.3526118724386615e-06, 'reg_lambda': 2.8054450958989037, 'gamma': 2.188639568190534}. Best is trial 52 with value: 0.7395451963301184.\n"
     ]
    },
    {
     "name": "stderr",
     "output_type": "stream",
     "text": [
      "Best trial: 52. Best value: 0.739545:  36%|███▋      | 73/200 [06:39<12:19,  5.82s/it]"
     ]
    },
    {
     "name": "stdout",
     "output_type": "stream",
     "text": [
      "[I 2025-09-22 22:01:56,166] Trial 72 finished with value: 0.7386365882519309 and parameters: {'num_boost_round': 1000, 'learning_rate': 0.019953609949494334, 'max_depth': 9, 'subsample': 0.5348445233209874, 'colsample_bytree': 0.6925109644614293, 'min_child_weight': 5.869379934638602, 'reg_alpha': 1.6185635833625306e-05, 'reg_lambda': 2.7397431153583134, 'gamma': 2.4759857138406516}. Best is trial 52 with value: 0.7395451963301184.\n"
     ]
    },
    {
     "name": "stderr",
     "output_type": "stream",
     "text": [
      "Best trial: 52. Best value: 0.739545:  37%|███▋      | 74/200 [06:46<13:03,  6.22s/it]"
     ]
    },
    {
     "name": "stdout",
     "output_type": "stream",
     "text": [
      "[I 2025-09-22 22:02:03,295] Trial 73 pruned. \n"
     ]
    },
    {
     "name": "stderr",
     "output_type": "stream",
     "text": [
      "Best trial: 52. Best value: 0.739545:  38%|███▊      | 75/200 [06:51<12:12,  5.86s/it]"
     ]
    },
    {
     "name": "stdout",
     "output_type": "stream",
     "text": [
      "[I 2025-09-22 22:02:08,326] Trial 74 pruned. \n"
     ]
    },
    {
     "name": "stderr",
     "output_type": "stream",
     "text": [
      "Best trial: 52. Best value: 0.739545:  38%|███▊      | 76/200 [06:55<11:02,  5.34s/it]"
     ]
    },
    {
     "name": "stdout",
     "output_type": "stream",
     "text": [
      "[I 2025-09-22 22:02:12,454] Trial 75 pruned. \n"
     ]
    },
    {
     "name": "stderr",
     "output_type": "stream",
     "text": [
      "Best trial: 52. Best value: 0.739545:  38%|███▊      | 77/200 [06:59<10:12,  4.98s/it]"
     ]
    },
    {
     "name": "stdout",
     "output_type": "stream",
     "text": [
      "[I 2025-09-22 22:02:16,596] Trial 76 pruned. \n"
     ]
    },
    {
     "name": "stderr",
     "output_type": "stream",
     "text": [
      "Best trial: 52. Best value: 0.739545:  39%|███▉      | 78/200 [07:03<09:31,  4.68s/it]"
     ]
    },
    {
     "name": "stdout",
     "output_type": "stream",
     "text": [
      "[I 2025-09-22 22:02:20,584] Trial 77 pruned. \n"
     ]
    },
    {
     "name": "stderr",
     "output_type": "stream",
     "text": [
      "Best trial: 52. Best value: 0.739545:  40%|███▉      | 79/200 [07:14<12:58,  6.44s/it]"
     ]
    },
    {
     "name": "stdout",
     "output_type": "stream",
     "text": [
      "[I 2025-09-22 22:02:31,108] Trial 78 finished with value: 0.7384035188354078 and parameters: {'num_boost_round': 1300, 'learning_rate': 0.010886959800268055, 'max_depth': 8, 'subsample': 0.5106230117820846, 'colsample_bytree': 0.6339876924645074, 'min_child_weight': 10.090966302935628, 'reg_alpha': 1.4849312980948186e-06, 'reg_lambda': 4.15684897158146, 'gamma': 1.9976374683753972}. Best is trial 52 with value: 0.7395451963301184.\n"
     ]
    },
    {
     "name": "stderr",
     "output_type": "stream",
     "text": [
      "Best trial: 52. Best value: 0.739545:  40%|████      | 80/200 [07:18<11:32,  5.77s/it]"
     ]
    },
    {
     "name": "stdout",
     "output_type": "stream",
     "text": [
      "[I 2025-09-22 22:02:35,331] Trial 79 pruned. \n"
     ]
    },
    {
     "name": "stderr",
     "output_type": "stream",
     "text": [
      "Best trial: 52. Best value: 0.739545:  40%|████      | 81/200 [07:28<13:50,  6.98s/it]"
     ]
    },
    {
     "name": "stdout",
     "output_type": "stream",
     "text": [
      "[I 2025-09-22 22:02:45,131] Trial 80 finished with value: 0.7386547221209592 and parameters: {'num_boost_round': 1100, 'learning_rate': 0.010047443073733835, 'max_depth': 8, 'subsample': 0.5381017906919395, 'colsample_bytree': 0.5959461413325677, 'min_child_weight': 7.5096533980329365, 'reg_alpha': 4.32333579486178e-08, 'reg_lambda': 0.09615321197877132, 'gamma': 1.4524839735209338}. Best is trial 52 with value: 0.7395451963301184.\n"
     ]
    },
    {
     "name": "stderr",
     "output_type": "stream",
     "text": [
      "Best trial: 52. Best value: 0.739545:  41%|████      | 82/200 [07:33<13:05,  6.65s/it]"
     ]
    },
    {
     "name": "stdout",
     "output_type": "stream",
     "text": [
      "[I 2025-09-22 22:02:51,024] Trial 81 finished with value: 0.7390235582836113 and parameters: {'num_boost_round': 1200, 'learning_rate': 0.01917174246833302, 'max_depth': 8, 'subsample': 0.5161861634030438, 'colsample_bytree': 0.7595620035951672, 'min_child_weight': 6.8798330175268765, 'reg_alpha': 5.075501499503201e-06, 'reg_lambda': 0.5455647835803592, 'gamma': 2.1788664073501396}. Best is trial 52 with value: 0.7395451963301184.\n"
     ]
    },
    {
     "name": "stderr",
     "output_type": "stream",
     "text": [
      "Best trial: 52. Best value: 0.739545:  42%|████▏     | 83/200 [07:37<11:01,  5.65s/it]"
     ]
    },
    {
     "name": "stdout",
     "output_type": "stream",
     "text": [
      "[I 2025-09-22 22:02:54,345] Trial 82 pruned. \n"
     ]
    },
    {
     "name": "stderr",
     "output_type": "stream",
     "text": [
      "Best trial: 52. Best value: 0.739545:  42%|████▏     | 84/200 [07:44<11:40,  6.04s/it]"
     ]
    },
    {
     "name": "stdout",
     "output_type": "stream",
     "text": [
      "[I 2025-09-22 22:03:01,286] Trial 83 finished with value: 0.7383601439984593 and parameters: {'num_boost_round': 1200, 'learning_rate': 0.02069967804098533, 'max_depth': 7, 'subsample': 0.5098243938424023, 'colsample_bytree': 0.8143158098617903, 'min_child_weight': 9.231047630301614, 'reg_alpha': 1.1323975101694725e-05, 'reg_lambda': 5.6804406671557945, 'gamma': 2.6806168299746638}. Best is trial 52 with value: 0.7395451963301184.\n"
     ]
    },
    {
     "name": "stderr",
     "output_type": "stream",
     "text": [
      "Best trial: 52. Best value: 0.739545:  42%|████▎     | 85/200 [07:52<12:53,  6.73s/it]"
     ]
    },
    {
     "name": "stdout",
     "output_type": "stream",
     "text": [
      "[I 2025-09-22 22:03:09,626] Trial 84 finished with value: 0.7392194873215839 and parameters: {'num_boost_round': 900, 'learning_rate': 0.016957969125418294, 'max_depth': 8, 'subsample': 0.5798322090031343, 'colsample_bytree': 0.756539002734818, 'min_child_weight': 7.387080132931326, 'reg_alpha': 3.348380280069472e-06, 'reg_lambda': 1.7974039225381693, 'gamma': 0.17979828906133832}. Best is trial 52 with value: 0.7395451963301184.\n"
     ]
    },
    {
     "name": "stderr",
     "output_type": "stream",
     "text": [
      "Best trial: 52. Best value: 0.739545:  43%|████▎     | 86/200 [07:56<11:08,  5.86s/it]"
     ]
    },
    {
     "name": "stdout",
     "output_type": "stream",
     "text": [
      "[I 2025-09-22 22:03:13,460] Trial 85 pruned. \n"
     ]
    },
    {
     "name": "stderr",
     "output_type": "stream",
     "text": [
      "Best trial: 52. Best value: 0.739545:  44%|████▎     | 87/200 [08:04<12:12,  6.48s/it]"
     ]
    },
    {
     "name": "stdout",
     "output_type": "stream",
     "text": [
      "[I 2025-09-22 22:03:21,388] Trial 86 finished with value: 0.7392535809308021 and parameters: {'num_boost_round': 1200, 'learning_rate': 0.01685247847672258, 'max_depth': 8, 'subsample': 0.5289150660116915, 'colsample_bytree': 0.8220502933907357, 'min_child_weight': 7.159034621461977, 'reg_alpha': 2.178881442164383e-06, 'reg_lambda': 1.4418215826871936, 'gamma': 0.5128751831724835}. Best is trial 52 with value: 0.7395451963301184.\n"
     ]
    },
    {
     "name": "stderr",
     "output_type": "stream",
     "text": [
      "Best trial: 52. Best value: 0.739545:  44%|████▍     | 88/200 [08:12<13:04,  7.01s/it]"
     ]
    },
    {
     "name": "stdout",
     "output_type": "stream",
     "text": [
      "[I 2025-09-22 22:03:29,618] Trial 87 finished with value: 0.739240661996104 and parameters: {'num_boost_round': 1200, 'learning_rate': 0.016946244066147278, 'max_depth': 8, 'subsample': 0.530665208664422, 'colsample_bytree': 0.820970173675001, 'min_child_weight': 7.248657031752814, 'reg_alpha': 3.31393931006806e-06, 'reg_lambda': 1.7948372880010008, 'gamma': 0.08260786706905972}. Best is trial 52 with value: 0.7395451963301184.\n"
     ]
    },
    {
     "name": "stderr",
     "output_type": "stream",
     "text": [
      "Best trial: 52. Best value: 0.739545:  44%|████▍     | 89/200 [08:22<14:25,  7.80s/it]"
     ]
    },
    {
     "name": "stdout",
     "output_type": "stream",
     "text": [
      "[I 2025-09-22 22:03:39,272] Trial 88 finished with value: 0.7385107624002097 and parameters: {'num_boost_round': 1200, 'learning_rate': 0.01692082028754258, 'max_depth': 9, 'subsample': 0.5298257811549387, 'colsample_bytree': 0.8711001401640323, 'min_child_weight': 6.841666223788668, 'reg_alpha': 3.080970085732765e-05, 'reg_lambda': 1.5367117966645243, 'gamma': 0.19722151249038006}. Best is trial 52 with value: 0.7395451963301184.\n"
     ]
    },
    {
     "name": "stderr",
     "output_type": "stream",
     "text": [
      "Best trial: 52. Best value: 0.739545:  45%|████▌     | 90/200 [08:25<11:54,  6.49s/it]"
     ]
    },
    {
     "name": "stdout",
     "output_type": "stream",
     "text": [
      "[I 2025-09-22 22:03:42,715] Trial 89 pruned. \n"
     ]
    },
    {
     "name": "stderr",
     "output_type": "stream",
     "text": [
      "Best trial: 52. Best value: 0.739545:  46%|████▌     | 91/200 [08:27<09:10,  5.05s/it]"
     ]
    },
    {
     "name": "stdout",
     "output_type": "stream",
     "text": [
      "[I 2025-09-22 22:03:44,408] Trial 90 pruned. \n"
     ]
    },
    {
     "name": "stderr",
     "output_type": "stream",
     "text": [
      "Best trial: 52. Best value: 0.739545:  46%|████▌     | 92/200 [08:35<10:30,  5.84s/it]"
     ]
    },
    {
     "name": "stdout",
     "output_type": "stream",
     "text": [
      "[I 2025-09-22 22:03:52,089] Trial 91 finished with value: 0.7390362189786728 and parameters: {'num_boost_round': 1200, 'learning_rate': 0.018975502233685954, 'max_depth': 8, 'subsample': 0.5618094000442848, 'colsample_bytree': 0.7978036095988741, 'min_child_weight': 7.42377358824455, 'reg_alpha': 1.9457631082462376e-06, 'reg_lambda': 3.272416646660871, 'gamma': 0.5150349764644672}. Best is trial 52 with value: 0.7395451963301184.\n"
     ]
    },
    {
     "name": "stderr",
     "output_type": "stream",
     "text": [
      "Best trial: 52. Best value: 0.739545:  46%|████▋     | 93/200 [08:41<10:39,  5.98s/it]"
     ]
    },
    {
     "name": "stdout",
     "output_type": "stream",
     "text": [
      "[I 2025-09-22 22:03:58,386] Trial 92 pruned. \n"
     ]
    },
    {
     "name": "stderr",
     "output_type": "stream",
     "text": [
      "Best trial: 52. Best value: 0.739545:  47%|████▋     | 94/200 [08:44<08:57,  5.08s/it]"
     ]
    },
    {
     "name": "stdout",
     "output_type": "stream",
     "text": [
      "[I 2025-09-22 22:04:01,355] Trial 93 pruned. \n"
     ]
    },
    {
     "name": "stderr",
     "output_type": "stream",
     "text": [
      "Best trial: 52. Best value: 0.739545:  48%|████▊     | 95/200 [08:52<10:27,  5.98s/it]"
     ]
    },
    {
     "name": "stdout",
     "output_type": "stream",
     "text": [
      "[I 2025-09-22 22:04:09,437] Trial 94 finished with value: 0.7389719441732766 and parameters: {'num_boost_round': 1400, 'learning_rate': 0.021496212183901367, 'max_depth': 8, 'subsample': 0.5411763117315163, 'colsample_bytree': 0.778911370907759, 'min_child_weight': 8.621135152252114, 'reg_alpha': 1.848954728416808e-05, 'reg_lambda': 3.366892306425927, 'gamma': 0.36094949356245654}. Best is trial 52 with value: 0.7395451963301184.\n"
     ]
    },
    {
     "name": "stderr",
     "output_type": "stream",
     "text": [
      "Best trial: 52. Best value: 0.739545:  48%|████▊     | 96/200 [08:56<09:36,  5.54s/it]"
     ]
    },
    {
     "name": "stdout",
     "output_type": "stream",
     "text": [
      "[I 2025-09-22 22:04:13,965] Trial 95 pruned. \n"
     ]
    },
    {
     "name": "stderr",
     "output_type": "stream",
     "text": [
      "Best trial: 52. Best value: 0.739545:  48%|████▊     | 97/200 [09:03<10:10,  5.92s/it]"
     ]
    },
    {
     "name": "stdout",
     "output_type": "stream",
     "text": [
      "[I 2025-09-22 22:04:20,778] Trial 96 finished with value: 0.7393057072044753 and parameters: {'num_boost_round': 1100, 'learning_rate': 0.017625751518845253, 'max_depth': 7, 'subsample': 0.560881414254864, 'colsample_bytree': 0.7470407476699239, 'min_child_weight': 7.881261223468209, 'reg_alpha': 1.9111817458563763e-06, 'reg_lambda': 0.870153918409102, 'gamma': 0.5638772623111701}. Best is trial 52 with value: 0.7395451963301184.\n"
     ]
    },
    {
     "name": "stderr",
     "output_type": "stream",
     "text": [
      "Best trial: 52. Best value: 0.739545:  49%|████▉     | 98/200 [09:06<08:21,  4.92s/it]"
     ]
    },
    {
     "name": "stdout",
     "output_type": "stream",
     "text": [
      "[I 2025-09-22 22:04:23,345] Trial 97 pruned. \n"
     ]
    },
    {
     "name": "stderr",
     "output_type": "stream",
     "text": [
      "Best trial: 52. Best value: 0.739545:  50%|████▉     | 99/200 [09:12<08:46,  5.22s/it]"
     ]
    },
    {
     "name": "stdout",
     "output_type": "stream",
     "text": [
      "[I 2025-09-22 22:04:29,264] Trial 98 pruned. \n"
     ]
    },
    {
     "name": "stderr",
     "output_type": "stream",
     "text": [
      "Best trial: 52. Best value: 0.739545:  50%|█████     | 100/200 [09:16<08:22,  5.02s/it]"
     ]
    },
    {
     "name": "stdout",
     "output_type": "stream",
     "text": [
      "[I 2025-09-22 22:04:33,836] Trial 99 pruned. \n"
     ]
    },
    {
     "name": "stderr",
     "output_type": "stream",
     "text": [
      "Best trial: 52. Best value: 0.739545:  50%|█████     | 101/200 [09:24<09:37,  5.83s/it]"
     ]
    },
    {
     "name": "stdout",
     "output_type": "stream",
     "text": [
      "[I 2025-09-22 22:04:41,547] Trial 100 finished with value: 0.7382085583758996 and parameters: {'num_boost_round': 2000, 'learning_rate': 0.01693010284935878, 'max_depth': 7, 'subsample': 0.5598241785722429, 'colsample_bytree': 0.7018697138611932, 'min_child_weight': 11.407919627856735, 'reg_alpha': 2.489893105937435e-06, 'reg_lambda': 4.301133515345141, 'gamma': 0.5244853182156185}. Best is trial 52 with value: 0.7395451963301184.\n"
     ]
    },
    {
     "name": "stderr",
     "output_type": "stream",
     "text": [
      "Best trial: 52. Best value: 0.739545:  51%|█████     | 102/200 [09:32<10:21,  6.34s/it]"
     ]
    },
    {
     "name": "stdout",
     "output_type": "stream",
     "text": [
      "[I 2025-09-22 22:04:49,067] Trial 101 finished with value: 0.7391713117915423 and parameters: {'num_boost_round': 1200, 'learning_rate': 0.0197454386665849, 'max_depth': 8, 'subsample': 0.5296948996899412, 'colsample_bytree': 0.7252525012452516, 'min_child_weight': 7.253406489869428, 'reg_alpha': 1.3093066652824791e-05, 'reg_lambda': 1.9400891006564955, 'gamma': 0.000855625210157418}. Best is trial 52 with value: 0.7395451963301184.\n"
     ]
    },
    {
     "name": "stderr",
     "output_type": "stream",
     "text": [
      "Best trial: 52. Best value: 0.739545:  52%|█████▏    | 103/200 [09:39<10:47,  6.67s/it]"
     ]
    },
    {
     "name": "stdout",
     "output_type": "stream",
     "text": [
      "[I 2025-09-22 22:04:56,522] Trial 102 finished with value: 0.7391812620569114 and parameters: {'num_boost_round': 1200, 'learning_rate': 0.020582816249253958, 'max_depth': 8, 'subsample': 0.5295142505168805, 'colsample_bytree': 0.7201028017005465, 'min_child_weight': 7.738906001750787, 'reg_alpha': 2.8510718298394197e-05, 'reg_lambda': 1.842377665350054, 'gamma': 0.037379592553760894}. Best is trial 52 with value: 0.7395451963301184.\n"
     ]
    },
    {
     "name": "stderr",
     "output_type": "stream",
     "text": [
      "Best trial: 52. Best value: 0.739545:  52%|█████▏    | 104/200 [09:42<08:43,  5.46s/it]"
     ]
    },
    {
     "name": "stdout",
     "output_type": "stream",
     "text": [
      "[I 2025-09-22 22:04:59,147] Trial 103 pruned. \n"
     ]
    },
    {
     "name": "stderr",
     "output_type": "stream",
     "text": [
      "Best trial: 52. Best value: 0.739545:  52%|█████▎    | 105/200 [09:45<07:40,  4.84s/it]"
     ]
    },
    {
     "name": "stdout",
     "output_type": "stream",
     "text": [
      "[I 2025-09-22 22:05:02,557] Trial 104 pruned. \n"
     ]
    },
    {
     "name": "stderr",
     "output_type": "stream",
     "text": [
      "Best trial: 52. Best value: 0.739545:  53%|█████▎    | 106/200 [09:53<08:56,  5.71s/it]"
     ]
    },
    {
     "name": "stdout",
     "output_type": "stream",
     "text": [
      "[I 2025-09-22 22:05:10,279] Trial 105 finished with value: 0.7388721445585205 and parameters: {'num_boost_round': 1000, 'learning_rate': 0.020749984051024926, 'max_depth': 7, 'subsample': 0.5307737697827798, 'colsample_bytree': 0.9198415007317627, 'min_child_weight': 7.840369926171888, 'reg_alpha': 1.3249217836736869e-05, 'reg_lambda': 5.46762326616097, 'gamma': 0.31910356795899625}. Best is trial 52 with value: 0.7395451963301184.\n"
     ]
    },
    {
     "name": "stderr",
     "output_type": "stream",
     "text": [
      "Best trial: 52. Best value: 0.739545:  54%|█████▎    | 107/200 [10:00<09:39,  6.23s/it]"
     ]
    },
    {
     "name": "stdout",
     "output_type": "stream",
     "text": [
      "[I 2025-09-22 22:05:17,731] Trial 106 pruned. \n"
     ]
    },
    {
     "name": "stderr",
     "output_type": "stream",
     "text": [
      "Best trial: 52. Best value: 0.739545:  54%|█████▍    | 108/200 [10:07<09:57,  6.49s/it]"
     ]
    },
    {
     "name": "stdout",
     "output_type": "stream",
     "text": [
      "[I 2025-09-22 22:05:24,836] Trial 107 finished with value: 0.7391743488922307 and parameters: {'num_boost_round': 1200, 'learning_rate': 0.01520296384010578, 'max_depth': 7, 'subsample': 0.5458672505250322, 'colsample_bytree': 0.7169080260964745, 'min_child_weight': 7.187813227252699, 'reg_alpha': 6.395021437716097e-06, 'reg_lambda': 0.271360667342097, 'gamma': 0.5862131246591413}. Best is trial 52 with value: 0.7395451963301184.\n"
     ]
    },
    {
     "name": "stderr",
     "output_type": "stream",
     "text": [
      "Best trial: 52. Best value: 0.739545:  55%|█████▍    | 109/200 [10:10<08:04,  5.33s/it]"
     ]
    },
    {
     "name": "stdout",
     "output_type": "stream",
     "text": [
      "[I 2025-09-22 22:05:27,439] Trial 108 pruned. \n"
     ]
    },
    {
     "name": "stderr",
     "output_type": "stream",
     "text": [
      "Best trial: 52. Best value: 0.739545:  55%|█████▌    | 110/200 [10:13<07:09,  4.77s/it]"
     ]
    },
    {
     "name": "stdout",
     "output_type": "stream",
     "text": [
      "[I 2025-09-22 22:05:30,901] Trial 109 pruned. \n"
     ]
    },
    {
     "name": "stderr",
     "output_type": "stream",
     "text": [
      "Best trial: 52. Best value: 0.739545:  56%|█████▌    | 111/200 [10:18<06:54,  4.66s/it]"
     ]
    },
    {
     "name": "stdout",
     "output_type": "stream",
     "text": [
      "[I 2025-09-22 22:05:35,316] Trial 110 pruned. \n"
     ]
    },
    {
     "name": "stderr",
     "output_type": "stream",
     "text": [
      "Best trial: 52. Best value: 0.739545:  56%|█████▌    | 112/200 [10:26<08:27,  5.76s/it]"
     ]
    },
    {
     "name": "stdout",
     "output_type": "stream",
     "text": [
      "[I 2025-09-22 22:05:43,650] Trial 111 finished with value: 0.739163612225342 and parameters: {'num_boost_round': 1200, 'learning_rate': 0.01387809009835937, 'max_depth': 8, 'subsample': 0.5213118471104856, 'colsample_bytree': 0.7350179209307005, 'min_child_weight': 6.660574723943666, 'reg_alpha': 1.4491707277278095e-05, 'reg_lambda': 1.4096936053955593, 'gamma': 0.819853656979738}. Best is trial 52 with value: 0.7395451963301184.\n"
     ]
    },
    {
     "name": "stderr",
     "output_type": "stream",
     "text": [
      "Best trial: 52. Best value: 0.739545:  56%|█████▋    | 113/200 [10:35<09:33,  6.59s/it]"
     ]
    },
    {
     "name": "stdout",
     "output_type": "stream",
     "text": [
      "[I 2025-09-22 22:05:52,182] Trial 112 finished with value: 0.7387113138057708 and parameters: {'num_boost_round': 1200, 'learning_rate': 0.013397901549540327, 'max_depth': 8, 'subsample': 0.5124423332900435, 'colsample_bytree': 0.7035422659118662, 'min_child_weight': 5.993794107990288, 'reg_alpha': 1.654130926425559e-05, 'reg_lambda': 1.4120011793490632, 'gamma': 0.848162480584447}. Best is trial 52 with value: 0.7395451963301184.\n"
     ]
    },
    {
     "name": "stderr",
     "output_type": "stream",
     "text": [
      "Best trial: 52. Best value: 0.739545:  57%|█████▋    | 114/200 [10:42<09:51,  6.88s/it]"
     ]
    },
    {
     "name": "stdout",
     "output_type": "stream",
     "text": [
      "[I 2025-09-22 22:05:59,734] Trial 113 finished with value: 0.7390742916966625 and parameters: {'num_boost_round': 1100, 'learning_rate': 0.014403182926187148, 'max_depth': 7, 'subsample': 0.5432855412059664, 'colsample_bytree': 0.6600806436102676, 'min_child_weight': 7.625028689638164, 'reg_alpha': 4.138528389040651e-06, 'reg_lambda': 0.2510224849627463, 'gamma': 0.7303321242977514}. Best is trial 52 with value: 0.7395451963301184.\n"
     ]
    },
    {
     "name": "stderr",
     "output_type": "stream",
     "text": [
      "Best trial: 52. Best value: 0.739545:  57%|█████▊    | 115/200 [10:47<08:55,  6.30s/it]"
     ]
    },
    {
     "name": "stdout",
     "output_type": "stream",
     "text": [
      "[I 2025-09-22 22:06:04,662] Trial 114 pruned. \n"
     ]
    },
    {
     "name": "stderr",
     "output_type": "stream",
     "text": [
      "Best trial: 52. Best value: 0.739545:  58%|█████▊    | 116/200 [10:51<07:55,  5.66s/it]"
     ]
    },
    {
     "name": "stdout",
     "output_type": "stream",
     "text": [
      "[I 2025-09-22 22:06:08,825] Trial 115 pruned. \n"
     ]
    },
    {
     "name": "stderr",
     "output_type": "stream",
     "text": [
      "Best trial: 52. Best value: 0.739545:  58%|█████▊    | 117/200 [10:55<07:05,  5.13s/it]"
     ]
    },
    {
     "name": "stdout",
     "output_type": "stream",
     "text": [
      "[I 2025-09-22 22:06:12,724] Trial 116 pruned. \n"
     ]
    },
    {
     "name": "stderr",
     "output_type": "stream",
     "text": [
      "Best trial: 52. Best value: 0.739545:  59%|█████▉    | 118/200 [10:58<06:07,  4.49s/it]"
     ]
    },
    {
     "name": "stdout",
     "output_type": "stream",
     "text": [
      "[I 2025-09-22 22:06:15,715] Trial 117 pruned. \n"
     ]
    },
    {
     "name": "stderr",
     "output_type": "stream",
     "text": [
      "Best trial: 52. Best value: 0.739545:  60%|█████▉    | 119/200 [11:06<07:21,  5.45s/it]"
     ]
    },
    {
     "name": "stdout",
     "output_type": "stream",
     "text": [
      "[I 2025-09-22 22:06:23,395] Trial 118 finished with value: 0.7390923322568084 and parameters: {'num_boost_round': 1100, 'learning_rate': 0.017573728926118432, 'max_depth': 8, 'subsample': 0.5865765608360216, 'colsample_bytree': 0.7638833531860281, 'min_child_weight': 8.829912659872814, 'reg_alpha': 4.645114134238642e-05, 'reg_lambda': 2.1640047492957906, 'gamma': 0.276379939956348}. Best is trial 52 with value: 0.7395451963301184.\n"
     ]
    },
    {
     "name": "stderr",
     "output_type": "stream",
     "text": [
      "Best trial: 52. Best value: 0.739545:  60%|██████    | 120/200 [11:14<08:27,  6.34s/it]"
     ]
    },
    {
     "name": "stdout",
     "output_type": "stream",
     "text": [
      "[I 2025-09-22 22:06:31,835] Trial 119 finished with value: 0.7389037400215239 and parameters: {'num_boost_round': 1100, 'learning_rate': 0.01758314479810737, 'max_depth': 9, 'subsample': 0.5867860558424132, 'colsample_bytree': 0.7388907328564881, 'min_child_weight': 8.981697252005379, 'reg_alpha': 0.00010530458418998003, 'reg_lambda': 2.152966245095196, 'gamma': 0.744283982012022}. Best is trial 52 with value: 0.7395451963301184.\n"
     ]
    },
    {
     "name": "stderr",
     "output_type": "stream",
     "text": [
      "Best trial: 52. Best value: 0.739545:  60%|██████    | 121/200 [11:19<07:30,  5.71s/it]"
     ]
    },
    {
     "name": "stdout",
     "output_type": "stream",
     "text": [
      "[I 2025-09-22 22:06:36,057] Trial 120 pruned. \n"
     ]
    },
    {
     "name": "stderr",
     "output_type": "stream",
     "text": [
      "Best trial: 52. Best value: 0.739545:  61%|██████    | 122/200 [11:29<09:21,  7.20s/it]"
     ]
    },
    {
     "name": "stdout",
     "output_type": "stream",
     "text": [
      "[I 2025-09-22 22:06:46,751] Trial 121 finished with value: 0.7384257303121803 and parameters: {'num_boost_round': 1100, 'learning_rate': 0.01417718080365592, 'max_depth': 8, 'subsample': 0.5499219706587856, 'colsample_bytree': 0.7625302999274848, 'min_child_weight': 8.179079482371806, 'reg_alpha': 1.8144366174397506e-05, 'reg_lambda': 5.4681359466329855, 'gamma': 0.3724042593411386}. Best is trial 52 with value: 0.7395451963301184.\n"
     ]
    },
    {
     "name": "stderr",
     "output_type": "stream",
     "text": [
      "Best trial: 52. Best value: 0.739545:  62%|██████▏   | 123/200 [11:36<09:02,  7.04s/it]"
     ]
    },
    {
     "name": "stdout",
     "output_type": "stream",
     "text": [
      "[I 2025-09-22 22:06:53,419] Trial 122 pruned. \n"
     ]
    },
    {
     "name": "stderr",
     "output_type": "stream",
     "text": [
      "Best trial: 52. Best value: 0.739545:  62%|██████▏   | 124/200 [11:44<09:21,  7.39s/it]"
     ]
    },
    {
     "name": "stdout",
     "output_type": "stream",
     "text": [
      "[I 2025-09-22 22:07:01,605] Trial 123 finished with value: 0.7386683862766455 and parameters: {'num_boost_round': 1000, 'learning_rate': 0.015922769235512703, 'max_depth': 8, 'subsample': 0.5251185562040537, 'colsample_bytree': 0.689864393114397, 'min_child_weight': 7.059512751079499, 'reg_alpha': 6.975504259020073e-06, 'reg_lambda': 0.00014253641581303891, 'gamma': 0.41494247998526634}. Best is trial 52 with value: 0.7395451963301184.\n"
     ]
    },
    {
     "name": "stderr",
     "output_type": "stream",
     "text": [
      "Best trial: 52. Best value: 0.739545:  62%|██████▎   | 125/200 [11:52<09:16,  7.42s/it]"
     ]
    },
    {
     "name": "stdout",
     "output_type": "stream",
     "text": [
      "[I 2025-09-22 22:07:09,108] Trial 124 finished with value: 0.7392402941362558 and parameters: {'num_boost_round': 1300, 'learning_rate': 0.018194899928947256, 'max_depth': 8, 'subsample': 0.5410919734981625, 'colsample_bytree': 0.7655638703494156, 'min_child_weight': 9.645069749878612, 'reg_alpha': 1.2132810245606396e-05, 'reg_lambda': 0.6096793027024363, 'gamma': 0.22879501534956667}. Best is trial 52 with value: 0.7395451963301184.\n"
     ]
    },
    {
     "name": "stderr",
     "output_type": "stream",
     "text": [
      "Best trial: 52. Best value: 0.739545:  63%|██████▎   | 126/200 [11:59<09:18,  7.55s/it]"
     ]
    },
    {
     "name": "stdout",
     "output_type": "stream",
     "text": [
      "[I 2025-09-22 22:07:16,943] Trial 125 finished with value: 0.7392317631918578 and parameters: {'num_boost_round': 1300, 'learning_rate': 0.018310999286433788, 'max_depth': 8, 'subsample': 0.5397552007093162, 'colsample_bytree': 0.7682783660749252, 'min_child_weight': 9.26965432312847, 'reg_alpha': 2.162226713342395e-05, 'reg_lambda': 0.5443370102957401, 'gamma': 0.11646393565189037}. Best is trial 52 with value: 0.7395451963301184.\n"
     ]
    },
    {
     "name": "stderr",
     "output_type": "stream",
     "text": [
      "Best trial: 52. Best value: 0.739545:  64%|██████▎   | 127/200 [12:07<09:15,  7.61s/it]"
     ]
    },
    {
     "name": "stdout",
     "output_type": "stream",
     "text": [
      "[I 2025-09-22 22:07:24,713] Trial 126 finished with value: 0.7391246704054886 and parameters: {'num_boost_round': 1300, 'learning_rate': 0.018895090434983414, 'max_depth': 8, 'subsample': 0.538130499570383, 'colsample_bytree': 0.772505223227894, 'min_child_weight': 9.893231700860685, 'reg_alpha': 1.2614772870917254e-05, 'reg_lambda': 0.14861295034085603, 'gamma': 0.12554409221579552}. Best is trial 52 with value: 0.7395451963301184.\n"
     ]
    },
    {
     "name": "stderr",
     "output_type": "stream",
     "text": [
      "Best trial: 52. Best value: 0.739545:  64%|██████▍   | 128/200 [12:12<08:01,  6.68s/it]"
     ]
    },
    {
     "name": "stdout",
     "output_type": "stream",
     "text": [
      "[I 2025-09-22 22:07:29,222] Trial 127 pruned. \n"
     ]
    },
    {
     "name": "stderr",
     "output_type": "stream",
     "text": [
      "Best trial: 52. Best value: 0.739545:  64%|██████▍   | 129/200 [12:18<07:44,  6.55s/it]"
     ]
    },
    {
     "name": "stdout",
     "output_type": "stream",
     "text": [
      "[I 2025-09-22 22:07:35,449] Trial 128 pruned. \n"
     ]
    },
    {
     "name": "stderr",
     "output_type": "stream",
     "text": [
      "Best trial: 52. Best value: 0.739545:  65%|██████▌   | 130/200 [12:24<07:26,  6.38s/it]"
     ]
    },
    {
     "name": "stdout",
     "output_type": "stream",
     "text": [
      "[I 2025-09-22 22:07:41,440] Trial 129 pruned. \n"
     ]
    },
    {
     "name": "stderr",
     "output_type": "stream",
     "text": [
      "Best trial: 52. Best value: 0.739545:  66%|██████▌   | 131/200 [12:27<06:19,  5.51s/it]"
     ]
    },
    {
     "name": "stdout",
     "output_type": "stream",
     "text": [
      "[I 2025-09-22 22:07:44,908] Trial 130 pruned. \n"
     ]
    },
    {
     "name": "stderr",
     "output_type": "stream",
     "text": [
      "Best trial: 52. Best value: 0.739545:  66%|██████▌   | 132/200 [12:35<06:51,  6.04s/it]"
     ]
    },
    {
     "name": "stdout",
     "output_type": "stream",
     "text": [
      "[I 2025-09-22 22:07:52,209] Trial 131 finished with value: 0.7385928200927877 and parameters: {'num_boost_round': 1300, 'learning_rate': 0.019075014212861834, 'max_depth': 8, 'subsample': 0.5384454768564155, 'colsample_bytree': 0.7817619882901999, 'min_child_weight': 10.585196389021016, 'reg_alpha': 1.3608357482412362e-05, 'reg_lambda': 0.3835987211986066, 'gamma': 0.13273014742008762}. Best is trial 52 with value: 0.7395451963301184.\n"
     ]
    },
    {
     "name": "stderr",
     "output_type": "stream",
     "text": [
      "Best trial: 52. Best value: 0.739545:  66%|██████▋   | 133/200 [12:42<07:14,  6.49s/it]"
     ]
    },
    {
     "name": "stdout",
     "output_type": "stream",
     "text": [
      "[I 2025-09-22 22:07:59,739] Trial 132 finished with value: 0.7382715064642109 and parameters: {'num_boost_round': 1300, 'learning_rate': 0.018351093912331903, 'max_depth': 8, 'subsample': 0.5562800712761334, 'colsample_bytree': 0.7714799337506281, 'min_child_weight': 10.242789578223997, 'reg_alpha': 2.379034426280259e-05, 'reg_lambda': 0.15315143138820633, 'gamma': 0.22772041700199083}. Best is trial 52 with value: 0.7395451963301184.\n"
     ]
    },
    {
     "name": "stderr",
     "output_type": "stream",
     "text": [
      "Best trial: 52. Best value: 0.739545:  67%|██████▋   | 134/200 [12:46<06:16,  5.70s/it]"
     ]
    },
    {
     "name": "stdout",
     "output_type": "stream",
     "text": [
      "[I 2025-09-22 22:08:03,608] Trial 133 pruned. \n"
     ]
    },
    {
     "name": "stderr",
     "output_type": "stream",
     "text": [
      "Best trial: 52. Best value: 0.739545:  68%|██████▊   | 135/200 [12:53<06:35,  6.08s/it]"
     ]
    },
    {
     "name": "stdout",
     "output_type": "stream",
     "text": [
      "[I 2025-09-22 22:08:10,567] Trial 134 finished with value: 0.7382145085353625 and parameters: {'num_boost_round': 1400, 'learning_rate': 0.021804605323415393, 'max_depth': 8, 'subsample': 0.5387154864080886, 'colsample_bytree': 0.7696061341504669, 'min_child_weight': 12.4371875175379, 'reg_alpha': 1.1346648942761938e-05, 'reg_lambda': 0.7448489136979156, 'gamma': 0.00398981971355214}. Best is trial 52 with value: 0.7395451963301184.\n"
     ]
    },
    {
     "name": "stderr",
     "output_type": "stream",
     "text": [
      "Best trial: 52. Best value: 0.739545:  68%|██████▊   | 136/200 [13:02<07:16,  6.82s/it]"
     ]
    },
    {
     "name": "stdout",
     "output_type": "stream",
     "text": [
      "[I 2025-09-22 22:08:19,105] Trial 135 finished with value: 0.7391731439390821 and parameters: {'num_boost_round': 1300, 'learning_rate': 0.015584402048649105, 'max_depth': 8, 'subsample': 0.5246900852239096, 'colsample_bytree': 0.7354048568413094, 'min_child_weight': 9.428839236814841, 'reg_alpha': 7.959039831040978e-06, 'reg_lambda': 1.6751908771143138, 'gamma': 0.4468479787159455}. Best is trial 52 with value: 0.7395451963301184.\n"
     ]
    },
    {
     "name": "stderr",
     "output_type": "stream",
     "text": [
      "Best trial: 136. Best value: 0.739612:  68%|██████▊   | 137/200 [13:10<07:40,  7.32s/it]"
     ]
    },
    {
     "name": "stdout",
     "output_type": "stream",
     "text": [
      "[I 2025-09-22 22:08:27,586] Trial 136 finished with value: 0.7396120568009101 and parameters: {'num_boost_round': 1200, 'learning_rate': 0.015967177145315176, 'max_depth': 8, 'subsample': 0.5067043520185099, 'colsample_bytree': 0.7362406612946456, 'min_child_weight': 9.217256553352978, 'reg_alpha': 3.9692167745888074e-06, 'reg_lambda': 1.512959887145325, 'gamma': 0.47200360271045666}. Best is trial 136 with value: 0.7396120568009101.\n"
     ]
    },
    {
     "name": "stderr",
     "output_type": "stream",
     "text": [
      "Best trial: 136. Best value: 0.739612:  69%|██████▉   | 138/200 [13:20<08:15,  8.00s/it]"
     ]
    },
    {
     "name": "stdout",
     "output_type": "stream",
     "text": [
      "[I 2025-09-22 22:08:37,173] Trial 137 finished with value: 0.7392973167833647 and parameters: {'num_boost_round': 1500, 'learning_rate': 0.01588745853882249, 'max_depth': 9, 'subsample': 0.5086645135004639, 'colsample_bytree': 0.755339140871537, 'min_child_weight': 9.161228126247492, 'reg_alpha': 1.6630559827783932e-06, 'reg_lambda': 2.6786818474034884, 'gamma': 0.4731121074629179}. Best is trial 136 with value: 0.7396120568009101.\n"
     ]
    },
    {
     "name": "stderr",
     "output_type": "stream",
     "text": [
      "Best trial: 136. Best value: 0.739612:  70%|██████▉   | 139/200 [13:22<06:16,  6.17s/it]"
     ]
    },
    {
     "name": "stdout",
     "output_type": "stream",
     "text": [
      "[I 2025-09-22 22:08:39,062] Trial 138 pruned. \n"
     ]
    },
    {
     "name": "stderr",
     "output_type": "stream",
     "text": [
      "Best trial: 136. Best value: 0.739612:  70%|███████   | 140/200 [13:27<06:00,  6.00s/it]"
     ]
    },
    {
     "name": "stdout",
     "output_type": "stream",
     "text": [
      "[I 2025-09-22 22:08:44,691] Trial 139 pruned. \n"
     ]
    },
    {
     "name": "stderr",
     "output_type": "stream",
     "text": [
      "Best trial: 136. Best value: 0.739612:  70%|███████   | 141/200 [13:37<07:00,  7.12s/it]"
     ]
    },
    {
     "name": "stdout",
     "output_type": "stream",
     "text": [
      "[I 2025-09-22 22:08:54,412] Trial 140 finished with value: 0.7382029935049564 and parameters: {'num_boost_round': 2400, 'learning_rate': 0.016794815472797348, 'max_depth': 9, 'subsample': 0.5000005357555586, 'colsample_bytree': 0.8509112565198389, 'min_child_weight': 11.066151748949073, 'reg_alpha': 1.144895856432979e-06, 'reg_lambda': 2.7983180133475622, 'gamma': 0.4335519462328411}. Best is trial 136 with value: 0.7396120568009101.\n"
     ]
    },
    {
     "name": "stderr",
     "output_type": "stream",
     "text": [
      "Best trial: 136. Best value: 0.739612:  71%|███████   | 142/200 [13:47<07:41,  7.96s/it]"
     ]
    },
    {
     "name": "stdout",
     "output_type": "stream",
     "text": [
      "[I 2025-09-22 22:09:04,317] Trial 141 finished with value: 0.738856688146549 and parameters: {'num_boost_round': 1300, 'learning_rate': 0.015103907306369208, 'max_depth': 9, 'subsample': 0.52799310941055, 'colsample_bytree': 0.7281789172850405, 'min_child_weight': 9.512131181316564, 'reg_alpha': 6.183534412075799e-06, 'reg_lambda': 1.8758679502402666, 'gamma': 0.2895340543250794}. Best is trial 136 with value: 0.7396120568009101.\n"
     ]
    },
    {
     "name": "stderr",
     "output_type": "stream",
     "text": [
      "Best trial: 136. Best value: 0.739612:  72%|███████▏  | 143/200 [13:55<07:30,  7.90s/it]"
     ]
    },
    {
     "name": "stdout",
     "output_type": "stream",
     "text": [
      "[I 2025-09-22 22:09:12,093] Trial 142 finished with value: 0.7392644200599546 and parameters: {'num_boost_round': 1200, 'learning_rate': 0.017584662032363856, 'max_depth': 8, 'subsample': 0.509295785989461, 'colsample_bytree': 0.7184660364025605, 'min_child_weight': 8.103544228871062, 'reg_alpha': 3.4289179351096144e-06, 'reg_lambda': 0.8665625721255351, 'gamma': 0.5725533671794749}. Best is trial 136 with value: 0.7396120568009101.\n"
     ]
    },
    {
     "name": "stderr",
     "output_type": "stream",
     "text": [
      "Best trial: 136. Best value: 0.739612:  72%|███████▏  | 144/200 [14:03<07:37,  8.18s/it]"
     ]
    },
    {
     "name": "stdout",
     "output_type": "stream",
     "text": [
      "[I 2025-09-22 22:09:20,915] Trial 143 finished with value: 0.7386056520792611 and parameters: {'num_boost_round': 1400, 'learning_rate': 0.017425435365065363, 'max_depth': 9, 'subsample': 0.5098091123510125, 'colsample_bytree': 0.8657136049008928, 'min_child_weight': 8.271365594668875, 'reg_alpha': 3.682784029180039e-06, 'reg_lambda': 0.8345597395946223, 'gamma': 0.5673193231789336}. Best is trial 136 with value: 0.7396120568009101.\n"
     ]
    },
    {
     "name": "stderr",
     "output_type": "stream",
     "text": [
      "Best trial: 136. Best value: 0.739612:  72%|███████▎  | 145/200 [14:11<07:20,  8.01s/it]"
     ]
    },
    {
     "name": "stdout",
     "output_type": "stream",
     "text": [
      "[I 2025-09-22 22:09:28,539] Trial 144 finished with value: 0.7392288730316627 and parameters: {'num_boost_round': 1200, 'learning_rate': 0.015689289457964956, 'max_depth': 8, 'subsample': 0.5109609268504473, 'colsample_bytree': 0.7140673660853564, 'min_child_weight': 8.975000406653473, 'reg_alpha': 1.7796324840369907e-06, 'reg_lambda': 0.3495346607930525, 'gamma': 0.6859093228825643}. Best is trial 136 with value: 0.7396120568009101.\n"
     ]
    },
    {
     "name": "stderr",
     "output_type": "stream",
     "text": [
      "Best trial: 136. Best value: 0.739612:  73%|███████▎  | 146/200 [14:19<07:17,  8.09s/it]"
     ]
    },
    {
     "name": "stdout",
     "output_type": "stream",
     "text": [
      "[I 2025-09-22 22:09:36,821] Trial 145 finished with value: 0.7390445454327768 and parameters: {'num_boost_round': 1200, 'learning_rate': 0.01425994195873555, 'max_depth': 8, 'subsample': 0.5104635260129009, 'colsample_bytree': 0.7146441049675631, 'min_child_weight': 7.794289758486219, 'reg_alpha': 5.705996368735792e-07, 'reg_lambda': 0.2811710502643009, 'gamma': 0.6723538420050055}. Best is trial 136 with value: 0.7396120568009101.\n"
     ]
    },
    {
     "name": "stderr",
     "output_type": "stream",
     "text": [
      "Best trial: 136. Best value: 0.739612:  74%|███████▎  | 147/200 [14:21<05:31,  6.26s/it]"
     ]
    },
    {
     "name": "stdout",
     "output_type": "stream",
     "text": [
      "[I 2025-09-22 22:09:38,795] Trial 146 pruned. \n"
     ]
    },
    {
     "name": "stderr",
     "output_type": "stream",
     "text": [
      "Best trial: 136. Best value: 0.739612:  74%|███████▍  | 148/200 [14:30<06:11,  7.14s/it]"
     ]
    },
    {
     "name": "stdout",
     "output_type": "stream",
     "text": [
      "[I 2025-09-22 22:09:47,996] Trial 147 finished with value: 0.7393554016532946 and parameters: {'num_boost_round': 1200, 'learning_rate': 0.01676334358568085, 'max_depth': 10, 'subsample': 0.5181760820606025, 'colsample_bytree': 0.7025109958850202, 'min_child_weight': 8.51071987283324, 'reg_alpha': 1.9642098509839987e-06, 'reg_lambda': 0.38281976242925314, 'gamma': 0.7838089780466737}. Best is trial 136 with value: 0.7396120568009101.\n"
     ]
    },
    {
     "name": "stderr",
     "output_type": "stream",
     "text": [
      "Best trial: 136. Best value: 0.739612:  74%|███████▍  | 149/200 [14:37<05:52,  6.90s/it]"
     ]
    },
    {
     "name": "stdout",
     "output_type": "stream",
     "text": [
      "[I 2025-09-22 22:09:54,344] Trial 148 pruned. \n"
     ]
    },
    {
     "name": "stderr",
     "output_type": "stream",
     "text": [
      "Best trial: 136. Best value: 0.739612:  75%|███████▌  | 150/200 [14:46<06:24,  7.68s/it]"
     ]
    },
    {
     "name": "stdout",
     "output_type": "stream",
     "text": [
      "[I 2025-09-22 22:10:03,839] Trial 149 finished with value: 0.7386536622115196 and parameters: {'num_boost_round': 1200, 'learning_rate': 0.0133729242359966, 'max_depth': 9, 'subsample': 0.5158550582492932, 'colsample_bytree': 0.8277696893091864, 'min_child_weight': 8.382729515324753, 'reg_alpha': 2.102431139772225e-06, 'reg_lambda': 0.3649399196769031, 'gamma': 0.730431614094184}. Best is trial 136 with value: 0.7396120568009101.\n"
     ]
    },
    {
     "name": "stderr",
     "output_type": "stream",
     "text": [
      "Best trial: 136. Best value: 0.739612:  76%|███████▌  | 151/200 [14:54<06:22,  7.81s/it]"
     ]
    },
    {
     "name": "stdout",
     "output_type": "stream",
     "text": [
      "[I 2025-09-22 22:10:11,940] Trial 150 finished with value: 0.7395441738288253 and parameters: {'num_boost_round': 1500, 'learning_rate': 0.018332189767235666, 'max_depth': 10, 'subsample': 0.5001846203311965, 'colsample_bytree': 0.7587678410110217, 'min_child_weight': 9.017860606845504, 'reg_alpha': 3.6850479947248193e-06, 'reg_lambda': 0.630648296899731, 'gamma': 1.0746935257663663}. Best is trial 136 with value: 0.7396120568009101.\n"
     ]
    },
    {
     "name": "stderr",
     "output_type": "stream",
     "text": [
      "Best trial: 136. Best value: 0.739612:  76%|███████▌  | 152/200 [15:03<06:20,  7.93s/it]"
     ]
    },
    {
     "name": "stdout",
     "output_type": "stream",
     "text": [
      "[I 2025-09-22 22:10:20,154] Trial 151 finished with value: 0.7394941408183758 and parameters: {'num_boost_round': 1200, 'learning_rate': 0.018265404324054643, 'max_depth': 10, 'subsample': 0.5045800485599918, 'colsample_bytree': 0.7597660091858307, 'min_child_weight': 8.99982243039284, 'reg_alpha': 3.832085734198759e-06, 'reg_lambda': 0.7455521701339676, 'gamma': 0.913630511734941}. Best is trial 136 with value: 0.7396120568009101.\n"
     ]
    },
    {
     "name": "stderr",
     "output_type": "stream",
     "text": [
      "Best trial: 136. Best value: 0.739612:  76%|███████▋  | 153/200 [15:10<06:07,  7.81s/it]"
     ]
    },
    {
     "name": "stdout",
     "output_type": "stream",
     "text": [
      "[I 2025-09-22 22:10:27,692] Trial 152 finished with value: 0.7393582029548249 and parameters: {'num_boost_round': 1700, 'learning_rate': 0.017752744527739745, 'max_depth': 9, 'subsample': 0.5011207638352331, 'colsample_bytree': 0.757989076783626, 'min_child_weight': 9.10504963794925, 'reg_alpha': 4.208394744050917e-06, 'reg_lambda': 0.6475996161208606, 'gamma': 1.1579905523633551}. Best is trial 136 with value: 0.7396120568009101.\n"
     ]
    },
    {
     "name": "stderr",
     "output_type": "stream",
     "text": [
      "Best trial: 153. Best value: 0.73972:  77%|███████▋  | 154/200 [15:18<06:00,  7.85s/it] "
     ]
    },
    {
     "name": "stdout",
     "output_type": "stream",
     "text": [
      "[I 2025-09-22 22:10:35,620] Trial 153 finished with value: 0.739719518876611 and parameters: {'num_boost_round': 1600, 'learning_rate': 0.018313216333498094, 'max_depth': 10, 'subsample': 0.5062591317442033, 'colsample_bytree': 0.7637948343636272, 'min_child_weight': 9.276859444243557, 'reg_alpha': 3.694068241075371e-06, 'reg_lambda': 0.5975639881728687, 'gamma': 1.0618745671446523}. Best is trial 153 with value: 0.739719518876611.\n"
     ]
    },
    {
     "name": "stderr",
     "output_type": "stream",
     "text": [
      "Best trial: 153. Best value: 0.73972:  78%|███████▊  | 155/200 [15:24<05:31,  7.37s/it]"
     ]
    },
    {
     "name": "stdout",
     "output_type": "stream",
     "text": [
      "[I 2025-09-22 22:10:41,886] Trial 154 pruned. \n"
     ]
    },
    {
     "name": "stderr",
     "output_type": "stream",
     "text": [
      "Best trial: 153. Best value: 0.73972:  78%|███████▊  | 156/200 [15:32<05:27,  7.45s/it]"
     ]
    },
    {
     "name": "stdout",
     "output_type": "stream",
     "text": [
      "[I 2025-09-22 22:10:49,508] Trial 155 finished with value: 0.7391734056685856 and parameters: {'num_boost_round': 1800, 'learning_rate': 0.018200214943664843, 'max_depth': 10, 'subsample': 0.5100231925614587, 'colsample_bytree': 0.7918056685864581, 'min_child_weight': 8.926517442687226, 'reg_alpha': 4.4407113421854625e-06, 'reg_lambda': 0.7272086929489819, 'gamma': 1.2194494045301059}. Best is trial 153 with value: 0.739719518876611.\n"
     ]
    },
    {
     "name": "stderr",
     "output_type": "stream",
     "text": [
      "Best trial: 153. Best value: 0.73972:  78%|███████▊  | 157/200 [15:42<05:49,  8.12s/it]"
     ]
    },
    {
     "name": "stdout",
     "output_type": "stream",
     "text": [
      "[I 2025-09-22 22:10:59,189] Trial 156 finished with value: 0.7395289055387171 and parameters: {'num_boost_round': 1600, 'learning_rate': 0.016303465141021087, 'max_depth': 10, 'subsample': 0.5001181312563118, 'colsample_bytree': 0.7454088544578165, 'min_child_weight': 10.676760169861415, 'reg_alpha': 2.5380568233133108e-06, 'reg_lambda': 0.9386582693918482, 'gamma': 1.0736150529540454}. Best is trial 153 with value: 0.739719518876611.\n"
     ]
    },
    {
     "name": "stderr",
     "output_type": "stream",
     "text": [
      "Best trial: 153. Best value: 0.73972:  79%|███████▉  | 158/200 [15:47<05:04,  7.24s/it]"
     ]
    },
    {
     "name": "stdout",
     "output_type": "stream",
     "text": [
      "[I 2025-09-22 22:11:04,379] Trial 157 pruned. \n"
     ]
    },
    {
     "name": "stderr",
     "output_type": "stream",
     "text": [
      "Best trial: 153. Best value: 0.73972:  80%|███████▉  | 159/200 [15:52<04:35,  6.71s/it]"
     ]
    },
    {
     "name": "stdout",
     "output_type": "stream",
     "text": [
      "[I 2025-09-22 22:11:09,847] Trial 158 pruned. \n"
     ]
    },
    {
     "name": "stderr",
     "output_type": "stream",
     "text": [
      "Best trial: 159. Best value: 0.740241:  80%|████████  | 160/200 [16:01<04:50,  7.27s/it]"
     ]
    },
    {
     "name": "stdout",
     "output_type": "stream",
     "text": [
      "[I 2025-09-22 22:11:18,420] Trial 159 finished with value: 0.7402408192914789 and parameters: {'num_boost_round': 1600, 'learning_rate': 0.016851099464040075, 'max_depth': 10, 'subsample': 0.5081713485200369, 'colsample_bytree': 0.7440582265712843, 'min_child_weight': 9.618965261856685, 'reg_alpha': 1.2340026835726136e-06, 'reg_lambda': 1.2201979893309862, 'gamma': 1.0103341566498545}. Best is trial 159 with value: 0.7402408192914789.\n"
     ]
    },
    {
     "name": "stderr",
     "output_type": "stream",
     "text": [
      "Best trial: 159. Best value: 0.740241:  80%|████████  | 161/200 [16:10<05:08,  7.90s/it]"
     ]
    },
    {
     "name": "stdout",
     "output_type": "stream",
     "text": [
      "[I 2025-09-22 22:11:27,800] Trial 160 finished with value: 0.7390713991709685 and parameters: {'num_boost_round': 1600, 'learning_rate': 0.016924431148382733, 'max_depth': 10, 'subsample': 0.5071523235434049, 'colsample_bytree': 0.7410735221605711, 'min_child_weight': 11.485858220743474, 'reg_alpha': 1.2168429641079153e-06, 'reg_lambda': 2.9708070794537256, 'gamma': 0.9997053271909861}. Best is trial 159 with value: 0.7402408192914789.\n"
     ]
    },
    {
     "name": "stderr",
     "output_type": "stream",
     "text": [
      "Best trial: 159. Best value: 0.740241:  81%|████████  | 162/200 [16:19<05:08,  8.13s/it]"
     ]
    },
    {
     "name": "stdout",
     "output_type": "stream",
     "text": [
      "[I 2025-09-22 22:11:36,449] Trial 161 finished with value: 0.738946885584717 and parameters: {'num_boost_round': 1500, 'learning_rate': 0.018159195972043542, 'max_depth': 10, 'subsample': 0.5204884159301135, 'colsample_bytree': 0.7648608281575251, 'min_child_weight': 9.89703603031054, 'reg_alpha': 2.8496697200981676e-06, 'reg_lambda': 1.2317131719840375, 'gamma': 0.8966262176972202}. Best is trial 159 with value: 0.7402408192914789.\n"
     ]
    },
    {
     "name": "stderr",
     "output_type": "stream",
     "text": [
      "Best trial: 159. Best value: 0.740241:  82%|████████▏ | 163/200 [16:28<05:13,  8.46s/it]"
     ]
    },
    {
     "name": "stdout",
     "output_type": "stream",
     "text": [
      "[I 2025-09-22 22:11:45,705] Trial 162 finished with value: 0.7399455151733996 and parameters: {'num_boost_round': 1600, 'learning_rate': 0.016803888559377585, 'max_depth': 10, 'subsample': 0.5080826732119242, 'colsample_bytree': 0.7476890877329441, 'min_child_weight': 9.380468220970215, 'reg_alpha': 8.382185198128599e-07, 'reg_lambda': 0.8702725777693123, 'gamma': 1.0310013839253764}. Best is trial 159 with value: 0.7402408192914789.\n"
     ]
    },
    {
     "name": "stderr",
     "output_type": "stream",
     "text": [
      "Best trial: 159. Best value: 0.740241:  82%|████████▏ | 164/200 [16:38<05:15,  8.77s/it]"
     ]
    },
    {
     "name": "stdout",
     "output_type": "stream",
     "text": [
      "[I 2025-09-22 22:11:55,195] Trial 163 finished with value: 0.7394988572297482 and parameters: {'num_boost_round': 1700, 'learning_rate': 0.01665302876630522, 'max_depth': 10, 'subsample': 0.5007266673475358, 'colsample_bytree': 0.7479265619629307, 'min_child_weight': 10.592512542973548, 'reg_alpha': 5.408102779459232e-07, 'reg_lambda': 0.96356820388853, 'gamma': 1.092298976464994}. Best is trial 159 with value: 0.7402408192914789.\n"
     ]
    },
    {
     "name": "stderr",
     "output_type": "stream",
     "text": [
      "Best trial: 159. Best value: 0.740241:  82%|████████▎ | 165/200 [16:48<05:19,  9.13s/it]"
     ]
    },
    {
     "name": "stdout",
     "output_type": "stream",
     "text": [
      "[I 2025-09-22 22:12:05,143] Trial 164 finished with value: 0.7397269128097566 and parameters: {'num_boost_round': 1700, 'learning_rate': 0.016353595318302452, 'max_depth': 10, 'subsample': 0.5011258320869175, 'colsample_bytree': 0.7481113454207218, 'min_child_weight': 10.435769363201091, 'reg_alpha': 8.244033606101318e-07, 'reg_lambda': 0.9892096232107745, 'gamma': 1.06649616437553}. Best is trial 159 with value: 0.7402408192914789.\n"
     ]
    },
    {
     "name": "stderr",
     "output_type": "stream",
     "text": [
      "Best trial: 159. Best value: 0.740241:  83%|████████▎ | 166/200 [16:57<05:09,  9.11s/it]"
     ]
    },
    {
     "name": "stdout",
     "output_type": "stream",
     "text": [
      "[I 2025-09-22 22:12:14,230] Trial 165 finished with value: 0.7395434764315658 and parameters: {'num_boost_round': 1700, 'learning_rate': 0.01604108642606024, 'max_depth': 10, 'subsample': 0.5001092839462243, 'colsample_bytree': 0.7466998660810089, 'min_child_weight': 10.380368411357725, 'reg_alpha': 4.0916806512670964e-07, 'reg_lambda': 0.9955837139367867, 'gamma': 1.0455666760375046}. Best is trial 159 with value: 0.7402408192914789.\n"
     ]
    },
    {
     "name": "stderr",
     "output_type": "stream",
     "text": [
      "Best trial: 159. Best value: 0.740241:  84%|████████▎ | 167/200 [17:01<04:11,  7.63s/it]"
     ]
    },
    {
     "name": "stdout",
     "output_type": "stream",
     "text": [
      "[I 2025-09-22 22:12:18,410] Trial 166 pruned. \n"
     ]
    },
    {
     "name": "stderr",
     "output_type": "stream",
     "text": [
      "Best trial: 159. Best value: 0.740241:  84%|████████▍ | 168/200 [17:10<04:14,  7.95s/it]"
     ]
    },
    {
     "name": "stdout",
     "output_type": "stream",
     "text": [
      "[I 2025-09-22 22:12:27,104] Trial 167 finished with value: 0.7392182192342542 and parameters: {'num_boost_round': 1600, 'learning_rate': 0.014445766335720246, 'max_depth': 10, 'subsample': 0.5002546089444391, 'colsample_bytree': 0.7535548318910574, 'min_child_weight': 10.469349886083593, 'reg_alpha': 7.107540607301478e-07, 'reg_lambda': 0.9368522247701697, 'gamma': 1.2610612555749339}. Best is trial 159 with value: 0.7402408192914789.\n"
     ]
    },
    {
     "name": "stderr",
     "output_type": "stream",
     "text": [
      "Best trial: 159. Best value: 0.740241:  84%|████████▍ | 169/200 [17:18<04:14,  8.23s/it]"
     ]
    },
    {
     "name": "stdout",
     "output_type": "stream",
     "text": [
      "[I 2025-09-22 22:12:35,969] Trial 168 pruned. \n"
     ]
    },
    {
     "name": "stderr",
     "output_type": "stream",
     "text": [
      "Best trial: 159. Best value: 0.740241:  85%|████████▌ | 170/200 [17:29<04:24,  8.81s/it]"
     ]
    },
    {
     "name": "stdout",
     "output_type": "stream",
     "text": [
      "[I 2025-09-22 22:12:46,128] Trial 169 finished with value: 0.7388795136860965 and parameters: {'num_boost_round': 1800, 'learning_rate': 0.014612964171923306, 'max_depth': 10, 'subsample': 0.5133779384776183, 'colsample_bytree': 0.7292868035826484, 'min_child_weight': 10.051434497326133, 'reg_alpha': 9.036430306133423e-07, 'reg_lambda': 2.779834812566748, 'gamma': 1.0279624000350815}. Best is trial 159 with value: 0.7402408192914789.\n"
     ]
    },
    {
     "name": "stderr",
     "output_type": "stream",
     "text": [
      "Best trial: 159. Best value: 0.740241:  86%|████████▌ | 171/200 [17:32<03:29,  7.22s/it]"
     ]
    },
    {
     "name": "stdout",
     "output_type": "stream",
     "text": [
      "[I 2025-09-22 22:12:49,641] Trial 170 pruned. \n"
     ]
    },
    {
     "name": "stderr",
     "output_type": "stream",
     "text": [
      "Best trial: 159. Best value: 0.740241:  86%|████████▌ | 172/200 [17:41<03:32,  7.58s/it]"
     ]
    },
    {
     "name": "stdout",
     "output_type": "stream",
     "text": [
      "[I 2025-09-22 22:12:58,075] Trial 171 finished with value: 0.7397317142181096 and parameters: {'num_boost_round': 1700, 'learning_rate': 0.016562645139616906, 'max_depth': 10, 'subsample': 0.5197805439103913, 'colsample_bytree': 0.7360655882802374, 'min_child_weight': 10.705198108823405, 'reg_alpha': 1.2275293334022044e-06, 'reg_lambda': 1.4079254203793898, 'gamma': 1.2111007390134}. Best is trial 159 with value: 0.7402408192914789.\n"
     ]
    },
    {
     "name": "stderr",
     "output_type": "stream",
     "text": [
      "Best trial: 159. Best value: 0.740241:  86%|████████▋ | 173/200 [17:48<03:25,  7.60s/it]"
     ]
    },
    {
     "name": "stdout",
     "output_type": "stream",
     "text": [
      "[I 2025-09-22 22:13:05,702] Trial 172 finished with value: 0.7394623835152785 and parameters: {'num_boost_round': 1700, 'learning_rate': 0.016111304029078264, 'max_depth': 10, 'subsample': 0.5177027633064659, 'colsample_bytree': 0.7414690089293479, 'min_child_weight': 10.919334267057417, 'reg_alpha': 9.346138232453226e-07, 'reg_lambda': 1.2451176402100221, 'gamma': 1.6140933959126336}. Best is trial 159 with value: 0.7402408192914789.\n"
     ]
    },
    {
     "name": "stderr",
     "output_type": "stream",
     "text": [
      "Best trial: 159. Best value: 0.740241:  87%|████████▋ | 174/200 [17:52<02:46,  6.41s/it]"
     ]
    },
    {
     "name": "stdout",
     "output_type": "stream",
     "text": [
      "[I 2025-09-22 22:13:09,360] Trial 173 pruned. \n"
     ]
    },
    {
     "name": "stderr",
     "output_type": "stream",
     "text": [
      "Best trial: 159. Best value: 0.740241:  88%|████████▊ | 175/200 [17:56<02:22,  5.68s/it]"
     ]
    },
    {
     "name": "stdout",
     "output_type": "stream",
     "text": [
      "[I 2025-09-22 22:13:13,331] Trial 174 pruned. \n"
     ]
    },
    {
     "name": "stderr",
     "output_type": "stream",
     "text": [
      "Best trial: 159. Best value: 0.740241:  88%|████████▊ | 176/200 [18:01<02:11,  5.48s/it]"
     ]
    },
    {
     "name": "stdout",
     "output_type": "stream",
     "text": [
      "[I 2025-09-22 22:13:18,347] Trial 175 pruned. \n"
     ]
    },
    {
     "name": "stderr",
     "output_type": "stream",
     "text": [
      "Best trial: 159. Best value: 0.740241:  88%|████████▊ | 177/200 [18:05<01:57,  5.13s/it]"
     ]
    },
    {
     "name": "stdout",
     "output_type": "stream",
     "text": [
      "[I 2025-09-22 22:13:22,639] Trial 176 pruned. \n"
     ]
    },
    {
     "name": "stderr",
     "output_type": "stream",
     "text": [
      "Best trial: 159. Best value: 0.740241:  89%|████████▉ | 178/200 [18:10<01:53,  5.18s/it]"
     ]
    },
    {
     "name": "stdout",
     "output_type": "stream",
     "text": [
      "[I 2025-09-22 22:13:27,946] Trial 177 pruned. \n"
     ]
    },
    {
     "name": "stderr",
     "output_type": "stream",
     "text": [
      "Best trial: 159. Best value: 0.740241:  90%|████████▉ | 179/200 [18:19<02:11,  6.26s/it]"
     ]
    },
    {
     "name": "stdout",
     "output_type": "stream",
     "text": [
      "[I 2025-09-22 22:13:36,722] Trial 178 finished with value: 0.7388918278922834 and parameters: {'num_boost_round': 1800, 'learning_rate': 0.01482297810076916, 'max_depth': 10, 'subsample': 0.5083153215597263, 'colsample_bytree': 0.7798237440684826, 'min_child_weight': 10.295539447382344, 'reg_alpha': 1.4331882301695832e-06, 'reg_lambda': 0.6381964661974079, 'gamma': 1.6092770618192511}. Best is trial 159 with value: 0.7402408192914789.\n"
     ]
    },
    {
     "name": "stderr",
     "output_type": "stream",
     "text": [
      "Best trial: 159. Best value: 0.740241:  90%|█████████ | 180/200 [18:23<01:51,  5.58s/it]"
     ]
    },
    {
     "name": "stdout",
     "output_type": "stream",
     "text": [
      "[I 2025-09-22 22:13:40,730] Trial 179 pruned. \n"
     ]
    },
    {
     "name": "stderr",
     "output_type": "stream",
     "text": [
      "Best trial: 159. Best value: 0.740241:  90%|█████████ | 181/200 [18:32<02:06,  6.65s/it]"
     ]
    },
    {
     "name": "stdout",
     "output_type": "stream",
     "text": [
      "[I 2025-09-22 22:13:49,875] Trial 180 finished with value: 0.7398536247821375 and parameters: {'num_boost_round': 1700, 'learning_rate': 0.01589028161822244, 'max_depth': 10, 'subsample': 0.500683298057947, 'colsample_bytree': 0.7300101781374426, 'min_child_weight': 9.543434520254559, 'reg_alpha': 1.1975122555490216e-06, 'reg_lambda': 1.435199842590894, 'gamma': 1.0289288676382429}. Best is trial 159 with value: 0.7402408192914789.\n"
     ]
    },
    {
     "name": "stderr",
     "output_type": "stream",
     "text": [
      "Best trial: 159. Best value: 0.740241:  91%|█████████ | 182/200 [18:42<02:13,  7.44s/it]"
     ]
    },
    {
     "name": "stdout",
     "output_type": "stream",
     "text": [
      "[I 2025-09-22 22:13:59,149] Trial 181 finished with value: 0.739828403053175 and parameters: {'num_boost_round': 1700, 'learning_rate': 0.01573174412906349, 'max_depth': 10, 'subsample': 0.5002376375243797, 'colsample_bytree': 0.7268497332512515, 'min_child_weight': 9.321421387670354, 'reg_alpha': 1.0512487237315925e-06, 'reg_lambda': 1.4757675623163975, 'gamma': 1.011498714482584}. Best is trial 159 with value: 0.7402408192914789.\n"
     ]
    },
    {
     "name": "stderr",
     "output_type": "stream",
     "text": [
      "Best trial: 159. Best value: 0.740241:  92%|█████████▏| 183/200 [18:52<02:19,  8.20s/it]"
     ]
    },
    {
     "name": "stdout",
     "output_type": "stream",
     "text": [
      "[I 2025-09-22 22:14:09,127] Trial 182 finished with value: 0.7392159515219758 and parameters: {'num_boost_round': 1700, 'learning_rate': 0.013959007876219568, 'max_depth': 10, 'subsample': 0.500381560240812, 'colsample_bytree': 0.7250866852394223, 'min_child_weight': 9.571575985929544, 'reg_alpha': 9.877043146369083e-07, 'reg_lambda': 1.3005704028102527, 'gamma': 1.013871215119391}. Best is trial 159 with value: 0.7402408192914789.\n"
     ]
    },
    {
     "name": "stderr",
     "output_type": "stream",
     "text": [
      "Best trial: 159. Best value: 0.740241:  92%|█████████▏| 184/200 [18:59<02:09,  8.08s/it]"
     ]
    },
    {
     "name": "stdout",
     "output_type": "stream",
     "text": [
      "[I 2025-09-22 22:14:16,917] Trial 183 finished with value: 0.7396836672586581 and parameters: {'num_boost_round': 1700, 'learning_rate': 0.017188689161297753, 'max_depth': 10, 'subsample': 0.5161229700793083, 'colsample_bytree': 0.7324462902697063, 'min_child_weight': 10.341150925550522, 'reg_alpha': 7.632551353849257e-07, 'reg_lambda': 0.8023888107954366, 'gamma': 1.2644694171784123}. Best is trial 159 with value: 0.7402408192914789.\n"
     ]
    },
    {
     "name": "stderr",
     "output_type": "stream",
     "text": [
      "Best trial: 159. Best value: 0.740241:  92%|█████████▎| 185/200 [19:06<01:52,  7.53s/it]"
     ]
    },
    {
     "name": "stdout",
     "output_type": "stream",
     "text": [
      "[I 2025-09-22 22:14:23,180] Trial 184 pruned. \n"
     ]
    },
    {
     "name": "stderr",
     "output_type": "stream",
     "text": [
      "Best trial: 159. Best value: 0.740241:  93%|█████████▎| 186/200 [19:11<01:36,  6.90s/it]"
     ]
    },
    {
     "name": "stdout",
     "output_type": "stream",
     "text": [
      "[I 2025-09-22 22:14:28,593] Trial 185 pruned. \n"
     ]
    },
    {
     "name": "stderr",
     "output_type": "stream",
     "text": [
      "Best trial: 159. Best value: 0.740241:  94%|█████████▎| 187/200 [19:15<01:19,  6.14s/it]"
     ]
    },
    {
     "name": "stdout",
     "output_type": "stream",
     "text": [
      "[I 2025-09-22 22:14:32,964] Trial 186 pruned. \n"
     ]
    },
    {
     "name": "stderr",
     "output_type": "stream",
     "text": [
      "Best trial: 159. Best value: 0.740241:  94%|█████████▍| 188/200 [19:18<00:59,  4.96s/it]"
     ]
    },
    {
     "name": "stdout",
     "output_type": "stream",
     "text": [
      "[I 2025-09-22 22:14:35,182] Trial 187 pruned. \n"
     ]
    },
    {
     "name": "stderr",
     "output_type": "stream",
     "text": [
      "Best trial: 159. Best value: 0.740241:  94%|█████████▍| 189/200 [19:26<01:07,  6.10s/it]"
     ]
    },
    {
     "name": "stdout",
     "output_type": "stream",
     "text": [
      "[I 2025-09-22 22:14:43,938] Trial 188 finished with value: 0.7394711705581276 and parameters: {'num_boost_round': 1600, 'learning_rate': 0.01735205520095631, 'max_depth': 10, 'subsample': 0.5193983963581869, 'colsample_bytree': 0.7415272579557934, 'min_child_weight': 9.63924928199785, 'reg_alpha': 1.1070194016006875e-06, 'reg_lambda': 1.995289565129591, 'gamma': 0.8766080626980599}. Best is trial 159 with value: 0.7402408192914789.\n"
     ]
    },
    {
     "name": "stderr",
     "output_type": "stream",
     "text": [
      "Best trial: 159. Best value: 0.740241:  95%|█████████▌| 190/200 [19:35<01:08,  6.83s/it]"
     ]
    },
    {
     "name": "stdout",
     "output_type": "stream",
     "text": [
      "[I 2025-09-22 22:14:52,484] Trial 189 finished with value: 0.7390140747337515 and parameters: {'num_boost_round': 1600, 'learning_rate': 0.01879071360055934, 'max_depth': 10, 'subsample': 0.5306755628644139, 'colsample_bytree': 0.743449994438457, 'min_child_weight': 10.86920540432301, 'reg_alpha': 1.1369264108698755e-06, 'reg_lambda': 2.108948516418479, 'gamma': 0.8909908900199218}. Best is trial 159 with value: 0.7402408192914789.\n"
     ]
    },
    {
     "name": "stderr",
     "output_type": "stream",
     "text": [
      "Best trial: 159. Best value: 0.740241:  96%|█████████▌| 191/200 [19:41<00:59,  6.58s/it]"
     ]
    },
    {
     "name": "stdout",
     "output_type": "stream",
     "text": [
      "[I 2025-09-22 22:14:58,463] Trial 190 pruned. \n"
     ]
    },
    {
     "name": "stderr",
     "output_type": "stream",
     "text": [
      "Best trial: 159. Best value: 0.740241:  96%|█████████▌| 192/200 [19:49<00:56,  7.12s/it]"
     ]
    },
    {
     "name": "stdout",
     "output_type": "stream",
     "text": [
      "[I 2025-09-22 22:15:06,856] Trial 191 finished with value: 0.7394700532820366 and parameters: {'num_boost_round': 1700, 'learning_rate': 0.01686431195781208, 'max_depth': 10, 'subsample': 0.5188396857814044, 'colsample_bytree': 0.7554421900219433, 'min_child_weight': 9.624981744172423, 'reg_alpha': 1.0157144633207118e-06, 'reg_lambda': 1.1273186006617104, 'gamma': 1.1373770897162494}. Best is trial 159 with value: 0.7402408192914789.\n"
     ]
    },
    {
     "name": "stderr",
     "output_type": "stream",
     "text": [
      "Best trial: 159. Best value: 0.740241:  96%|█████████▋| 193/200 [19:58<00:52,  7.56s/it]"
     ]
    },
    {
     "name": "stdout",
     "output_type": "stream",
     "text": [
      "[I 2025-09-22 22:15:15,427] Trial 192 finished with value: 0.7392899450215771 and parameters: {'num_boost_round': 1700, 'learning_rate': 0.015465320562739363, 'max_depth': 10, 'subsample': 0.5203969064920124, 'colsample_bytree': 0.7542140633237073, 'min_child_weight': 9.253166897244004, 'reg_alpha': 1.0633901773006085e-06, 'reg_lambda': 1.1518871217458013, 'gamma': 1.1297179643726982}. Best is trial 159 with value: 0.7402408192914789.\n"
     ]
    },
    {
     "name": "stderr",
     "output_type": "stream",
     "text": [
      "Best trial: 159. Best value: 0.740241:  97%|█████████▋| 194/200 [20:06<00:46,  7.69s/it]"
     ]
    },
    {
     "name": "stdout",
     "output_type": "stream",
     "text": [
      "[I 2025-09-22 22:15:23,435] Trial 193 finished with value: 0.7398901225360981 and parameters: {'num_boost_round': 1700, 'learning_rate': 0.017456703857102435, 'max_depth': 10, 'subsample': 0.5083922777260966, 'colsample_bytree': 0.7415414325306903, 'min_child_weight': 9.999302622274548, 'reg_alpha': 4.3518464574488975e-07, 'reg_lambda': 1.7979447213839879, 'gamma': 1.2271513793414892}. Best is trial 159 with value: 0.7402408192914789.\n"
     ]
    },
    {
     "name": "stderr",
     "output_type": "stream",
     "text": [
      "Best trial: 159. Best value: 0.740241:  98%|█████████▊| 195/200 [20:13<00:37,  7.57s/it]"
     ]
    },
    {
     "name": "stdout",
     "output_type": "stream",
     "text": [
      "[I 2025-09-22 22:15:30,715] Trial 194 finished with value: 0.7393911252165994 and parameters: {'num_boost_round': 1600, 'learning_rate': 0.01917662382941512, 'max_depth': 10, 'subsample': 0.5124034934638144, 'colsample_bytree': 0.7378110088540153, 'min_child_weight': 10.048833487737431, 'reg_alpha': 2.8849711608621074e-07, 'reg_lambda': 1.875467688999214, 'gamma': 1.3661364156328861}. Best is trial 159 with value: 0.7402408192914789.\n"
     ]
    },
    {
     "name": "stderr",
     "output_type": "stream",
     "text": [
      "Best trial: 159. Best value: 0.740241:  98%|█████████▊| 196/200 [20:19<00:28,  7.13s/it]"
     ]
    },
    {
     "name": "stdout",
     "output_type": "stream",
     "text": [
      "[I 2025-09-22 22:15:36,837] Trial 195 pruned. \n"
     ]
    },
    {
     "name": "stderr",
     "output_type": "stream",
     "text": [
      "Best trial: 159. Best value: 0.740241:  98%|█████████▊| 197/200 [20:29<00:24,  8.04s/it]"
     ]
    },
    {
     "name": "stdout",
     "output_type": "stream",
     "text": [
      "[I 2025-09-22 22:15:46,984] Trial 196 finished with value: 0.7391302526011336 and parameters: {'num_boost_round': 1800, 'learning_rate': 0.0141768227397639, 'max_depth': 10, 'subsample': 0.5208679198138484, 'colsample_bytree': 0.7447281867466808, 'min_child_weight': 10.466927727999863, 'reg_alpha': 0.0008392323271062207, 'reg_lambda': 1.5509641706885693, 'gamma': 0.9246973060788263}. Best is trial 159 with value: 0.7402408192914789.\n"
     ]
    },
    {
     "name": "stderr",
     "output_type": "stream",
     "text": [
      "Best trial: 159. Best value: 0.740241:  99%|█████████▉| 198/200 [20:38<00:16,  8.21s/it]"
     ]
    },
    {
     "name": "stdout",
     "output_type": "stream",
     "text": [
      "[I 2025-09-22 22:15:55,592] Trial 197 finished with value: 0.7395817380186808 and parameters: {'num_boost_round': 1700, 'learning_rate': 0.017035593387343197, 'max_depth': 10, 'subsample': 0.5091521147270647, 'colsample_bytree': 0.7317333532259678, 'min_child_weight': 9.651624058680163, 'reg_alpha': 6.211333084676442e-07, 'reg_lambda': 2.3346862005358573, 'gamma': 1.0219438942373735}. Best is trial 159 with value: 0.7402408192914789.\n"
     ]
    },
    {
     "name": "stderr",
     "output_type": "stream",
     "text": [
      "Best trial: 159. Best value: 0.740241: 100%|█████████▉| 199/200 [20:46<00:08,  8.11s/it]"
     ]
    },
    {
     "name": "stdout",
     "output_type": "stream",
     "text": [
      "[I 2025-09-22 22:16:03,455] Trial 198 finished with value: 0.7392513882959139 and parameters: {'num_boost_round': 1600, 'learning_rate': 0.020519286229709097, 'max_depth': 10, 'subsample': 0.508102974243362, 'colsample_bytree': 0.7237327395976987, 'min_child_weight': 9.740095979772262, 'reg_alpha': 5.74651740895149e-07, 'reg_lambda': 4.153519309073087, 'gamma': 1.0537036352109674}. Best is trial 159 with value: 0.7402408192914789.\n"
     ]
    },
    {
     "name": "stderr",
     "output_type": "stream",
     "text": [
      "Best trial: 159. Best value: 0.740241: 100%|██████████| 200/200 [20:52<00:00,  6.26s/it]\n",
      "[I 2025-09-22 22:16:09,504] A new study created in memory with name: no-name-07b3cee5-f93b-4432-8ab7-1e03abacd610\n"
     ]
    },
    {
     "name": "stdout",
     "output_type": "stream",
     "text": [
      "[I 2025-09-22 22:16:09,499] Trial 199 pruned. \n",
      "[Y1] Best CV R2 (XGB): 0.74024\n",
      "[Y1] Best Params (XGB): {'num_boost_round': 1600, 'learning_rate': 0.016851099464040075, 'max_depth': 10, 'subsample': 0.5081713485200369, 'colsample_bytree': 0.7440582265712843, 'min_child_weight': 9.618965261856685, 'reg_alpha': 1.2340026835726136e-06, 'reg_lambda': 1.2201979893309862, 'gamma': 1.0103341566498545}\n",
      "\n",
      "=== Tuning XGBoost for Y2 ===\n"
     ]
    },
    {
     "name": "stderr",
     "output_type": "stream",
     "text": [
      "Best trial: 0. Best value: 0.625012:   0%|          | 1/200 [00:01<04:08,  1.25s/it]"
     ]
    },
    {
     "name": "stdout",
     "output_type": "stream",
     "text": [
      "[I 2025-09-22 22:16:10,750] Trial 0 finished with value: 0.625011502003699 and parameters: {'num_boost_round': 1400, 'learning_rate': 0.2536999076681771, 'max_depth': 8, 'subsample': 0.7993292420985183, 'colsample_bytree': 0.5780093202212182, 'min_child_weight': 1.5957084694148351, 'reg_alpha': 2.9152036385288193e-08, 'reg_lambda': 0.6245760287469887, 'gamma': 3.005575058716044}. Best is trial 0 with value: 0.625011502003699.\n"
     ]
    },
    {
     "name": "stderr",
     "output_type": "stream",
     "text": [
      "Best trial: 1. Best value: 0.663814:   1%|          | 2/200 [00:11<21:37,  6.55s/it]"
     ]
    },
    {
     "name": "stdout",
     "output_type": "stream",
     "text": [
      "[I 2025-09-22 22:16:21,014] Trial 1 finished with value: 0.6638141272045328 and parameters: {'num_boost_round': 2000, 'learning_rate': 0.010725209743171997, 'max_depth': 10, 'subsample': 0.9162213204002109, 'colsample_bytree': 0.6061695553391381, 'min_child_weight': 1.7240892195821529, 'reg_alpha': 2.9324868872723725e-07, 'reg_lambda': 5.472429642032189e-06, 'gamma': 2.6237821581611893}. Best is trial 1 with value: 0.6638141272045328.\n"
     ]
    },
    {
     "name": "stderr",
     "output_type": "stream",
     "text": [
      "Best trial: 1. Best value: 0.663814:   2%|▏         | 3/200 [00:16<18:58,  5.78s/it]"
     ]
    },
    {
     "name": "stdout",
     "output_type": "stream",
     "text": [
      "[I 2025-09-22 22:16:25,878] Trial 2 finished with value: 0.6621728124929727 and parameters: {'num_boost_round': 1500, 'learning_rate': 0.02692655251486473, 'max_depth': 7, 'subsample': 0.569746930326021, 'colsample_bytree': 0.6460723242676091, 'min_child_weight': 2.9967309097101573, 'reg_alpha': 4.452048365748842e-05, 'reg_lambda': 0.11656915613247415, 'gamma': 0.9983689107917987}. Best is trial 1 with value: 0.6638141272045328.\n"
     ]
    },
    {
     "name": "stderr",
     "output_type": "stream",
     "text": [
      "Best trial: 1. Best value: 0.663814:   2%|▏         | 4/200 [00:19<15:44,  4.82s/it]"
     ]
    },
    {
     "name": "stdout",
     "output_type": "stream",
     "text": [
      "[I 2025-09-22 22:16:29,221] Trial 3 finished with value: 0.6575105771993642 and parameters: {'num_boost_round': 1700, 'learning_rate': 0.07500118950416987, 'max_depth': 3, 'subsample': 0.8037724259507192, 'colsample_bytree': 0.5852620618436457, 'min_child_weight': 1.2151617026673374, 'reg_alpha': 0.3900176830802197, 'reg_lambda': 4.905556676028766, 'gamma': 4.041986740582305}. Best is trial 1 with value: 0.6638141272045328.\n"
     ]
    },
    {
     "name": "stderr",
     "output_type": "stream",
     "text": [
      "Best trial: 4. Best value: 0.668552:   2%|▎         | 5/200 [00:29<20:58,  6.45s/it]"
     ]
    },
    {
     "name": "stdout",
     "output_type": "stream",
     "text": [
      "[I 2025-09-22 22:16:38,573] Trial 4 finished with value: 0.6685524380603696 and parameters: {'num_boost_round': 1300, 'learning_rate': 0.013940346079873234, 'max_depth': 8, 'subsample': 0.7200762468698007, 'colsample_bytree': 0.5610191174223894, 'min_child_weight': 4.407984038169241, 'reg_alpha': 1.8841183049085085e-08, 'reg_lambda': 1.5271567592511939, 'gamma': 1.2938999080000846}. Best is trial 4 with value: 0.6685524380603696.\n"
     ]
    },
    {
     "name": "stderr",
     "output_type": "stream",
     "text": [
      "Best trial: 5. Best value: 0.674954:   3%|▎         | 6/200 [00:34<19:12,  5.94s/it]"
     ]
    },
    {
     "name": "stdout",
     "output_type": "stream",
     "text": [
      "[I 2025-09-22 22:16:43,513] Trial 5 finished with value: 0.6749538010744762 and parameters: {'num_boost_round': 1900, 'learning_rate': 0.028869220380495747, 'max_depth': 7, 'subsample': 0.7733551396716398, 'colsample_bytree': 0.5924272277627636, 'min_child_weight': 18.258230439200236, 'reg_alpha': 0.015887756931672537, 'reg_lambda': 2.8542399074977594, 'gamma': 4.474136752138244}. Best is trial 5 with value: 0.6749538010744762.\n"
     ]
    },
    {
     "name": "stderr",
     "output_type": "stream",
     "text": [
      "Best trial: 5. Best value: 0.674954:   4%|▎         | 7/200 [00:34<13:24,  4.17s/it]"
     ]
    },
    {
     "name": "stdout",
     "output_type": "stream",
     "text": [
      "[I 2025-09-22 22:16:44,040] Trial 6 pruned. \n"
     ]
    },
    {
     "name": "stderr",
     "output_type": "stream",
     "text": [
      "Best trial: 5. Best value: 0.674954:   4%|▍         | 8/200 [00:36<10:37,  3.32s/it]"
     ]
    },
    {
     "name": "stdout",
     "output_type": "stream",
     "text": [
      "[I 2025-09-22 22:16:45,537] Trial 7 pruned. \n"
     ]
    },
    {
     "name": "stderr",
     "output_type": "stream",
     "text": [
      "Best trial: 5. Best value: 0.674954:   4%|▍         | 9/200 [00:36<07:47,  2.45s/it]"
     ]
    },
    {
     "name": "stdout",
     "output_type": "stream",
     "text": [
      "[I 2025-09-22 22:16:46,062] Trial 8 pruned. \n"
     ]
    },
    {
     "name": "stderr",
     "output_type": "stream",
     "text": [
      "Best trial: 5. Best value: 0.674954:   5%|▌         | 10/200 [00:38<07:15,  2.29s/it]"
     ]
    },
    {
     "name": "stdout",
     "output_type": "stream",
     "text": [
      "[I 2025-09-22 22:16:48,011] Trial 9 pruned. \n"
     ]
    },
    {
     "name": "stderr",
     "output_type": "stream",
     "text": [
      "Best trial: 5. Best value: 0.674954:   6%|▌         | 11/200 [00:39<05:32,  1.76s/it]"
     ]
    },
    {
     "name": "stdout",
     "output_type": "stream",
     "text": [
      "[I 2025-09-22 22:16:48,559] Trial 10 pruned. \n"
     ]
    },
    {
     "name": "stderr",
     "output_type": "stream",
     "text": [
      "Best trial: 5. Best value: 0.674954:   6%|▌         | 12/200 [00:42<07:29,  2.39s/it]"
     ]
    },
    {
     "name": "stdout",
     "output_type": "stream",
     "text": [
      "[I 2025-09-22 22:16:52,404] Trial 11 pruned. \n"
     ]
    },
    {
     "name": "stderr",
     "output_type": "stream",
     "text": [
      "Best trial: 5. Best value: 0.674954:   6%|▋         | 13/200 [00:50<12:06,  3.88s/it]"
     ]
    },
    {
     "name": "stdout",
     "output_type": "stream",
     "text": [
      "[I 2025-09-22 22:16:59,719] Trial 12 finished with value: 0.6702786126715737 and parameters: {'num_boost_round': 2200, 'learning_rate': 0.01811483885352962, 'max_depth': 5, 'subsample': 0.7360183937495235, 'colsample_bytree': 0.5188124141823621, 'min_child_weight': 6.527193487225791, 'reg_alpha': 4.800040280482768e-07, 'reg_lambda': 8.80532271108504, 'gamma': 1.6921629101016427}. Best is trial 5 with value: 0.6749538010744762.\n"
     ]
    },
    {
     "name": "stderr",
     "output_type": "stream",
     "text": [
      "Best trial: 5. Best value: 0.674954:   7%|▋         | 14/200 [00:54<12:37,  4.07s/it]"
     ]
    },
    {
     "name": "stdout",
     "output_type": "stream",
     "text": [
      "[I 2025-09-22 22:17:04,221] Trial 13 finished with value: 0.6687213211765447 and parameters: {'num_boost_round': 2300, 'learning_rate': 0.04050252991446566, 'max_depth': 5, 'subsample': 0.783402910298474, 'colsample_bytree': 0.5013404833721143, 'min_child_weight': 14.769196440859822, 'reg_alpha': 8.559323952846835e-07, 'reg_lambda': 9.494013153581674, 'gamma': 1.8998105153442646}. Best is trial 5 with value: 0.6749538010744762.\n"
     ]
    },
    {
     "name": "stderr",
     "output_type": "stream",
     "text": [
      "Best trial: 5. Best value: 0.674954:   8%|▊         | 15/200 [00:56<09:58,  3.24s/it]"
     ]
    },
    {
     "name": "stdout",
     "output_type": "stream",
     "text": [
      "[I 2025-09-22 22:17:05,523] Trial 14 pruned. \n"
     ]
    },
    {
     "name": "stderr",
     "output_type": "stream",
     "text": [
      "Best trial: 5. Best value: 0.674954:   8%|▊         | 16/200 [00:57<08:15,  2.69s/it]"
     ]
    },
    {
     "name": "stdout",
     "output_type": "stream",
     "text": [
      "[I 2025-09-22 22:17:06,959] Trial 15 pruned. \n"
     ]
    },
    {
     "name": "stderr",
     "output_type": "stream",
     "text": [
      "Best trial: 5. Best value: 0.674954:   8%|▊         | 17/200 [00:58<06:50,  2.24s/it]"
     ]
    },
    {
     "name": "stdout",
     "output_type": "stream",
     "text": [
      "[I 2025-09-22 22:17:08,159] Trial 16 pruned. \n"
     ]
    },
    {
     "name": "stderr",
     "output_type": "stream",
     "text": [
      "Best trial: 5. Best value: 0.674954:   9%|▉         | 18/200 [00:59<05:13,  1.72s/it]"
     ]
    },
    {
     "name": "stdout",
     "output_type": "stream",
     "text": [
      "[I 2025-09-22 22:17:08,670] Trial 17 pruned. \n"
     ]
    },
    {
     "name": "stderr",
     "output_type": "stream",
     "text": [
      "Best trial: 5. Best value: 0.674954:  10%|▉         | 19/200 [01:00<04:38,  1.54s/it]"
     ]
    },
    {
     "name": "stdout",
     "output_type": "stream",
     "text": [
      "[I 2025-09-22 22:17:09,782] Trial 18 pruned. \n"
     ]
    },
    {
     "name": "stderr",
     "output_type": "stream",
     "text": [
      "Best trial: 5. Best value: 0.674954:  10%|█         | 20/200 [01:06<08:38,  2.88s/it]"
     ]
    },
    {
     "name": "stdout",
     "output_type": "stream",
     "text": [
      "[I 2025-09-22 22:17:15,786] Trial 19 finished with value: 0.6698749829665394 and parameters: {'num_boost_round': 1600, 'learning_rate': 0.020712183419887724, 'max_depth': 9, 'subsample': 0.6214594583096736, 'colsample_bytree': 0.5448685623577384, 'min_child_weight': 3.284773109580632, 'reg_alpha': 5.8976127834108165e-06, 'reg_lambda': 9.852075785991579, 'gamma': 3.6595820065071343}. Best is trial 5 with value: 0.6749538010744762.\n"
     ]
    },
    {
     "name": "stderr",
     "output_type": "stream",
     "text": [
      "Best trial: 5. Best value: 0.674954:  10%|█         | 21/200 [01:07<06:43,  2.25s/it]"
     ]
    },
    {
     "name": "stdout",
     "output_type": "stream",
     "text": [
      "[I 2025-09-22 22:17:16,575] Trial 20 pruned. \n"
     ]
    },
    {
     "name": "stderr",
     "output_type": "stream",
     "text": [
      "Best trial: 5. Best value: 0.674954:  11%|█         | 22/200 [01:13<10:24,  3.51s/it]"
     ]
    },
    {
     "name": "stdout",
     "output_type": "stream",
     "text": [
      "[I 2025-09-22 22:17:23,011] Trial 21 finished with value: 0.6693656804019765 and parameters: {'num_boost_round': 1600, 'learning_rate': 0.020603226413274025, 'max_depth': 9, 'subsample': 0.6286056453388881, 'colsample_bytree': 0.5477815267019936, 'min_child_weight': 2.795416109227053, 'reg_alpha': 3.806602748620815e-06, 'reg_lambda': 6.694775692848554, 'gamma': 3.777677506108514}. Best is trial 5 with value: 0.6749538010744762.\n"
     ]
    },
    {
     "name": "stderr",
     "output_type": "stream",
     "text": [
      "Best trial: 5. Best value: 0.674954:  12%|█▏        | 23/200 [01:20<13:15,  4.49s/it]"
     ]
    },
    {
     "name": "stdout",
     "output_type": "stream",
     "text": [
      "[I 2025-09-22 22:17:29,804] Trial 22 finished with value: 0.6704366203753465 and parameters: {'num_boost_round': 1100, 'learning_rate': 0.014987586326259149, 'max_depth': 9, 'subsample': 0.6778530235862339, 'colsample_bytree': 0.5466625551876464, 'min_child_weight': 4.576972188420627, 'reg_alpha': 1.438260825521717e-06, 'reg_lambda': 0.27596523421813374, 'gamma': 4.557312061866939}. Best is trial 5 with value: 0.6749538010744762.\n"
     ]
    },
    {
     "name": "stderr",
     "output_type": "stream",
     "text": [
      "Best trial: 5. Best value: 0.674954:  12%|█▏        | 24/200 [01:27<15:15,  5.20s/it]"
     ]
    },
    {
     "name": "stdout",
     "output_type": "stream",
     "text": [
      "[I 2025-09-22 22:17:36,654] Trial 23 finished with value: 0.6729431509135833 and parameters: {'num_boost_round': 1100, 'learning_rate': 0.014547176173072683, 'max_depth': 9, 'subsample': 0.6831885973167274, 'colsample_bytree': 0.6233387318621082, 'min_child_weight': 4.332693654979337, 'reg_alpha': 9.267541326364667e-08, 'reg_lambda': 0.4753387201153551, 'gamma': 4.630986250944764}. Best is trial 5 with value: 0.6749538010744762.\n"
     ]
    },
    {
     "name": "stderr",
     "output_type": "stream",
     "text": [
      "Best trial: 5. Best value: 0.674954:  12%|█▎        | 25/200 [01:28<12:13,  4.19s/it]"
     ]
    },
    {
     "name": "stdout",
     "output_type": "stream",
     "text": [
      "[I 2025-09-22 22:17:38,488] Trial 24 pruned. \n"
     ]
    },
    {
     "name": "stderr",
     "output_type": "stream",
     "text": [
      "Best trial: 5. Best value: 0.674954:  13%|█▎        | 26/200 [01:34<13:18,  4.59s/it]"
     ]
    },
    {
     "name": "stdout",
     "output_type": "stream",
     "text": [
      "[I 2025-09-22 22:17:44,014] Trial 25 pruned. \n"
     ]
    },
    {
     "name": "stderr",
     "output_type": "stream",
     "text": [
      "Best trial: 5. Best value: 0.674954:  14%|█▎        | 27/200 [01:36<11:12,  3.89s/it]"
     ]
    },
    {
     "name": "stdout",
     "output_type": "stream",
     "text": [
      "[I 2025-09-22 22:17:46,254] Trial 26 pruned. \n"
     ]
    },
    {
     "name": "stderr",
     "output_type": "stream",
     "text": [
      "Best trial: 5. Best value: 0.674954:  14%|█▍        | 28/200 [01:37<08:45,  3.05s/it]"
     ]
    },
    {
     "name": "stdout",
     "output_type": "stream",
     "text": [
      "[I 2025-09-22 22:17:47,364] Trial 27 pruned. \n"
     ]
    },
    {
     "name": "stderr",
     "output_type": "stream",
     "text": [
      "Best trial: 5. Best value: 0.674954:  14%|█▍        | 29/200 [01:39<07:22,  2.59s/it]"
     ]
    },
    {
     "name": "stdout",
     "output_type": "stream",
     "text": [
      "[I 2025-09-22 22:17:48,872] Trial 28 pruned. \n"
     ]
    },
    {
     "name": "stderr",
     "output_type": "stream",
     "text": [
      "Best trial: 5. Best value: 0.674954:  15%|█▌        | 30/200 [01:42<07:29,  2.64s/it]"
     ]
    },
    {
     "name": "stdout",
     "output_type": "stream",
     "text": [
      "[I 2025-09-22 22:17:51,643] Trial 29 pruned. \n"
     ]
    },
    {
     "name": "stderr",
     "output_type": "stream",
     "text": [
      "Best trial: 5. Best value: 0.674954:  16%|█▌        | 31/200 [01:45<08:25,  2.99s/it]"
     ]
    },
    {
     "name": "stdout",
     "output_type": "stream",
     "text": [
      "[I 2025-09-22 22:17:55,448] Trial 30 pruned. \n"
     ]
    },
    {
     "name": "stderr",
     "output_type": "stream",
     "text": [
      "Best trial: 5. Best value: 0.674954:  16%|█▌        | 32/200 [01:52<11:31,  4.12s/it]"
     ]
    },
    {
     "name": "stdout",
     "output_type": "stream",
     "text": [
      "[I 2025-09-22 22:18:02,187] Trial 31 finished with value: 0.67226160142645 and parameters: {'num_boost_round': 2200, 'learning_rate': 0.017426996107120958, 'max_depth': 7, 'subsample': 0.746961732547754, 'colsample_bytree': 0.5328606244823271, 'min_child_weight': 7.434454159140103, 'reg_alpha': 3.769561704282508e-07, 'reg_lambda': 1.9995735680245963, 'gamma': 1.8421667827184782}. Best is trial 5 with value: 0.6749538010744762.\n"
     ]
    },
    {
     "name": "stderr",
     "output_type": "stream",
     "text": [
      "Best trial: 5. Best value: 0.674954:  16%|█▋        | 33/200 [01:53<09:01,  3.24s/it]"
     ]
    },
    {
     "name": "stdout",
     "output_type": "stream",
     "text": [
      "[I 2025-09-22 22:18:03,395] Trial 32 pruned. \n"
     ]
    },
    {
     "name": "stderr",
     "output_type": "stream",
     "text": [
      "Best trial: 5. Best value: 0.674954:  17%|█▋        | 34/200 [01:56<08:22,  3.02s/it]"
     ]
    },
    {
     "name": "stdout",
     "output_type": "stream",
     "text": [
      "[I 2025-09-22 22:18:05,909] Trial 33 pruned. \n"
     ]
    },
    {
     "name": "stderr",
     "output_type": "stream",
     "text": [
      "Best trial: 5. Best value: 0.674954:  18%|█▊        | 35/200 [02:02<11:09,  4.06s/it]"
     ]
    },
    {
     "name": "stdout",
     "output_type": "stream",
     "text": [
      "[I 2025-09-22 22:18:12,373] Trial 34 finished with value: 0.6734012630780043 and parameters: {'num_boost_round': 1800, 'learning_rate': 0.015190206777860355, 'max_depth': 8, 'subsample': 0.7759777040608115, 'colsample_bytree': 0.6238448362712218, 'min_child_weight': 7.57108504922157, 'reg_alpha': 2.9991479580297955e-08, 'reg_lambda': 0.03045186273692952, 'gamma': 4.177814307837635}. Best is trial 5 with value: 0.6749538010744762.\n"
     ]
    },
    {
     "name": "stderr",
     "output_type": "stream",
     "text": [
      "Best trial: 5. Best value: 0.674954:  18%|█▊        | 36/200 [02:03<08:34,  3.14s/it]"
     ]
    },
    {
     "name": "stdout",
     "output_type": "stream",
     "text": [
      "[I 2025-09-22 22:18:13,364] Trial 35 pruned. \n"
     ]
    },
    {
     "name": "stderr",
     "output_type": "stream",
     "text": [
      "Best trial: 36. Best value: 0.676285:  18%|█▊        | 37/200 [02:08<09:49,  3.62s/it]"
     ]
    },
    {
     "name": "stdout",
     "output_type": "stream",
     "text": [
      "[I 2025-09-22 22:18:18,095] Trial 36 finished with value: 0.6762846432385958 and parameters: {'num_boost_round': 1700, 'learning_rate': 0.024045019207876186, 'max_depth': 7, 'subsample': 0.894344753605128, 'colsample_bytree': 0.6015470125437121, 'min_child_weight': 12.136802657547042, 'reg_alpha': 2.3569207902549565e-08, 'reg_lambda': 2.865356398004525, 'gamma': 4.028929089708902}. Best is trial 36 with value: 0.6762846432385958.\n"
     ]
    },
    {
     "name": "stderr",
     "output_type": "stream",
     "text": [
      "Best trial: 36. Best value: 0.676285:  19%|█▉        | 38/200 [02:11<09:07,  3.38s/it]"
     ]
    },
    {
     "name": "stdout",
     "output_type": "stream",
     "text": [
      "[I 2025-09-22 22:18:20,928] Trial 37 finished with value: 0.6717049274528959 and parameters: {'num_boost_round': 1700, 'learning_rate': 0.05227135122733143, 'max_depth': 7, 'subsample': 0.9136387335253436, 'colsample_bytree': 0.6714331685961504, 'min_child_weight': 11.805248890990438, 'reg_alpha': 4.294979263744022e-08, 'reg_lambda': 0.06112261379881702, 'gamma': 4.0947914086988275}. Best is trial 36 with value: 0.6762846432385958.\n"
     ]
    },
    {
     "name": "stderr",
     "output_type": "stream",
     "text": [
      "Best trial: 36. Best value: 0.676285:  20%|█▉        | 39/200 [02:12<07:20,  2.73s/it]"
     ]
    },
    {
     "name": "stdout",
     "output_type": "stream",
     "text": [
      "[I 2025-09-22 22:18:22,153] Trial 38 pruned. \n"
     ]
    },
    {
     "name": "stderr",
     "output_type": "stream",
     "text": [
      "Best trial: 36. Best value: 0.676285:  20%|██        | 40/200 [02:13<05:49,  2.19s/it]"
     ]
    },
    {
     "name": "stdout",
     "output_type": "stream",
     "text": [
      "[I 2025-09-22 22:18:23,058] Trial 39 pruned. \n"
     ]
    },
    {
     "name": "stderr",
     "output_type": "stream",
     "text": [
      "Best trial: 36. Best value: 0.676285:  20%|██        | 41/200 [02:14<04:29,  1.70s/it]"
     ]
    },
    {
     "name": "stdout",
     "output_type": "stream",
     "text": [
      "[I 2025-09-22 22:18:23,619] Trial 40 pruned. \n"
     ]
    },
    {
     "name": "stderr",
     "output_type": "stream",
     "text": [
      "Best trial: 36. Best value: 0.676285:  21%|██        | 42/200 [02:15<04:32,  1.72s/it]"
     ]
    },
    {
     "name": "stdout",
     "output_type": "stream",
     "text": [
      "[I 2025-09-22 22:18:25,398] Trial 41 pruned. \n"
     ]
    },
    {
     "name": "stderr",
     "output_type": "stream",
     "text": [
      "Best trial: 36. Best value: 0.676285:  22%|██▏       | 43/200 [02:23<09:23,  3.59s/it]"
     ]
    },
    {
     "name": "stdout",
     "output_type": "stream",
     "text": [
      "[I 2025-09-22 22:18:33,334] Trial 42 finished with value: 0.6734054533736636 and parameters: {'num_boost_round': 1700, 'learning_rate': 0.011909288794793868, 'max_depth': 8, 'subsample': 0.7261164481582683, 'colsample_bytree': 0.5988265038690833, 'min_child_weight': 7.906702466373259, 'reg_alpha': 3.010333459112369e-08, 'reg_lambda': 0.6652087058674914, 'gamma': 4.725846091582295}. Best is trial 36 with value: 0.6762846432385958.\n"
     ]
    },
    {
     "name": "stderr",
     "output_type": "stream",
     "text": [
      "Best trial: 36. Best value: 0.676285:  22%|██▏       | 44/200 [02:32<13:02,  5.01s/it]"
     ]
    },
    {
     "name": "stdout",
     "output_type": "stream",
     "text": [
      "[I 2025-09-22 22:18:41,682] Trial 43 finished with value: 0.6739279789226919 and parameters: {'num_boost_round': 1700, 'learning_rate': 0.01175261228825398, 'max_depth': 8, 'subsample': 0.699368363716041, 'colsample_bytree': 0.6088435881640019, 'min_child_weight': 13.376804630136917, 'reg_alpha': 2.6912502513411092e-08, 'reg_lambda': 0.6486079675355033, 'gamma': 4.720208765330385}. Best is trial 36 with value: 0.6762846432385958.\n"
     ]
    },
    {
     "name": "stderr",
     "output_type": "stream",
     "text": [
      "Best trial: 36. Best value: 0.676285:  22%|██▎       | 45/200 [02:40<15:08,  5.86s/it]"
     ]
    },
    {
     "name": "stdout",
     "output_type": "stream",
     "text": [
      "[I 2025-09-22 22:18:49,508] Trial 44 finished with value: 0.6741022239410869 and parameters: {'num_boost_round': 1700, 'learning_rate': 0.012343500765989775, 'max_depth': 8, 'subsample': 0.7189574744956355, 'colsample_bytree': 0.6493725689838391, 'min_child_weight': 13.501596324331171, 'reg_alpha': 3.38779401600485e-08, 'reg_lambda': 0.6984218698847735, 'gamma': 4.792565793646353}. Best is trial 36 with value: 0.6762846432385958.\n"
     ]
    },
    {
     "name": "stderr",
     "output_type": "stream",
     "text": [
      "Best trial: 36. Best value: 0.676285:  23%|██▎       | 46/200 [02:42<12:46,  4.98s/it]"
     ]
    },
    {
     "name": "stdout",
     "output_type": "stream",
     "text": [
      "[I 2025-09-22 22:18:52,427] Trial 45 pruned. \n"
     ]
    },
    {
     "name": "stderr",
     "output_type": "stream",
     "text": [
      "Best trial: 36. Best value: 0.676285:  24%|██▎       | 47/200 [02:44<10:18,  4.04s/it]"
     ]
    },
    {
     "name": "stdout",
     "output_type": "stream",
     "text": [
      "[I 2025-09-22 22:18:54,284] Trial 46 pruned. \n"
     ]
    },
    {
     "name": "stderr",
     "output_type": "stream",
     "text": [
      "Best trial: 36. Best value: 0.676285:  24%|██▍       | 48/200 [02:45<07:35,  3.00s/it]"
     ]
    },
    {
     "name": "stdout",
     "output_type": "stream",
     "text": [
      "[I 2025-09-22 22:18:54,844] Trial 47 pruned. \n"
     ]
    },
    {
     "name": "stderr",
     "output_type": "stream",
     "text": [
      "Best trial: 36. Best value: 0.676285:  24%|██▍       | 49/200 [02:47<06:45,  2.68s/it]"
     ]
    },
    {
     "name": "stdout",
     "output_type": "stream",
     "text": [
      "[I 2025-09-22 22:18:56,796] Trial 48 pruned. \n"
     ]
    },
    {
     "name": "stderr",
     "output_type": "stream",
     "text": [
      "Best trial: 36. Best value: 0.676285:  25%|██▌       | 50/200 [02:54<10:00,  4.01s/it]"
     ]
    },
    {
     "name": "stdout",
     "output_type": "stream",
     "text": [
      "[I 2025-09-22 22:19:03,889] Trial 49 finished with value: 0.6752610858772556 and parameters: {'num_boost_round': 1700, 'learning_rate': 0.012364650434366827, 'max_depth': 8, 'subsample': 0.7134824215862328, 'colsample_bytree': 0.6457526203528838, 'min_child_weight': 16.17086987783708, 'reg_alpha': 7.492495182237375e-07, 'reg_lambda': 0.9047561836729765, 'gamma': 4.788032453563234}. Best is trial 36 with value: 0.6762846432385958.\n"
     ]
    },
    {
     "name": "stderr",
     "output_type": "stream",
     "text": [
      "Best trial: 36. Best value: 0.676285:  26%|██▌       | 51/200 [02:55<07:48,  3.15s/it]"
     ]
    },
    {
     "name": "stdout",
     "output_type": "stream",
     "text": [
      "[I 2025-09-22 22:19:05,026] Trial 50 pruned. \n"
     ]
    },
    {
     "name": "stderr",
     "output_type": "stream",
     "text": [
      "Best trial: 36. Best value: 0.676285:  26%|██▌       | 52/200 [02:57<06:49,  2.76s/it]"
     ]
    },
    {
     "name": "stdout",
     "output_type": "stream",
     "text": [
      "[I 2025-09-22 22:19:06,903] Trial 51 pruned. \n"
     ]
    },
    {
     "name": "stderr",
     "output_type": "stream",
     "text": [
      "Best trial: 36. Best value: 0.676285:  26%|██▋       | 53/200 [02:59<06:12,  2.53s/it]"
     ]
    },
    {
     "name": "stdout",
     "output_type": "stream",
     "text": [
      "[I 2025-09-22 22:19:08,898] Trial 52 pruned. \n"
     ]
    },
    {
     "name": "stderr",
     "output_type": "stream",
     "text": [
      "Best trial: 36. Best value: 0.676285:  27%|██▋       | 54/200 [02:59<04:39,  1.91s/it]"
     ]
    },
    {
     "name": "stdout",
     "output_type": "stream",
     "text": [
      "[I 2025-09-22 22:19:09,367] Trial 53 pruned. \n"
     ]
    },
    {
     "name": "stderr",
     "output_type": "stream",
     "text": [
      "Best trial: 36. Best value: 0.676285:  28%|██▊       | 55/200 [03:01<04:45,  1.97s/it]"
     ]
    },
    {
     "name": "stdout",
     "output_type": "stream",
     "text": [
      "[I 2025-09-22 22:19:11,464] Trial 54 pruned. \n"
     ]
    },
    {
     "name": "stderr",
     "output_type": "stream",
     "text": [
      "Best trial: 36. Best value: 0.676285:  28%|██▊       | 56/200 [03:02<03:40,  1.53s/it]"
     ]
    },
    {
     "name": "stdout",
     "output_type": "stream",
     "text": [
      "[I 2025-09-22 22:19:11,968] Trial 55 pruned. \n"
     ]
    },
    {
     "name": "stderr",
     "output_type": "stream",
     "text": [
      "Best trial: 36. Best value: 0.676285:  28%|██▊       | 57/200 [03:03<03:34,  1.50s/it]"
     ]
    },
    {
     "name": "stdout",
     "output_type": "stream",
     "text": [
      "[I 2025-09-22 22:19:13,400] Trial 56 pruned. \n"
     ]
    },
    {
     "name": "stderr",
     "output_type": "stream",
     "text": [
      "Best trial: 36. Best value: 0.676285:  29%|██▉       | 58/200 [03:05<03:45,  1.59s/it]"
     ]
    },
    {
     "name": "stdout",
     "output_type": "stream",
     "text": [
      "[I 2025-09-22 22:19:15,191] Trial 57 pruned. \n"
     ]
    },
    {
     "name": "stderr",
     "output_type": "stream",
     "text": [
      "Best trial: 36. Best value: 0.676285:  30%|██▉       | 59/200 [03:06<03:13,  1.37s/it]"
     ]
    },
    {
     "name": "stdout",
     "output_type": "stream",
     "text": [
      "[I 2025-09-22 22:19:16,065] Trial 58 pruned. \n"
     ]
    },
    {
     "name": "stderr",
     "output_type": "stream",
     "text": [
      "Best trial: 36. Best value: 0.676285:  30%|███       | 60/200 [03:10<04:39,  2.00s/it]"
     ]
    },
    {
     "name": "stdout",
     "output_type": "stream",
     "text": [
      "[I 2025-09-22 22:19:19,517] Trial 59 finished with value: 0.6742049898478166 and parameters: {'num_boost_round': 1900, 'learning_rate': 0.04242727927644702, 'max_depth': 8, 'subsample': 0.7217038281154847, 'colsample_bytree': 0.6498571170300326, 'min_child_weight': 12.483615758272002, 'reg_alpha': 2.0536424096480972e-08, 'reg_lambda': 0.22000549426061972, 'gamma': 3.9276582601074654}. Best is trial 36 with value: 0.6762846432385958.\n"
     ]
    },
    {
     "name": "stderr",
     "output_type": "stream",
     "text": [
      "Best trial: 36. Best value: 0.676285:  30%|███       | 61/200 [03:10<03:49,  1.65s/it]"
     ]
    },
    {
     "name": "stdout",
     "output_type": "stream",
     "text": [
      "[I 2025-09-22 22:19:20,361] Trial 60 pruned. \n"
     ]
    },
    {
     "name": "stderr",
     "output_type": "stream",
     "text": [
      "Best trial: 36. Best value: 0.676285:  31%|███       | 62/200 [03:12<03:33,  1.54s/it]"
     ]
    },
    {
     "name": "stdout",
     "output_type": "stream",
     "text": [
      "[I 2025-09-22 22:19:21,655] Trial 61 pruned. \n"
     ]
    },
    {
     "name": "stderr",
     "output_type": "stream",
     "text": [
      "Best trial: 36. Best value: 0.676285:  32%|███▏      | 63/200 [03:12<02:56,  1.29s/it]"
     ]
    },
    {
     "name": "stdout",
     "output_type": "stream",
     "text": [
      "[I 2025-09-22 22:19:22,344] Trial 62 pruned. \n"
     ]
    },
    {
     "name": "stderr",
     "output_type": "stream",
     "text": [
      "Best trial: 36. Best value: 0.676285:  32%|███▏      | 64/200 [03:13<02:38,  1.17s/it]"
     ]
    },
    {
     "name": "stdout",
     "output_type": "stream",
     "text": [
      "[I 2025-09-22 22:19:23,230] Trial 63 pruned. \n"
     ]
    },
    {
     "name": "stderr",
     "output_type": "stream",
     "text": [
      "Best trial: 36. Best value: 0.676285:  32%|███▎      | 65/200 [03:17<04:04,  1.81s/it]"
     ]
    },
    {
     "name": "stdout",
     "output_type": "stream",
     "text": [
      "[I 2025-09-22 22:19:26,549] Trial 64 finished with value: 0.6762289220463764 and parameters: {'num_boost_round': 1700, 'learning_rate': 0.06109092850661968, 'max_depth': 9, 'subsample': 0.7338073456629661, 'colsample_bytree': 0.6972443380557504, 'min_child_weight': 12.486794783399324, 'reg_alpha': 5.892775580909732e-08, 'reg_lambda': 9.371029943969212, 'gamma': 4.056773366753638}. Best is trial 36 with value: 0.6762846432385958.\n"
     ]
    },
    {
     "name": "stderr",
     "output_type": "stream",
     "text": [
      "Best trial: 36. Best value: 0.676285:  33%|███▎      | 66/200 [03:17<03:16,  1.46s/it]"
     ]
    },
    {
     "name": "stdout",
     "output_type": "stream",
     "text": [
      "[I 2025-09-22 22:19:27,197] Trial 65 pruned. \n"
     ]
    },
    {
     "name": "stderr",
     "output_type": "stream",
     "text": [
      "Best trial: 36. Best value: 0.676285:  34%|███▎      | 67/200 [03:18<02:40,  1.21s/it]"
     ]
    },
    {
     "name": "stdout",
     "output_type": "stream",
     "text": [
      "[I 2025-09-22 22:19:27,800] Trial 66 pruned. \n"
     ]
    },
    {
     "name": "stderr",
     "output_type": "stream",
     "text": [
      "Best trial: 36. Best value: 0.676285:  34%|███▍      | 68/200 [03:21<03:52,  1.76s/it]"
     ]
    },
    {
     "name": "stdout",
     "output_type": "stream",
     "text": [
      "[I 2025-09-22 22:19:30,857] Trial 67 finished with value: 0.6738745119222591 and parameters: {'num_boost_round': 1700, 'learning_rate': 0.06461953392211575, 'max_depth': 9, 'subsample': 0.7391287435288938, 'colsample_bytree': 0.6673301248929889, 'min_child_weight': 10.670531413764701, 'reg_alpha': 1.7692090285585578e-08, 'reg_lambda': 4.945283723994587, 'gamma': 3.9382938670081167}. Best is trial 36 with value: 0.6762846432385958.\n"
     ]
    },
    {
     "name": "stderr",
     "output_type": "stream",
     "text": [
      "Best trial: 36. Best value: 0.676285:  34%|███▍      | 69/200 [03:22<03:12,  1.47s/it]"
     ]
    },
    {
     "name": "stdout",
     "output_type": "stream",
     "text": [
      "[I 2025-09-22 22:19:31,637] Trial 68 pruned. \n"
     ]
    },
    {
     "name": "stderr",
     "output_type": "stream",
     "text": [
      "Best trial: 36. Best value: 0.676285:  35%|███▌      | 70/200 [03:22<02:43,  1.26s/it]"
     ]
    },
    {
     "name": "stdout",
     "output_type": "stream",
     "text": [
      "[I 2025-09-22 22:19:32,410] Trial 69 pruned. \n"
     ]
    },
    {
     "name": "stderr",
     "output_type": "stream",
     "text": [
      "Best trial: 36. Best value: 0.676285:  36%|███▌      | 71/200 [03:25<03:39,  1.70s/it]"
     ]
    },
    {
     "name": "stdout",
     "output_type": "stream",
     "text": [
      "[I 2025-09-22 22:19:35,146] Trial 70 finished with value: 0.6735238845306919 and parameters: {'num_boost_round': 1900, 'learning_rate': 0.04871140897048868, 'max_depth': 6, 'subsample': 0.814439876362099, 'colsample_bytree': 0.6492032854315359, 'min_child_weight': 15.305685812031905, 'reg_alpha': 1.200147601535078e-07, 'reg_lambda': 1.570752723075403, 'gamma': 4.902968527164142}. Best is trial 36 with value: 0.6762846432385958.\n"
     ]
    },
    {
     "name": "stderr",
     "output_type": "stream",
     "text": [
      "Best trial: 71. Best value: 0.678:  36%|███▌      | 72/200 [03:28<04:26,  2.08s/it]   "
     ]
    },
    {
     "name": "stdout",
     "output_type": "stream",
     "text": [
      "[I 2025-09-22 22:19:38,113] Trial 71 finished with value: 0.678000207237903 and parameters: {'num_boost_round': 1700, 'learning_rate': 0.06631321748109935, 'max_depth': 9, 'subsample': 0.7364526883875194, 'colsample_bytree': 0.6721190934470722, 'min_child_weight': 10.463271475379784, 'reg_alpha': 1.7342552288238117e-08, 'reg_lambda': 5.98582010082731, 'gamma': 3.9578300821992873}. Best is trial 71 with value: 0.678000207237903.\n"
     ]
    },
    {
     "name": "stderr",
     "output_type": "stream",
     "text": [
      "Best trial: 71. Best value: 0.678:  36%|███▋      | 73/200 [03:33<06:16,  2.96s/it]"
     ]
    },
    {
     "name": "stdout",
     "output_type": "stream",
     "text": [
      "[I 2025-09-22 22:19:43,139] Trial 72 finished with value: 0.677417965801481 and parameters: {'num_boost_round': 1600, 'learning_rate': 0.0411606811194273, 'max_depth': 9, 'subsample': 0.69812441112808, 'colsample_bytree': 0.6987942934433616, 'min_child_weight': 9.795244476951886, 'reg_alpha': 2.3849732986090766e-08, 'reg_lambda': 9.159883422120409, 'gamma': 4.288154171483119}. Best is trial 71 with value: 0.678000207237903.\n"
     ]
    },
    {
     "name": "stderr",
     "output_type": "stream",
     "text": [
      "Best trial: 71. Best value: 0.678:  37%|███▋      | 74/200 [03:34<05:00,  2.39s/it]"
     ]
    },
    {
     "name": "stdout",
     "output_type": "stream",
     "text": [
      "[I 2025-09-22 22:19:44,176] Trial 73 pruned. \n"
     ]
    },
    {
     "name": "stderr",
     "output_type": "stream",
     "text": [
      "Best trial: 71. Best value: 0.678:  38%|███▊      | 75/200 [03:39<06:31,  3.13s/it]"
     ]
    },
    {
     "name": "stdout",
     "output_type": "stream",
     "text": [
      "[I 2025-09-22 22:19:49,038] Trial 74 finished with value: 0.6761768158902273 and parameters: {'num_boost_round': 1600, 'learning_rate': 0.033484339024899376, 'max_depth': 10, 'subsample': 0.7653870796337777, 'colsample_bytree': 0.7059926031537735, 'min_child_weight': 10.117345592395111, 'reg_alpha': 2.5553977062710877e-07, 'reg_lambda': 4.30636296222878, 'gamma': 3.652293870411871}. Best is trial 71 with value: 0.678000207237903.\n"
     ]
    },
    {
     "name": "stderr",
     "output_type": "stream",
     "text": [
      "Best trial: 71. Best value: 0.678:  38%|███▊      | 76/200 [03:40<05:18,  2.57s/it]"
     ]
    },
    {
     "name": "stdout",
     "output_type": "stream",
     "text": [
      "[I 2025-09-22 22:19:50,296] Trial 75 pruned. \n"
     ]
    },
    {
     "name": "stderr",
     "output_type": "stream",
     "text": [
      "Best trial: 71. Best value: 0.678:  38%|███▊      | 77/200 [03:45<06:45,  3.29s/it]"
     ]
    },
    {
     "name": "stdout",
     "output_type": "stream",
     "text": [
      "[I 2025-09-22 22:19:55,285] Trial 76 finished with value: 0.6756344289785059 and parameters: {'num_boost_round': 1600, 'learning_rate': 0.032824978122875194, 'max_depth': 10, 'subsample': 0.7653351931633241, 'colsample_bytree': 0.6972441829728317, 'min_child_weight': 9.846860629006443, 'reg_alpha': 4.183964783989387e-07, 'reg_lambda': 2.8520297227937492, 'gamma': 4.055410569195863}. Best is trial 71 with value: 0.678000207237903.\n"
     ]
    },
    {
     "name": "stderr",
     "output_type": "stream",
     "text": [
      "Best trial: 71. Best value: 0.678:  39%|███▉      | 78/200 [03:46<05:20,  2.63s/it]"
     ]
    },
    {
     "name": "stdout",
     "output_type": "stream",
     "text": [
      "[I 2025-09-22 22:19:56,355] Trial 77 pruned. \n"
     ]
    },
    {
     "name": "stderr",
     "output_type": "stream",
     "text": [
      "Best trial: 71. Best value: 0.678:  40%|███▉      | 79/200 [03:48<04:30,  2.24s/it]"
     ]
    },
    {
     "name": "stdout",
     "output_type": "stream",
     "text": [
      "[I 2025-09-22 22:19:57,685] Trial 78 pruned. \n"
     ]
    },
    {
     "name": "stderr",
     "output_type": "stream",
     "text": [
      "Best trial: 71. Best value: 0.678:  40%|████      | 80/200 [03:49<03:45,  1.88s/it]"
     ]
    },
    {
     "name": "stdout",
     "output_type": "stream",
     "text": [
      "[I 2025-09-22 22:19:58,735] Trial 79 pruned. \n"
     ]
    },
    {
     "name": "stderr",
     "output_type": "stream",
     "text": [
      "Best trial: 71. Best value: 0.678:  40%|████      | 81/200 [03:53<04:55,  2.48s/it]"
     ]
    },
    {
     "name": "stdout",
     "output_type": "stream",
     "text": [
      "[I 2025-09-22 22:20:02,621] Trial 80 finished with value: 0.6769079043559565 and parameters: {'num_boost_round': 1300, 'learning_rate': 0.05094847497973682, 'max_depth': 10, 'subsample': 0.7916690187941225, 'colsample_bytree': 0.6954381826312671, 'min_child_weight': 9.901041581189203, 'reg_alpha': 0.015859597699234406, 'reg_lambda': 5.556774054293707, 'gamma': 3.231748215953516}. Best is trial 71 with value: 0.678000207237903.\n"
     ]
    },
    {
     "name": "stderr",
     "output_type": "stream",
     "text": [
      "Best trial: 71. Best value: 0.678:  41%|████      | 82/200 [03:53<03:49,  1.95s/it]"
     ]
    },
    {
     "name": "stdout",
     "output_type": "stream",
     "text": [
      "[I 2025-09-22 22:20:03,317] Trial 81 pruned. \n"
     ]
    },
    {
     "name": "stderr",
     "output_type": "stream",
     "text": [
      "Best trial: 71. Best value: 0.678:  42%|████▏     | 83/200 [03:57<04:35,  2.36s/it]"
     ]
    },
    {
     "name": "stdout",
     "output_type": "stream",
     "text": [
      "[I 2025-09-22 22:20:06,628] Trial 82 finished with value: 0.6752035028879958 and parameters: {'num_boost_round': 1500, 'learning_rate': 0.052444422315269086, 'max_depth': 10, 'subsample': 0.748455669123476, 'colsample_bytree': 0.6730643748822869, 'min_child_weight': 8.130202398407054, 'reg_alpha': 0.03532630935093198, 'reg_lambda': 3.0313217928395937, 'gamma': 3.6039018287185027}. Best is trial 71 with value: 0.678000207237903.\n"
     ]
    },
    {
     "name": "stderr",
     "output_type": "stream",
     "text": [
      "Best trial: 71. Best value: 0.678:  42%|████▏     | 84/200 [03:58<03:44,  1.93s/it]"
     ]
    },
    {
     "name": "stdout",
     "output_type": "stream",
     "text": [
      "[I 2025-09-22 22:20:07,570] Trial 83 pruned. \n"
     ]
    },
    {
     "name": "stderr",
     "output_type": "stream",
     "text": [
      "Best trial: 71. Best value: 0.678:  42%|████▎     | 85/200 [04:01<04:33,  2.37s/it]"
     ]
    },
    {
     "name": "stdout",
     "output_type": "stream",
     "text": [
      "[I 2025-09-22 22:20:10,978] Trial 84 finished with value: 0.6769846501535088 and parameters: {'num_boost_round': 1400, 'learning_rate': 0.05710656474660402, 'max_depth': 10, 'subsample': 0.7669311429728903, 'colsample_bytree': 0.672829382988052, 'min_child_weight': 8.384869804146504, 'reg_alpha': 0.09225293800555921, 'reg_lambda': 5.894675395447065, 'gamma': 3.5544591163972874}. Best is trial 71 with value: 0.678000207237903.\n"
     ]
    },
    {
     "name": "stderr",
     "output_type": "stream",
     "text": [
      "Best trial: 85. Best value: 0.680521:  43%|████▎     | 86/200 [04:04<05:01,  2.65s/it]"
     ]
    },
    {
     "name": "stdout",
     "output_type": "stream",
     "text": [
      "[I 2025-09-22 22:20:14,258] Trial 85 finished with value: 0.6805208300721659 and parameters: {'num_boost_round': 1200, 'learning_rate': 0.06931547409862611, 'max_depth': 10, 'subsample': 0.8138216439876709, 'colsample_bytree': 0.6794216823730848, 'min_child_weight': 9.077609991506376, 'reg_alpha': 0.1567730663208543, 'reg_lambda': 6.2777779604584945, 'gamma': 2.869423992540643}. Best is trial 85 with value: 0.6805208300721659.\n"
     ]
    },
    {
     "name": "stderr",
     "output_type": "stream",
     "text": [
      "Best trial: 85. Best value: 0.680521:  44%|████▎     | 87/200 [04:05<03:56,  2.09s/it]"
     ]
    },
    {
     "name": "stdout",
     "output_type": "stream",
     "text": [
      "[I 2025-09-22 22:20:15,063] Trial 86 pruned. \n"
     ]
    },
    {
     "name": "stderr",
     "output_type": "stream",
     "text": [
      "Best trial: 85. Best value: 0.680521:  44%|████▍     | 88/200 [04:06<03:16,  1.76s/it]"
     ]
    },
    {
     "name": "stdout",
     "output_type": "stream",
     "text": [
      "[I 2025-09-22 22:20:16,036] Trial 87 pruned. \n"
     ]
    },
    {
     "name": "stderr",
     "output_type": "stream",
     "text": [
      "Best trial: 85. Best value: 0.680521:  44%|████▍     | 89/200 [04:07<02:46,  1.50s/it]"
     ]
    },
    {
     "name": "stdout",
     "output_type": "stream",
     "text": [
      "[I 2025-09-22 22:20:16,935] Trial 88 pruned. \n"
     ]
    },
    {
     "name": "stderr",
     "output_type": "stream",
     "text": [
      "Best trial: 85. Best value: 0.680521:  45%|████▌     | 90/200 [04:08<02:25,  1.32s/it]"
     ]
    },
    {
     "name": "stdout",
     "output_type": "stream",
     "text": [
      "[I 2025-09-22 22:20:17,840] Trial 89 pruned. \n"
     ]
    },
    {
     "name": "stderr",
     "output_type": "stream",
     "text": [
      "Best trial: 85. Best value: 0.680521:  46%|████▌     | 91/200 [04:09<02:08,  1.18s/it]"
     ]
    },
    {
     "name": "stdout",
     "output_type": "stream",
     "text": [
      "[I 2025-09-22 22:20:18,692] Trial 90 pruned. \n"
     ]
    },
    {
     "name": "stderr",
     "output_type": "stream",
     "text": [
      "Best trial: 85. Best value: 0.680521:  46%|████▌     | 92/200 [04:13<03:34,  1.98s/it]"
     ]
    },
    {
     "name": "stdout",
     "output_type": "stream",
     "text": [
      "[I 2025-09-22 22:20:22,548] Trial 91 finished with value: 0.6778365680363432 and parameters: {'num_boost_round': 1000, 'learning_rate': 0.04781804633826259, 'max_depth': 9, 'subsample': 0.7635496545407295, 'colsample_bytree': 0.6928954535561491, 'min_child_weight': 10.14968698501706, 'reg_alpha': 0.928767393071394, 'reg_lambda': 4.2735332768432785, 'gamma': 2.9342157387461354}. Best is trial 85 with value: 0.6805208300721659.\n"
     ]
    },
    {
     "name": "stderr",
     "output_type": "stream",
     "text": [
      "Best trial: 85. Best value: 0.680521:  46%|████▋     | 93/200 [04:16<04:28,  2.51s/it]"
     ]
    },
    {
     "name": "stdout",
     "output_type": "stream",
     "text": [
      "[I 2025-09-22 22:20:26,295] Trial 92 finished with value: 0.6785925406007347 and parameters: {'num_boost_round': 1000, 'learning_rate': 0.04801097108829468, 'max_depth': 9, 'subsample': 0.7643146220510021, 'colsample_bytree': 0.6944667945562116, 'min_child_weight': 10.37417676852104, 'reg_alpha': 0.7418067204044898, 'reg_lambda': 4.360734401410695, 'gamma': 3.017653832618971}. Best is trial 85 with value: 0.6805208300721659.\n"
     ]
    },
    {
     "name": "stderr",
     "output_type": "stream",
     "text": [
      "Best trial: 85. Best value: 0.680521:  47%|████▋     | 94/200 [04:19<04:22,  2.48s/it]"
     ]
    },
    {
     "name": "stdout",
     "output_type": "stream",
     "text": [
      "[I 2025-09-22 22:20:28,685] Trial 93 pruned. \n"
     ]
    },
    {
     "name": "stderr",
     "output_type": "stream",
     "text": [
      "Best trial: 85. Best value: 0.680521:  48%|████▊     | 95/200 [04:19<03:24,  1.95s/it]"
     ]
    },
    {
     "name": "stdout",
     "output_type": "stream",
     "text": [
      "[I 2025-09-22 22:20:29,413] Trial 94 pruned. \n"
     ]
    },
    {
     "name": "stderr",
     "output_type": "stream",
     "text": [
      "Best trial: 85. Best value: 0.680521:  48%|████▊     | 96/200 [04:20<02:53,  1.67s/it]"
     ]
    },
    {
     "name": "stdout",
     "output_type": "stream",
     "text": [
      "[I 2025-09-22 22:20:30,426] Trial 95 pruned. \n"
     ]
    },
    {
     "name": "stderr",
     "output_type": "stream",
     "text": [
      "Best trial: 85. Best value: 0.680521:  48%|████▊     | 97/200 [04:21<02:22,  1.39s/it]"
     ]
    },
    {
     "name": "stdout",
     "output_type": "stream",
     "text": [
      "[I 2025-09-22 22:20:31,152] Trial 96 pruned. \n"
     ]
    },
    {
     "name": "stderr",
     "output_type": "stream",
     "text": [
      "Best trial: 85. Best value: 0.680521:  49%|████▉     | 98/200 [04:22<02:05,  1.23s/it]"
     ]
    },
    {
     "name": "stdout",
     "output_type": "stream",
     "text": [
      "[I 2025-09-22 22:20:32,025] Trial 97 pruned. \n"
     ]
    },
    {
     "name": "stderr",
     "output_type": "stream",
     "text": [
      "Best trial: 85. Best value: 0.680521:  50%|████▉     | 99/200 [04:23<01:56,  1.15s/it]"
     ]
    },
    {
     "name": "stdout",
     "output_type": "stream",
     "text": [
      "[I 2025-09-22 22:20:32,987] Trial 98 pruned. \n"
     ]
    },
    {
     "name": "stderr",
     "output_type": "stream",
     "text": [
      "Best trial: 85. Best value: 0.680521:  50%|█████     | 100/200 [04:24<01:37,  1.02it/s]"
     ]
    },
    {
     "name": "stdout",
     "output_type": "stream",
     "text": [
      "[I 2025-09-22 22:20:33,563] Trial 99 pruned. \n"
     ]
    },
    {
     "name": "stderr",
     "output_type": "stream",
     "text": [
      "Best trial: 85. Best value: 0.680521:  50%|█████     | 101/200 [04:25<01:48,  1.10s/it]"
     ]
    },
    {
     "name": "stdout",
     "output_type": "stream",
     "text": [
      "[I 2025-09-22 22:20:34,942] Trial 100 pruned. \n"
     ]
    },
    {
     "name": "stderr",
     "output_type": "stream",
     "text": [
      "Best trial: 85. Best value: 0.680521:  51%|█████     | 102/200 [04:26<01:50,  1.12s/it]"
     ]
    },
    {
     "name": "stdout",
     "output_type": "stream",
     "text": [
      "[I 2025-09-22 22:20:36,128] Trial 101 pruned. \n"
     ]
    },
    {
     "name": "stderr",
     "output_type": "stream",
     "text": [
      "Best trial: 85. Best value: 0.680521:  52%|█████▏    | 103/200 [04:32<04:08,  2.56s/it]"
     ]
    },
    {
     "name": "stdout",
     "output_type": "stream",
     "text": [
      "[I 2025-09-22 22:20:42,034] Trial 102 finished with value: 0.675085781350477 and parameters: {'num_boost_round': 900, 'learning_rate': 0.02501657354876469, 'max_depth': 10, 'subsample': 0.7641376715191338, 'colsample_bytree': 0.6954469494699246, 'min_child_weight': 7.747895442931276, 'reg_alpha': 0.014688156709465756, 'reg_lambda': 7.427833413219739, 'gamma': 3.9956714523903827}. Best is trial 85 with value: 0.6805208300721659.\n"
     ]
    },
    {
     "name": "stderr",
     "output_type": "stream",
     "text": [
      "Best trial: 85. Best value: 0.680521:  52%|█████▏    | 104/200 [04:33<03:14,  2.03s/it]"
     ]
    },
    {
     "name": "stdout",
     "output_type": "stream",
     "text": [
      "[I 2025-09-22 22:20:42,818] Trial 103 pruned. \n"
     ]
    },
    {
     "name": "stderr",
     "output_type": "stream",
     "text": [
      "Best trial: 85. Best value: 0.680521:  52%|█████▎    | 105/200 [04:37<04:01,  2.55s/it]"
     ]
    },
    {
     "name": "stdout",
     "output_type": "stream",
     "text": [
      "[I 2025-09-22 22:20:46,580] Trial 104 finished with value: 0.6794308344488801 and parameters: {'num_boost_round': 1000, 'learning_rate': 0.04951013553571812, 'max_depth': 9, 'subsample': 0.796032881291485, 'colsample_bytree': 0.6567147487593388, 'min_child_weight': 11.357002056113915, 'reg_alpha': 0.0012603183467106232, 'reg_lambda': 3.3985641255648718, 'gamma': 2.656929438445732}. Best is trial 85 with value: 0.6805208300721659.\n"
     ]
    },
    {
     "name": "stderr",
     "output_type": "stream",
     "text": [
      "Best trial: 85. Best value: 0.680521:  53%|█████▎    | 106/200 [04:41<04:48,  3.07s/it]"
     ]
    },
    {
     "name": "stdout",
     "output_type": "stream",
     "text": [
      "[I 2025-09-22 22:20:50,866] Trial 105 finished with value: 0.6746487694908543 and parameters: {'num_boost_round': 1000, 'learning_rate': 0.04909934665397143, 'max_depth': 9, 'subsample': 0.8054823447028893, 'colsample_bytree': 0.6573660229059686, 'min_child_weight': 11.311769085047988, 'reg_alpha': 0.0008429773869023465, 'reg_lambda': 9.94026114466661, 'gamma': 2.619381484374159}. Best is trial 85 with value: 0.6805208300721659.\n"
     ]
    },
    {
     "name": "stderr",
     "output_type": "stream",
     "text": [
      "Best trial: 85. Best value: 0.680521:  54%|█████▎    | 107/200 [04:42<03:43,  2.40s/it]"
     ]
    },
    {
     "name": "stdout",
     "output_type": "stream",
     "text": [
      "[I 2025-09-22 22:20:51,711] Trial 106 pruned. \n"
     ]
    },
    {
     "name": "stderr",
     "output_type": "stream",
     "text": [
      "Best trial: 85. Best value: 0.680521:  54%|█████▍    | 108/200 [04:43<02:57,  1.93s/it]"
     ]
    },
    {
     "name": "stdout",
     "output_type": "stream",
     "text": [
      "[I 2025-09-22 22:20:52,541] Trial 107 pruned. \n"
     ]
    },
    {
     "name": "stderr",
     "output_type": "stream",
     "text": [
      "Best trial: 85. Best value: 0.680521:  55%|█████▍    | 109/200 [04:43<02:21,  1.56s/it]"
     ]
    },
    {
     "name": "stdout",
     "output_type": "stream",
     "text": [
      "[I 2025-09-22 22:20:53,223] Trial 108 pruned. \n"
     ]
    },
    {
     "name": "stderr",
     "output_type": "stream",
     "text": [
      "Best trial: 85. Best value: 0.680521:  55%|█████▌    | 110/200 [04:44<02:02,  1.36s/it]"
     ]
    },
    {
     "name": "stdout",
     "output_type": "stream",
     "text": [
      "[I 2025-09-22 22:20:54,115] Trial 109 pruned. \n"
     ]
    },
    {
     "name": "stderr",
     "output_type": "stream",
     "text": [
      "Best trial: 85. Best value: 0.680521:  56%|█████▌    | 111/200 [04:45<01:41,  1.14s/it]"
     ]
    },
    {
     "name": "stdout",
     "output_type": "stream",
     "text": [
      "[I 2025-09-22 22:20:54,761] Trial 110 pruned. \n"
     ]
    },
    {
     "name": "stderr",
     "output_type": "stream",
     "text": [
      "Best trial: 85. Best value: 0.680521:  56%|█████▌    | 112/200 [04:46<01:36,  1.09s/it]"
     ]
    },
    {
     "name": "stdout",
     "output_type": "stream",
     "text": [
      "[I 2025-09-22 22:20:55,744] Trial 111 pruned. \n"
     ]
    },
    {
     "name": "stderr",
     "output_type": "stream",
     "text": [
      "Best trial: 85. Best value: 0.680521:  56%|█████▋    | 113/200 [04:50<02:45,  1.90s/it]"
     ]
    },
    {
     "name": "stdout",
     "output_type": "stream",
     "text": [
      "[I 2025-09-22 22:20:59,516] Trial 112 finished with value: 0.6767264655886224 and parameters: {'num_boost_round': 1700, 'learning_rate': 0.04427580969096423, 'max_depth': 10, 'subsample': 0.7827935570335102, 'colsample_bytree': 0.656590833695646, 'min_child_weight': 11.213205318826182, 'reg_alpha': 0.12618304342445688, 'reg_lambda': 6.45211949632373, 'gamma': 3.3703162197654373}. Best is trial 85 with value: 0.6805208300721659.\n"
     ]
    },
    {
     "name": "stderr",
     "output_type": "stream",
     "text": [
      "Best trial: 85. Best value: 0.680521:  57%|█████▋    | 114/200 [04:54<03:41,  2.57s/it]"
     ]
    },
    {
     "name": "stdout",
     "output_type": "stream",
     "text": [
      "[I 2025-09-22 22:21:03,669] Trial 113 finished with value: 0.6750502692123843 and parameters: {'num_boost_round': 1700, 'learning_rate': 0.04559936504576052, 'max_depth': 10, 'subsample': 0.7809482373643171, 'colsample_bytree': 0.6297321152331192, 'min_child_weight': 10.440952887528663, 'reg_alpha': 0.13453406304031798, 'reg_lambda': 5.911062502680681, 'gamma': 3.3666119705563085}. Best is trial 85 with value: 0.6805208300721659.\n"
     ]
    },
    {
     "name": "stderr",
     "output_type": "stream",
     "text": [
      "Best trial: 85. Best value: 0.680521:  57%|█████▊    | 115/200 [04:58<04:17,  3.03s/it]"
     ]
    },
    {
     "name": "stdout",
     "output_type": "stream",
     "text": [
      "[I 2025-09-22 22:21:07,770] Trial 114 finished with value: 0.6748501301908251 and parameters: {'num_boost_round': 1800, 'learning_rate': 0.050735871646235185, 'max_depth': 10, 'subsample': 0.8242227226142523, 'colsample_bytree': 0.6565500814988419, 'min_child_weight': 11.613539688201675, 'reg_alpha': 0.057421402051942724, 'reg_lambda': 1.3430038469511825, 'gamma': 2.4549058484154043}. Best is trial 85 with value: 0.6805208300721659.\n"
     ]
    },
    {
     "name": "stderr",
     "output_type": "stream",
     "text": [
      "Best trial: 115. Best value: 0.681284:  58%|█████▊    | 116/200 [05:02<04:50,  3.46s/it]"
     ]
    },
    {
     "name": "stdout",
     "output_type": "stream",
     "text": [
      "[I 2025-09-22 22:21:12,222] Trial 115 finished with value: 0.6812841914594074 and parameters: {'num_boost_round': 1700, 'learning_rate': 0.042609861868070024, 'max_depth': 10, 'subsample': 0.7521409326844947, 'colsample_bytree': 0.7144095460505886, 'min_child_weight': 10.995655441783056, 'reg_alpha': 0.2640889635544894, 'reg_lambda': 7.329132138592867, 'gamma': 3.2397476519054274}. Best is trial 115 with value: 0.6812841914594074.\n"
     ]
    },
    {
     "name": "stderr",
     "output_type": "stream",
     "text": [
      "Best trial: 115. Best value: 0.681284:  58%|█████▊    | 117/200 [05:07<05:10,  3.74s/it]"
     ]
    },
    {
     "name": "stdout",
     "output_type": "stream",
     "text": [
      "[I 2025-09-22 22:21:16,608] Trial 116 finished with value: 0.6785476553008243 and parameters: {'num_boost_round': 1700, 'learning_rate': 0.04238480961577035, 'max_depth': 9, 'subsample': 0.7524283642943256, 'colsample_bytree': 0.7157269510149242, 'min_child_weight': 13.654205467175068, 'reg_alpha': 0.25140240788517143, 'reg_lambda': 9.766913197477448, 'gamma': 3.239058133041279}. Best is trial 115 with value: 0.6812841914594074.\n"
     ]
    },
    {
     "name": "stderr",
     "output_type": "stream",
     "text": [
      "Best trial: 115. Best value: 0.681284:  59%|█████▉    | 118/200 [05:11<05:10,  3.79s/it]"
     ]
    },
    {
     "name": "stdout",
     "output_type": "stream",
     "text": [
      "[I 2025-09-22 22:21:20,521] Trial 117 finished with value: 0.677864204224192 and parameters: {'num_boost_round': 1000, 'learning_rate': 0.04169397969594597, 'max_depth': 9, 'subsample': 0.7528823561504044, 'colsample_bytree': 0.6684080577713774, 'min_child_weight': 11.167821077779662, 'reg_alpha': 0.23712100302171693, 'reg_lambda': 6.49780080308759, 'gamma': 3.2123917965462105}. Best is trial 115 with value: 0.6812841914594074.\n"
     ]
    },
    {
     "name": "stderr",
     "output_type": "stream",
     "text": [
      "Best trial: 115. Best value: 0.681284:  60%|█████▉    | 119/200 [05:15<05:24,  4.01s/it]"
     ]
    },
    {
     "name": "stdout",
     "output_type": "stream",
     "text": [
      "[I 2025-09-22 22:21:25,034] Trial 118 finished with value: 0.6761232263707893 and parameters: {'num_boost_round': 1000, 'learning_rate': 0.04175880922908794, 'max_depth': 9, 'subsample': 0.7939340930608515, 'colsample_bytree': 0.6654130708364946, 'min_child_weight': 11.062837401145963, 'reg_alpha': 0.30567052912087594, 'reg_lambda': 6.223728312524079, 'gamma': 3.219698526221507}. Best is trial 115 with value: 0.6812841914594074.\n"
     ]
    },
    {
     "name": "stderr",
     "output_type": "stream",
     "text": [
      "Best trial: 115. Best value: 0.681284:  60%|██████    | 120/200 [05:18<04:53,  3.67s/it]"
     ]
    },
    {
     "name": "stdout",
     "output_type": "stream",
     "text": [
      "[I 2025-09-22 22:21:27,913] Trial 119 pruned. \n"
     ]
    },
    {
     "name": "stderr",
     "output_type": "stream",
     "text": [
      "Best trial: 115. Best value: 0.681284:  60%|██████    | 121/200 [05:19<03:50,  2.92s/it]"
     ]
    },
    {
     "name": "stdout",
     "output_type": "stream",
     "text": [
      "[I 2025-09-22 22:21:29,073] Trial 120 pruned. \n"
     ]
    },
    {
     "name": "stderr",
     "output_type": "stream",
     "text": [
      "Best trial: 115. Best value: 0.681284:  61%|██████    | 122/200 [05:22<03:57,  3.05s/it]"
     ]
    },
    {
     "name": "stdout",
     "output_type": "stream",
     "text": [
      "[I 2025-09-22 22:21:32,425] Trial 121 finished with value: 0.6746159539102188 and parameters: {'num_boost_round': 1700, 'learning_rate': 0.05419732160658277, 'max_depth': 9, 'subsample': 0.784025831802597, 'colsample_bytree': 0.6711156070491349, 'min_child_weight': 9.472472404218069, 'reg_alpha': 0.6282463396487077, 'reg_lambda': 2.276316752195148, 'gamma': 3.088557199513137}. Best is trial 115 with value: 0.6812841914594074.\n"
     ]
    },
    {
     "name": "stderr",
     "output_type": "stream",
     "text": [
      "Best trial: 115. Best value: 0.681284:  62%|██████▏   | 123/200 [05:26<04:10,  3.26s/it]"
     ]
    },
    {
     "name": "stdout",
     "output_type": "stream",
     "text": [
      "[I 2025-09-22 22:21:36,174] Trial 122 finished with value: 0.6780001956300467 and parameters: {'num_boost_round': 1100, 'learning_rate': 0.046438496271949646, 'max_depth': 10, 'subsample': 0.7447787376433842, 'colsample_bytree': 0.7142265259960409, 'min_child_weight': 11.701837503542398, 'reg_alpha': 0.059271229554311064, 'reg_lambda': 3.677230079105705, 'gamma': 3.413720067753235}. Best is trial 115 with value: 0.6812841914594074.\n"
     ]
    },
    {
     "name": "stderr",
     "output_type": "stream",
     "text": [
      "Best trial: 115. Best value: 0.681284:  62%|██████▏   | 124/200 [05:27<03:17,  2.60s/it]"
     ]
    },
    {
     "name": "stdout",
     "output_type": "stream",
     "text": [
      "[I 2025-09-22 22:21:37,225] Trial 123 pruned. \n"
     ]
    },
    {
     "name": "stderr",
     "output_type": "stream",
     "text": [
      "Best trial: 115. Best value: 0.681284:  62%|██████▎   | 125/200 [05:31<03:44,  3.00s/it]"
     ]
    },
    {
     "name": "stdout",
     "output_type": "stream",
     "text": [
      "[I 2025-09-22 22:21:41,164] Trial 124 finished with value: 0.6802315840111882 and parameters: {'num_boost_round': 1300, 'learning_rate': 0.04759653979728427, 'max_depth': 10, 'subsample': 0.724835552320316, 'colsample_bytree': 0.729471353395386, 'min_child_weight': 11.830469261499658, 'reg_alpha': 0.10929864436773738, 'reg_lambda': 6.116470942239139, 'gamma': 3.207643276720384}. Best is trial 115 with value: 0.6812841914594074.\n"
     ]
    },
    {
     "name": "stderr",
     "output_type": "stream",
     "text": [
      "Best trial: 115. Best value: 0.681284:  63%|██████▎   | 126/200 [05:32<02:59,  2.43s/it]"
     ]
    },
    {
     "name": "stdout",
     "output_type": "stream",
     "text": [
      "[I 2025-09-22 22:21:42,260] Trial 125 pruned. \n"
     ]
    },
    {
     "name": "stderr",
     "output_type": "stream",
     "text": [
      "Best trial: 115. Best value: 0.681284:  64%|██████▎   | 127/200 [05:36<03:31,  2.89s/it]"
     ]
    },
    {
     "name": "stdout",
     "output_type": "stream",
     "text": [
      "[I 2025-09-22 22:21:46,239] Trial 126 finished with value: 0.6784848521801475 and parameters: {'num_boost_round': 1000, 'learning_rate': 0.049382722092908525, 'max_depth': 10, 'subsample': 0.738693208119426, 'colsample_bytree': 0.725681431468487, 'min_child_weight': 13.582613949572867, 'reg_alpha': 0.986697289183159, 'reg_lambda': 6.6135713052742435, 'gamma': 3.1635092130602147}. Best is trial 115 with value: 0.6812841914594074.\n"
     ]
    },
    {
     "name": "stderr",
     "output_type": "stream",
     "text": [
      "Best trial: 115. Best value: 0.681284:  64%|██████▍   | 128/200 [05:37<02:49,  2.36s/it]"
     ]
    },
    {
     "name": "stdout",
     "output_type": "stream",
     "text": [
      "[I 2025-09-22 22:21:47,346] Trial 127 pruned. \n"
     ]
    },
    {
     "name": "stderr",
     "output_type": "stream",
     "text": [
      "Best trial: 115. Best value: 0.681284:  64%|██████▍   | 129/200 [05:38<02:07,  1.80s/it]"
     ]
    },
    {
     "name": "stdout",
     "output_type": "stream",
     "text": [
      "[I 2025-09-22 22:21:47,834] Trial 128 pruned. \n"
     ]
    },
    {
     "name": "stderr",
     "output_type": "stream",
     "text": [
      "Best trial: 115. Best value: 0.681284:  65%|██████▌   | 130/200 [05:39<01:49,  1.56s/it]"
     ]
    },
    {
     "name": "stdout",
     "output_type": "stream",
     "text": [
      "[I 2025-09-22 22:21:48,837] Trial 129 pruned. \n"
     ]
    },
    {
     "name": "stderr",
     "output_type": "stream",
     "text": [
      "Best trial: 115. Best value: 0.681284:  66%|██████▌   | 131/200 [05:40<01:39,  1.44s/it]"
     ]
    },
    {
     "name": "stdout",
     "output_type": "stream",
     "text": [
      "[I 2025-09-22 22:21:49,991] Trial 130 pruned. \n"
     ]
    },
    {
     "name": "stderr",
     "output_type": "stream",
     "text": [
      "Best trial: 115. Best value: 0.681284:  66%|██████▌   | 132/200 [05:44<02:34,  2.27s/it]"
     ]
    },
    {
     "name": "stdout",
     "output_type": "stream",
     "text": [
      "[I 2025-09-22 22:21:54,193] Trial 131 finished with value: 0.6784709413131708 and parameters: {'num_boost_round': 1100, 'learning_rate': 0.04977404177110704, 'max_depth': 10, 'subsample': 0.7738168971834277, 'colsample_bytree': 0.7257086773913783, 'min_child_weight': 10.478074568264226, 'reg_alpha': 0.33982516642402594, 'reg_lambda': 4.430316681556444, 'gamma': 3.213924304466628}. Best is trial 115 with value: 0.6812841914594074.\n"
     ]
    },
    {
     "name": "stderr",
     "output_type": "stream",
     "text": [
      "Best trial: 115. Best value: 0.681284:  66%|██████▋   | 133/200 [05:46<02:15,  2.03s/it]"
     ]
    },
    {
     "name": "stdout",
     "output_type": "stream",
     "text": [
      "[I 2025-09-22 22:21:55,666] Trial 132 pruned. \n"
     ]
    },
    {
     "name": "stderr",
     "output_type": "stream",
     "text": [
      "Best trial: 115. Best value: 0.681284:  67%|██████▋   | 134/200 [05:47<01:54,  1.73s/it]"
     ]
    },
    {
     "name": "stdout",
     "output_type": "stream",
     "text": [
      "[I 2025-09-22 22:21:56,713] Trial 133 pruned. \n"
     ]
    },
    {
     "name": "stderr",
     "output_type": "stream",
     "text": [
      "Best trial: 115. Best value: 0.681284:  68%|██████▊   | 135/200 [05:48<01:39,  1.53s/it]"
     ]
    },
    {
     "name": "stdout",
     "output_type": "stream",
     "text": [
      "[I 2025-09-22 22:21:57,759] Trial 134 pruned. \n"
     ]
    },
    {
     "name": "stderr",
     "output_type": "stream",
     "text": [
      "Best trial: 115. Best value: 0.681284:  68%|██████▊   | 136/200 [05:51<02:11,  2.06s/it]"
     ]
    },
    {
     "name": "stdout",
     "output_type": "stream",
     "text": [
      "[I 2025-09-22 22:22:01,058] Trial 135 finished with value: 0.6778689180266835 and parameters: {'num_boost_round': 1000, 'learning_rate': 0.05386356730792837, 'max_depth': 10, 'subsample': 0.7256226178327831, 'colsample_bytree': 0.6877449783466822, 'min_child_weight': 9.213250480521031, 'reg_alpha': 0.2796878051533711, 'reg_lambda': 1.8715864860487406, 'gamma': 3.285071286703988}. Best is trial 115 with value: 0.6812841914594074.\n"
     ]
    },
    {
     "name": "stderr",
     "output_type": "stream",
     "text": [
      "Best trial: 115. Best value: 0.681284:  68%|██████▊   | 137/200 [05:52<01:49,  1.74s/it]"
     ]
    },
    {
     "name": "stdout",
     "output_type": "stream",
     "text": [
      "[I 2025-09-22 22:22:02,049] Trial 136 pruned. \n"
     ]
    },
    {
     "name": "stderr",
     "output_type": "stream",
     "text": [
      "Best trial: 115. Best value: 0.681284:  69%|██████▉   | 138/200 [05:53<01:35,  1.53s/it]"
     ]
    },
    {
     "name": "stdout",
     "output_type": "stream",
     "text": [
      "[I 2025-09-22 22:22:03,106] Trial 137 pruned. \n"
     ]
    },
    {
     "name": "stderr",
     "output_type": "stream",
     "text": [
      "Best trial: 115. Best value: 0.681284:  70%|██████▉   | 139/200 [05:54<01:28,  1.45s/it]"
     ]
    },
    {
     "name": "stdout",
     "output_type": "stream",
     "text": [
      "[I 2025-09-22 22:22:04,363] Trial 138 pruned. \n"
     ]
    },
    {
     "name": "stderr",
     "output_type": "stream",
     "text": [
      "Best trial: 115. Best value: 0.681284:  70%|███████   | 140/200 [05:59<02:20,  2.35s/it]"
     ]
    },
    {
     "name": "stdout",
     "output_type": "stream",
     "text": [
      "[I 2025-09-22 22:22:08,809] Trial 139 finished with value: 0.6756925750173913 and parameters: {'num_boost_round': 900, 'learning_rate': 0.04014818747949321, 'max_depth': 9, 'subsample': 0.712978584278222, 'colsample_bytree': 0.704075751346958, 'min_child_weight': 11.73512388982291, 'reg_alpha': 0.5908934075492968, 'reg_lambda': 0.9510542304666436, 'gamma': 3.44275372324367}. Best is trial 115 with value: 0.6812841914594074.\n"
     ]
    },
    {
     "name": "stderr",
     "output_type": "stream",
     "text": [
      "Best trial: 115. Best value: 0.681284:  70%|███████   | 141/200 [06:00<01:51,  1.89s/it]"
     ]
    },
    {
     "name": "stdout",
     "output_type": "stream",
     "text": [
      "[I 2025-09-22 22:22:09,636] Trial 140 pruned. \n"
     ]
    },
    {
     "name": "stderr",
     "output_type": "stream",
     "text": [
      "Best trial: 115. Best value: 0.681284:  71%|███████   | 142/200 [06:03<02:20,  2.42s/it]"
     ]
    },
    {
     "name": "stdout",
     "output_type": "stream",
     "text": [
      "[I 2025-09-22 22:22:13,290] Trial 141 finished with value: 0.6769372605527596 and parameters: {'num_boost_round': 1000, 'learning_rate': 0.05727819423216604, 'max_depth': 10, 'subsample': 0.7684786712680994, 'colsample_bytree': 0.6773657547917604, 'min_child_weight': 8.896484164213177, 'reg_alpha': 0.10711478497968942, 'reg_lambda': 9.821316237363394, 'gamma': 3.520988885831613}. Best is trial 115 with value: 0.6812841914594074.\n"
     ]
    },
    {
     "name": "stderr",
     "output_type": "stream",
     "text": [
      "Best trial: 115. Best value: 0.681284:  72%|███████▏  | 143/200 [06:04<01:50,  1.94s/it]"
     ]
    },
    {
     "name": "stdout",
     "output_type": "stream",
     "text": [
      "[I 2025-09-22 22:22:14,097] Trial 142 pruned. \n"
     ]
    },
    {
     "name": "stderr",
     "output_type": "stream",
     "text": [
      "Best trial: 115. Best value: 0.681284:  72%|███████▏  | 144/200 [06:07<02:10,  2.33s/it]"
     ]
    },
    {
     "name": "stdout",
     "output_type": "stream",
     "text": [
      "[I 2025-09-22 22:22:17,344] Trial 143 pruned. \n"
     ]
    },
    {
     "name": "stderr",
     "output_type": "stream",
     "text": [
      "Best trial: 115. Best value: 0.681284:  72%|███████▎  | 145/200 [06:08<01:42,  1.86s/it]"
     ]
    },
    {
     "name": "stdout",
     "output_type": "stream",
     "text": [
      "[I 2025-09-22 22:22:18,123] Trial 144 pruned. \n"
     ]
    },
    {
     "name": "stderr",
     "output_type": "stream",
     "text": [
      "Best trial: 115. Best value: 0.681284:  73%|███████▎  | 146/200 [06:12<02:13,  2.47s/it]"
     ]
    },
    {
     "name": "stdout",
     "output_type": "stream",
     "text": [
      "[I 2025-09-22 22:22:21,998] Trial 145 finished with value: 0.6802483801967956 and parameters: {'num_boost_round': 900, 'learning_rate': 0.049792818209130625, 'max_depth': 10, 'subsample': 0.6884074413472709, 'colsample_bytree': 0.6701190679154001, 'min_child_weight': 10.112038293206256, 'reg_alpha': 0.410184919092267, 'reg_lambda': 6.962233015230959, 'gamma': 2.653727716078524}. Best is trial 115 with value: 0.6812841914594074.\n"
     ]
    },
    {
     "name": "stderr",
     "output_type": "stream",
     "text": [
      "Best trial: 115. Best value: 0.681284:  74%|███████▎  | 147/200 [06:16<02:40,  3.03s/it]"
     ]
    },
    {
     "name": "stdout",
     "output_type": "stream",
     "text": [
      "[I 2025-09-22 22:22:26,348] Trial 146 finished with value: 0.6804661973992506 and parameters: {'num_boost_round': 900, 'learning_rate': 0.05022409865069587, 'max_depth': 10, 'subsample': 0.6859974850765519, 'colsample_bytree': 0.7017438870029132, 'min_child_weight': 10.223985277890577, 'reg_alpha': 0.5364167414470088, 'reg_lambda': 7.312507250014691, 'gamma': 2.6615733499376653}. Best is trial 115 with value: 0.6812841914594074.\n"
     ]
    },
    {
     "name": "stderr",
     "output_type": "stream",
     "text": [
      "Best trial: 115. Best value: 0.681284:  74%|███████▍  | 148/200 [06:17<02:07,  2.45s/it]"
     ]
    },
    {
     "name": "stdout",
     "output_type": "stream",
     "text": [
      "[I 2025-09-22 22:22:27,431] Trial 147 pruned. \n"
     ]
    },
    {
     "name": "stderr",
     "output_type": "stream",
     "text": [
      "Best trial: 115. Best value: 0.681284:  74%|███████▍  | 149/200 [06:18<01:42,  2.01s/it]"
     ]
    },
    {
     "name": "stdout",
     "output_type": "stream",
     "text": [
      "[I 2025-09-22 22:22:28,407] Trial 148 pruned. \n"
     ]
    },
    {
     "name": "stderr",
     "output_type": "stream",
     "text": [
      "Best trial: 115. Best value: 0.681284:  75%|███████▌  | 150/200 [06:23<02:19,  2.80s/it]"
     ]
    },
    {
     "name": "stdout",
     "output_type": "stream",
     "text": [
      "[I 2025-09-22 22:22:33,060] Trial 149 finished with value: 0.6791919852456939 and parameters: {'num_boost_round': 900, 'learning_rate': 0.04885317695627477, 'max_depth': 10, 'subsample': 0.731995654611183, 'colsample_bytree': 0.6624263962962835, 'min_child_weight': 13.95820855896322, 'reg_alpha': 0.9485426359924025, 'reg_lambda': 6.699414727411716, 'gamma': 2.7591113030223693}. Best is trial 115 with value: 0.6812841914594074.\n"
     ]
    },
    {
     "name": "stderr",
     "output_type": "stream",
     "text": [
      "Best trial: 115. Best value: 0.681284:  76%|███████▌  | 151/200 [06:24<01:51,  2.28s/it]"
     ]
    },
    {
     "name": "stdout",
     "output_type": "stream",
     "text": [
      "[I 2025-09-22 22:22:34,122] Trial 150 pruned. \n"
     ]
    },
    {
     "name": "stderr",
     "output_type": "stream",
     "text": [
      "Best trial: 151. Best value: 0.681543:  76%|███████▌  | 152/200 [06:28<02:14,  2.80s/it]"
     ]
    },
    {
     "name": "stdout",
     "output_type": "stream",
     "text": [
      "[I 2025-09-22 22:22:38,122] Trial 151 finished with value: 0.6815432454735476 and parameters: {'num_boost_round': 900, 'learning_rate': 0.05039808414477042, 'max_depth': 10, 'subsample': 0.742672188473102, 'colsample_bytree': 0.6647330017973074, 'min_child_weight': 12.819382762567098, 'reg_alpha': 0.9862301588842034, 'reg_lambda': 6.902742369568067, 'gamma': 2.8457015505800904}. Best is trial 151 with value: 0.6815432454735476.\n"
     ]
    },
    {
     "name": "stderr",
     "output_type": "stream",
     "text": [
      "Best trial: 151. Best value: 0.681543:  76%|███████▋  | 153/200 [06:29<01:47,  2.28s/it]"
     ]
    },
    {
     "name": "stdout",
     "output_type": "stream",
     "text": [
      "[I 2025-09-22 22:22:39,194] Trial 152 pruned. \n"
     ]
    },
    {
     "name": "stderr",
     "output_type": "stream",
     "text": [
      "Best trial: 151. Best value: 0.681543:  76%|███████▋  | 153/200 [06:30<01:59,  2.55s/it]"
     ]
    },
    {
     "name": "stdout",
     "output_type": "stream",
     "text": [
      "[W 2025-09-22 22:22:39,864] Trial 153 failed with parameters: {'num_boost_round': 900, 'learning_rate': 0.05953949203423973, 'max_depth': 10, 'subsample': 0.7080653832235071, 'colsample_bytree': 0.6568239255401569, 'min_child_weight': 15.621867287856906, 'reg_alpha': 0.7358996659880034, 'reg_lambda': 7.063769097838879, 'gamma': 2.6185167968393763} because of the following error: KeyboardInterrupt().\n",
      "Traceback (most recent call last):\n",
      "  File \"/Library/Frameworks/Python.framework/Versions/3.12/lib/python3.12/site-packages/optuna/study/_optimize.py\", line 201, in _run_trial\n",
      "    value_or_values = func(trial)\n",
      "                      ^^^^^^^^^^^\n",
      "  File \"/var/folders/6v/1zrv_7_d0zzd8j18ssjr64ch0000gn/T/ipykernel_9557/1144022015.py\", line 48, in objective\n",
      "    bst = xgb.train(\n",
      "          ^^^^^^^^^^\n",
      "  File \"/Library/Frameworks/Python.framework/Versions/3.12/lib/python3.12/site-packages/xgboost/core.py\", line 729, in inner_f\n",
      "    return func(**kwargs)\n",
      "           ^^^^^^^^^^^^^^\n",
      "  File \"/Library/Frameworks/Python.framework/Versions/3.12/lib/python3.12/site-packages/xgboost/training.py\", line 183, in train\n",
      "    bst.update(dtrain, iteration=i, fobj=obj)\n",
      "  File \"/Library/Frameworks/Python.framework/Versions/3.12/lib/python3.12/site-packages/xgboost/core.py\", line 2247, in update\n",
      "    _LIB.XGBoosterUpdateOneIter(\n",
      "KeyboardInterrupt\n",
      "[W 2025-09-22 22:22:39,869] Trial 153 failed with value None.\n"
     ]
    },
    {
     "name": "stderr",
     "output_type": "stream",
     "text": [
      "\n"
     ]
    },
    {
     "ename": "KeyboardInterrupt",
     "evalue": "",
     "output_type": "error",
     "traceback": [
      "\u001b[0;31m---------------------------------------------------------------------------\u001b[0m",
      "\u001b[0;31mKeyboardInterrupt\u001b[0m                         Traceback (most recent call last)",
      "Cell \u001b[0;32mIn[11], line 6\u001b[0m\n\u001b[1;32m      4\u001b[0m \u001b[38;5;28;01mfor\u001b[39;00m tgt \u001b[38;5;129;01min\u001b[39;00m TARGETS:\n\u001b[1;32m      5\u001b[0m     \u001b[38;5;28mprint\u001b[39m(\u001b[38;5;124mf\u001b[39m\u001b[38;5;124m\"\u001b[39m\u001b[38;5;124m=== Tuning XGBoost for \u001b[39m\u001b[38;5;132;01m{\u001b[39;00mtgt\u001b[38;5;132;01m}\u001b[39;00m\u001b[38;5;124m ===\u001b[39m\u001b[38;5;124m\"\u001b[39m)\n\u001b[0;32m----> 6\u001b[0m     st \u001b[38;5;241m=\u001b[39m \u001b[43mtune_xgb_for_target\u001b[49m\u001b[43m(\u001b[49m\u001b[43mtgt\u001b[49m\u001b[43m,\u001b[49m\u001b[43m \u001b[49m\u001b[43mn_trials\u001b[49m\u001b[38;5;241;43m=\u001b[39;49m\u001b[43mN_TRIALS_XGB\u001b[49m\u001b[43m,\u001b[49m\u001b[43m \u001b[49m\u001b[43muse_gpu\u001b[49m\u001b[38;5;241;43m=\u001b[39;49m\u001b[38;5;28;43;01mFalse\u001b[39;49;00m\u001b[43m)\u001b[49m\n\u001b[1;32m      7\u001b[0m     \u001b[38;5;28mprint\u001b[39m(\u001b[38;5;124mf\u001b[39m\u001b[38;5;124m\"\u001b[39m\u001b[38;5;124m[\u001b[39m\u001b[38;5;132;01m{\u001b[39;00mtgt\u001b[38;5;132;01m}\u001b[39;00m\u001b[38;5;124m] Best CV R2 (XGB): \u001b[39m\u001b[38;5;132;01m{\u001b[39;00mst\u001b[38;5;241m.\u001b[39mbest_value\u001b[38;5;132;01m:\u001b[39;00m\u001b[38;5;124m.5f\u001b[39m\u001b[38;5;132;01m}\u001b[39;00m\u001b[38;5;124m\"\u001b[39m)\n\u001b[1;32m      8\u001b[0m     \u001b[38;5;28mprint\u001b[39m(\u001b[38;5;124mf\u001b[39m\u001b[38;5;124m\"\u001b[39m\u001b[38;5;124m[\u001b[39m\u001b[38;5;132;01m{\u001b[39;00mtgt\u001b[38;5;132;01m}\u001b[39;00m\u001b[38;5;124m] Best Params (XGB): \u001b[39m\u001b[38;5;132;01m{\u001b[39;00mst\u001b[38;5;241m.\u001b[39mbest_trial\u001b[38;5;241m.\u001b[39mparams\u001b[38;5;132;01m}\u001b[39;00m\u001b[38;5;130;01m\\n\u001b[39;00m\u001b[38;5;124m\"\u001b[39m)\n",
      "Cell \u001b[0;32mIn[10], line 67\u001b[0m, in \u001b[0;36mtune_xgb_for_target\u001b[0;34m(y_col, n_trials, use_gpu)\u001b[0m\n\u001b[1;32m     64\u001b[0m     \u001b[38;5;28;01mreturn\u001b[39;00m \u001b[38;5;28mfloat\u001b[39m(np\u001b[38;5;241m.\u001b[39mmean(scores))\n\u001b[1;32m     66\u001b[0m study \u001b[38;5;241m=\u001b[39m optuna\u001b[38;5;241m.\u001b[39mcreate_study(direction\u001b[38;5;241m=\u001b[39m\u001b[38;5;124m\"\u001b[39m\u001b[38;5;124mmaximize\u001b[39m\u001b[38;5;124m\"\u001b[39m, sampler\u001b[38;5;241m=\u001b[39moptuna\u001b[38;5;241m.\u001b[39msamplers\u001b[38;5;241m.\u001b[39mTPESampler(seed\u001b[38;5;241m=\u001b[39mRANDOM_STATE), pruner\u001b[38;5;241m=\u001b[39moptuna\u001b[38;5;241m.\u001b[39mpruners\u001b[38;5;241m.\u001b[39mMedianPruner(n_warmup_steps\u001b[38;5;241m=\u001b[39m\u001b[38;5;241m1\u001b[39m),)\n\u001b[0;32m---> 67\u001b[0m \u001b[43mstudy\u001b[49m\u001b[38;5;241;43m.\u001b[39;49m\u001b[43moptimize\u001b[49m\u001b[43m(\u001b[49m\u001b[43mobjective\u001b[49m\u001b[43m,\u001b[49m\u001b[43m \u001b[49m\u001b[43mn_trials\u001b[49m\u001b[38;5;241;43m=\u001b[39;49m\u001b[43mn_trials\u001b[49m\u001b[43m,\u001b[49m\u001b[43m \u001b[49m\u001b[43mn_jobs\u001b[49m\u001b[38;5;241;43m=\u001b[39;49m\u001b[38;5;241;43m1\u001b[39;49m\u001b[43m,\u001b[49m\u001b[43m \u001b[49m\u001b[43mshow_progress_bar\u001b[49m\u001b[38;5;241;43m=\u001b[39;49m\u001b[38;5;28;43;01mTrue\u001b[39;49;00m\u001b[43m)\u001b[49m\n\u001b[1;32m     68\u001b[0m \u001b[38;5;28;01mreturn\u001b[39;00m study\n",
      "File \u001b[0;32m/Library/Frameworks/Python.framework/Versions/3.12/lib/python3.12/site-packages/optuna/study/study.py:490\u001b[0m, in \u001b[0;36mStudy.optimize\u001b[0;34m(self, func, n_trials, timeout, n_jobs, catch, callbacks, gc_after_trial, show_progress_bar)\u001b[0m\n\u001b[1;32m    388\u001b[0m \u001b[38;5;28;01mdef\u001b[39;00m\u001b[38;5;250m \u001b[39m\u001b[38;5;21moptimize\u001b[39m(\n\u001b[1;32m    389\u001b[0m     \u001b[38;5;28mself\u001b[39m,\n\u001b[1;32m    390\u001b[0m     func: ObjectiveFuncType,\n\u001b[0;32m   (...)\u001b[0m\n\u001b[1;32m    397\u001b[0m     show_progress_bar: \u001b[38;5;28mbool\u001b[39m \u001b[38;5;241m=\u001b[39m \u001b[38;5;28;01mFalse\u001b[39;00m,\n\u001b[1;32m    398\u001b[0m ) \u001b[38;5;241m-\u001b[39m\u001b[38;5;241m>\u001b[39m \u001b[38;5;28;01mNone\u001b[39;00m:\n\u001b[1;32m    399\u001b[0m \u001b[38;5;250m    \u001b[39m\u001b[38;5;124;03m\"\"\"Optimize an objective function.\u001b[39;00m\n\u001b[1;32m    400\u001b[0m \n\u001b[1;32m    401\u001b[0m \u001b[38;5;124;03m    Optimization is done by choosing a suitable set of hyperparameter values from a given\u001b[39;00m\n\u001b[0;32m   (...)\u001b[0m\n\u001b[1;32m    488\u001b[0m \u001b[38;5;124;03m            If nested invocation of this method occurs.\u001b[39;00m\n\u001b[1;32m    489\u001b[0m \u001b[38;5;124;03m    \"\"\"\u001b[39;00m\n\u001b[0;32m--> 490\u001b[0m     \u001b[43m_optimize\u001b[49m\u001b[43m(\u001b[49m\n\u001b[1;32m    491\u001b[0m \u001b[43m        \u001b[49m\u001b[43mstudy\u001b[49m\u001b[38;5;241;43m=\u001b[39;49m\u001b[38;5;28;43mself\u001b[39;49m\u001b[43m,\u001b[49m\n\u001b[1;32m    492\u001b[0m \u001b[43m        \u001b[49m\u001b[43mfunc\u001b[49m\u001b[38;5;241;43m=\u001b[39;49m\u001b[43mfunc\u001b[49m\u001b[43m,\u001b[49m\n\u001b[1;32m    493\u001b[0m \u001b[43m        \u001b[49m\u001b[43mn_trials\u001b[49m\u001b[38;5;241;43m=\u001b[39;49m\u001b[43mn_trials\u001b[49m\u001b[43m,\u001b[49m\n\u001b[1;32m    494\u001b[0m \u001b[43m        \u001b[49m\u001b[43mtimeout\u001b[49m\u001b[38;5;241;43m=\u001b[39;49m\u001b[43mtimeout\u001b[49m\u001b[43m,\u001b[49m\n\u001b[1;32m    495\u001b[0m \u001b[43m        \u001b[49m\u001b[43mn_jobs\u001b[49m\u001b[38;5;241;43m=\u001b[39;49m\u001b[43mn_jobs\u001b[49m\u001b[43m,\u001b[49m\n\u001b[1;32m    496\u001b[0m \u001b[43m        \u001b[49m\u001b[43mcatch\u001b[49m\u001b[38;5;241;43m=\u001b[39;49m\u001b[38;5;28;43mtuple\u001b[39;49m\u001b[43m(\u001b[49m\u001b[43mcatch\u001b[49m\u001b[43m)\u001b[49m\u001b[43m \u001b[49m\u001b[38;5;28;43;01mif\u001b[39;49;00m\u001b[43m \u001b[49m\u001b[38;5;28;43misinstance\u001b[39;49m\u001b[43m(\u001b[49m\u001b[43mcatch\u001b[49m\u001b[43m,\u001b[49m\u001b[43m \u001b[49m\u001b[43mIterable\u001b[49m\u001b[43m)\u001b[49m\u001b[43m \u001b[49m\u001b[38;5;28;43;01melse\u001b[39;49;00m\u001b[43m \u001b[49m\u001b[43m(\u001b[49m\u001b[43mcatch\u001b[49m\u001b[43m,\u001b[49m\u001b[43m)\u001b[49m\u001b[43m,\u001b[49m\n\u001b[1;32m    497\u001b[0m \u001b[43m        \u001b[49m\u001b[43mcallbacks\u001b[49m\u001b[38;5;241;43m=\u001b[39;49m\u001b[43mcallbacks\u001b[49m\u001b[43m,\u001b[49m\n\u001b[1;32m    498\u001b[0m \u001b[43m        \u001b[49m\u001b[43mgc_after_trial\u001b[49m\u001b[38;5;241;43m=\u001b[39;49m\u001b[43mgc_after_trial\u001b[49m\u001b[43m,\u001b[49m\n\u001b[1;32m    499\u001b[0m \u001b[43m        \u001b[49m\u001b[43mshow_progress_bar\u001b[49m\u001b[38;5;241;43m=\u001b[39;49m\u001b[43mshow_progress_bar\u001b[49m\u001b[43m,\u001b[49m\n\u001b[1;32m    500\u001b[0m \u001b[43m    \u001b[49m\u001b[43m)\u001b[49m\n",
      "File \u001b[0;32m/Library/Frameworks/Python.framework/Versions/3.12/lib/python3.12/site-packages/optuna/study/_optimize.py:63\u001b[0m, in \u001b[0;36m_optimize\u001b[0;34m(study, func, n_trials, timeout, n_jobs, catch, callbacks, gc_after_trial, show_progress_bar)\u001b[0m\n\u001b[1;32m     61\u001b[0m \u001b[38;5;28;01mtry\u001b[39;00m:\n\u001b[1;32m     62\u001b[0m     \u001b[38;5;28;01mif\u001b[39;00m n_jobs \u001b[38;5;241m==\u001b[39m \u001b[38;5;241m1\u001b[39m:\n\u001b[0;32m---> 63\u001b[0m         \u001b[43m_optimize_sequential\u001b[49m\u001b[43m(\u001b[49m\n\u001b[1;32m     64\u001b[0m \u001b[43m            \u001b[49m\u001b[43mstudy\u001b[49m\u001b[43m,\u001b[49m\n\u001b[1;32m     65\u001b[0m \u001b[43m            \u001b[49m\u001b[43mfunc\u001b[49m\u001b[43m,\u001b[49m\n\u001b[1;32m     66\u001b[0m \u001b[43m            \u001b[49m\u001b[43mn_trials\u001b[49m\u001b[43m,\u001b[49m\n\u001b[1;32m     67\u001b[0m \u001b[43m            \u001b[49m\u001b[43mtimeout\u001b[49m\u001b[43m,\u001b[49m\n\u001b[1;32m     68\u001b[0m \u001b[43m            \u001b[49m\u001b[43mcatch\u001b[49m\u001b[43m,\u001b[49m\n\u001b[1;32m     69\u001b[0m \u001b[43m            \u001b[49m\u001b[43mcallbacks\u001b[49m\u001b[43m,\u001b[49m\n\u001b[1;32m     70\u001b[0m \u001b[43m            \u001b[49m\u001b[43mgc_after_trial\u001b[49m\u001b[43m,\u001b[49m\n\u001b[1;32m     71\u001b[0m \u001b[43m            \u001b[49m\u001b[43mreseed_sampler_rng\u001b[49m\u001b[38;5;241;43m=\u001b[39;49m\u001b[38;5;28;43;01mFalse\u001b[39;49;00m\u001b[43m,\u001b[49m\n\u001b[1;32m     72\u001b[0m \u001b[43m            \u001b[49m\u001b[43mtime_start\u001b[49m\u001b[38;5;241;43m=\u001b[39;49m\u001b[38;5;28;43;01mNone\u001b[39;49;00m\u001b[43m,\u001b[49m\n\u001b[1;32m     73\u001b[0m \u001b[43m            \u001b[49m\u001b[43mprogress_bar\u001b[49m\u001b[38;5;241;43m=\u001b[39;49m\u001b[43mprogress_bar\u001b[49m\u001b[43m,\u001b[49m\n\u001b[1;32m     74\u001b[0m \u001b[43m        \u001b[49m\u001b[43m)\u001b[49m\n\u001b[1;32m     75\u001b[0m     \u001b[38;5;28;01melse\u001b[39;00m:\n\u001b[1;32m     76\u001b[0m         \u001b[38;5;28;01mif\u001b[39;00m n_jobs \u001b[38;5;241m==\u001b[39m \u001b[38;5;241m-\u001b[39m\u001b[38;5;241m1\u001b[39m:\n",
      "File \u001b[0;32m/Library/Frameworks/Python.framework/Versions/3.12/lib/python3.12/site-packages/optuna/study/_optimize.py:160\u001b[0m, in \u001b[0;36m_optimize_sequential\u001b[0;34m(study, func, n_trials, timeout, catch, callbacks, gc_after_trial, reseed_sampler_rng, time_start, progress_bar)\u001b[0m\n\u001b[1;32m    157\u001b[0m         \u001b[38;5;28;01mbreak\u001b[39;00m\n\u001b[1;32m    159\u001b[0m \u001b[38;5;28;01mtry\u001b[39;00m:\n\u001b[0;32m--> 160\u001b[0m     frozen_trial_id \u001b[38;5;241m=\u001b[39m \u001b[43m_run_trial\u001b[49m\u001b[43m(\u001b[49m\u001b[43mstudy\u001b[49m\u001b[43m,\u001b[49m\u001b[43m \u001b[49m\u001b[43mfunc\u001b[49m\u001b[43m,\u001b[49m\u001b[43m \u001b[49m\u001b[43mcatch\u001b[49m\u001b[43m)\u001b[49m\n\u001b[1;32m    161\u001b[0m \u001b[38;5;28;01mfinally\u001b[39;00m:\n\u001b[1;32m    162\u001b[0m     \u001b[38;5;66;03m# The following line mitigates memory problems that can be occurred in some\u001b[39;00m\n\u001b[1;32m    163\u001b[0m     \u001b[38;5;66;03m# environments (e.g., services that use computing containers such as GitHub Actions).\u001b[39;00m\n\u001b[1;32m    164\u001b[0m     \u001b[38;5;66;03m# Please refer to the following PR for further details:\u001b[39;00m\n\u001b[1;32m    165\u001b[0m     \u001b[38;5;66;03m# https://github.com/optuna/optuna/pull/325.\u001b[39;00m\n\u001b[1;32m    166\u001b[0m     \u001b[38;5;28;01mif\u001b[39;00m gc_after_trial:\n",
      "File \u001b[0;32m/Library/Frameworks/Python.framework/Versions/3.12/lib/python3.12/site-packages/optuna/study/_optimize.py:258\u001b[0m, in \u001b[0;36m_run_trial\u001b[0;34m(study, func, catch)\u001b[0m\n\u001b[1;32m    251\u001b[0m         \u001b[38;5;28;01massert\u001b[39;00m \u001b[38;5;28;01mFalse\u001b[39;00m, \u001b[38;5;124m\"\u001b[39m\u001b[38;5;124mShould not reach.\u001b[39m\u001b[38;5;124m\"\u001b[39m\n\u001b[1;32m    253\u001b[0m \u001b[38;5;28;01mif\u001b[39;00m (\n\u001b[1;32m    254\u001b[0m     updated_state \u001b[38;5;241m==\u001b[39m TrialState\u001b[38;5;241m.\u001b[39mFAIL\n\u001b[1;32m    255\u001b[0m     \u001b[38;5;129;01mand\u001b[39;00m func_err \u001b[38;5;129;01mis\u001b[39;00m \u001b[38;5;129;01mnot\u001b[39;00m \u001b[38;5;28;01mNone\u001b[39;00m\n\u001b[1;32m    256\u001b[0m     \u001b[38;5;129;01mand\u001b[39;00m \u001b[38;5;129;01mnot\u001b[39;00m \u001b[38;5;28misinstance\u001b[39m(func_err, catch)\n\u001b[1;32m    257\u001b[0m ):\n\u001b[0;32m--> 258\u001b[0m     \u001b[38;5;28;01mraise\u001b[39;00m func_err\n\u001b[1;32m    259\u001b[0m \u001b[38;5;28;01mreturn\u001b[39;00m trial\u001b[38;5;241m.\u001b[39m_trial_id\n",
      "File \u001b[0;32m/Library/Frameworks/Python.framework/Versions/3.12/lib/python3.12/site-packages/optuna/study/_optimize.py:201\u001b[0m, in \u001b[0;36m_run_trial\u001b[0;34m(study, func, catch)\u001b[0m\n\u001b[1;32m    199\u001b[0m \u001b[38;5;28;01mwith\u001b[39;00m get_heartbeat_thread(trial\u001b[38;5;241m.\u001b[39m_trial_id, study\u001b[38;5;241m.\u001b[39m_storage):\n\u001b[1;32m    200\u001b[0m     \u001b[38;5;28;01mtry\u001b[39;00m:\n\u001b[0;32m--> 201\u001b[0m         value_or_values \u001b[38;5;241m=\u001b[39m \u001b[43mfunc\u001b[49m\u001b[43m(\u001b[49m\u001b[43mtrial\u001b[49m\u001b[43m)\u001b[49m\n\u001b[1;32m    202\u001b[0m     \u001b[38;5;28;01mexcept\u001b[39;00m exceptions\u001b[38;5;241m.\u001b[39mTrialPruned \u001b[38;5;28;01mas\u001b[39;00m e:\n\u001b[1;32m    203\u001b[0m         \u001b[38;5;66;03m# TODO(mamu): Handle multi-objective cases.\u001b[39;00m\n\u001b[1;32m    204\u001b[0m         state \u001b[38;5;241m=\u001b[39m TrialState\u001b[38;5;241m.\u001b[39mPRUNED\n",
      "Cell \u001b[0;32mIn[10], line 48\u001b[0m, in \u001b[0;36mtune_xgb_for_target.<locals>.objective\u001b[0;34m(trial)\u001b[0m\n\u001b[1;32m     45\u001b[0m dtr \u001b[38;5;241m=\u001b[39m xgb\u001b[38;5;241m.\u001b[39mDMatrix(X_tr, label\u001b[38;5;241m=\u001b[39my_tr)\n\u001b[1;32m     46\u001b[0m dva \u001b[38;5;241m=\u001b[39m xgb\u001b[38;5;241m.\u001b[39mDMatrix(X_va, label\u001b[38;5;241m=\u001b[39my_va)\n\u001b[0;32m---> 48\u001b[0m bst \u001b[38;5;241m=\u001b[39m \u001b[43mxgb\u001b[49m\u001b[38;5;241;43m.\u001b[39;49m\u001b[43mtrain\u001b[49m\u001b[43m(\u001b[49m\n\u001b[1;32m     49\u001b[0m \u001b[43m    \u001b[49m\u001b[43mparams\u001b[49m\u001b[38;5;241;43m=\u001b[39;49m\u001b[43mparams\u001b[49m\u001b[43m,\u001b[49m\n\u001b[1;32m     50\u001b[0m \u001b[43m    \u001b[49m\u001b[43mdtrain\u001b[49m\u001b[38;5;241;43m=\u001b[39;49m\u001b[43mdtr\u001b[49m\u001b[43m,\u001b[49m\n\u001b[1;32m     51\u001b[0m \u001b[43m    \u001b[49m\u001b[43mnum_boost_round\u001b[49m\u001b[38;5;241;43m=\u001b[39;49m\u001b[43mnum_boost_round\u001b[49m\u001b[43m,\u001b[49m\n\u001b[1;32m     52\u001b[0m \u001b[43m    \u001b[49m\u001b[43mevals\u001b[49m\u001b[38;5;241;43m=\u001b[39;49m\u001b[43m[\u001b[49m\u001b[43m(\u001b[49m\u001b[43mdva\u001b[49m\u001b[43m,\u001b[49m\u001b[43m \u001b[49m\u001b[38;5;124;43m\"\u001b[39;49m\u001b[38;5;124;43mvalid\u001b[39;49m\u001b[38;5;124;43m\"\u001b[39;49m\u001b[43m)\u001b[49m\u001b[43m]\u001b[49m\u001b[43m,\u001b[49m\n\u001b[1;32m     53\u001b[0m \u001b[43m    \u001b[49m\u001b[43mearly_stopping_rounds\u001b[49m\u001b[38;5;241;43m=\u001b[39;49m\u001b[43mEARLY_STOP\u001b[49m\u001b[43m,\u001b[49m\n\u001b[1;32m     54\u001b[0m \u001b[43m    \u001b[49m\u001b[43mverbose_eval\u001b[49m\u001b[38;5;241;43m=\u001b[39;49m\u001b[38;5;28;43;01mFalse\u001b[39;49;00m\u001b[43m,\u001b[49m\n\u001b[1;32m     55\u001b[0m \u001b[43m\u001b[49m\u001b[43m)\u001b[49m\n\u001b[1;32m     57\u001b[0m pred \u001b[38;5;241m=\u001b[39m _predict_best(bst, dva)\n\u001b[1;32m     58\u001b[0m scores\u001b[38;5;241m.\u001b[39mappend(r2_score(y_va, pred))\n",
      "File \u001b[0;32m/Library/Frameworks/Python.framework/Versions/3.12/lib/python3.12/site-packages/xgboost/core.py:729\u001b[0m, in \u001b[0;36mrequire_keyword_args.<locals>.throw_if.<locals>.inner_f\u001b[0;34m(*args, **kwargs)\u001b[0m\n\u001b[1;32m    727\u001b[0m \u001b[38;5;28;01mfor\u001b[39;00m k, arg \u001b[38;5;129;01min\u001b[39;00m \u001b[38;5;28mzip\u001b[39m(sig\u001b[38;5;241m.\u001b[39mparameters, args):\n\u001b[1;32m    728\u001b[0m     kwargs[k] \u001b[38;5;241m=\u001b[39m arg\n\u001b[0;32m--> 729\u001b[0m \u001b[38;5;28;01mreturn\u001b[39;00m \u001b[43mfunc\u001b[49m\u001b[43m(\u001b[49m\u001b[38;5;241;43m*\u001b[39;49m\u001b[38;5;241;43m*\u001b[39;49m\u001b[43mkwargs\u001b[49m\u001b[43m)\u001b[49m\n",
      "File \u001b[0;32m/Library/Frameworks/Python.framework/Versions/3.12/lib/python3.12/site-packages/xgboost/training.py:183\u001b[0m, in \u001b[0;36mtrain\u001b[0;34m(params, dtrain, num_boost_round, evals, obj, maximize, early_stopping_rounds, evals_result, verbose_eval, xgb_model, callbacks, custom_metric)\u001b[0m\n\u001b[1;32m    181\u001b[0m \u001b[38;5;28;01mif\u001b[39;00m cb_container\u001b[38;5;241m.\u001b[39mbefore_iteration(bst, i, dtrain, evals):\n\u001b[1;32m    182\u001b[0m     \u001b[38;5;28;01mbreak\u001b[39;00m\n\u001b[0;32m--> 183\u001b[0m \u001b[43mbst\u001b[49m\u001b[38;5;241;43m.\u001b[39;49m\u001b[43mupdate\u001b[49m\u001b[43m(\u001b[49m\u001b[43mdtrain\u001b[49m\u001b[43m,\u001b[49m\u001b[43m \u001b[49m\u001b[43miteration\u001b[49m\u001b[38;5;241;43m=\u001b[39;49m\u001b[43mi\u001b[49m\u001b[43m,\u001b[49m\u001b[43m \u001b[49m\u001b[43mfobj\u001b[49m\u001b[38;5;241;43m=\u001b[39;49m\u001b[43mobj\u001b[49m\u001b[43m)\u001b[49m\n\u001b[1;32m    184\u001b[0m \u001b[38;5;28;01mif\u001b[39;00m cb_container\u001b[38;5;241m.\u001b[39mafter_iteration(bst, i, dtrain, evals):\n\u001b[1;32m    185\u001b[0m     \u001b[38;5;28;01mbreak\u001b[39;00m\n",
      "File \u001b[0;32m/Library/Frameworks/Python.framework/Versions/3.12/lib/python3.12/site-packages/xgboost/core.py:2247\u001b[0m, in \u001b[0;36mBooster.update\u001b[0;34m(self, dtrain, iteration, fobj)\u001b[0m\n\u001b[1;32m   2243\u001b[0m \u001b[38;5;28mself\u001b[39m\u001b[38;5;241m.\u001b[39m_assign_dmatrix_features(dtrain)\n\u001b[1;32m   2245\u001b[0m \u001b[38;5;28;01mif\u001b[39;00m fobj \u001b[38;5;129;01mis\u001b[39;00m \u001b[38;5;28;01mNone\u001b[39;00m:\n\u001b[1;32m   2246\u001b[0m     _check_call(\n\u001b[0;32m-> 2247\u001b[0m         \u001b[43m_LIB\u001b[49m\u001b[38;5;241;43m.\u001b[39;49m\u001b[43mXGBoosterUpdateOneIter\u001b[49m\u001b[43m(\u001b[49m\n\u001b[1;32m   2248\u001b[0m \u001b[43m            \u001b[49m\u001b[38;5;28;43mself\u001b[39;49m\u001b[38;5;241;43m.\u001b[39;49m\u001b[43mhandle\u001b[49m\u001b[43m,\u001b[49m\u001b[43m \u001b[49m\u001b[43mctypes\u001b[49m\u001b[38;5;241;43m.\u001b[39;49m\u001b[43mc_int\u001b[49m\u001b[43m(\u001b[49m\u001b[43miteration\u001b[49m\u001b[43m)\u001b[49m\u001b[43m,\u001b[49m\u001b[43m \u001b[49m\u001b[43mdtrain\u001b[49m\u001b[38;5;241;43m.\u001b[39;49m\u001b[43mhandle\u001b[49m\n\u001b[1;32m   2249\u001b[0m \u001b[43m        \u001b[49m\u001b[43m)\u001b[49m\n\u001b[1;32m   2250\u001b[0m     )\n\u001b[1;32m   2251\u001b[0m \u001b[38;5;28;01melse\u001b[39;00m:\n\u001b[1;32m   2252\u001b[0m     pred \u001b[38;5;241m=\u001b[39m \u001b[38;5;28mself\u001b[39m\u001b[38;5;241m.\u001b[39mpredict(dtrain, output_margin\u001b[38;5;241m=\u001b[39m\u001b[38;5;28;01mTrue\u001b[39;00m, training\u001b[38;5;241m=\u001b[39m\u001b[38;5;28;01mTrue\u001b[39;00m)\n",
      "\u001b[0;31mKeyboardInterrupt\u001b[0m: "
     ]
    }
   ],
   "source": [
    "N_TRIALS_XGB = 200\n",
    "\n",
    "xgb_studies = {}\n",
    "for tgt in TARGETS:\n",
    "    print(f\"=== Tuning XGBoost for {tgt} ===\")\n",
    "    st = tune_xgb_for_target(tgt, n_trials=N_TRIALS_XGB, use_gpu=False)\n",
    "    print(f\"[{tgt}] Best CV R2 (XGB): {st.best_value:.5f}\")\n",
    "    print(f\"[{tgt}] Best Params (XGB): {st.best_trial.params}\\n\")\n",
    "    xgb_studies[tgt] = st"
   ]
  },
  {
   "cell_type": "code",
   "execution_count": null,
   "id": "69ec1026",
   "metadata": {},
   "outputs": [],
   "source": [
    "print(xgb_studies[\"Y1\"].best_trial.params)\n",
    "print(xgb_studies[\"Y2\"].best_trial.params)\n",
    "\n",
    "\"\"\"\n",
    "{'num_boost_round': 900, 'learning_rate': 0.011387425172293873, 'max_depth': 9, 'subsample': 0.5642895080936234, 'colsample_bytree': 0.5581569764539639, 'min_child_weight': 19.703853846581026, 'reg_alpha': 3.336634822084743e-07, 'reg_lambda': 1.129627556934382e-07, 'gamma': 0.4896075810838035}\n",
    "{'num_boost_round': 2300, 'learning_rate': 0.01354184424412271, 'max_depth': 9, 'subsample': 0.7339248014853161, 'colsample_bytree': 0.7407604054011988, 'min_child_weight': 1.392834443288169, 'reg_alpha': 1.693305529699566e-05, 'reg_lambda': 3.897250984223176e-06, 'gamma': 0.16970161657112237}\n",
    "\"\"\""
   ]
  },
  {
   "cell_type": "code",
   "execution_count": 15,
   "id": "31dc701a",
   "metadata": {},
   "outputs": [],
   "source": [
    "def train_oof_xgb(y_col, best_params, use_gpu=False):\n",
    "    y = Y[y_col].values\n",
    "    oof = np.zeros(len(X))\n",
    "    test_pred = np.zeros(len(test_X))\n",
    "    model = []\n",
    "\n",
    "    num_boost_round = int(best_params.get(\"n_estimators\", 1200))\n",
    "    params = {\n",
    "        \"objective\": \"reg:squarederror\",\n",
    "        \"eval_metric\": \"rmse\",\n",
    "        \"eta\": float(best_params[\"learning_rate\"]),\n",
    "        \"max_depth\": int(best_params[\"max_depth\"]),\n",
    "        \"subsample\": float(best_params[\"subsample\"]),\n",
    "        \"colsample_bytree\": float(best_params[\"colsample_bytree\"]),\n",
    "        \"min_child_weight\": float(best_params[\"min_child_weight\"]),\n",
    "        \"alpha\": float(best_params[\"reg_alpha\"]),\n",
    "        \"lambda\": float(best_params[\"reg_lambda\"]),\n",
    "        \"gamma\": float(best_params[\"gamma\"]),\n",
    "        \"tree_method\": \"gpu_hist\" if use_gpu else \"hist\",\n",
    "        \"seed\": RANDOM_STATE,\n",
    "    }\n",
    "\n",
    "    dtest = xgb.DMatrix(test_X)\n",
    "\n",
    "    for fold, (tr_idx, va_idx) in enumerate(get_cv().split(X, y)):\n",
    "        X_tr, X_va = X.iloc[tr_idx], X.iloc[va_idx]\n",
    "        y_tr, y_va = y[tr_idx], y[va_idx]\n",
    "\n",
    "        dtr = xgb.DMatrix(X_tr, label=y_tr)\n",
    "        dva = xgb.DMatrix(X_va, label=y_va)\n",
    "\n",
    "        bst = xgb.train(\n",
    "            params=params,\n",
    "            dtrain=dtr,\n",
    "            num_boost_round=num_boost_round,\n",
    "            evals=[(dva, \"valid\")],\n",
    "            early_stopping_rounds=EARLY_STOP,\n",
    "            verbose_eval=False,\n",
    "        )\n",
    "\n",
    "        oof[va_idx] = _predict_best(bst, dva)\n",
    "        test_pred += _predict_best(bst, dtest) / N_SPLITS\n",
    "        model.append(bst)\n",
    "        print(f\"[{y_col}] Fold {fold+1}/{N_SPLITS} complete.\")\n",
    "\n",
    "    cv_r2 = r2_score(Y[y_col], oof)\n",
    "    rmse = float(np.sqrt(mean_squared_error(Y[y_col], oof)))\n",
    "    print(f\"[OOF] {y_col}: R2={cv_r2:.5f} | RMSE={rmse:.5f}\")\n",
    "    return model, oof, test_pred, cv_r2"
   ]
  },
  {
   "cell_type": "code",
   "execution_count": 16,
   "id": "9ea5b793",
   "metadata": {},
   "outputs": [
    {
     "name": "stdout",
     "output_type": "stream",
     "text": [
      "[Y1] Fold 1/5 complete.\n",
      "[Y1] Fold 2/5 complete.\n",
      "[Y1] Fold 3/5 complete.\n",
      "[Y1] Fold 4/5 complete.\n",
      "[Y1] Fold 5/5 complete.\n",
      "[OOF] Y1: R2=0.64402 | RMSE=0.57913\n"
     ]
    },
    {
     "data": {
      "text/plain": [
       "([<xgboost.core.Booster at 0x10f0c7e60>,\n",
       "  <xgboost.core.Booster at 0x13fe4fef0>,\n",
       "  <xgboost.core.Booster at 0x13fe53470>,\n",
       "  <xgboost.core.Booster at 0x13edcd880>,\n",
       "  <xgboost.core.Booster at 0x13edc8b00>],\n",
       " array([ 0.        ,  0.        ,  0.        , ..., -0.1841052 ,\n",
       "        -0.60279471, -0.53801417], shape=(80000,)),\n",
       " array([ 0.4006054 , -0.17397015, -0.17981971, ...,  0.25298231,\n",
       "         0.24925774,  0.25128531], shape=(15996,)),\n",
       " 0.6440198658996401)"
      ]
     },
     "execution_count": 16,
     "metadata": {},
     "output_type": "execute_result"
    }
   ],
   "source": [
    "{'num_boost_round': 1600, 'learning_rate': 0.016851099464040075, 'max_depth': 10, 'subsample': 0.5081713485200369, 'colsample_bytree': 0.7440582265712843, 'min_child_weight': 9.618965261856685, 'reg_alpha': 1.2340026835726136e-06, 'reg_lambda': 1.2201979893309862, 'gamma': 1.0103341566498545}\n",
    "train_oof_xgb(\"Y1\", {'num_boost_round': 1600, 'learning_rate': 0.016851099464040075, 'max_depth': 10, 'subsample': 0.5081713485200369, 'colsample_bytree': 0.7440582265712843, 'min_child_weight': 9.618965261856685, 'reg_alpha': 1.2340026835726136e-06, 'reg_lambda': 1.2201979893309862, 'gamma': 1.0103341566498545}, use_gpu=False)"
   ]
  },
  {
   "cell_type": "code",
   "execution_count": null,
   "id": "6480799f",
   "metadata": {},
   "outputs": [],
   "source": [
    "xgb_models = {}\n",
    "oof_xgb = {}\n",
    "test_xgb = {}\n",
    "xgb_cv_scores = {}\n",
    "\n",
    "for tgt in TARGETS:\n",
    "    best_params_xgb = xgb_studies[tgt].best_trial.params\n",
    "    models, oof, te, r2cv = train_oof_xgb(tgt, best_params_xgb, use_gpu=False)\n",
    "    xgb_models[tgt] = models\n",
    "    oof_xgb[tgt] = oof\n",
    "    test_xgb[tgt] = te\n",
    "    xgb_cv_scores[tgt] = r2cv\n",
    "\n",
    "print(\"XGB CV R2:\", xgb_cv_scores)"
   ]
  },
  {
   "cell_type": "code",
   "execution_count": null,
   "id": "08c7422a",
   "metadata": {},
   "outputs": [],
   "source": [
    "oof_cat = oof_preds\n",
    "test_cat = test_preds\n",
    "\n",
    "def rmse_score(y_true, y_pred):\n",
    "    return float(np.sqrt(mean_squared_error(y_true, y_pred)))\n",
    "\n",
    "# simple 50 50 blend\n",
    "oof_blend_avg = {}\n",
    "test_blend_avg = {}\n",
    "for tgt in TARGETS:\n",
    "    oof_blend_avg[tgt] = 0.5 * oof_cat[tgt] + 0.5 * oof_xgb[tgt]\n",
    "    test_blend_avg[tgt] = 0.5 * test_cat[tgt] + 0.5 * test_xgb[tgt]\n",
    "    r2 = r2_score(Y[tgt], oof_blend_avg[tgt])\n",
    "    rmse = rmse_score(Y[tgt], oof_blend_avg[tgt])\n",
    "    print(f\"[BLEND AVG] {tgt}: R2={r2:.5f} | RMSE={rmse:.5f}\")\n",
    "\n",
    "# ridge-learned wieghts \n",
    "weights = {}\n",
    "oof_blend_ridge = {}\n",
    "test_blend_ridge = {}\n",
    "\n",
    "for tgt in TARGETS:\n",
    "    Xb_oof = np.vstack([oof_cat[tgt], oof_xgb[tgt]]).T\n",
    "    ridge = Ridge(alpha=1e-3, fit_intercept=True, random_state=RANDOM_STATE)\n",
    "    ridge.fit(Xb_oof, Y[tgt])\n",
    "    w_cat, w_xgb = ridge.coef_\n",
    "    b = ridge.intercept_\n",
    "    weights[tgt] = {\"w_cat\": float(w_cat), \"w_xgb\": float(w_xgb), \"intercept\": float(b)}\n",
    "\n",
    "    oof_blend_ridge[tgt] = Xb_oof @ np.array([w_cat, w_xgb]) + b\n",
    "    print(f\"[Ridge Blend] {tgt}: OOF R2={r2_score(Y[tgt], oof_blend_ridge[tgt]):.5f} | RMSE={rmse_score(Y[tgt], oof_blend_ridge[tgt]):.5f} | Weights={weights[tgt]}\")\n",
    "\n",
    "    # Apply to test\n",
    "    Xb_test = np.vstack([test_cat[tgt], test_xgb[tgt]]).T\n",
    "    test_blend_ridge[tgt] = Xb_test @ np.array([w_cat, w_xgb]) + b\n"
   ]
  },
  {
   "cell_type": "code",
   "execution_count": null,
   "id": "efe97031",
   "metadata": {},
   "outputs": [],
   "source": [
    "rows = []\n",
    "for tgt in TARGETS:\n",
    "    rows.append({\n",
    "        \"target\": tgt,\n",
    "        \"CatBoost OOF R2\": r2_score(Y[tgt], oof_cat[tgt]),\n",
    "        \"XGBoost OOF R2\": r2_score(Y[tgt], oof_xgb[tgt]),\n",
    "        \"Avg(0.5/0.5) OOF R2\": r2_score(Y[tgt], oof_blend_avg[tgt]),\n",
    "        \"Ridge Blend OOF R2\": r2_score(Y[tgt], oof_blend_ridge[tgt]),\n",
    "    })\n",
    "pd.DataFrame(rows).sort_values(\"Ridge Blend OOF R2\", ascending=True)"
   ]
  },
  {
   "cell_type": "code",
   "execution_count": null,
   "id": "e79ee93a",
   "metadata": {},
   "outputs": [],
   "source": [
    "submission = pd.DataFrame()\n",
    "\n",
    "submission[ID_COL] = df_test[ID_COL]\n",
    "for tgt in TARGETS:\n",
    "    submission[tgt] = test_blend_ridge[tgt]\n",
    "\n",
    "OUT_PATH = \"submission_catboost_xgboost_blend.csv\"\n",
    "submission.to_csv(OUT_PATH, index=False)\n",
    "print(\"Saved:\", OUT_PATH)\n",
    "submission.head()"
   ]
  },
  {
   "cell_type": "code",
   "execution_count": null,
   "id": "c8ea0615",
   "metadata": {},
   "outputs": [],
   "source": []
  }
 ],
 "metadata": {
  "kernelspec": {
   "display_name": "Python 3",
   "language": "python",
   "name": "python3"
  },
  "language_info": {
   "codemirror_mode": {
    "name": "ipython",
    "version": 3
   },
   "file_extension": ".py",
   "mimetype": "text/x-python",
   "name": "python",
   "nbconvert_exporter": "python",
   "pygments_lexer": "ipython3",
   "version": "3.12.7"
  }
 },
 "nbformat": 4,
 "nbformat_minor": 5
}
